{
 "cells": [
  {
   "cell_type": "code",
   "execution_count": 14,
   "id": "64c128cf",
   "metadata": {},
   "outputs": [],
   "source": [
    "from ipyleaflet import Map, basemaps, CircleMarker\n",
    "from ipywidgets import HTML\n",
    "import pandas as pd\n",
    "\n",
    "\n",
    "\n",
    "from ipyleaflet import Icon, Marker, MarkerCluster, Popup\n",
    "\n",
    "# First is latitude and second is longitude; both in degrees\n",
    "\n",
    "\n",
    "m = Map(interpolation='nearest', basemap=basemaps.Stamen.Terrain,world_copy_jump=True)\n",
    "\n",
    "markers = ()\n",
    "\n",
    "\n",
    "popup = Popup(\n",
    "            name='popup',\n",
    "            close_button=False,\n",
    "            auto_close=False,\n",
    "            close_on_escape_key=False,auto_pan=False\n",
    "        )\n",
    "def mouseover_callback(marker,location, html):\n",
    "    def callback(*args, **kwargs):\n",
    "        popup.child = html\n",
    "        popup.location = location\n",
    "        m.add_layer(popup)\n",
    "    return callback\n",
    "\n",
    "def mouseout_callback(marker, location, html):\n",
    "    def callback(*args, **kwargs):\n",
    "        popup.child = html\n",
    "        popup.location = location\n",
    "        m.remove_layer(popup)\n",
    "    return callback\n",
    "\n",
    "from data.labeled import LABELED_CITIES as cities, RISKS_MAPPING as risks\n",
    "import numpy as np\n",
    "for _,city in cities.iterrows():\n",
    "    location=(city['latitude'],city['longitude'])\n",
    "    html =  f\"\"\"\n",
    "    <p> <h4><b> {city.city}, {city.country} </b></h4>\n",
    "    \n",
    "    \"\"\"\n",
    "    \n",
    "    for risk in risks:\n",
    "        risk_value = city[risk]\n",
    "        if not pd.isnull(risk_value):\n",
    "            html += f\"\"\"\n",
    "      <h4><b>{risks[risk]}</b>:{risk_value}</h4>\n",
    "   \n",
    "    \"\"\"\n",
    "    html += '</p>'\n",
    "    marker = CircleMarker(location=location,fill_color = \"blue\",color='blue',radius=2)\n",
    "    marker.on_mouseover(mouseover_callback(marker,location, HTML(html)))\n",
    "    marker.on_mouseout(mouseout_callback(marker,location, HTML(html)))\n",
    "    markers = markers + (marker,)\n",
    "\n",
    "m.add_layer(MarkerCluster(markers = markers))"
   ]
  },
  {
   "cell_type": "code",
   "execution_count": 15,
   "id": "a195dd64",
   "metadata": {
    "scrolled": false
   },
   "outputs": [
    {
     "data": {
      "application/vnd.jupyter.widget-view+json": {
       "model_id": "42c65ab7f4ee4925bc57b5c458bb8680",
       "version_major": 2,
       "version_minor": 0
      },
      "text/plain": [
       "Map(center=[0, 0], controls=(ZoomControl(options=['position', 'zoom_in_text', 'zoom_in_title', 'zoom_out_text'…"
      ]
     },
     "metadata": {},
     "output_type": "display_data"
    }
   ],
   "source": [
    "m.layout.width = '80%'\n",
    "m.layout.height = '1000px'\n",
    "m.zoom=2.2\n",
    "m.center = (0, 0)\n",
    "display(m)"
   ]
  },
  {
   "cell_type": "code",
   "execution_count": null,
   "id": "0a1faa54",
   "metadata": {},
   "outputs": [],
   "source": []
  }
 ],
 "metadata": {
  "kernelspec": {
   "display_name": "ModernDataAnalytics",
   "language": "python",
   "name": "moderndataanalytics"
  },
  "language_info": {
   "codemirror_mode": {
    "name": "ipython",
    "version": 3
   },
   "file_extension": ".py",
   "mimetype": "text/x-python",
   "name": "python",
   "nbconvert_exporter": "python",
   "pygments_lexer": "ipython3",
   "version": "3.8.5"
  }
 },
 "nbformat": 4,
 "nbformat_minor": 5
}
