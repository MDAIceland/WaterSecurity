{
 "cells": [
  {
   "cell_type": "code",
   "execution_count": 9,
   "id": "cb361860",
   "metadata": {},
   "outputs": [],
   "source": [
    "from ipyleaflet import Map, basemaps, CircleMarker\n",
    "from ipywidgets import HTML\n",
    "import pandas as pd\n",
    "from data.labeled.preprocessed import LABELED_CITIES as cities, RISKS_MAPPING as risks\n",
    "import numpy as np\n",
    "from ipyleaflet import Icon, Marker, MarkerCluster, Popup\n",
    "\n",
    "# First is latitude and second is longitude; both in degrees\n",
    "\n",
    "\n",
    "m = Map(interpolation='nearest', basemap=basemaps.Stamen.Terrain,world_copy_jump=True)\n",
    "\n",
    "markers = ()\n",
    "\n",
    "\n",
    "popup = Popup(\n",
    "            name='popup',\n",
    "            close_button=False,\n",
    "            auto_close=False,\n",
    "            close_on_escape_key=False,auto_pan=False\n",
    "        )\n",
    "def mouseover_callback(marker,location, html):\n",
    "    def callback(*args, **kwargs):\n",
    "        popup.child = html\n",
    "        popup.location = location\n",
    "        m.add_layer(popup)\n",
    "    return callback\n",
    "\n",
    "def mouseout_callback():\n",
    "    def callback(*args, **kwargs):\n",
    "        m.remove_layer(popup)\n",
    "    return callback\n",
    "\n",
    "\n",
    "\n",
    "def populate_per_city(city, country, risks_dict):\n",
    "    html =  f\"\"\"\n",
    "    <p> <h4><b> {city}, {country} </b></h4>\n",
    "    \n",
    "    \"\"\"\n",
    "    \n",
    "    for risk in risks:\n",
    "        if risk not in risks_dict:\n",
    "            continue\n",
    "        risk_value = risks_dict[risk]\n",
    "        if not pd.isnull(risk_value) and risk_value !=0:\n",
    "            html += f\"\"\"\n",
    "      <h4><b>{risks[risk]}</b>:{risk_value}</h4>\n",
    "   \n",
    "    \"\"\"\n",
    "    html += '</p>'\n",
    "    return HTML(html)\n",
    "    \n",
    "\n",
    "for _,city in cities.iterrows():\n",
    "    location=(city['latitude'],city['longitude'])\n",
    "    html = populate_per_city(city.city, city.country, city)\n",
    "    marker = CircleMarker(location=location,fill_color = \"blue\",color='blue',radius=2)\n",
    "    marker.on_mouseover(mouseover_callback(marker,location, html))\n",
    "    marker.on_mouseout(mouseout_callback())\n",
    "    markers = markers + (marker,)\n",
    "    \n",
    "from utils.geo import  is_close"
   ]
  },
  {
   "cell_type": "code",
   "execution_count": 10,
   "id": "8766b6b2",
   "metadata": {},
   "outputs": [
    {
     "name": "stdout",
     "output_type": "stream",
     "text": [
      "The autoreload extension is already loaded. To reload it, use:\n",
      "  %reload_ext autoreload\n"
     ]
    }
   ],
   "source": [
    "%load_ext autoreload\n",
    "%autoreload 2"
   ]
  },
  {
   "cell_type": "code",
   "execution_count": 11,
   "id": "64c128cf",
   "metadata": {},
   "outputs": [],
   "source": [
    "\n",
    "from classification.model_handler import ModelHandler, InvalidCoordinates\n",
    "from data.labeled.preprocessed import RISKS_MAPPING\n",
    "\n",
    "handler = ModelHandler()\n",
    "\n",
    "if not handler.is_fitted:\n",
    "    handler.train()\n",
    "    \n",
    "risks_ids = sorted(RISKS_MAPPING)\n",
    "\n",
    "\n",
    "manually_added_markers = []\n",
    "def handle_click(**kwargs):\n",
    "    if kwargs.get('type') == 'click':\n",
    "        coords = kwargs.get('coordinates')\n",
    "        try:\n",
    "            output,mask = handler.test(coords[0], coords[1])\n",
    "        except InvalidCoordinates:\n",
    "            return\n",
    "        print(output)\n",
    "        html = populate_per_city(\"Close To:\" + output['city'], output['country'],{k:v for k,v in output.items() if k in risks_ids})\n",
    "        marker = CircleMarker(location=coords,fill_color = \"red\",color='red',radius=2)\n",
    "        check = [is_close(marker.location,mark.location) for mark in manually_added_markers]\n",
    "        if not any(check):\n",
    "            \n",
    "            marker.on_mouseover(mouseover_callback(marker,coords, html))\n",
    "            marker.on_mouseout(mouseout_callback())\n",
    "            manually_added_markers.append(marker)\n",
    "            m.add_layer(marker)\n",
    "        else:\n",
    "            to_rem = [cnt for cnt,(m,c) in enumerate(zip(manually_added_markers,check)) if c][0]\n",
    "            m.remove_layer(manually_added_markers[to_rem])\n",
    "            manually_added_markers.pop(to_rem)\n",
    "            m.remove_layer(popup)\n",
    "\n",
    "m.on_interaction(handle_click)\n",
    "m.add_layer(MarkerCluster(markers = markers))"
   ]
  },
  {
   "cell_type": "code",
   "execution_count": 12,
   "id": "a195dd64",
   "metadata": {
    "scrolled": false
   },
   "outputs": [
    {
     "data": {
      "application/vnd.jupyter.widget-view+json": {
       "model_id": "893f78ee6e7244aab40eef11c6bb4f59",
       "version_major": 2,
       "version_minor": 0
      },
      "text/plain": [
       "Map(center=[0, 0], controls=(ZoomControl(options=['position', 'zoom_in_text', 'zoom_in_title', 'zoom_out_text'…"
      ]
     },
     "metadata": {},
     "output_type": "display_data"
    },
    {
     "name": "stdout",
     "output_type": "stream",
     "text": [
      "hi\n",
      "Gidan Maiaki\n",
      "Nigeria\n",
      "NG\n",
      "(1, 35)\n",
      "(1, 35)\n",
      "(1, 35)\n",
      "(1, 35)\n",
      "(1, 35)\n",
      "(1, 35)\n",
      "(1, 35)\n",
      "{'risk0': 0.0, 'risk1': 0.0, 'risk2': 0.0, 'risk3': 0.0, 'risk4': 0.0, 'risk5': 0.0, 'risk6': 0.0, 'city': 'Gidan Maiaki', 'country': 'Nigeria'}\n",
      "risk0          0.0\n",
      "risk1          0.0\n",
      "risk2          2.0\n",
      "risk3          2.0\n",
      "risk4          0.0\n",
      "risk5          0.0\n",
      "risk6          2.0\n",
      "city         Abuja\n",
      "country    Nigeria\n",
      "Name: 2, dtype: object\n",
      "risk0          0.0\n",
      "risk1          0.0\n",
      "risk2          2.0\n",
      "risk3          2.0\n",
      "risk4          0.0\n",
      "risk5          0.0\n",
      "risk6          2.0\n",
      "city         Abuja\n",
      "country    Nigeria\n",
      "Name: 2, dtype: object\n"
     ]
    },
    {
     "ename": "LayerException",
     "evalue": "layer not on map: Popup(auto_close=False, auto_pan=False, auto_pan_padding=[5, 5], child=HTML(value='\\n    <p> <h4><b> Close To:Abuja, Nigeria </b></h4>\\n    \\n    \\n      <h4><b>Inadequate or aging infrastructure</b>:2.0</h4>\\n   \\n    \\n      <h4><b>Increased water stress or scarcity</b>:2.0</h4>\\n   \\n    \\n      <h4><b>Higher water prices</b>:2.0</h4>\\n   \\n    </p>'), close_button=False, close_on_escape_key=False, location=[9.047287674516332, 7.324673112357872], name='popup', options=['auto_close', 'auto_pan', 'auto_pan_padding', 'auto_pan_padding_bottom_right', 'auto_pan_padding_top_left', 'close_button', 'close_on_escape_key', 'keep_in_view', 'max_height', 'max_width', 'min_width'])",
     "output_type": "error",
     "traceback": [
      "\u001b[0;31m---------------------------------------------------------------------------\u001b[0m",
      "\u001b[0;31mLayerException\u001b[0m                            Traceback (most recent call last)",
      "\u001b[0;32m<ipython-input-11-f7c59f7273dd>\u001b[0m in \u001b[0;36mhandle_click\u001b[0;34m(**kwargs)\u001b[0m\n\u001b[1;32m     32\u001b[0m             \u001b[0mm\u001b[0m\u001b[0;34m.\u001b[0m\u001b[0mremove_layer\u001b[0m\u001b[0;34m(\u001b[0m\u001b[0mmanually_added_markers\u001b[0m\u001b[0;34m[\u001b[0m\u001b[0mto_rem\u001b[0m\u001b[0;34m]\u001b[0m\u001b[0;34m)\u001b[0m\u001b[0;34m\u001b[0m\u001b[0;34m\u001b[0m\u001b[0m\n\u001b[1;32m     33\u001b[0m             \u001b[0mmanually_added_markers\u001b[0m\u001b[0;34m.\u001b[0m\u001b[0mpop\u001b[0m\u001b[0;34m(\u001b[0m\u001b[0mto_rem\u001b[0m\u001b[0;34m)\u001b[0m\u001b[0;34m\u001b[0m\u001b[0;34m\u001b[0m\u001b[0m\n\u001b[0;32m---> 34\u001b[0;31m             \u001b[0mm\u001b[0m\u001b[0;34m.\u001b[0m\u001b[0mremove_layer\u001b[0m\u001b[0;34m(\u001b[0m\u001b[0mpopup\u001b[0m\u001b[0;34m)\u001b[0m\u001b[0;34m\u001b[0m\u001b[0;34m\u001b[0m\u001b[0m\n\u001b[0m\u001b[1;32m     35\u001b[0m \u001b[0;34m\u001b[0m\u001b[0m\n\u001b[1;32m     36\u001b[0m \u001b[0mm\u001b[0m\u001b[0;34m.\u001b[0m\u001b[0mon_interaction\u001b[0m\u001b[0;34m(\u001b[0m\u001b[0mhandle_click\u001b[0m\u001b[0;34m)\u001b[0m\u001b[0;34m\u001b[0m\u001b[0;34m\u001b[0m\u001b[0m\n",
      "\u001b[0;32m~/code/bioinformatics_ms/modern_data_analytics/.venv/lib/python3.8/site-packages/ipyleaflet/leaflet.py\u001b[0m in \u001b[0;36mremove_layer\u001b[0;34m(self, rm_layer)\u001b[0m\n\u001b[1;32m   2130\u001b[0m         \"\"\"\n\u001b[1;32m   2131\u001b[0m         \u001b[0;32mif\u001b[0m \u001b[0mrm_layer\u001b[0m\u001b[0;34m.\u001b[0m\u001b[0mmodel_id\u001b[0m \u001b[0;32mnot\u001b[0m \u001b[0;32min\u001b[0m \u001b[0mself\u001b[0m\u001b[0;34m.\u001b[0m\u001b[0m_layer_ids\u001b[0m\u001b[0;34m:\u001b[0m\u001b[0;34m\u001b[0m\u001b[0;34m\u001b[0m\u001b[0m\n\u001b[0;32m-> 2132\u001b[0;31m             \u001b[0;32mraise\u001b[0m \u001b[0mLayerException\u001b[0m\u001b[0;34m(\u001b[0m\u001b[0;34m'layer not on map: %r'\u001b[0m \u001b[0;34m%\u001b[0m \u001b[0mrm_layer\u001b[0m\u001b[0;34m)\u001b[0m\u001b[0;34m\u001b[0m\u001b[0;34m\u001b[0m\u001b[0m\n\u001b[0m\u001b[1;32m   2133\u001b[0m         \u001b[0mself\u001b[0m\u001b[0;34m.\u001b[0m\u001b[0mlayers\u001b[0m \u001b[0;34m=\u001b[0m \u001b[0mtuple\u001b[0m\u001b[0;34m(\u001b[0m\u001b[0;34m[\u001b[0m\u001b[0mlayer\u001b[0m \u001b[0;32mfor\u001b[0m \u001b[0mlayer\u001b[0m \u001b[0;32min\u001b[0m \u001b[0mself\u001b[0m\u001b[0;34m.\u001b[0m\u001b[0mlayers\u001b[0m \u001b[0;32mif\u001b[0m \u001b[0mlayer\u001b[0m\u001b[0;34m.\u001b[0m\u001b[0mmodel_id\u001b[0m \u001b[0;34m!=\u001b[0m \u001b[0mrm_layer\u001b[0m\u001b[0;34m.\u001b[0m\u001b[0mmodel_id\u001b[0m\u001b[0;34m]\u001b[0m\u001b[0;34m)\u001b[0m\u001b[0;34m\u001b[0m\u001b[0;34m\u001b[0m\u001b[0m\n\u001b[1;32m   2134\u001b[0m \u001b[0;34m\u001b[0m\u001b[0m\n",
      "\u001b[0;31mLayerException\u001b[0m: layer not on map: Popup(auto_close=False, auto_pan=False, auto_pan_padding=[5, 5], child=HTML(value='\\n    <p> <h4><b> Close To:Abuja, Nigeria </b></h4>\\n    \\n    \\n      <h4><b>Inadequate or aging infrastructure</b>:2.0</h4>\\n   \\n    \\n      <h4><b>Increased water stress or scarcity</b>:2.0</h4>\\n   \\n    \\n      <h4><b>Higher water prices</b>:2.0</h4>\\n   \\n    </p>'), close_button=False, close_on_escape_key=False, location=[9.047287674516332, 7.324673112357872], name='popup', options=['auto_close', 'auto_pan', 'auto_pan_padding', 'auto_pan_padding_bottom_right', 'auto_pan_padding_top_left', 'close_button', 'close_on_escape_key', 'keep_in_view', 'max_height', 'max_width', 'min_width'])"
     ]
    },
    {
     "name": "stdout",
     "output_type": "stream",
     "text": [
      "risk0          0.0\n",
      "risk1          0.0\n",
      "risk2          2.0\n",
      "risk3          2.0\n",
      "risk4          0.0\n",
      "risk5          0.0\n",
      "risk6          2.0\n",
      "city         Abuja\n",
      "country    Nigeria\n",
      "Name: 2, dtype: object\n",
      "risk0          0.0\n",
      "risk1          0.0\n",
      "risk2          2.0\n",
      "risk3          2.0\n",
      "risk4          0.0\n",
      "risk5          0.0\n",
      "risk6          2.0\n",
      "city         Abuja\n",
      "country    Nigeria\n",
      "Name: 2, dtype: object\n"
     ]
    },
    {
     "ename": "LayerException",
     "evalue": "layer not on map: Popup(auto_close=False, auto_pan=False, auto_pan_padding=[5, 5], child=HTML(value='\\n    <p> <h4><b> Close To:Abuja, Nigeria </b></h4>\\n    \\n    \\n      <h4><b>Inadequate or aging infrastructure</b>:2.0</h4>\\n   \\n    \\n      <h4><b>Increased water stress or scarcity</b>:2.0</h4>\\n   \\n    \\n      <h4><b>Higher water prices</b>:2.0</h4>\\n   \\n    </p>'), close_button=False, close_on_escape_key=False, location=[9.039122034815534, 7.438635090050917], name='popup', options=['auto_close', 'auto_pan', 'auto_pan_padding', 'auto_pan_padding_bottom_right', 'auto_pan_padding_top_left', 'close_button', 'close_on_escape_key', 'keep_in_view', 'max_height', 'max_width', 'min_width'])",
     "output_type": "error",
     "traceback": [
      "\u001b[0;31m---------------------------------------------------------------------------\u001b[0m",
      "\u001b[0;31mLayerException\u001b[0m                            Traceback (most recent call last)",
      "\u001b[0;32m<ipython-input-11-f7c59f7273dd>\u001b[0m in \u001b[0;36mhandle_click\u001b[0;34m(**kwargs)\u001b[0m\n\u001b[1;32m     32\u001b[0m             \u001b[0mm\u001b[0m\u001b[0;34m.\u001b[0m\u001b[0mremove_layer\u001b[0m\u001b[0;34m(\u001b[0m\u001b[0mmanually_added_markers\u001b[0m\u001b[0;34m[\u001b[0m\u001b[0mto_rem\u001b[0m\u001b[0;34m]\u001b[0m\u001b[0;34m)\u001b[0m\u001b[0;34m\u001b[0m\u001b[0;34m\u001b[0m\u001b[0m\n\u001b[1;32m     33\u001b[0m             \u001b[0mmanually_added_markers\u001b[0m\u001b[0;34m.\u001b[0m\u001b[0mpop\u001b[0m\u001b[0;34m(\u001b[0m\u001b[0mto_rem\u001b[0m\u001b[0;34m)\u001b[0m\u001b[0;34m\u001b[0m\u001b[0;34m\u001b[0m\u001b[0m\n\u001b[0;32m---> 34\u001b[0;31m             \u001b[0mm\u001b[0m\u001b[0;34m.\u001b[0m\u001b[0mremove_layer\u001b[0m\u001b[0;34m(\u001b[0m\u001b[0mpopup\u001b[0m\u001b[0;34m)\u001b[0m\u001b[0;34m\u001b[0m\u001b[0;34m\u001b[0m\u001b[0m\n\u001b[0m\u001b[1;32m     35\u001b[0m \u001b[0;34m\u001b[0m\u001b[0m\n\u001b[1;32m     36\u001b[0m \u001b[0mm\u001b[0m\u001b[0;34m.\u001b[0m\u001b[0mon_interaction\u001b[0m\u001b[0;34m(\u001b[0m\u001b[0mhandle_click\u001b[0m\u001b[0;34m)\u001b[0m\u001b[0;34m\u001b[0m\u001b[0;34m\u001b[0m\u001b[0m\n",
      "\u001b[0;32m~/code/bioinformatics_ms/modern_data_analytics/.venv/lib/python3.8/site-packages/ipyleaflet/leaflet.py\u001b[0m in \u001b[0;36mremove_layer\u001b[0;34m(self, rm_layer)\u001b[0m\n\u001b[1;32m   2130\u001b[0m         \"\"\"\n\u001b[1;32m   2131\u001b[0m         \u001b[0;32mif\u001b[0m \u001b[0mrm_layer\u001b[0m\u001b[0;34m.\u001b[0m\u001b[0mmodel_id\u001b[0m \u001b[0;32mnot\u001b[0m \u001b[0;32min\u001b[0m \u001b[0mself\u001b[0m\u001b[0;34m.\u001b[0m\u001b[0m_layer_ids\u001b[0m\u001b[0;34m:\u001b[0m\u001b[0;34m\u001b[0m\u001b[0;34m\u001b[0m\u001b[0m\n\u001b[0;32m-> 2132\u001b[0;31m             \u001b[0;32mraise\u001b[0m \u001b[0mLayerException\u001b[0m\u001b[0;34m(\u001b[0m\u001b[0;34m'layer not on map: %r'\u001b[0m \u001b[0;34m%\u001b[0m \u001b[0mrm_layer\u001b[0m\u001b[0;34m)\u001b[0m\u001b[0;34m\u001b[0m\u001b[0;34m\u001b[0m\u001b[0m\n\u001b[0m\u001b[1;32m   2133\u001b[0m         \u001b[0mself\u001b[0m\u001b[0;34m.\u001b[0m\u001b[0mlayers\u001b[0m \u001b[0;34m=\u001b[0m \u001b[0mtuple\u001b[0m\u001b[0;34m(\u001b[0m\u001b[0;34m[\u001b[0m\u001b[0mlayer\u001b[0m \u001b[0;32mfor\u001b[0m \u001b[0mlayer\u001b[0m \u001b[0;32min\u001b[0m \u001b[0mself\u001b[0m\u001b[0;34m.\u001b[0m\u001b[0mlayers\u001b[0m \u001b[0;32mif\u001b[0m \u001b[0mlayer\u001b[0m\u001b[0;34m.\u001b[0m\u001b[0mmodel_id\u001b[0m \u001b[0;34m!=\u001b[0m \u001b[0mrm_layer\u001b[0m\u001b[0;34m.\u001b[0m\u001b[0mmodel_id\u001b[0m\u001b[0;34m]\u001b[0m\u001b[0;34m)\u001b[0m\u001b[0;34m\u001b[0m\u001b[0;34m\u001b[0m\u001b[0m\n\u001b[1;32m   2134\u001b[0m \u001b[0;34m\u001b[0m\u001b[0m\n",
      "\u001b[0;31mLayerException\u001b[0m: layer not on map: Popup(auto_close=False, auto_pan=False, auto_pan_padding=[5, 5], child=HTML(value='\\n    <p> <h4><b> Close To:Abuja, Nigeria </b></h4>\\n    \\n    \\n      <h4><b>Inadequate or aging infrastructure</b>:2.0</h4>\\n   \\n    \\n      <h4><b>Increased water stress or scarcity</b>:2.0</h4>\\n   \\n    \\n      <h4><b>Higher water prices</b>:2.0</h4>\\n   \\n    </p>'), close_button=False, close_on_escape_key=False, location=[9.039122034815534, 7.438635090050917], name='popup', options=['auto_close', 'auto_pan', 'auto_pan_padding', 'auto_pan_padding_bottom_right', 'auto_pan_padding_top_left', 'close_button', 'close_on_escape_key', 'keep_in_view', 'max_height', 'max_width', 'min_width'])"
     ]
    },
    {
     "name": "stdout",
     "output_type": "stream",
     "text": [
      "risk0          0.0\n",
      "risk1          0.0\n",
      "risk2          2.0\n",
      "risk3          2.0\n",
      "risk4          0.0\n",
      "risk5          0.0\n",
      "risk6          2.0\n",
      "city         Abuja\n",
      "country    Nigeria\n",
      "Name: 2, dtype: object\n",
      "hi\n",
      "Arusu\n",
      "Nigeria\n",
      "NG\n",
      "(1, 35)\n",
      "(1, 35)\n",
      "(1, 35)\n",
      "(1, 35)\n",
      "(1, 35)\n",
      "(1, 35)\n",
      "(1, 35)\n",
      "{'risk0': 0.0, 'risk1': 0.0, 'risk2': 0.0, 'risk3': 0.0, 'risk4': 0.0, 'risk5': 0.0, 'risk6': 0.0, 'city': 'Arusu', 'country': 'Nigeria'}\n",
      "hi\n",
      "Bakin Kog\n",
      "Nigeria\n",
      "NG\n",
      "(1, 35)\n",
      "(1, 35)\n",
      "(1, 35)\n",
      "(1, 35)\n",
      "(1, 35)\n",
      "(1, 35)\n",
      "(1, 35)\n",
      "{'risk0': 0.0, 'risk1': 0.0, 'risk2': 0.0, 'risk3': 0.0, 'risk4': 0.0, 'risk5': 0.0, 'risk6': 0.0, 'city': 'Bakin Kog', 'country': 'Nigeria'}\n"
     ]
    },
    {
     "ename": "LayerException",
     "evalue": "layer not on map: Popup(auto_close=False, auto_pan=False, auto_pan_padding=[5, 5], child=HTML(value='\\n    <p> <h4><b> Close To:Arusu, Nigeria </b></h4>\\n    \\n    </p>'), close_button=False, close_on_escape_key=False, location=[8.68904518139311, 8.15964711507546], name='popup', options=['auto_close', 'auto_pan', 'auto_pan_padding', 'auto_pan_padding_bottom_right', 'auto_pan_padding_top_left', 'close_button', 'close_on_escape_key', 'keep_in_view', 'max_height', 'max_width', 'min_width'])",
     "output_type": "error",
     "traceback": [
      "\u001b[0;31m---------------------------------------------------------------------------\u001b[0m",
      "\u001b[0;31mLayerException\u001b[0m                            Traceback (most recent call last)",
      "\u001b[0;32m<ipython-input-11-f7c59f7273dd>\u001b[0m in \u001b[0;36mhandle_click\u001b[0;34m(**kwargs)\u001b[0m\n\u001b[1;32m     32\u001b[0m             \u001b[0mm\u001b[0m\u001b[0;34m.\u001b[0m\u001b[0mremove_layer\u001b[0m\u001b[0;34m(\u001b[0m\u001b[0mmanually_added_markers\u001b[0m\u001b[0;34m[\u001b[0m\u001b[0mto_rem\u001b[0m\u001b[0;34m]\u001b[0m\u001b[0;34m)\u001b[0m\u001b[0;34m\u001b[0m\u001b[0;34m\u001b[0m\u001b[0m\n\u001b[1;32m     33\u001b[0m             \u001b[0mmanually_added_markers\u001b[0m\u001b[0;34m.\u001b[0m\u001b[0mpop\u001b[0m\u001b[0;34m(\u001b[0m\u001b[0mto_rem\u001b[0m\u001b[0;34m)\u001b[0m\u001b[0;34m\u001b[0m\u001b[0;34m\u001b[0m\u001b[0m\n\u001b[0;32m---> 34\u001b[0;31m             \u001b[0mm\u001b[0m\u001b[0;34m.\u001b[0m\u001b[0mremove_layer\u001b[0m\u001b[0;34m(\u001b[0m\u001b[0mpopup\u001b[0m\u001b[0;34m)\u001b[0m\u001b[0;34m\u001b[0m\u001b[0;34m\u001b[0m\u001b[0m\n\u001b[0m\u001b[1;32m     35\u001b[0m \u001b[0;34m\u001b[0m\u001b[0m\n\u001b[1;32m     36\u001b[0m \u001b[0mm\u001b[0m\u001b[0;34m.\u001b[0m\u001b[0mon_interaction\u001b[0m\u001b[0;34m(\u001b[0m\u001b[0mhandle_click\u001b[0m\u001b[0;34m)\u001b[0m\u001b[0;34m\u001b[0m\u001b[0;34m\u001b[0m\u001b[0m\n",
      "\u001b[0;32m~/code/bioinformatics_ms/modern_data_analytics/.venv/lib/python3.8/site-packages/ipyleaflet/leaflet.py\u001b[0m in \u001b[0;36mremove_layer\u001b[0;34m(self, rm_layer)\u001b[0m\n\u001b[1;32m   2130\u001b[0m         \"\"\"\n\u001b[1;32m   2131\u001b[0m         \u001b[0;32mif\u001b[0m \u001b[0mrm_layer\u001b[0m\u001b[0;34m.\u001b[0m\u001b[0mmodel_id\u001b[0m \u001b[0;32mnot\u001b[0m \u001b[0;32min\u001b[0m \u001b[0mself\u001b[0m\u001b[0;34m.\u001b[0m\u001b[0m_layer_ids\u001b[0m\u001b[0;34m:\u001b[0m\u001b[0;34m\u001b[0m\u001b[0;34m\u001b[0m\u001b[0m\n\u001b[0;32m-> 2132\u001b[0;31m             \u001b[0;32mraise\u001b[0m \u001b[0mLayerException\u001b[0m\u001b[0;34m(\u001b[0m\u001b[0;34m'layer not on map: %r'\u001b[0m \u001b[0;34m%\u001b[0m \u001b[0mrm_layer\u001b[0m\u001b[0;34m)\u001b[0m\u001b[0;34m\u001b[0m\u001b[0;34m\u001b[0m\u001b[0m\n\u001b[0m\u001b[1;32m   2133\u001b[0m         \u001b[0mself\u001b[0m\u001b[0;34m.\u001b[0m\u001b[0mlayers\u001b[0m \u001b[0;34m=\u001b[0m \u001b[0mtuple\u001b[0m\u001b[0;34m(\u001b[0m\u001b[0;34m[\u001b[0m\u001b[0mlayer\u001b[0m \u001b[0;32mfor\u001b[0m \u001b[0mlayer\u001b[0m \u001b[0;32min\u001b[0m \u001b[0mself\u001b[0m\u001b[0;34m.\u001b[0m\u001b[0mlayers\u001b[0m \u001b[0;32mif\u001b[0m \u001b[0mlayer\u001b[0m\u001b[0;34m.\u001b[0m\u001b[0mmodel_id\u001b[0m \u001b[0;34m!=\u001b[0m \u001b[0mrm_layer\u001b[0m\u001b[0;34m.\u001b[0m\u001b[0mmodel_id\u001b[0m\u001b[0;34m]\u001b[0m\u001b[0;34m)\u001b[0m\u001b[0;34m\u001b[0m\u001b[0;34m\u001b[0m\u001b[0m\n\u001b[1;32m   2134\u001b[0m \u001b[0;34m\u001b[0m\u001b[0m\n",
      "\u001b[0;31mLayerException\u001b[0m: layer not on map: Popup(auto_close=False, auto_pan=False, auto_pan_padding=[5, 5], child=HTML(value='\\n    <p> <h4><b> Close To:Arusu, Nigeria </b></h4>\\n    \\n    </p>'), close_button=False, close_on_escape_key=False, location=[8.68904518139311, 8.15964711507546], name='popup', options=['auto_close', 'auto_pan', 'auto_pan_padding', 'auto_pan_padding_bottom_right', 'auto_pan_padding_top_left', 'close_button', 'close_on_escape_key', 'keep_in_view', 'max_height', 'max_width', 'min_width'])"
     ]
    },
    {
     "name": "stdout",
     "output_type": "stream",
     "text": [
      "hi\n",
      "Bokoko\n",
      "Nigeria\n",
      "NG\n",
      "(1, 35)\n",
      "(1, 35)\n",
      "(1, 35)\n",
      "(1, 35)\n",
      "(1, 35)\n",
      "(1, 35)\n",
      "(1, 35)\n",
      "{'risk0': 0.0, 'risk1': 0.0, 'risk2': 0.0, 'risk3': 0.0, 'risk4': 0.0, 'risk5': 0.0, 'risk6': 0.0, 'city': 'Bokoko', 'country': 'Nigeria'}\n"
     ]
    }
   ],
   "source": [
    "m.layout.width = '80%'\n",
    "m.layout.height = '1000px'\n",
    "m.zoom=2.2\n",
    "m.center = (0, 0)\n",
    "display(m)"
   ]
  },
  {
   "cell_type": "code",
   "execution_count": null,
   "id": "d046325b",
   "metadata": {},
   "outputs": [],
   "source": []
  }
 ],
 "metadata": {
  "kernelspec": {
   "display_name": "ModernDataAnalytics",
   "language": "python",
   "name": "moderndataanalytics"
  },
  "language_info": {
   "codemirror_mode": {
    "name": "ipython",
    "version": 3
   },
   "file_extension": ".py",
   "mimetype": "text/x-python",
   "name": "python",
   "nbconvert_exporter": "python",
   "pygments_lexer": "ipython3",
   "version": "3.8.5"
  }
 },
 "nbformat": 4,
 "nbformat_minor": 5
}
