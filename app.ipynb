{
 "cells": [
  {
   "cell_type": "code",
   "execution_count": 13,
   "id": "cb361860",
   "metadata": {},
   "outputs": [],
   "source": [
    "from ipyleaflet import Map, basemaps, CircleMarker\n",
    "from ipywidgets import HTML\n",
    "import pandas as pd\n",
    "\n",
    "from data.labeled.preprocessed import  RISKS_MAPPING as risks\n",
    "import numpy as np\n",
    "from ipyleaflet import Icon, Marker, MarkerCluster, Popup\n",
    "\n",
    "# First is latitude and second is longitude; both in degrees\n",
    "\n",
    "\n",
    "m = Map(interpolation='nearest', basemap=basemaps.Stamen.Terrain,world_copy_jump=True)\n",
    "\n",
    "markers = ()\n",
    "\n",
    "\n",
    "popup = Popup(\n",
    "            name='popup',\n",
    "            close_button=False,\n",
    "            auto_close=False,\n",
    "            close_on_escape_key=False,auto_pan=False\n",
    "        )\n",
    "def mouseover_callback(marker,location, html):\n",
    "    def callback(*args, **kwargs):\n",
    "        popup.child = html\n",
    "        popup.location = location\n",
    "        m.add_layer(popup)\n",
    "    return callback\n",
    "\n",
    "def mouseout_callback():\n",
    "    def callback(*args, **kwargs):\n",
    "        m.remove_layer(popup)\n",
    "    return callback\n",
    "\n",
    "\n",
    "\n",
    "def populate_per_city(city, country, risks_dict, pred_mask = None):\n",
    "    html =  f\"\"\"\n",
    "    <p> <h4><b> {city}, {country} </b></h4>\n",
    "    \n",
    "    \"\"\"\n",
    "    \n",
    "    for risk in risks:\n",
    "        if risk not in risks_dict:\n",
    "            continue\n",
    "        risk_value = risks_dict[risk]\n",
    "        if not pd.isnull(risk_value) and risk_value !=0:\n",
    "            \n",
    "            to_add = f\"\"\"\n",
    "      <b>{risks[risk]}</b>:{risk_value}\n",
    "   \n",
    "    \"\"\"\n",
    "            if pred_mask is not None:\n",
    "                if pred_mask[risk]:\n",
    "                    to_add = f'<h4 style=\"color:blue\">{to_add}</h4>'\n",
    "                else:\n",
    "                    to_add = f'<h4>{to_add}</h4>'\n",
    "            html += to_add\n",
    "            \n",
    "    html += '</p>'\n",
    "    return HTML(html)\n",
    "    \n",
    "\n",
    "\n",
    "    \n",
    "from utils.geo import  is_close"
   ]
  },
  {
   "cell_type": "code",
   "execution_count": 14,
   "id": "64c128cf",
   "metadata": {},
   "outputs": [],
   "source": [
    "\n",
    "from classification.model_handler import ModelHandler, InvalidCoordinates\n",
    "from data.labeled.preprocessed import RISKS_MAPPING\n",
    "\n",
    "handler = ModelHandler()\n",
    "\n",
    "if not handler.is_fitted:\n",
    "    handler.train()\n",
    "    \n",
    "risks_ids = sorted(RISKS_MAPPING)\n",
    "from data.model.predictions import FILLED_DATASET as dataset ,PREDICTION_MASK as prediction_mask\n",
    "for (_,city),(_,pred_mask) in zip(dataset.iterrows(),prediction_mask.iterrows()):\n",
    "    location=(city['latitude'],city['longitude'])\n",
    "    html = populate_per_city(city.city, city.country, city,pred_mask)\n",
    "    marker = CircleMarker(location=location,fill_color = \"blue\",color='blue',radius=2)\n",
    "    marker.on_mouseover(mouseover_callback(marker,location, html))\n",
    "    marker.on_mouseout(mouseout_callback())\n",
    "    markers = markers + (marker,)\n",
    "    \n",
    "    \n",
    "manually_added_markers = []\n",
    "def handle_click(**kwargs):\n",
    "    if kwargs.get('type') == 'click':\n",
    "        coords = kwargs.get('coordinates')\n",
    "        check = any(is_close((coords[0],coords[1]), x.location) for x in markers)\n",
    "        if check:\n",
    "            return\n",
    "        try:\n",
    "            output,mask = handler.test(coords[0], coords[1])\n",
    "        except InvalidCoordinates:\n",
    "            return\n",
    "        html = populate_per_city(\"Close To:\" + output['city'], output['country'],\n",
    "                    {k: output[k] for k in risks_ids if k in output},\n",
    "                    {k: mask[k] for k in risks_ids if k in mask})\n",
    "        marker = CircleMarker(location=coords,fill_color = \"red\",color='red',radius=2)\n",
    "        check = [is_close(marker.location,mark.location) for mark in manually_added_markers]\n",
    "        if not any(check):\n",
    "            \n",
    "            marker.on_mouseover(mouseover_callback(marker,coords, html))\n",
    "            marker.on_mouseout(mouseout_callback())\n",
    "            manually_added_markers.append(marker)\n",
    "            m.add_layer(marker)\n",
    "        else:\n",
    "            to_rem = [cnt for cnt,(m,c) in enumerate(zip(manually_added_markers,check)) if c][0]\n",
    "            m.remove_layer(manually_added_markers[to_rem])\n",
    "            manually_added_markers.pop(to_rem)\n",
    "            m.remove_layer(popup)\n",
    "\n",
    "m.on_interaction(handle_click)\n",
    "m.add_layer(MarkerCluster(markers = markers))"
   ]
  },
  {
   "cell_type": "markdown",
   "id": "20ef4a34",
   "metadata": {},
   "source": [
    "## Instructions\n",
    "### Click on clouds of cities to expand or hover over single points to view risks\n",
    "- Risks shown in gray are result of ground truth\n",
    "- Risks shown in blue are result of prediction\n",
    "\n",
    "### Click on the map for online prediction. Click the created red dot to remove.\n"
   ]
  },
  {
   "cell_type": "code",
   "execution_count": 15,
   "id": "a195dd64",
   "metadata": {
    "scrolled": false
   },
   "outputs": [
    {
     "data": {
      "application/vnd.jupyter.widget-view+json": {
       "model_id": "f0e53c0ca5794d00a046ff8c78b1ee13",
       "version_major": 2,
       "version_minor": 0
      },
      "text/plain": [
       "Map(center=[0, 0], controls=(ZoomControl(options=['position', 'zoom_in_text', 'zoom_in_title', 'zoom_out_text'…"
      ]
     },
     "metadata": {},
     "output_type": "display_data"
    },
    {
     "ename": "LayerException",
     "evalue": "layer not on map: Popup(auto_close=False, auto_pan=False, auto_pan_padding=[5, 5], child=HTML(value='\\n    <p> <h4><b> Close To:Karlskoga, Sweden </b></h4>\\n    \\n    <h4 style=\"color:blue\">\\n      <b>Higher water prices</b>:1.0\\n   \\n    </h4><h4 style=\"color:blue\">\\n      <b>Inadequate or aging infrastructure</b>:1.0\\n   \\n    </h4><h4 style=\"color:blue\">\\n      <b>Increased water stress or scarcity</b>:1.0\\n   \\n    </h4><h4 style=\"color:blue\">\\n      <b>Declining water quality</b>:1.0\\n   \\n    </h4><h4 style=\"color:blue\">\\n      <b>Increased water demand</b>:1.0\\n   \\n    </h4><h4 style=\"color:blue\">\\n      <b>Regulatory</b>:1.0\\n   \\n    </h4><h4 style=\"color:blue\">\\n      <b>Energy supply issues</b>:1.0\\n   \\n    </h4></p>'), close_button=False, close_on_escape_key=False, location=[59.119539286044784, 14.436584570676835], name='popup', options=['auto_close', 'auto_pan', 'auto_pan_padding', 'auto_pan_padding_bottom_right', 'auto_pan_padding_top_left', 'close_button', 'close_on_escape_key', 'keep_in_view', 'max_height', 'max_width', 'min_width'])",
     "output_type": "error",
     "traceback": [
      "\u001b[0;31m---------------------------------------------------------------------------\u001b[0m",
      "\u001b[0;31mLayerException\u001b[0m                            Traceback (most recent call last)",
      "\u001b[0;32m<ipython-input-13-a51bfd7aa702>\u001b[0m in \u001b[0;36mcallback\u001b[0;34m(*args, **kwargs)\u001b[0m\n\u001b[1;32m     30\u001b[0m \u001b[0;32mdef\u001b[0m \u001b[0mmouseout_callback\u001b[0m\u001b[0;34m(\u001b[0m\u001b[0;34m)\u001b[0m\u001b[0;34m:\u001b[0m\u001b[0;34m\u001b[0m\u001b[0;34m\u001b[0m\u001b[0m\n\u001b[1;32m     31\u001b[0m     \u001b[0;32mdef\u001b[0m \u001b[0mcallback\u001b[0m\u001b[0;34m(\u001b[0m\u001b[0;34m*\u001b[0m\u001b[0margs\u001b[0m\u001b[0;34m,\u001b[0m \u001b[0;34m**\u001b[0m\u001b[0mkwargs\u001b[0m\u001b[0;34m)\u001b[0m\u001b[0;34m:\u001b[0m\u001b[0;34m\u001b[0m\u001b[0;34m\u001b[0m\u001b[0m\n\u001b[0;32m---> 32\u001b[0;31m         \u001b[0mm\u001b[0m\u001b[0;34m.\u001b[0m\u001b[0mremove_layer\u001b[0m\u001b[0;34m(\u001b[0m\u001b[0mpopup\u001b[0m\u001b[0;34m)\u001b[0m\u001b[0;34m\u001b[0m\u001b[0;34m\u001b[0m\u001b[0m\n\u001b[0m\u001b[1;32m     33\u001b[0m     \u001b[0;32mreturn\u001b[0m \u001b[0mcallback\u001b[0m\u001b[0;34m\u001b[0m\u001b[0;34m\u001b[0m\u001b[0m\n\u001b[1;32m     34\u001b[0m \u001b[0;34m\u001b[0m\u001b[0m\n",
      "\u001b[0;32m~/code/bioinformatics_ms/modern_data_analytics/.venv/lib/python3.8/site-packages/ipyleaflet/leaflet.py\u001b[0m in \u001b[0;36mremove_layer\u001b[0;34m(self, rm_layer)\u001b[0m\n\u001b[1;32m   2130\u001b[0m         \"\"\"\n\u001b[1;32m   2131\u001b[0m         \u001b[0;32mif\u001b[0m \u001b[0mrm_layer\u001b[0m\u001b[0;34m.\u001b[0m\u001b[0mmodel_id\u001b[0m \u001b[0;32mnot\u001b[0m \u001b[0;32min\u001b[0m \u001b[0mself\u001b[0m\u001b[0;34m.\u001b[0m\u001b[0m_layer_ids\u001b[0m\u001b[0;34m:\u001b[0m\u001b[0;34m\u001b[0m\u001b[0;34m\u001b[0m\u001b[0m\n\u001b[0;32m-> 2132\u001b[0;31m             \u001b[0;32mraise\u001b[0m \u001b[0mLayerException\u001b[0m\u001b[0;34m(\u001b[0m\u001b[0;34m'layer not on map: %r'\u001b[0m \u001b[0;34m%\u001b[0m \u001b[0mrm_layer\u001b[0m\u001b[0;34m)\u001b[0m\u001b[0;34m\u001b[0m\u001b[0;34m\u001b[0m\u001b[0m\n\u001b[0m\u001b[1;32m   2133\u001b[0m         \u001b[0mself\u001b[0m\u001b[0;34m.\u001b[0m\u001b[0mlayers\u001b[0m \u001b[0;34m=\u001b[0m \u001b[0mtuple\u001b[0m\u001b[0;34m(\u001b[0m\u001b[0;34m[\u001b[0m\u001b[0mlayer\u001b[0m \u001b[0;32mfor\u001b[0m \u001b[0mlayer\u001b[0m \u001b[0;32min\u001b[0m \u001b[0mself\u001b[0m\u001b[0;34m.\u001b[0m\u001b[0mlayers\u001b[0m \u001b[0;32mif\u001b[0m \u001b[0mlayer\u001b[0m\u001b[0;34m.\u001b[0m\u001b[0mmodel_id\u001b[0m \u001b[0;34m!=\u001b[0m \u001b[0mrm_layer\u001b[0m\u001b[0;34m.\u001b[0m\u001b[0mmodel_id\u001b[0m\u001b[0;34m]\u001b[0m\u001b[0;34m)\u001b[0m\u001b[0;34m\u001b[0m\u001b[0;34m\u001b[0m\u001b[0m\n\u001b[1;32m   2134\u001b[0m \u001b[0;34m\u001b[0m\u001b[0m\n",
      "\u001b[0;31mLayerException\u001b[0m: layer not on map: Popup(auto_close=False, auto_pan=False, auto_pan_padding=[5, 5], child=HTML(value='\\n    <p> <h4><b> Close To:Karlskoga, Sweden </b></h4>\\n    \\n    <h4 style=\"color:blue\">\\n      <b>Higher water prices</b>:1.0\\n   \\n    </h4><h4 style=\"color:blue\">\\n      <b>Inadequate or aging infrastructure</b>:1.0\\n   \\n    </h4><h4 style=\"color:blue\">\\n      <b>Increased water stress or scarcity</b>:1.0\\n   \\n    </h4><h4 style=\"color:blue\">\\n      <b>Declining water quality</b>:1.0\\n   \\n    </h4><h4 style=\"color:blue\">\\n      <b>Increased water demand</b>:1.0\\n   \\n    </h4><h4 style=\"color:blue\">\\n      <b>Regulatory</b>:1.0\\n   \\n    </h4><h4 style=\"color:blue\">\\n      <b>Energy supply issues</b>:1.0\\n   \\n    </h4></p>'), close_button=False, close_on_escape_key=False, location=[59.119539286044784, 14.436584570676835], name='popup', options=['auto_close', 'auto_pan', 'auto_pan_padding', 'auto_pan_padding_bottom_right', 'auto_pan_padding_top_left', 'close_button', 'close_on_escape_key', 'keep_in_view', 'max_height', 'max_width', 'min_width'])"
     ]
    },
    {
     "ename": "LayerException",
     "evalue": "layer not on map: Popup(auto_close=False, auto_pan=False, auto_pan_padding=[5, 5], child=HTML(value='\\n    <p> <h4><b> Close To:Karlstad, Sweden </b></h4>\\n    \\n    <h4 style=\"color:blue\">\\n      <b>Higher water prices</b>:1.0\\n   \\n    </h4><h4 style=\"color:blue\">\\n      <b>Inadequate or aging infrastructure</b>:1.0\\n   \\n    </h4><h4 style=\"color:blue\">\\n      <b>Increased water stress or scarcity</b>:1.0\\n   \\n    </h4><h4 style=\"color:blue\">\\n      <b>Declining water quality</b>:1.0\\n   \\n    </h4><h4 style=\"color:blue\">\\n      <b>Increased water demand</b>:1.0\\n   \\n    </h4><h4 style=\"color:blue\">\\n      <b>Regulatory</b>:1.0\\n   \\n    </h4><h4 style=\"color:blue\">\\n      <b>Energy supply issues</b>:1.0\\n   \\n    </h4></p>'), close_button=False, close_on_escape_key=False, location=[59.23300584080292, 13.271634533794842], name='popup', options=['auto_close', 'auto_pan', 'auto_pan_padding', 'auto_pan_padding_bottom_right', 'auto_pan_padding_top_left', 'close_button', 'close_on_escape_key', 'keep_in_view', 'max_height', 'max_width', 'min_width'])",
     "output_type": "error",
     "traceback": [
      "\u001b[0;31m---------------------------------------------------------------------------\u001b[0m",
      "\u001b[0;31mLayerException\u001b[0m                            Traceback (most recent call last)",
      "\u001b[0;32m<ipython-input-13-a51bfd7aa702>\u001b[0m in \u001b[0;36mcallback\u001b[0;34m(*args, **kwargs)\u001b[0m\n\u001b[1;32m     30\u001b[0m \u001b[0;32mdef\u001b[0m \u001b[0mmouseout_callback\u001b[0m\u001b[0;34m(\u001b[0m\u001b[0;34m)\u001b[0m\u001b[0;34m:\u001b[0m\u001b[0;34m\u001b[0m\u001b[0;34m\u001b[0m\u001b[0m\n\u001b[1;32m     31\u001b[0m     \u001b[0;32mdef\u001b[0m \u001b[0mcallback\u001b[0m\u001b[0;34m(\u001b[0m\u001b[0;34m*\u001b[0m\u001b[0margs\u001b[0m\u001b[0;34m,\u001b[0m \u001b[0;34m**\u001b[0m\u001b[0mkwargs\u001b[0m\u001b[0;34m)\u001b[0m\u001b[0;34m:\u001b[0m\u001b[0;34m\u001b[0m\u001b[0;34m\u001b[0m\u001b[0m\n\u001b[0;32m---> 32\u001b[0;31m         \u001b[0mm\u001b[0m\u001b[0;34m.\u001b[0m\u001b[0mremove_layer\u001b[0m\u001b[0;34m(\u001b[0m\u001b[0mpopup\u001b[0m\u001b[0;34m)\u001b[0m\u001b[0;34m\u001b[0m\u001b[0;34m\u001b[0m\u001b[0m\n\u001b[0m\u001b[1;32m     33\u001b[0m     \u001b[0;32mreturn\u001b[0m \u001b[0mcallback\u001b[0m\u001b[0;34m\u001b[0m\u001b[0;34m\u001b[0m\u001b[0m\n\u001b[1;32m     34\u001b[0m \u001b[0;34m\u001b[0m\u001b[0m\n",
      "\u001b[0;32m~/code/bioinformatics_ms/modern_data_analytics/.venv/lib/python3.8/site-packages/ipyleaflet/leaflet.py\u001b[0m in \u001b[0;36mremove_layer\u001b[0;34m(self, rm_layer)\u001b[0m\n\u001b[1;32m   2130\u001b[0m         \"\"\"\n\u001b[1;32m   2131\u001b[0m         \u001b[0;32mif\u001b[0m \u001b[0mrm_layer\u001b[0m\u001b[0;34m.\u001b[0m\u001b[0mmodel_id\u001b[0m \u001b[0;32mnot\u001b[0m \u001b[0;32min\u001b[0m \u001b[0mself\u001b[0m\u001b[0;34m.\u001b[0m\u001b[0m_layer_ids\u001b[0m\u001b[0;34m:\u001b[0m\u001b[0;34m\u001b[0m\u001b[0;34m\u001b[0m\u001b[0m\n\u001b[0;32m-> 2132\u001b[0;31m             \u001b[0;32mraise\u001b[0m \u001b[0mLayerException\u001b[0m\u001b[0;34m(\u001b[0m\u001b[0;34m'layer not on map: %r'\u001b[0m \u001b[0;34m%\u001b[0m \u001b[0mrm_layer\u001b[0m\u001b[0;34m)\u001b[0m\u001b[0;34m\u001b[0m\u001b[0;34m\u001b[0m\u001b[0m\n\u001b[0m\u001b[1;32m   2133\u001b[0m         \u001b[0mself\u001b[0m\u001b[0;34m.\u001b[0m\u001b[0mlayers\u001b[0m \u001b[0;34m=\u001b[0m \u001b[0mtuple\u001b[0m\u001b[0;34m(\u001b[0m\u001b[0;34m[\u001b[0m\u001b[0mlayer\u001b[0m \u001b[0;32mfor\u001b[0m \u001b[0mlayer\u001b[0m \u001b[0;32min\u001b[0m \u001b[0mself\u001b[0m\u001b[0;34m.\u001b[0m\u001b[0mlayers\u001b[0m \u001b[0;32mif\u001b[0m \u001b[0mlayer\u001b[0m\u001b[0;34m.\u001b[0m\u001b[0mmodel_id\u001b[0m \u001b[0;34m!=\u001b[0m \u001b[0mrm_layer\u001b[0m\u001b[0;34m.\u001b[0m\u001b[0mmodel_id\u001b[0m\u001b[0;34m]\u001b[0m\u001b[0;34m)\u001b[0m\u001b[0;34m\u001b[0m\u001b[0;34m\u001b[0m\u001b[0m\n\u001b[1;32m   2134\u001b[0m \u001b[0;34m\u001b[0m\u001b[0m\n",
      "\u001b[0;31mLayerException\u001b[0m: layer not on map: Popup(auto_close=False, auto_pan=False, auto_pan_padding=[5, 5], child=HTML(value='\\n    <p> <h4><b> Close To:Karlstad, Sweden </b></h4>\\n    \\n    <h4 style=\"color:blue\">\\n      <b>Higher water prices</b>:1.0\\n   \\n    </h4><h4 style=\"color:blue\">\\n      <b>Inadequate or aging infrastructure</b>:1.0\\n   \\n    </h4><h4 style=\"color:blue\">\\n      <b>Increased water stress or scarcity</b>:1.0\\n   \\n    </h4><h4 style=\"color:blue\">\\n      <b>Declining water quality</b>:1.0\\n   \\n    </h4><h4 style=\"color:blue\">\\n      <b>Increased water demand</b>:1.0\\n   \\n    </h4><h4 style=\"color:blue\">\\n      <b>Regulatory</b>:1.0\\n   \\n    </h4><h4 style=\"color:blue\">\\n      <b>Energy supply issues</b>:1.0\\n   \\n    </h4></p>'), close_button=False, close_on_escape_key=False, location=[59.23300584080292, 13.271634533794842], name='popup', options=['auto_close', 'auto_pan', 'auto_pan_padding', 'auto_pan_padding_bottom_right', 'auto_pan_padding_top_left', 'close_button', 'close_on_escape_key', 'keep_in_view', 'max_height', 'max_width', 'min_width'])"
     ]
    }
   ],
   "source": [
    "m.layout.width = '80%'\n",
    "m.layout.height = '1000px'\n",
    "m.zoom=2.2\n",
    "m.center = (0, 0)\n",
    "display(m)"
   ]
  },
  {
   "cell_type": "code",
   "execution_count": null,
   "id": "typical-garbage",
   "metadata": {},
   "outputs": [],
   "source": []
  }
 ],
 "metadata": {
  "kernelspec": {
   "display_name": "ModernDataAnalytics",
   "language": "python",
   "name": "moderndataanalytics"
  },
  "language_info": {
   "codemirror_mode": {
    "name": "ipython",
    "version": 3
   },
   "file_extension": ".py",
   "mimetype": "text/x-python",
   "name": "python",
   "nbconvert_exporter": "python",
   "pygments_lexer": "ipython3",
   "version": "3.8.5"
  }
 },
 "nbformat": 4,
 "nbformat_minor": 5
}
