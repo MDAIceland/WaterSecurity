{
 "cells": [
  {
   "cell_type": "code",
   "execution_count": 67,
   "id": "64c128cf",
   "metadata": {},
   "outputs": [],
   "source": [
    "from ipyleaflet import Map, basemaps, CircleMarker\n",
    "from ipywidgets import HTML\n",
    "import pandas as pd\n",
    "\n",
    "\n",
    "\n",
    "from ipyleaflet import Icon, Marker, MarkerCluster, Popup\n",
    "\n",
    "# First is latitude and second is longitude; both in degrees\n",
    "\n",
    "\n",
    "m = Map(interpolation='nearest', basemap=basemaps.Stamen.Terrain,world_copy_jump=True)\n",
    "\n",
    "markers = ()\n",
    "\n",
    "\n",
    "popup = Popup(\n",
    "            name='popup',\n",
    "            close_button=False,\n",
    "            auto_close=False,\n",
    "            close_on_escape_key=False,auto_pan=False\n",
    "        )\n",
    "def mouseover_callback(marker,location, html):\n",
    "    def callback(*args, **kwargs):\n",
    "        popup.child = html\n",
    "        popup.location = location\n",
    "        m.add_layer(popup)\n",
    "    return callback\n",
    "\n",
    "def mouseout_callback():\n",
    "    def callback(*args, **kwargs):\n",
    "        m.remove_layer(popup)\n",
    "    return callback\n",
    "\n",
    "from data.labeled import LABELED_CITIES as cities, RISKS_MAPPING as risks\n",
    "import numpy as np\n",
    "\n",
    "def populate_per_city(city, country, risks_dict):\n",
    "    html =  f\"\"\"\n",
    "    <p> <h4><b> {city}, {country} </b></h4>\n",
    "    \n",
    "    \"\"\"\n",
    "    \n",
    "    for risk in risks:\n",
    "        if risk not in risks_dict:\n",
    "            continue\n",
    "        risk_value = risks_dict[risk]\n",
    "        if not pd.isnull(risk_value):\n",
    "            html += f\"\"\"\n",
    "      <h4><b>{risks[risk]}</b>:{risk_value}</h4>\n",
    "   \n",
    "    \"\"\"\n",
    "    html += '</p>'\n",
    "    return HTML(html)\n",
    "    \n",
    "\n",
    "for _,city in cities.iterrows():\n",
    "    location=(city['latitude'],city['longitude'])\n",
    "    html = populate_per_city(city.city, city.country, city)\n",
    "    marker = CircleMarker(location=location,fill_color = \"blue\",color='blue',radius=2)\n",
    "    marker.on_mouseover(mouseover_callback(marker,location, html))\n",
    "    marker.on_mouseout(mouseout_callback())\n",
    "    markers = markers + (marker,)\n",
    "    \n",
    "def get_city(latitude, longitude):\n",
    "    return \"TODO\"\n",
    "\n",
    "def get_country(latitude, longitude):\n",
    "    return \"TODO\"\n",
    "\n",
    "def get_risks(latitude, longitude):\n",
    "    return {}\n",
    "from math import sqrt\n",
    "def is_close(p1, p2, thres=1):\n",
    "    if sqrt((p1[0] - p2[0])**2 + (p1[1]-p2[1])**2) < thres:\n",
    "        return True\n",
    "    return False\n",
    "\n",
    "manually_added_markers = []\n",
    "def handle_click(**kwargs):\n",
    "    if kwargs.get('type') == 'click':\n",
    "        coords = kwargs.get('coordinates')\n",
    "        html = populate_per_city(\"Close To:\" + get_city(coords[0], coords[1]), get_country(coords[0],coords[1]),get_risks(coords[0], coords[1]))\n",
    "        marker = CircleMarker(location=coords,fill_color = \"red\",color='red',radius=2)\n",
    "        check = [is_close(marker.location,mark.location) for mark in manually_added_markers]\n",
    "        if not any(check):\n",
    "            marker.on_mouseover(mouseover_callback(marker,coords, html))\n",
    "            marker.on_mouseout(mouseout_callback())\n",
    "            manually_added_markers.append(marker)\n",
    "            m.add_layer(marker)\n",
    "        else:\n",
    "            to_rem = [cnt for cnt,(m,c) in enumerate(zip(manually_added_markers,check)) if c][0]\n",
    "            m.remove_layer(manually_added_markers[to_rem])\n",
    "            manually_added_markers.pop(to_rem)\n",
    "            m.remove_layer(popup)\n",
    "\n",
    "m.on_interaction(handle_click)\n",
    "m.add_layer(MarkerCluster(markers = markers))"
   ]
  },
  {
   "cell_type": "code",
   "execution_count": 68,
   "id": "a195dd64",
   "metadata": {
    "scrolled": false
   },
   "outputs": [
    {
     "data": {
      "application/vnd.jupyter.widget-view+json": {
       "model_id": "5401f6e420654e7b8ec236712309fd03",
       "version_major": 2,
       "version_minor": 0
      },
      "text/plain": [
       "Map(center=[0, 0], controls=(ZoomControl(options=['position', 'zoom_in_text', 'zoom_in_title', 'zoom_out_text'…"
      ]
     },
     "metadata": {},
     "output_type": "display_data"
    }
   ],
   "source": [
    "m.layout.width = '80%'\n",
    "m.layout.height = '1000px'\n",
    "m.zoom=2.2\n",
    "m.center = (0, 0)\n",
    "display(m)"
   ]
  },
  {
   "cell_type": "code",
   "execution_count": null,
   "id": "6cd1adc8",
   "metadata": {},
   "outputs": [],
   "source": []
  }
 ],
 "metadata": {
  "kernelspec": {
   "display_name": "ModernDataAnalytics",
   "language": "python",
   "name": "moderndataanalytics"
  },
  "language_info": {
   "codemirror_mode": {
    "name": "ipython",
    "version": 3
   },
   "file_extension": ".py",
   "mimetype": "text/x-python",
   "name": "python",
   "nbconvert_exporter": "python",
   "pygments_lexer": "ipython3",
   "version": "3.8.5"
  }
 },
 "nbformat": 4,
 "nbformat_minor": 5
}
