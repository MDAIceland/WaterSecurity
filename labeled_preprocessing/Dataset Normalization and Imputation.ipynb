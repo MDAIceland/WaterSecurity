{
 "cells": [
  {
   "cell_type": "code",
   "execution_count": 1,
   "id": "fifteen-piece",
   "metadata": {},
   "outputs": [],
   "source": [
    "import pandas as pd\n",
    "import numpy as np\n",
    "from langdetect import detect as langdetect\n",
    "import random\n",
    "seed = 42\n",
    "np.random.seed(seed)\n",
    "random.seed(seed)\n",
    "import sys\n",
    "sys.path.append(\"..\")\n",
    "from data.labeled.raw import CWA as cwa, CWR as cwr\n",
    "from data.labeled.preprocessed import LABELED_CITIES_PATH, RISKS_MAPPING_PATH, SEVERITY_MAPPING_PATH, IMPUTATION_REPORT_PATH\n"
   ]
  },
  {
   "cell_type": "markdown",
   "id": "native-stock",
   "metadata": {},
   "source": [
    "# Preprocess whole dataset"
   ]
  },
  {
   "cell_type": "code",
   "execution_count": 2,
   "id": "asian-story",
   "metadata": {
    "scrolled": true
   },
   "outputs": [
    {
     "data": {
      "text/html": [
       "<div>\n",
       "<style scoped>\n",
       "    .dataframe tbody tr th:only-of-type {\n",
       "        vertical-align: middle;\n",
       "    }\n",
       "\n",
       "    .dataframe tbody tr th {\n",
       "        vertical-align: top;\n",
       "    }\n",
       "\n",
       "    .dataframe thead th {\n",
       "        text-align: right;\n",
       "    }\n",
       "</style>\n",
       "<table border=\"1\" class=\"dataframe\">\n",
       "  <thead>\n",
       "    <tr style=\"text-align: right;\">\n",
       "      <th></th>\n",
       "      <th>Account No</th>\n",
       "      <th>Organisation</th>\n",
       "      <th>City</th>\n",
       "      <th>Country</th>\n",
       "      <th>Region</th>\n",
       "      <th>Access</th>\n",
       "      <th>C40</th>\n",
       "      <th>Reporting Year</th>\n",
       "      <th>Risks to city's water supply</th>\n",
       "      <th>Adaptation action</th>\n",
       "      <th>Action description</th>\n",
       "      <th>City Location</th>\n",
       "    </tr>\n",
       "  </thead>\n",
       "  <tbody>\n",
       "    <tr>\n",
       "      <th>0</th>\n",
       "      <td>1093</td>\n",
       "      <td>City of Atlanta</td>\n",
       "      <td>Atlanta</td>\n",
       "      <td>United States of America</td>\n",
       "      <td>North America</td>\n",
       "      <td>public</td>\n",
       "      <td>NaN</td>\n",
       "      <td>2018</td>\n",
       "      <td>Increased water stress or scarcity</td>\n",
       "      <td>Investment in existing water supply infrastruc...</td>\n",
       "      <td>The city is building a new reservoir, fixing t...</td>\n",
       "      <td>(33.749, -84.388)</td>\n",
       "    </tr>\n",
       "    <tr>\n",
       "      <th>1</th>\n",
       "      <td>1184</td>\n",
       "      <td>City of Austin</td>\n",
       "      <td>Austin</td>\n",
       "      <td>United States of America</td>\n",
       "      <td>North America</td>\n",
       "      <td>public</td>\n",
       "      <td>C40</td>\n",
       "      <td>2018</td>\n",
       "      <td>Increased water stress or scarcity</td>\n",
       "      <td>Conservation awareness and education</td>\n",
       "      <td>NaN</td>\n",
       "      <td>(30.2672, -97.7431)</td>\n",
       "    </tr>\n",
       "    <tr>\n",
       "      <th>2</th>\n",
       "      <td>1184</td>\n",
       "      <td>City of Austin</td>\n",
       "      <td>Austin</td>\n",
       "      <td>United States of America</td>\n",
       "      <td>North America</td>\n",
       "      <td>public</td>\n",
       "      <td>C40</td>\n",
       "      <td>2018</td>\n",
       "      <td>Increased water stress or scarcity</td>\n",
       "      <td>Conservation incentives</td>\n",
       "      <td>NaN</td>\n",
       "      <td>(30.2672, -97.7431)</td>\n",
       "    </tr>\n",
       "    <tr>\n",
       "      <th>3</th>\n",
       "      <td>1184</td>\n",
       "      <td>City of Austin</td>\n",
       "      <td>Austin</td>\n",
       "      <td>United States of America</td>\n",
       "      <td>North America</td>\n",
       "      <td>public</td>\n",
       "      <td>C40</td>\n",
       "      <td>2018</td>\n",
       "      <td>Increased water stress or scarcity</td>\n",
       "      <td>Water use restrictions</td>\n",
       "      <td>NaN</td>\n",
       "      <td>(30.2672, -97.7431)</td>\n",
       "    </tr>\n",
       "    <tr>\n",
       "      <th>4</th>\n",
       "      <td>1184</td>\n",
       "      <td>City of Austin</td>\n",
       "      <td>Austin</td>\n",
       "      <td>United States of America</td>\n",
       "      <td>North America</td>\n",
       "      <td>public</td>\n",
       "      <td>C40</td>\n",
       "      <td>2018</td>\n",
       "      <td>Increased water stress or scarcity</td>\n",
       "      <td>Efficiency regulations or standards</td>\n",
       "      <td>NaN</td>\n",
       "      <td>(30.2672, -97.7431)</td>\n",
       "    </tr>\n",
       "  </tbody>\n",
       "</table>\n",
       "</div>"
      ],
      "text/plain": [
       "   Account No     Organisation     City                   Country  \\\n",
       "0        1093  City of Atlanta  Atlanta  United States of America   \n",
       "1        1184   City of Austin   Austin  United States of America   \n",
       "2        1184   City of Austin   Austin  United States of America   \n",
       "3        1184   City of Austin   Austin  United States of America   \n",
       "4        1184   City of Austin   Austin  United States of America   \n",
       "\n",
       "          Region  Access  C40  Reporting Year  \\\n",
       "0  North America  public  NaN            2018   \n",
       "1  North America  public  C40            2018   \n",
       "2  North America  public  C40            2018   \n",
       "3  North America  public  C40            2018   \n",
       "4  North America  public  C40            2018   \n",
       "\n",
       "         Risks to city's water supply  \\\n",
       "0  Increased water stress or scarcity   \n",
       "1  Increased water stress or scarcity   \n",
       "2  Increased water stress or scarcity   \n",
       "3  Increased water stress or scarcity   \n",
       "4  Increased water stress or scarcity   \n",
       "\n",
       "                                   Adaptation action  \\\n",
       "0  Investment in existing water supply infrastruc...   \n",
       "1               Conservation awareness and education   \n",
       "2                            Conservation incentives   \n",
       "3                             Water use restrictions   \n",
       "4                Efficiency regulations or standards   \n",
       "\n",
       "                                  Action description        City Location  \n",
       "0  The city is building a new reservoir, fixing t...    (33.749, -84.388)  \n",
       "1                                                NaN  (30.2672, -97.7431)  \n",
       "2                                                NaN  (30.2672, -97.7431)  \n",
       "3                                                NaN  (30.2672, -97.7431)  \n",
       "4                                                NaN  (30.2672, -97.7431)  "
      ]
     },
     "execution_count": 2,
     "metadata": {},
     "output_type": "execute_result"
    }
   ],
   "source": [
    "cwa.head()"
   ]
  },
  {
   "cell_type": "code",
   "execution_count": 3,
   "id": "coupled-married",
   "metadata": {},
   "outputs": [
    {
     "data": {
      "text/html": [
       "<div>\n",
       "<style scoped>\n",
       "    .dataframe tbody tr th:only-of-type {\n",
       "        vertical-align: middle;\n",
       "    }\n",
       "\n",
       "    .dataframe tbody tr th {\n",
       "        vertical-align: top;\n",
       "    }\n",
       "\n",
       "    .dataframe thead th {\n",
       "        text-align: right;\n",
       "    }\n",
       "</style>\n",
       "<table border=\"1\" class=\"dataframe\">\n",
       "  <thead>\n",
       "    <tr style=\"text-align: right;\">\n",
       "      <th></th>\n",
       "      <th>Account No</th>\n",
       "      <th>Organisation</th>\n",
       "      <th>City</th>\n",
       "      <th>Country</th>\n",
       "      <th>Region</th>\n",
       "      <th>Access</th>\n",
       "      <th>C40</th>\n",
       "      <th>Reporting year</th>\n",
       "      <th>Risks to city's water supply</th>\n",
       "      <th>Timescale</th>\n",
       "      <th>Magnitude</th>\n",
       "      <th>Risk description</th>\n",
       "      <th>Current population</th>\n",
       "      <th>Population year</th>\n",
       "      <th>City Location</th>\n",
       "    </tr>\n",
       "  </thead>\n",
       "  <tbody>\n",
       "    <tr>\n",
       "      <th>0</th>\n",
       "      <td>1093</td>\n",
       "      <td>City of Atlanta</td>\n",
       "      <td>Atlanta</td>\n",
       "      <td>United States of America</td>\n",
       "      <td>North America</td>\n",
       "      <td>public</td>\n",
       "      <td>NaN</td>\n",
       "      <td>2018</td>\n",
       "      <td>Increased water stress or scarcity</td>\n",
       "      <td>Short-term</td>\n",
       "      <td>Serious</td>\n",
       "      <td>The city depends on one river for water supply...</td>\n",
       "      <td>450182.0</td>\n",
       "      <td>2017</td>\n",
       "      <td>(33.749, -84.388)</td>\n",
       "    </tr>\n",
       "    <tr>\n",
       "      <th>1</th>\n",
       "      <td>1093</td>\n",
       "      <td>City of Atlanta</td>\n",
       "      <td>Atlanta</td>\n",
       "      <td>United States of America</td>\n",
       "      <td>North America</td>\n",
       "      <td>public</td>\n",
       "      <td>NaN</td>\n",
       "      <td>2018</td>\n",
       "      <td>Higher water prices</td>\n",
       "      <td>Current</td>\n",
       "      <td>Serious</td>\n",
       "      <td>The water cost burden is felt across all ZIP c...</td>\n",
       "      <td>450182.0</td>\n",
       "      <td>2017</td>\n",
       "      <td>(33.749, -84.388)</td>\n",
       "    </tr>\n",
       "    <tr>\n",
       "      <th>2</th>\n",
       "      <td>1184</td>\n",
       "      <td>City of Austin</td>\n",
       "      <td>Austin</td>\n",
       "      <td>United States of America</td>\n",
       "      <td>North America</td>\n",
       "      <td>public</td>\n",
       "      <td>C40</td>\n",
       "      <td>2018</td>\n",
       "      <td>Increased water stress or scarcity</td>\n",
       "      <td>Medium-term</td>\n",
       "      <td>Extremely serious</td>\n",
       "      <td>NaN</td>\n",
       "      <td>1265974.0</td>\n",
       "      <td>2017</td>\n",
       "      <td>(30.2672, -97.7431)</td>\n",
       "    </tr>\n",
       "    <tr>\n",
       "      <th>3</th>\n",
       "      <td>1499</td>\n",
       "      <td>Ajuntament de Barcelona</td>\n",
       "      <td>Barcelona</td>\n",
       "      <td>Spain</td>\n",
       "      <td>Europe</td>\n",
       "      <td>public</td>\n",
       "      <td>C40</td>\n",
       "      <td>2018</td>\n",
       "      <td>Increased water stress or scarcity</td>\n",
       "      <td>Current</td>\n",
       "      <td>Extremely serious</td>\n",
       "      <td>The downscaling of the climate projections at ...</td>\n",
       "      <td>1604555.0</td>\n",
       "      <td>2015</td>\n",
       "      <td>(41.3823, 2.1775)</td>\n",
       "    </tr>\n",
       "    <tr>\n",
       "      <th>4</th>\n",
       "      <td>1499</td>\n",
       "      <td>Ajuntament de Barcelona</td>\n",
       "      <td>Barcelona</td>\n",
       "      <td>Spain</td>\n",
       "      <td>Europe</td>\n",
       "      <td>public</td>\n",
       "      <td>C40</td>\n",
       "      <td>2018</td>\n",
       "      <td>Declining water quality</td>\n",
       "      <td>Medium-term</td>\n",
       "      <td>Serious</td>\n",
       "      <td>A reduction in water resources availability  c...</td>\n",
       "      <td>1604555.0</td>\n",
       "      <td>2015</td>\n",
       "      <td>(41.3823, 2.1775)</td>\n",
       "    </tr>\n",
       "  </tbody>\n",
       "</table>\n",
       "</div>"
      ],
      "text/plain": [
       "   Account No             Organisation       City                   Country  \\\n",
       "0        1093          City of Atlanta    Atlanta  United States of America   \n",
       "1        1093          City of Atlanta    Atlanta  United States of America   \n",
       "2        1184           City of Austin     Austin  United States of America   \n",
       "3        1499  Ajuntament de Barcelona  Barcelona                     Spain   \n",
       "4        1499  Ajuntament de Barcelona  Barcelona                     Spain   \n",
       "\n",
       "          Region  Access  C40  Reporting year  \\\n",
       "0  North America  public  NaN            2018   \n",
       "1  North America  public  NaN            2018   \n",
       "2  North America  public  C40            2018   \n",
       "3         Europe  public  C40            2018   \n",
       "4         Europe  public  C40            2018   \n",
       "\n",
       "         Risks to city's water supply    Timescale          Magnitude  \\\n",
       "0  Increased water stress or scarcity   Short-term            Serious   \n",
       "1                 Higher water prices      Current            Serious   \n",
       "2  Increased water stress or scarcity  Medium-term  Extremely serious   \n",
       "3  Increased water stress or scarcity      Current  Extremely serious   \n",
       "4             Declining water quality  Medium-term            Serious   \n",
       "\n",
       "                                    Risk description  Current population  \\\n",
       "0  The city depends on one river for water supply...            450182.0   \n",
       "1  The water cost burden is felt across all ZIP c...            450182.0   \n",
       "2                                                NaN           1265974.0   \n",
       "3  The downscaling of the climate projections at ...           1604555.0   \n",
       "4  A reduction in water resources availability  c...           1604555.0   \n",
       "\n",
       "   Population year        City Location  \n",
       "0             2017    (33.749, -84.388)  \n",
       "1             2017    (33.749, -84.388)  \n",
       "2             2017  (30.2672, -97.7431)  \n",
       "3             2015    (41.3823, 2.1775)  \n",
       "4             2015    (41.3823, 2.1775)  "
      ]
     },
     "execution_count": 3,
     "metadata": {},
     "output_type": "execute_result"
    }
   ],
   "source": [
    "cwr.head()"
   ]
  },
  {
   "cell_type": "markdown",
   "id": "dying-wallace",
   "metadata": {},
   "source": [
    "## Normalize columns names"
   ]
  },
  {
   "cell_type": "code",
   "execution_count": 4,
   "id": "patent-retirement",
   "metadata": {},
   "outputs": [],
   "source": [
    "# Convert columns names to lowercase\n",
    "cwa.columns = cwa.columns.str.lower().str.replace(\" \", \"_\").str.replace(\"'\",\"\")\n",
    "cwr.columns = cwr.columns.str.lower().str.replace(\" \", \"_\").str.replace(\"'\",\"\")"
   ]
  },
  {
   "cell_type": "markdown",
   "id": "divided-conditions",
   "metadata": {
    "code_folding": []
   },
   "source": [
    "## Find counts of nulls per column"
   ]
  },
  {
   "cell_type": "code",
   "execution_count": 5,
   "id": "electoral-therapist",
   "metadata": {},
   "outputs": [
    {
     "data": {
      "text/plain": [
       "account_no                       0\n",
       "organisation                     0\n",
       "city                             0\n",
       "country                          0\n",
       "region                           0\n",
       "access                           0\n",
       "c40                            504\n",
       "reporting_year                   0\n",
       "risks_to_citys_water_supply     40\n",
       "timescale                       11\n",
       "magnitude                      159\n",
       "risk_description               107\n",
       "current_population               0\n",
       "population_year                  0\n",
       "city_location                    0\n",
       "dtype: int64"
      ]
     },
     "execution_count": 5,
     "metadata": {},
     "output_type": "execute_result"
    }
   ],
   "source": [
    "cwr.isnull().sum()"
   ]
  },
  {
   "cell_type": "code",
   "execution_count": 6,
   "id": "random-picnic",
   "metadata": {},
   "outputs": [
    {
     "data": {
      "text/plain": [
       "account_no                       0\n",
       "organisation                     0\n",
       "city                             0\n",
       "country                          0\n",
       "region                           0\n",
       "access                           0\n",
       "c40                            536\n",
       "reporting_year                   0\n",
       "risks_to_citys_water_supply     75\n",
       "adaptation_action               19\n",
       "action_description             146\n",
       "city_location                    0\n",
       "dtype: int64"
      ]
     },
     "execution_count": 6,
     "metadata": {},
     "output_type": "execute_result"
    }
   ],
   "source": [
    "cwa.isnull().sum()"
   ]
  },
  {
   "cell_type": "markdown",
   "id": "outer-digest",
   "metadata": {
    "code_folding": []
   },
   "source": [
    "## Find columns that exist in both datasets"
   ]
  },
  {
   "cell_type": "code",
   "execution_count": 7,
   "id": "wrong-natural",
   "metadata": {},
   "outputs": [
    {
     "data": {
      "text/plain": [
       "['region',\n",
       " 'city_location',\n",
       " 'country',\n",
       " 'city',\n",
       " 'c40',\n",
       " 'account_no',\n",
       " 'reporting_year',\n",
       " 'access',\n",
       " 'organisation',\n",
       " 'risks_to_citys_water_supply']"
      ]
     },
     "execution_count": 7,
     "metadata": {},
     "output_type": "execute_result"
    }
   ],
   "source": [
    "id_columns = list(set(cwr.columns) & set(cwa.columns))\n",
    "id_columns"
   ]
  },
  {
   "cell_type": "markdown",
   "id": "invisible-apollo",
   "metadata": {},
   "source": [
    "## Check how many nulls exist in these columns"
   ]
  },
  {
   "cell_type": "code",
   "execution_count": 8,
   "id": "planned-variable",
   "metadata": {},
   "outputs": [
    {
     "data": {
      "text/plain": [
       "region                           0\n",
       "city_location                    0\n",
       "country                          0\n",
       "city                             0\n",
       "c40                            504\n",
       "account_no                       0\n",
       "reporting_year                   0\n",
       "access                           0\n",
       "organisation                     0\n",
       "risks_to_citys_water_supply     40\n",
       "dtype: int64"
      ]
     },
     "execution_count": 8,
     "metadata": {},
     "output_type": "execute_result"
    }
   ],
   "source": [
    "cwr[id_columns].isnull().sum()"
   ]
  },
  {
   "cell_type": "code",
   "execution_count": 9,
   "id": "smaller-riverside",
   "metadata": {},
   "outputs": [
    {
     "data": {
      "text/plain": [
       "region                           0\n",
       "city_location                    0\n",
       "country                          0\n",
       "city                             0\n",
       "c40                            536\n",
       "account_no                       0\n",
       "reporting_year                   0\n",
       "access                           0\n",
       "organisation                     0\n",
       "risks_to_citys_water_supply     75\n",
       "dtype: int64"
      ]
     },
     "execution_count": 9,
     "metadata": {},
     "output_type": "execute_result"
    }
   ],
   "source": [
    "cwa[id_columns].isnull().sum()"
   ]
  },
  {
   "cell_type": "markdown",
   "id": "increased-fight",
   "metadata": {},
   "source": [
    "## Replace nulls there with \"nan\" strings, so that merging is done correctly"
   ]
  },
  {
   "cell_type": "code",
   "execution_count": 10,
   "id": "greek-villa",
   "metadata": {},
   "outputs": [],
   "source": [
    "cwr['c40'] = cwr['c40'] == 'C40'\n",
    "cwr[id_columns] = cwr[id_columns].fillna('nan')"
   ]
  },
  {
   "cell_type": "code",
   "execution_count": 11,
   "id": "distributed-savannah",
   "metadata": {},
   "outputs": [],
   "source": [
    "cwa['c40'] = cwa['c40'] == 'C40'\n",
    "cwa[id_columns] = cwa[id_columns].fillna('nan')"
   ]
  },
  {
   "cell_type": "markdown",
   "id": "artificial-stone",
   "metadata": {},
   "source": [
    "## Check id_columns uniqueness"
   ]
  },
  {
   "cell_type": "code",
   "execution_count": 12,
   "id": "assisted-county",
   "metadata": {},
   "outputs": [
    {
     "data": {
      "text/plain": [
       "(685, 484)"
      ]
     },
     "execution_count": 12,
     "metadata": {},
     "output_type": "execute_result"
    }
   ],
   "source": [
    "len(cwa[id_columns]), len(cwa[id_columns].drop_duplicates())\n"
   ]
  },
  {
   "cell_type": "code",
   "execution_count": 13,
   "id": "experimental-marketplace",
   "metadata": {},
   "outputs": [
    {
     "data": {
      "text/plain": [
       "(608, 578)"
      ]
     },
     "execution_count": 13,
     "metadata": {},
     "output_type": "execute_result"
    }
   ],
   "source": [
    "len(cwr[id_columns]), len(cwr[id_columns].drop_duplicates())"
   ]
  },
  {
   "cell_type": "markdown",
   "id": "offshore-florence",
   "metadata": {},
   "source": [
    "## Aggregate by grouping by id_columns and applying set operations to other colums"
   ]
  },
  {
   "cell_type": "code",
   "execution_count": 14,
   "id": "purple-three",
   "metadata": {},
   "outputs": [],
   "source": [
    "cwa_agg = cwa.groupby(id_columns).agg(set).reset_index()\n",
    "cwr_agg = cwr.groupby(id_columns).agg(set).reset_index()"
   ]
  },
  {
   "cell_type": "code",
   "execution_count": 15,
   "id": "d941807c",
   "metadata": {},
   "outputs": [
    {
     "data": {
      "text/plain": [
       "(484, 484)"
      ]
     },
     "execution_count": 15,
     "metadata": {},
     "output_type": "execute_result"
    }
   ],
   "source": [
    "len(cwa_agg[id_columns]), len(cwa_agg[id_columns].drop_duplicates())"
   ]
  },
  {
   "cell_type": "code",
   "execution_count": 16,
   "id": "f831e0b3",
   "metadata": {},
   "outputs": [
    {
     "data": {
      "text/plain": [
       "(578, 578)"
      ]
     },
     "execution_count": 16,
     "metadata": {},
     "output_type": "execute_result"
    }
   ],
   "source": [
    "len(cwr_agg[id_columns]), len(cwr_agg[id_columns].drop_duplicates())"
   ]
  },
  {
   "cell_type": "markdown",
   "id": "swiss-theory",
   "metadata": {},
   "source": [
    "## Make sure that risks magnitude (which is going to be used as an entry label) has a single value "
   ]
  },
  {
   "cell_type": "code",
   "execution_count": 17,
   "id": "cubic-traffic",
   "metadata": {},
   "outputs": [],
   "source": [
    "cwr_agg.magnitude = cwr_agg.magnitude.apply(lambda x: 'Extremely serious' if 'Extremely serious' in x  else ('Serious' if 'Serious' in x else list(x)[0]))"
   ]
  },
  {
   "cell_type": "code",
   "execution_count": 18,
   "id": "limiting-liabilities",
   "metadata": {},
   "outputs": [
    {
     "data": {
      "text/plain": [
       "array(['Extremely serious', 'Serious', nan, 'Less Serious'], dtype=object)"
      ]
     },
     "execution_count": 18,
     "metadata": {},
     "output_type": "execute_result"
    }
   ],
   "source": [
    "cwr_agg.magnitude.unique()"
   ]
  },
  {
   "cell_type": "markdown",
   "id": "junior-aircraft",
   "metadata": {},
   "source": [
    "## Merge (outer) datasets and find the columns that are set (list_columns)\n",
    "filling the non-merged rows with {np.nan} on list_columns to make sure there is contingency in each column"
   ]
  },
  {
   "cell_type": "code",
   "execution_count": 19,
   "id": "alike-medicare",
   "metadata": {},
   "outputs": [],
   "source": [
    "cw_data = pd.merge(cwa_agg, cwr_agg, on=id_columns, how='outer')\n",
    "list_columns = cw_data.iloc[0].apply(lambda x: isinstance(x, set))\n",
    "list_columns = list_columns[list_columns].index\n",
    "cw_data[list_columns] = cw_data[list_columns].applymap(lambda x: {np.nan} if pd.isna(x) else x)"
   ]
  },
  {
   "cell_type": "code",
   "execution_count": 20,
   "id": "6c4fd441",
   "metadata": {},
   "outputs": [
    {
     "data": {
      "text/plain": [
       "(677, 677)"
      ]
     },
     "execution_count": 20,
     "metadata": {},
     "output_type": "execute_result"
    }
   ],
   "source": [
    "len(cw_data[id_columns]), len(cw_data[id_columns].drop_duplicates())"
   ]
  },
  {
   "cell_type": "code",
   "execution_count": 21,
   "id": "aggressive-dollar",
   "metadata": {},
   "outputs": [
    {
     "data": {
      "text/html": [
       "<div>\n",
       "<style scoped>\n",
       "    .dataframe tbody tr th:only-of-type {\n",
       "        vertical-align: middle;\n",
       "    }\n",
       "\n",
       "    .dataframe tbody tr th {\n",
       "        vertical-align: top;\n",
       "    }\n",
       "\n",
       "    .dataframe thead th {\n",
       "        text-align: right;\n",
       "    }\n",
       "</style>\n",
       "<table border=\"1\" class=\"dataframe\">\n",
       "  <thead>\n",
       "    <tr style=\"text-align: right;\">\n",
       "      <th></th>\n",
       "      <th>region</th>\n",
       "      <th>city_location</th>\n",
       "      <th>country</th>\n",
       "      <th>city</th>\n",
       "      <th>c40</th>\n",
       "      <th>account_no</th>\n",
       "      <th>reporting_year</th>\n",
       "      <th>access</th>\n",
       "      <th>organisation</th>\n",
       "      <th>risks_to_citys_water_supply</th>\n",
       "      <th>adaptation_action</th>\n",
       "      <th>action_description</th>\n",
       "      <th>timescale</th>\n",
       "      <th>magnitude</th>\n",
       "      <th>risk_description</th>\n",
       "      <th>current_population</th>\n",
       "      <th>population_year</th>\n",
       "    </tr>\n",
       "  </thead>\n",
       "  <tbody>\n",
       "    <tr>\n",
       "      <th>0</th>\n",
       "      <td>Africa</td>\n",
       "      <td>(-0.0917, 34.7679)</td>\n",
       "      <td>Kenya</td>\n",
       "      <td>Kisumu</td>\n",
       "      <td>False</td>\n",
       "      <td>60142</td>\n",
       "      <td>2018</td>\n",
       "      <td>public</td>\n",
       "      <td>City of Kisumu</td>\n",
       "      <td>Declining water quality</td>\n",
       "      <td>{Investment in existing water supply infrastru...</td>\n",
       "      <td>{KIWASCo(Kisumu Water Services Company) has in...</td>\n",
       "      <td>{Current}</td>\n",
       "      <td>Extremely serious</td>\n",
       "      <td>{Water quality is threatened by increase in pr...</td>\n",
       "      <td>{968909.0}</td>\n",
       "      <td>{2009}</td>\n",
       "    </tr>\n",
       "    <tr>\n",
       "      <th>1</th>\n",
       "      <td>Africa</td>\n",
       "      <td>(-0.0917, 34.7679)</td>\n",
       "      <td>Kenya</td>\n",
       "      <td>Kisumu</td>\n",
       "      <td>False</td>\n",
       "      <td>60142</td>\n",
       "      <td>2018</td>\n",
       "      <td>public</td>\n",
       "      <td>City of Kisumu</td>\n",
       "      <td>Increased water demand</td>\n",
       "      <td>{Investment in existing water supply infrastru...</td>\n",
       "      <td>{KIWASCo has improved its capacity by decentra...</td>\n",
       "      <td>{Current}</td>\n",
       "      <td>Serious</td>\n",
       "      <td>{There is an increase in water demand due to i...</td>\n",
       "      <td>{968909.0}</td>\n",
       "      <td>{2009}</td>\n",
       "    </tr>\n",
       "    <tr>\n",
       "      <th>2</th>\n",
       "      <td>Africa</td>\n",
       "      <td>(-0.30309, 36.08)</td>\n",
       "      <td>Kenya</td>\n",
       "      <td>Nakuru</td>\n",
       "      <td>False</td>\n",
       "      <td>60140</td>\n",
       "      <td>2018</td>\n",
       "      <td>public</td>\n",
       "      <td>City of Nakuru</td>\n",
       "      <td>Declining water quality</td>\n",
       "      <td>{Efficiency regulations or standards}</td>\n",
       "      <td>{collaboration with Government agencies like t...</td>\n",
       "      <td>{Current}</td>\n",
       "      <td>Serious</td>\n",
       "      <td>{high fluoride content in Nakuru county}</td>\n",
       "      <td>{2038945.0}</td>\n",
       "      <td>{2017}</td>\n",
       "    </tr>\n",
       "    <tr>\n",
       "      <th>3</th>\n",
       "      <td>Africa</td>\n",
       "      <td>(-0.30309, 36.08)</td>\n",
       "      <td>Kenya</td>\n",
       "      <td>Nakuru</td>\n",
       "      <td>False</td>\n",
       "      <td>60140</td>\n",
       "      <td>2018</td>\n",
       "      <td>public</td>\n",
       "      <td>City of Nakuru</td>\n",
       "      <td>Inadequate or aging infrastructure</td>\n",
       "      <td>{Investment in existing water supply infrastru...</td>\n",
       "      <td>{including investment projects in the annual d...</td>\n",
       "      <td>{nan}</td>\n",
       "      <td>NaN</td>\n",
       "      <td>{nan}</td>\n",
       "      <td>{nan}</td>\n",
       "      <td>{nan}</td>\n",
       "    </tr>\n",
       "    <tr>\n",
       "      <th>4</th>\n",
       "      <td>Africa</td>\n",
       "      <td>(-0.30309, 36.08)</td>\n",
       "      <td>Kenya</td>\n",
       "      <td>Nakuru</td>\n",
       "      <td>False</td>\n",
       "      <td>60140</td>\n",
       "      <td>2018</td>\n",
       "      <td>public</td>\n",
       "      <td>City of Nakuru</td>\n",
       "      <td>Increased water stress or scarcity</td>\n",
       "      <td>{Conservation awareness and education}</td>\n",
       "      <td>{environmental education and awareness}</td>\n",
       "      <td>{Current}</td>\n",
       "      <td>Serious</td>\n",
       "      <td>{population increase has led to pressure on th...</td>\n",
       "      <td>{2038945.0}</td>\n",
       "      <td>{2017}</td>\n",
       "    </tr>\n",
       "  </tbody>\n",
       "</table>\n",
       "</div>"
      ],
      "text/plain": [
       "   region       city_location country    city    c40  account_no  \\\n",
       "0  Africa  (-0.0917, 34.7679)   Kenya  Kisumu  False       60142   \n",
       "1  Africa  (-0.0917, 34.7679)   Kenya  Kisumu  False       60142   \n",
       "2  Africa   (-0.30309, 36.08)   Kenya  Nakuru  False       60140   \n",
       "3  Africa   (-0.30309, 36.08)   Kenya  Nakuru  False       60140   \n",
       "4  Africa   (-0.30309, 36.08)   Kenya  Nakuru  False       60140   \n",
       "\n",
       "   reporting_year  access    organisation         risks_to_citys_water_supply  \\\n",
       "0            2018  public  City of Kisumu             Declining water quality   \n",
       "1            2018  public  City of Kisumu              Increased water demand   \n",
       "2            2018  public  City of Nakuru             Declining water quality   \n",
       "3            2018  public  City of Nakuru  Inadequate or aging infrastructure   \n",
       "4            2018  public  City of Nakuru  Increased water stress or scarcity   \n",
       "\n",
       "                                   adaptation_action  \\\n",
       "0  {Investment in existing water supply infrastru...   \n",
       "1  {Investment in existing water supply infrastru...   \n",
       "2              {Efficiency regulations or standards}   \n",
       "3  {Investment in existing water supply infrastru...   \n",
       "4             {Conservation awareness and education}   \n",
       "\n",
       "                                  action_description  timescale  \\\n",
       "0  {KIWASCo(Kisumu Water Services Company) has in...  {Current}   \n",
       "1  {KIWASCo has improved its capacity by decentra...  {Current}   \n",
       "2  {collaboration with Government agencies like t...  {Current}   \n",
       "3  {including investment projects in the annual d...      {nan}   \n",
       "4            {environmental education and awareness}  {Current}   \n",
       "\n",
       "           magnitude                                   risk_description  \\\n",
       "0  Extremely serious  {Water quality is threatened by increase in pr...   \n",
       "1            Serious  {There is an increase in water demand due to i...   \n",
       "2            Serious           {high fluoride content in Nakuru county}   \n",
       "3                NaN                                              {nan}   \n",
       "4            Serious  {population increase has led to pressure on th...   \n",
       "\n",
       "  current_population population_year  \n",
       "0         {968909.0}          {2009}  \n",
       "1         {968909.0}          {2009}  \n",
       "2        {2038945.0}          {2017}  \n",
       "3              {nan}           {nan}  \n",
       "4        {2038945.0}          {2017}  "
      ]
     },
     "execution_count": 21,
     "metadata": {},
     "output_type": "execute_result"
    }
   ],
   "source": [
    "cw_data.head()"
   ]
  },
  {
   "cell_type": "markdown",
   "id": "tropical-healing",
   "metadata": {},
   "source": [
    "## Extract longitude and latitude from city_location"
   ]
  },
  {
   "cell_type": "code",
   "execution_count": 22,
   "id": "accepted-evening",
   "metadata": {},
   "outputs": [
    {
     "data": {
      "text/plain": [
       "(677, 677)"
      ]
     },
     "execution_count": 22,
     "metadata": {},
     "output_type": "execute_result"
    }
   ],
   "source": [
    "cw_data['city_location'] = cw_data['city_location'].apply(eval)\n",
    "cw_data['latitude'] = cw_data['city_location'].apply(lambda x: x[0])\n",
    "cw_data['longitude'] = cw_data['city_location'].apply(lambda x: x[1])\n",
    "id_columns = [x for x in id_columns] + ['latitude','longitude']\n",
    "len(cw_data[id_columns]), len(cw_data[id_columns].drop_duplicates())"
   ]
  },
  {
   "cell_type": "markdown",
   "id": "increasing-swaziland",
   "metadata": {},
   "source": [
    "## Find list columns that are singular (every element contains a length 1 list)"
   ]
  },
  {
   "cell_type": "code",
   "execution_count": 23,
   "id": "clean-chassis",
   "metadata": {},
   "outputs": [
    {
     "data": {
      "text/plain": [
       "(677, 677)"
      ]
     },
     "execution_count": 23,
     "metadata": {},
     "output_type": "execute_result"
    }
   ],
   "source": [
    "cw_value_columns = [ x for x in cw_data.columns if x not in id_columns]\n",
    "# Values that can be converted back to strings from sets\n",
    "\n",
    "singular_cols = cw_data.set_index(id_columns)[list_columns].applymap(lambda x: len(x)==1).product() > 0\n",
    "singular_cols\n",
    "len(cw_data[id_columns]), len(cw_data[id_columns].drop_duplicates())"
   ]
  },
  {
   "cell_type": "markdown",
   "id": "premier-apparel",
   "metadata": {},
   "source": [
    "## Convert singular columns to non list ones"
   ]
  },
  {
   "cell_type": "code",
   "execution_count": 24,
   "id": "concrete-bedroom",
   "metadata": {},
   "outputs": [],
   "source": [
    "# magnitude is nicely singular per id\n",
    "cw_data.loc[:, singular_cols[singular_cols].index] = cw_data.loc[:, singular_cols[singular_cols].index].applymap(lambda x: list(x)[0])\n",
    "list_columns = [x for x in list_columns if x not in singular_cols[singular_cols].index]"
   ]
  },
  {
   "cell_type": "markdown",
   "id": "funded-elder",
   "metadata": {},
   "source": [
    "## Remove entries that are invalid or in different language than English from the list columns\n",
    "**also convert sets to lists**"
   ]
  },
  {
   "cell_type": "code",
   "execution_count": null,
   "id": "corresponding-generic",
   "metadata": {},
   "outputs": [],
   "source": [
    "def try_lang_detect_except(x):\n",
    "    try:\n",
    "        return (langdetect(x)=='en')\n",
    "    except:\n",
    "        return False\n",
    "cw_data = cw_data.applymap(lambda x: [t for t in x if not pd.isnull(t)  and  (t!='') and (t!='ERROR: #NAME?') and try_lang_detect_except(t)] if isinstance(x,set) else x)\n",
    "len(cw_data[id_columns]), len(cw_data[id_columns].drop_duplicates())"
   ]
  },
  {
   "cell_type": "markdown",
   "id": "several-moderator",
   "metadata": {},
   "source": [
    "## Fix specific risks annotations by inspection"
   ]
  },
  {
   "cell_type": "code",
   "execution_count": null,
   "id": "parental-leonard",
   "metadata": {},
   "outputs": [],
   "source": [
    "cw_data.risks_to_citys_water_supply.unique()"
   ]
  },
  {
   "cell_type": "code",
   "execution_count": null,
   "id": "several-receiver",
   "metadata": {},
   "outputs": [],
   "source": [
    "cw_data.risks_to_citys_water_supply = cw_data.risks_to_citys_water_supply.apply(lambda x: x.replace('Inadequate or ageing infrastructure','Inadequate or aging infrastructure'))\n",
    "cw_data['risks_to_citys_water_supply'] = cw_data['risks_to_citys_water_supply'].apply(lambda x: x.replace('Declining water quality: Declining water quality', 'Declining water quality'))\n",
    "cw_data.risks_to_citys_water_supply.unique()\n",
    "len(cw_data[id_columns]), len(cw_data[id_columns].drop_duplicates())"
   ]
  },
  {
   "cell_type": "code",
   "execution_count": null,
   "id": "b69fa26f",
   "metadata": {},
   "outputs": [],
   "source": [
    "cw_data.drop_duplicates(subset=id_columns,inplace=True)"
   ]
  },
  {
   "cell_type": "code",
   "execution_count": null,
   "id": "medium-prairie",
   "metadata": {},
   "outputs": [],
   "source": [
    "cw_data.head()"
   ]
  },
  {
   "cell_type": "code",
   "execution_count": null,
   "id": "b0718b8d",
   "metadata": {},
   "outputs": [],
   "source": [
    "to_drop = ['timescale','current_population','population_year']\n",
    "cw_data['population_year'] = cw_data['population_year'].fillna(0)\n",
    "t = cw_data.sort_values('population_year' ).groupby([x for x in cw_data.columns if (x !='population_year') and x not in list_columns],dropna=False).last().reset_index()"
   ]
  },
  {
   "cell_type": "code",
   "execution_count": null,
   "id": "2c95f221",
   "metadata": {},
   "outputs": [],
   "source": [
    "cw_data"
   ]
  },
  {
   "cell_type": "markdown",
   "id": "occupied-primary",
   "metadata": {},
   "source": [
    "## Drop metadata columns that will not be used"
   ]
  },
  {
   "cell_type": "code",
   "execution_count": null,
   "id": "induced-hardwood",
   "metadata": {},
   "outputs": [],
   "source": [
    "cw_data.drop(columns=['timescale','current_population','population_year'],inplace=True)"
   ]
  },
  {
   "cell_type": "code",
   "execution_count": null,
   "id": "73806d52",
   "metadata": {},
   "outputs": [],
   "source": [
    "len(cw_data[id_columns]), len(cw_data[id_columns].drop_duplicates())"
   ]
  },
  {
   "cell_type": "markdown",
   "id": "bridal-biodiversity",
   "metadata": {},
   "source": [
    "## Generate for each of the  list columns a new one that contains the number of elements\n",
    "**Create value_columns that contains the names of all the list columns + the created ones**"
   ]
  },
  {
   "cell_type": "code",
   "execution_count": null,
   "id": "simple-webmaster",
   "metadata": {},
   "outputs": [],
   "source": [
    "value_columns = set([x for x in cw_value_columns if x not in to_drop] + ['risks_to_citys_water_supply'])\n",
    "list_columns = cw_data.iloc[0].apply(lambda x: isinstance(x, list))\n",
    "list_columns = list_columns[list_columns].index\n",
    "len_columns = set()\n",
    "for x in value_columns.copy():\n",
    "    if x in list_columns:\n",
    "        cw_data[x+'_n'] = cw_data[x].apply(lambda x: len(x) if x else 1)\n",
    "        len_columns.add(x+'_n')\n",
    "value_columns = value_columns.union(len_columns)\n",
    "value_columns"
   ]
  },
  {
   "cell_type": "code",
   "execution_count": null,
   "id": "eb716284",
   "metadata": {},
   "outputs": [],
   "source": [
    "len(cw_data[id_columns]), len(cw_data[id_columns].drop_duplicates())"
   ]
  },
  {
   "cell_type": "markdown",
   "id": "alternative-buddy",
   "metadata": {},
   "source": [
    "# Filter by C40\n",
    "**We are making the assumption that, given that those cities participate in a specific program, they will also have better structured data. So this subset will be used as a reference for the imputation**"
   ]
  },
  {
   "cell_type": "code",
   "execution_count": null,
   "id": "arctic-occurrence",
   "metadata": {},
   "outputs": [],
   "source": [
    "c40_data = cw_data[cw_data['c40']].copy()\n",
    "c40_data.shape"
   ]
  },
  {
   "cell_type": "markdown",
   "id": "second-sunset",
   "metadata": {},
   "source": [
    "## Find the null percentage of list columns"
   ]
  },
  {
   "cell_type": "code",
   "execution_count": null,
   "id": "chief-cause",
   "metadata": {},
   "outputs": [],
   "source": [
    "list_nulls = c40_data[list_columns].applymap(lambda x: len(x) == 0)\n",
    "list_nulls.mean()"
   ]
  },
  {
   "cell_type": "code",
   "execution_count": null,
   "id": "quiet-algorithm",
   "metadata": {},
   "outputs": [],
   "source": [
    "c40_data['magnitude'].unique()"
   ]
  },
  {
   "cell_type": "markdown",
   "id": "intended-carpet",
   "metadata": {},
   "source": [
    "## Create a report of the values of magnitude"
   ]
  },
  {
   "cell_type": "code",
   "execution_count": null,
   "id": "rough-heart",
   "metadata": {},
   "outputs": [],
   "source": [
    "c40_risks = c40_data[id_columns+['magnitude']].copy()\n",
    "c40_risks['low'] = c40_risks['magnitude'] == 'Less Serious'\n",
    "c40_risks['medium'] = c40_risks['magnitude'] == 'Serious'\n",
    "c40_risks['high'] = c40_risks['magnitude'] == 'Extremely serious'\n",
    "c40_risks['unknown'] = c40_risks['magnitude'].isna()\n",
    "c40_risks = c40_risks.drop(columns=['magnitude']).groupby([x for x in id_columns if x!=\"risks_to_citys_water_supply\"]).agg(sum).reset_index()\n",
    "c40_risks"
   ]
  },
  {
   "cell_type": "code",
   "execution_count": null,
   "id": "bronze-script",
   "metadata": {},
   "outputs": [],
   "source": [
    "from sklearn.preprocessing import LabelEncoder"
   ]
  },
  {
   "cell_type": "code",
   "execution_count": null,
   "id": "choice-passing",
   "metadata": {},
   "outputs": [],
   "source": [
    "from utils.nlp import SimilarityAnalysis, create_sim_vector"
   ]
  },
  {
   "cell_type": "code",
   "execution_count": null,
   "id": "rubber-uganda",
   "metadata": {},
   "outputs": [],
   "source": [
    "c40_data.risks_to_citys_water_supply = c40_data.risks_to_citys_water_supply.apply(lambda x: np.nan if x=='nan' else x)"
   ]
  },
  {
   "cell_type": "code",
   "execution_count": null,
   "id": "latter-columbia",
   "metadata": {},
   "outputs": [],
   "source": [
    "c40_data[c40_data.risks_to_citys_water_supply.isnull()]"
   ]
  },
  {
   "cell_type": "code",
   "execution_count": null,
   "id": "placed-refund",
   "metadata": {},
   "outputs": [],
   "source": [
    "c40_data.risks_to_citys_water_supply.unique()"
   ]
  },
  {
   "cell_type": "markdown",
   "id": "large-concert",
   "metadata": {},
   "source": [
    "## Fit Similarity Analysis\n",
    "**per string list column of the value columns, by concatenating strings together. Vectorize all the string list columns based on their in between similarities**\n"
   ]
  },
  {
   "cell_type": "code",
   "execution_count": null,
   "id": "interior-share",
   "metadata": {},
   "outputs": [],
   "source": [
    "analyses = {x:SimilarityAnalysis() for x in value_columns if x in list_columns}"
   ]
  },
  {
   "cell_type": "code",
   "execution_count": null,
   "id": "american-journalism",
   "metadata": {},
   "outputs": [],
   "source": [
    "vectorized = np.hstack([analyses[x].fit_transform(c40_data[x]) for x in analyses])"
   ]
  },
  {
   "cell_type": "markdown",
   "id": "hourly-tractor",
   "metadata": {},
   "source": [
    "## Encode magnitude and risks into numerical labels"
   ]
  },
  {
   "cell_type": "code",
   "execution_count": null,
   "id": "domestic-virus",
   "metadata": {},
   "outputs": [],
   "source": [
    "cols_to_encode =  [x for x in value_columns if x not in list_columns and x not in len_columns]\n",
    "c40_data[cols_to_encode] = c40_data[cols_to_encode].fillna('nan')\n",
    "encoders = {x:LabelEncoder() for x in cols_to_encode}"
   ]
  },
  {
   "cell_type": "code",
   "execution_count": null,
   "id": "dress-remark",
   "metadata": {},
   "outputs": [],
   "source": [
    "encoded = np.array([encoders[x].fit_transform(c40_data[x]) for x in cols_to_encode]).T.astype(float)\n",
    "for t in range(len(cols_to_encode)):\n",
    "    encoded[encoded[:,t] == np.where(encoders[cols_to_encode[t]].classes_=='nan')[0],t] = np.nan"
   ]
  },
  {
   "cell_type": "code",
   "execution_count": null,
   "id": "amazing-dining",
   "metadata": {},
   "outputs": [],
   "source": [
    "lab_freqs = c40_data[cols_to_encode].groupby(cols_to_encode,as_index=False).size()\n",
    "lab_freqs"
   ]
  },
  {
   "cell_type": "markdown",
   "id": "thorough-iraqi",
   "metadata": {},
   "source": [
    "## Create dataset that contains the encoded labels, the vectorized columns and the columns referring the lists lengths"
   ]
  },
  {
   "cell_type": "code",
   "execution_count": null,
   "id": "curious-actress",
   "metadata": {},
   "outputs": [],
   "source": [
    "whole = np.hstack([encoded, vectorized, c40_data[len_columns]])"
   ]
  },
  {
   "cell_type": "code",
   "execution_count": null,
   "id": "neutral-hamilton",
   "metadata": {},
   "outputs": [],
   "source": [
    "import sys\n",
    "sys.path.append('..')\n",
    "from labeled_preprocessing.imputation import LabeledDatasetImputer"
   ]
  },
  {
   "cell_type": "markdown",
   "id": "careful-burner",
   "metadata": {},
   "source": [
    "## Fit LabeledDatasetImputer and transform dataset\n",
    "**(LabeledDatasetImputer is a union of two Iterative Imputers , one for labels and one for features)**"
   ]
  },
  {
   "cell_type": "code",
   "execution_count": null,
   "id": "mineral-opera",
   "metadata": {},
   "outputs": [],
   "source": [
    "imputer = LabeledDatasetImputer(verbose=2,k_features_per_label=0, seed=seed)\n",
    "continuous_imputed, y = imputer.fit_transform(whole[:,2:], whole[:,:2], ret_imputed_x=True)"
   ]
  },
  {
   "cell_type": "markdown",
   "id": "greek-fence",
   "metadata": {},
   "source": [
    "## Use the prediction power on the imputed data as measurement of coherent imputation."
   ]
  },
  {
   "cell_type": "code",
   "execution_count": null,
   "id": "electrical-singles",
   "metadata": {},
   "outputs": [],
   "source": [
    "from sklearn.svm import SVC\n",
    "from sklearn.linear_model import LogisticRegression\n",
    "from sklearn.preprocessing import StandardScaler\n",
    "from sklearn.model_selection import cross_val_score\n",
    "from sklearn.preprocessing import StandardScaler\n",
    "from sklearn.pipeline import make_pipeline\n",
    "simple_model = make_pipeline(StandardScaler(), SVC(kernel='linear', C=0.01, random_state=seed))\n",
    "scoring = 'accuracy' \n",
    "scores = cross_val_score(simple_model, continuous_imputed, y[:,cols_to_encode.index('magnitude')], cv=5,scoring=scoring)\n",
    "np.mean(scores)"
   ]
  },
  {
   "cell_type": "markdown",
   "id": "champion-provincial",
   "metadata": {},
   "source": [
    "## Plot features correlation"
   ]
  },
  {
   "cell_type": "code",
   "execution_count": null,
   "id": "advised-hearts",
   "metadata": {},
   "outputs": [],
   "source": [
    "import matplotlib.pyplot as plt\n",
    "flg = np.all(~np.isnan(whole),axis=1), np.hstack([[True, True], imputer.selection_mask[:]])\n",
    "corr = np.corrcoef(whole[flg[0],:][:,flg[1]].T)\n",
    "print(corr.shape)\n",
    "plt.matshow(corr)"
   ]
  },
  {
   "cell_type": "markdown",
   "id": "growing-leave",
   "metadata": {},
   "source": [
    "## Retrieve the categorical imputed labels"
   ]
  },
  {
   "cell_type": "code",
   "execution_count": null,
   "id": "transparent-underwear",
   "metadata": {},
   "outputs": [],
   "source": [
    "imputed = np.array([\n",
    "    encoders[x].inverse_transform(\n",
    "    y[:, c].astype(int)\n",
    " ) for c,x in enumerate(cols_to_encode)]).T"
   ]
  },
  {
   "cell_type": "code",
   "execution_count": null,
   "id": "impaired-madison",
   "metadata": {},
   "outputs": [],
   "source": [
    "c40_data_imputed = c40_data.copy()"
   ]
  },
  {
   "cell_type": "code",
   "execution_count": null,
   "id": "steady-wedding",
   "metadata": {},
   "outputs": [],
   "source": [
    "c40_data_imputed[cols_to_encode] = imputed"
   ]
  },
  {
   "cell_type": "code",
   "execution_count": null,
   "id": "driven-correlation",
   "metadata": {},
   "outputs": [],
   "source": [
    "c40_data_imputed.head()"
   ]
  },
  {
   "cell_type": "markdown",
   "id": "infrared-speaker",
   "metadata": {},
   "source": [
    "## Find which labels  have been updated after imputation"
   ]
  },
  {
   "cell_type": "code",
   "execution_count": null,
   "id": "dominican-postage",
   "metadata": {},
   "outputs": [],
   "source": [
    "imp_lab_freqs = c40_data_imputed[cols_to_encode].groupby(cols_to_encode,as_index=False).size()\n",
    "imp_ret = pd.merge(lab_freqs, imp_lab_freqs,suffixes=('','_imp'), how='right',on=cols_to_encode)\n",
    "imp_ret['increase'] = (imp_ret['size_imp'] - imp_ret['size'])/imp_ret['size']\n",
    "imp_ret"
   ]
  },
  {
   "cell_type": "markdown",
   "id": "comfortable-cannon",
   "metadata": {},
   "source": [
    "## Make sure that all risks have been encoded and are imputation outcome candidates "
   ]
  },
  {
   "cell_type": "code",
   "execution_count": null,
   "id": "sixth-monster",
   "metadata": {},
   "outputs": [],
   "source": [
    "set([x for x in cw_data['risks_to_citys_water_supply'] if x not in encoders['risks_to_citys_water_supply'].classes_])"
   ]
  },
  {
   "cell_type": "markdown",
   "id": "suffering-recommendation",
   "metadata": {},
   "source": [
    "# Impute whole dataset"
   ]
  },
  {
   "cell_type": "code",
   "execution_count": null,
   "id": "artistic-baker",
   "metadata": {},
   "outputs": [],
   "source": [
    "cw_data['risks_to_citys_water_supply'].value_counts()"
   ]
  },
  {
   "cell_type": "markdown",
   "id": "accepted-greenhouse",
   "metadata": {},
   "source": [
    "## Apply encoding and vectorization\n",
    "**based on fitted encoders and SimilarityAnalysis objects**"
   ]
  },
  {
   "cell_type": "code",
   "execution_count": null,
   "id": "similar-memorial",
   "metadata": {},
   "outputs": [],
   "source": [
    "cw_data[cols_to_encode] = cw_data[cols_to_encode].fillna('nan')\n",
    "encoded = np.array([encoders[x].transform(cw_data[x]) for x in cols_to_encode]).T.astype(float)\n",
    "for t in range(len(cols_to_encode)):\n",
    "    encoded[encoded[:,t] == np.where(encoders[cols_to_encode[t]].classes_=='nan')[0],t] = np.nan"
   ]
  },
  {
   "cell_type": "code",
   "execution_count": null,
   "id": "fewer-extension",
   "metadata": {},
   "outputs": [],
   "source": [
    "all_vectorized = np.hstack([analyses[x].transform(cw_data[x]) for x in value_columns if x in list_columns])"
   ]
  },
  {
   "cell_type": "markdown",
   "id": "ordinary-honolulu",
   "metadata": {},
   "source": [
    "## Apply imputation\n",
    "**using the trained imputer**"
   ]
  },
  {
   "cell_type": "code",
   "execution_count": null,
   "id": "competent-encounter",
   "metadata": {},
   "outputs": [],
   "source": [
    "all_imputed_x, all_imputed_y  = imputer.transform(np.hstack([all_vectorized,cw_data[len_columns]]), encoded, ret_imputed_x=True)"
   ]
  },
  {
   "cell_type": "code",
   "execution_count": null,
   "id": "several-parts",
   "metadata": {},
   "outputs": [],
   "source": [
    "all_imputed_y_dec = np.array([\n",
    "    encoders[x].inverse_transform(\n",
    "    all_imputed_y[:, c].astype(int)\n",
    " ) for c,x in enumerate(cols_to_encode)]).T"
   ]
  },
  {
   "cell_type": "code",
   "execution_count": null,
   "id": "131fd935",
   "metadata": {},
   "outputs": [],
   "source": [
    "len(cw_data[id_columns]), len(cw_data[id_columns].drop_duplicates())"
   ]
  },
  {
   "cell_type": "code",
   "execution_count": null,
   "id": "quiet-transsexual",
   "metadata": {},
   "outputs": [],
   "source": [
    "cw_data_imputed = cw_data.copy()\n",
    "cw_data_imputed[cols_to_encode] = all_imputed_y_dec\n",
    "cw_data_imputed.drop_duplicates(id_columns,inplace=True)"
   ]
  },
  {
   "cell_type": "markdown",
   "id": "brilliant-hunger",
   "metadata": {},
   "source": [
    "## Plot features correlation"
   ]
  },
  {
   "cell_type": "code",
   "execution_count": null,
   "id": "lightweight-process",
   "metadata": {},
   "outputs": [],
   "source": [
    "import matplotlib.pyplot as plt\n",
    "corr = np.corrcoef(np.hstack([all_imputed_y, all_imputed_x]).T)\n",
    "print(corr.shape)\n",
    "plt.matshow(corr)"
   ]
  },
  {
   "cell_type": "code",
   "execution_count": null,
   "id": "unsigned-rendering",
   "metadata": {},
   "outputs": [],
   "source": [
    "scores = cross_val_score(simple_model, all_imputed_x, all_imputed_y[:,cols_to_encode.index('magnitude')], cv=5,scoring=scoring)\n",
    "np.mean(scores)"
   ]
  },
  {
   "cell_type": "markdown",
   "id": "inclusive-cycle",
   "metadata": {},
   "source": [
    "**The score did not have significant drop, so we can assume that the imputation was cohesive across data**"
   ]
  },
  {
   "cell_type": "markdown",
   "id": "accurate-regulation",
   "metadata": {},
   "source": [
    "## Create output dataset"
   ]
  },
  {
   "cell_type": "code",
   "execution_count": null,
   "id": "broad-sending",
   "metadata": {},
   "outputs": [],
   "source": [
    "final_labeled_data = cw_data_imputed[['city','latitude','longitude','country','c40','region','magnitude','risks_to_citys_water_supply']].copy()\n",
    "final_labeled_data.rename(columns={'magnitude': 'risk','risks_to_citys_water_supply': 'description'},inplace=True)\n"
   ]
  },
  {
   "cell_type": "code",
   "execution_count": null,
   "id": "173dac3f",
   "metadata": {},
   "outputs": [],
   "source": [
    "final_labeled_data[['city','latitude','longitude','c40', 'region','description','risk']]"
   ]
  },
  {
   "cell_type": "code",
   "execution_count": null,
   "id": "0dddda91",
   "metadata": {},
   "outputs": [],
   "source": [
    "cw_data_imputed[id_columns].drop_duplicates().shape"
   ]
  },
  {
   "cell_type": "markdown",
   "id": "2e80c0b3",
   "metadata": {},
   "source": [
    "## Pivoting risks description, so that each row is unique per city"
   ]
  },
  {
   "cell_type": "code",
   "execution_count": null,
   "id": "89dfa37f",
   "metadata": {},
   "outputs": [],
   "source": [
    "risks = final_labeled_data.description.unique()\n",
    "risks_description = {risk: f'risk{c}' for c,risk in enumerate(risks)}\n",
    "risks_df = pd.Series(risks_description).to_frame()\n",
    "risks_df.reset_index(inplace=True)\n",
    "risks_df.columns=['description','code']\n",
    "final_labeled_data['description'] = final_labeled_data['description'].apply(lambda x: risks_description[x])\n",
    "risks_df"
   ]
  },
  {
   "cell_type": "code",
   "execution_count": null,
   "id": "strategic-basics",
   "metadata": {},
   "outputs": [],
   "source": [
    "final_labeled_data = final_labeled_data.pivot(index=['city','latitude','longitude','c40', 'country'], columns='description', values='risk').reset_index()"
   ]
  },
  {
   "cell_type": "markdown",
   "id": "50285890",
   "metadata": {},
   "source": [
    "## Encode risks from 0 to 1"
   ]
  },
  {
   "cell_type": "code",
   "execution_count": null,
   "id": "a6c44801",
   "metadata": {},
   "outputs": [],
   "source": [
    "severity_mapping = {'Less Serious':1, \"Serious\":2, 'Extremely serious':3}\n",
    "pd.DataFrame([severity_mapping]).to_csv(SEVERITY_MAPPING_PATH,index=False)\n",
    "nrisks = list(risks_description.values())\n",
    "final_labeled_data[nrisks] = final_labeled_data[nrisks].replace(severity_mapping)"
   ]
  },
  {
   "cell_type": "markdown",
   "id": "f0ba49a2",
   "metadata": {},
   "source": [
    "### Add 0 to risks belonging to C40, assuming that those have reported no risks because indeed they were none, not because they were unknown"
   ]
  },
  {
   "cell_type": "code",
   "execution_count": null,
   "id": "0379b06b",
   "metadata": {},
   "outputs": [],
   "source": [
    "final_labeled_data.loc[final_labeled_data['c40'], nrisks] = final_labeled_data.loc[final_labeled_data['c40'], nrisks].fillna(0)"
   ]
  },
  {
   "cell_type": "code",
   "execution_count": null,
   "id": "cbc1ffdc",
   "metadata": {},
   "outputs": [],
   "source": [
    "final_labeled_data.to_csv(LABELED_CITIES_PATH,index=False)\n",
    "risks_df.to_csv(RISKS_MAPPING_PATH,index=False)"
   ]
  },
  {
   "cell_type": "code",
   "execution_count": null,
   "id": "707af16e",
   "metadata": {},
   "outputs": [],
   "source": [
    "final_labeled_data.head()"
   ]
  },
  {
   "cell_type": "markdown",
   "id": "round-rebecca",
   "metadata": {},
   "source": [
    "## See a report of the filled labels"
   ]
  },
  {
   "cell_type": "code",
   "execution_count": null,
   "id": "entertaining-pittsburgh",
   "metadata": {},
   "outputs": [],
   "source": [
    "cw_lab_freqs = cw_data[cols_to_encode].groupby(cols_to_encode,as_index=False).size()\n",
    "imp_cw_lab_freqs = cw_data_imputed[cols_to_encode].groupby(cols_to_encode,as_index=False).size()\n",
    "imp_cw_ret = pd.merge(cw_lab_freqs, imp_cw_lab_freqs,suffixes=('','_imp'), how='right',on=cols_to_encode)\n",
    "imp_cw_ret['increase'] = (imp_cw_ret['size_imp'] - imp_cw_ret['size'])/imp_cw_ret['size']\n",
    "imp_cw_ret"
   ]
  },
  {
   "cell_type": "code",
   "execution_count": null,
   "id": "transsexual-basket",
   "metadata": {},
   "outputs": [],
   "source": [
    "imp_report = pd.merge(imp_cw_ret, imp_ret, suffixes=('','_c40'), on=('magnitude','risks_to_citys_water_supply'))\n",
    "imp_report.to_csv(IMPUTATION_REPORT_PATH,index=False)\n",
    "imp_report"
   ]
  },
  {
   "cell_type": "code",
   "execution_count": null,
   "id": "3e0b4d8b",
   "metadata": {},
   "outputs": [],
   "source": []
  }
 ],
 "metadata": {
  "kernelspec": {
   "display_name": "ModernDataAnalytics",
   "language": "python",
   "name": "moderndataanalytics"
  },
  "language_info": {
   "codemirror_mode": {
    "name": "ipython",
    "version": 3
   },
   "file_extension": ".py",
   "mimetype": "text/x-python",
   "name": "python",
   "nbconvert_exporter": "python",
   "pygments_lexer": "ipython3",
   "version": "3.8.5"
  },
  "metadata": {
   "interpreter": {
    "hash": "74905c4939b262e512741e85af8f82fbf8a44b758a4e9912bb800c91ae581740"
   }
  }
 },
 "nbformat": 4,
 "nbformat_minor": 5
}
