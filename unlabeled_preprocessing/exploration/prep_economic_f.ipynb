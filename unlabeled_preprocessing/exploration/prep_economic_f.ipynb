{
 "metadata": {
  "language_info": {
   "codemirror_mode": {
    "name": "ipython",
    "version": 3
   },
   "file_extension": ".py",
   "mimetype": "text/x-python",
   "name": "python",
   "nbconvert_exporter": "python",
   "pygments_lexer": "ipython3",
   "version": "3.7.4"
  },
  "orig_nbformat": 2,
  "kernelspec": {
   "name": "pythonjvsc74a57bd0dca0ade3e726a953b501b15e8e990130d2b7799f14cfd9f4271676035ebe5511",
   "display_name": "Python 3.7.4 64-bit ('base': conda)"
  }
 },
 "nbformat": 4,
 "nbformat_minor": 2,
 "cells": [
  {
   "source": [
    "import pandas as pd"
   ],
   "cell_type": "code",
   "metadata": {},
   "execution_count": 29,
   "outputs": []
  },
  {
   "cell_type": "code",
   "execution_count": 30,
   "metadata": {},
   "outputs": [
    {
     "output_type": "stream",
     "name": "stdout",
     "text": [
      "Country.csv  Data.csv     Prep.ipynb   Series.csv\n"
     ]
    }
   ],
   "source": [
    "ls"
   ]
  },
  {
   "cell_type": "code",
   "execution_count": 198,
   "metadata": {},
   "outputs": [
    {
     "output_type": "execute_result",
     "data": {
      "text/plain": [
       "(149, 32)"
      ]
     },
     "metadata": {},
     "execution_count": 198
    }
   ],
   "source": [
    "df1 = pd.read_csv (r\"Country.csv\")\n",
    "df1.shape"
   ]
  },
  {
   "cell_type": "code",
   "execution_count": 199,
   "metadata": {},
   "outputs": [],
   "source": [
    "def dropColumnHalf(df):\n",
    "    df.dropna(thresh=len(df1.index)/2, axis=1, inplace=True)"
   ]
  },
  {
   "cell_type": "code",
   "execution_count": 200,
   "metadata": {},
   "outputs": [
    {
     "output_type": "execute_result",
     "data": {
      "text/plain": [
       "(149, 27)"
      ]
     },
     "metadata": {},
     "execution_count": 200
    }
   ],
   "source": [
    "dropColumnHalf(df1)\n",
    "df1.shape"
   ]
  },
  {
   "cell_type": "code",
   "execution_count": 201,
   "metadata": {},
   "outputs": [
    {
     "output_type": "execute_result",
     "data": {
      "text/plain": [
       "(298, 26)"
      ]
     },
     "metadata": {},
     "execution_count": 201
    }
   ],
   "source": [
    "df2 = pd.read_csv (r\"Data.csv\")\n",
    "trial = pd.read_csv (r\"Data.csv\")\n",
    "df2.shape"
   ]
  },
  {
   "cell_type": "code",
   "execution_count": 202,
   "metadata": {},
   "outputs": [
    {
     "output_type": "execute_result",
     "data": {
      "text/plain": [
       "(298, 25)"
      ]
     },
     "metadata": {},
     "execution_count": 202
    }
   ],
   "source": [
    "dropColumnHalf(df2)\n",
    "df2.shape"
   ]
  },
  {
   "cell_type": "code",
   "execution_count": 203,
   "metadata": {},
   "outputs": [
    {
     "output_type": "stream",
     "name": "stdout",
     "text": [
      "Index(['Country Name', 'Country Code', 'Indicator Name', 'Indicator Code',\n       '1995', '1996', '1997', '1998', '1999', '2000', '2001', '2002', '2003',\n       '2004', '2005', '2006', '2007', '2008', '2009', '2010', '2011', '2012',\n       '2013', '2014', '2015'],\n      dtype='object')\n"
     ]
    }
   ],
   "source": [
    "print(df2.columns)"
   ]
  },
  {
   "cell_type": "code",
   "execution_count": 204,
   "metadata": {},
   "outputs": [
    {
     "output_type": "execute_result",
     "data": {
      "text/plain": [
       "(298, 26)"
      ]
     },
     "metadata": {},
     "execution_count": 204
    }
   ],
   "source": [
    "trial.drop('Country Name', inplace=True, axis=1)\n",
    "trial.drop('Country Code', inplace=True, axis=1)\n",
    "trial.drop('Indicator Name', inplace=True, axis=1)\n",
    "trial.drop('Indicator Code', inplace=True, axis=1)\n",
    "\n",
    "df2['Numbers'] = trial.to_dict(\"records\")\n",
    "df2.shape"
   ]
  },
  {
   "cell_type": "code",
   "execution_count": 205,
   "metadata": {},
   "outputs": [
    {
     "output_type": "execute_result",
     "data": {
      "text/plain": [
       "(298, 5)"
      ]
     },
     "metadata": {},
     "execution_count": 205
    }
   ],
   "source": [
    "cols = [c for c in df2.columns if c.lower()[0] != '1']\n",
    "df2 = df2[cols]\n",
    "cols = [c for c in df2.columns if c.lower()[0] != '2']\n",
    "df2 = df2[cols]\n",
    "df2.shape\n"
   ]
  },
  {
   "cell_type": "code",
   "execution_count": 206,
   "metadata": {},
   "outputs": [
    {
     "output_type": "stream",
     "name": "stdout",
     "text": [
      "(149, 27)\n(298, 5)\n"
     ]
    }
   ],
   "source": [
    "print(df1.shape)\n",
    "print(df2.shape)"
   ]
  },
  {
   "cell_type": "code",
   "execution_count": 207,
   "metadata": {},
   "outputs": [],
   "source": [
    "comb1 = df1.merge(df2, how='inner', left_on='Country Code', right_on='Country Code')"
   ]
  },
  {
   "cell_type": "code",
   "execution_count": 208,
   "metadata": {},
   "outputs": [
    {
     "output_type": "stream",
     "name": "stdout",
     "text": [
      "Index(['Country Code', 'Short Name', 'Table Name', 'Long Name', '2-alpha code',\n       'Currency Unit', 'Special Notes', 'Region', 'Income Group', 'WB-2 code',\n       'National accounts base year', 'SNA price valuation',\n       'Lending category', 'System of National Accounts', 'PPP survey year',\n       'Balance of Payments Manual in use', 'External debt Reporting status',\n       'System of trade', 'Government Accounting concept',\n       'IMF data dissemination standard', 'Latest population census',\n       'Latest household survey',\n       'Source of most recent Income and expenditure data',\n       'Latest agricultural census', 'Latest industrial data',\n       'Latest trade data', 'Latest water withdrawal data', 'Country Name',\n       'Indicator Name', 'Indicator Code', 'Numbers'],\n      dtype='object')\n(298, 31)\n"
     ]
    }
   ],
   "source": [
    "print(comb1.columns)\n",
    "print(comb1.shape)"
   ]
  },
  {
   "cell_type": "code",
   "execution_count": 209,
   "metadata": {},
   "outputs": [
    {
     "output_type": "stream",
     "name": "stdout",
     "text": [
      "(2, 21)\n"
     ]
    }
   ],
   "source": [
    "df3 = pd.read_csv (r\"Series.csv\")\n",
    "print(df3.shape)"
   ]
  },
  {
   "cell_type": "code",
   "execution_count": 210,
   "metadata": {},
   "outputs": [
    {
     "output_type": "display_data",
     "data": {
      "text/plain": "      Series Code                   Topic  \\\n0  EF.EFM.OVRL.XD  Economic Policy & Debt   \n1  EF.EFM.RANK.XD  Economic Policy & Debt   \n\n                                   Indicator Name  Short definition  \\\n0                         Economic Fitness Metric               NaN   \n1  Economic Fitness Ranking (1 = high, 149 = low)               NaN   \n\n                                     Long definition  Unit of measure  \\\n0  Economic Fitness (EF) is both a measure of a c...              NaN   \n1                                                NaN              NaN   \n\n  Periodicity  Base Period  Other notes  Aggregation method  ...  \\\n0      Annual          NaN          NaN                 NaN  ...   \n1      Annual          NaN          NaN                 NaN  ...   \n\n  Notes from original source  General comments  \\\n0                        NaN               NaN   \n1                        NaN               NaN   \n\n                                              Source  \\\n0  World Bank, Economic Fitness project. For more...   \n1  World Bank, Economic Fitness project. For more...   \n\n                 Statistical concept and methodology Development relevance  \\\n0  The new literature of Economic Fitness uses te...                   NaN   \n1  The new literature of Economic Fitness uses te...                   NaN   \n\n   Related source links  Other web links  Related indicators  License Type  \\\n0                   NaN              NaN                 NaN           NaN   \n1                   NaN              NaN                 NaN           NaN   \n\n   Unnamed: 20  \n0          NaN  \n1          NaN  \n\n[2 rows x 21 columns]",
      "text/html": "<div>\n<style scoped>\n    .dataframe tbody tr th:only-of-type {\n        vertical-align: middle;\n    }\n\n    .dataframe tbody tr th {\n        vertical-align: top;\n    }\n\n    .dataframe thead th {\n        text-align: right;\n    }\n</style>\n<table border=\"1\" class=\"dataframe\">\n  <thead>\n    <tr style=\"text-align: right;\">\n      <th></th>\n      <th>Series Code</th>\n      <th>Topic</th>\n      <th>Indicator Name</th>\n      <th>Short definition</th>\n      <th>Long definition</th>\n      <th>Unit of measure</th>\n      <th>Periodicity</th>\n      <th>Base Period</th>\n      <th>Other notes</th>\n      <th>Aggregation method</th>\n      <th>...</th>\n      <th>Notes from original source</th>\n      <th>General comments</th>\n      <th>Source</th>\n      <th>Statistical concept and methodology</th>\n      <th>Development relevance</th>\n      <th>Related source links</th>\n      <th>Other web links</th>\n      <th>Related indicators</th>\n      <th>License Type</th>\n      <th>Unnamed: 20</th>\n    </tr>\n  </thead>\n  <tbody>\n    <tr>\n      <td>0</td>\n      <td>EF.EFM.OVRL.XD</td>\n      <td>Economic Policy &amp; Debt</td>\n      <td>Economic Fitness Metric</td>\n      <td>NaN</td>\n      <td>Economic Fitness (EF) is both a measure of a c...</td>\n      <td>NaN</td>\n      <td>Annual</td>\n      <td>NaN</td>\n      <td>NaN</td>\n      <td>NaN</td>\n      <td>...</td>\n      <td>NaN</td>\n      <td>NaN</td>\n      <td>World Bank, Economic Fitness project. For more...</td>\n      <td>The new literature of Economic Fitness uses te...</td>\n      <td>NaN</td>\n      <td>NaN</td>\n      <td>NaN</td>\n      <td>NaN</td>\n      <td>NaN</td>\n      <td>NaN</td>\n    </tr>\n    <tr>\n      <td>1</td>\n      <td>EF.EFM.RANK.XD</td>\n      <td>Economic Policy &amp; Debt</td>\n      <td>Economic Fitness Ranking (1 = high, 149 = low)</td>\n      <td>NaN</td>\n      <td>NaN</td>\n      <td>NaN</td>\n      <td>Annual</td>\n      <td>NaN</td>\n      <td>NaN</td>\n      <td>NaN</td>\n      <td>...</td>\n      <td>NaN</td>\n      <td>NaN</td>\n      <td>World Bank, Economic Fitness project. For more...</td>\n      <td>The new literature of Economic Fitness uses te...</td>\n      <td>NaN</td>\n      <td>NaN</td>\n      <td>NaN</td>\n      <td>NaN</td>\n      <td>NaN</td>\n      <td>NaN</td>\n    </tr>\n  </tbody>\n</table>\n<p>2 rows × 21 columns</p>\n</div>"
     },
     "metadata": {}
    }
   ],
   "source": [
    "display(df3)"
   ]
  },
  {
   "cell_type": "code",
   "execution_count": 211,
   "metadata": {},
   "outputs": [
    {
     "output_type": "stream",
     "name": "stdout",
     "text": [
      "(298, 52)\n(298, 39)\n"
     ]
    }
   ],
   "source": [
    "comb2 = comb1.merge(df3, how='inner', left_on='Indicator Code', right_on='Series Code')\n",
    "print(comb2.shape)\n",
    "dropColumnHalf(comb2)\n",
    "print(comb2.shape)"
   ]
  },
  {
   "cell_type": "code",
   "execution_count": 212,
   "metadata": {},
   "outputs": [
    {
     "output_type": "execute_result",
     "data": {
      "text/plain": [
       "Index(['Country Code', 'Short Name', 'Table Name', 'Long Name', '2-alpha code',\n",
       "       'Currency Unit', 'Special Notes', 'Region', 'Income Group', 'WB-2 code',\n",
       "       'National accounts base year', 'SNA price valuation',\n",
       "       'Lending category', 'System of National Accounts', 'PPP survey year',\n",
       "       'Balance of Payments Manual in use', 'External debt Reporting status',\n",
       "       'System of trade', 'Government Accounting concept',\n",
       "       'IMF data dissemination standard', 'Latest population census',\n",
       "       'Latest household survey',\n",
       "       'Source of most recent Income and expenditure data',\n",
       "       'Latest agricultural census', 'Latest industrial data',\n",
       "       'Latest trade data', 'Latest water withdrawal data', 'Country Name',\n",
       "       'Indicator Name_x', 'Indicator Code', 'Numbers', 'Series Code', 'Topic',\n",
       "       'Indicator Name_y', 'Long definition', 'Periodicity',\n",
       "       'Limitations and exceptions', 'Source',\n",
       "       'Statistical concept and methodology'],\n",
       "      dtype='object')"
      ]
     },
     "metadata": {},
     "execution_count": 212
    }
   ],
   "source": [
    "comb2.columns"
   ]
  },
  {
   "cell_type": "code",
   "execution_count": 213,
   "metadata": {},
   "outputs": [
    {
     "output_type": "execute_result",
     "data": {
      "text/plain": [
       "0      EF.EFM.OVRL.XD\n",
       "1      EF.EFM.OVRL.XD\n",
       "2      EF.EFM.OVRL.XD\n",
       "3      EF.EFM.OVRL.XD\n",
       "4      EF.EFM.OVRL.XD\n",
       "            ...      \n",
       "293    EF.EFM.RANK.XD\n",
       "294    EF.EFM.RANK.XD\n",
       "295    EF.EFM.RANK.XD\n",
       "296    EF.EFM.RANK.XD\n",
       "297    EF.EFM.RANK.XD\n",
       "Name: Indicator Code, Length: 298, dtype: object"
      ]
     },
     "metadata": {},
     "execution_count": 213
    }
   ],
   "source": [
    "comb2['Indicator Code']"
   ]
  },
  {
   "cell_type": "code",
   "execution_count": 214,
   "metadata": {},
   "outputs": [
    {
     "output_type": "execute_result",
     "data": {
      "text/plain": [
       "0      EF.EFM.OVRL.XD\n",
       "1      EF.EFM.OVRL.XD\n",
       "2      EF.EFM.OVRL.XD\n",
       "3      EF.EFM.OVRL.XD\n",
       "4      EF.EFM.OVRL.XD\n",
       "            ...      \n",
       "293    EF.EFM.RANK.XD\n",
       "294    EF.EFM.RANK.XD\n",
       "295    EF.EFM.RANK.XD\n",
       "296    EF.EFM.RANK.XD\n",
       "297    EF.EFM.RANK.XD\n",
       "Name: Series Code, Length: 298, dtype: object"
      ]
     },
     "metadata": {},
     "execution_count": 214
    }
   ],
   "source": [
    "comb2['Series Code']"
   ]
  },
  {
   "cell_type": "code",
   "execution_count": 215,
   "metadata": {},
   "outputs": [
    {
     "output_type": "stream",
     "name": "stdout",
     "text": [
      "(298, 39)\n"
     ]
    }
   ],
   "source": [
    "print(comb2.shape)\n",
    "comb2.drop('Indicator Code', inplace=True, axis=1)"
   ]
  },
  {
   "cell_type": "code",
   "execution_count": 219,
   "metadata": {},
   "outputs": [
    {
     "output_type": "stream",
     "name": "stdout",
     "text": [
      "(298, 38)\n"
     ]
    }
   ],
   "source": [
    "print(comb2.shape)"
   ]
  },
  {
   "cell_type": "code",
   "execution_count": 218,
   "metadata": {},
   "outputs": [],
   "source": [
    "comb2.to_csv(\"processed1.csv\")"
   ]
  },
  {
   "cell_type": "code",
   "execution_count": null,
   "metadata": {},
   "outputs": [],
   "source": []
  }
 ]
}