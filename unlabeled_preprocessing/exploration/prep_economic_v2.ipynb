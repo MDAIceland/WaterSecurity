{
 "metadata": {
  "language_info": {
   "codemirror_mode": {
    "name": "ipython",
    "version": 3
   },
   "file_extension": ".py",
   "mimetype": "text/x-python",
   "name": "python",
   "nbconvert_exporter": "python",
   "pygments_lexer": "ipython3",
   "version": "3.7.4"
  },
  "orig_nbformat": 2,
  "kernelspec": {
   "name": "python374jvsc74a57bd0dca0ade3e726a953b501b15e8e990130d2b7799f14cfd9f4271676035ebe5511",
   "display_name": "Python 3.7.4 64-bit ('base': conda)"
  }
 },
 "nbformat": 4,
 "nbformat_minor": 2,
 "cells": [
  {
   "source": [
    "import pandas as pd"
   ],
   "cell_type": "code",
   "metadata": {},
   "execution_count": 1,
   "outputs": []
  },
  {
   "cell_type": "code",
   "execution_count": 2,
   "metadata": {},
   "outputs": [
    {
     "output_type": "stream",
     "name": "stdout",
     "text": [
      "Country.csv     Data.csv        Prep.ipynb      Series.csv      processed1.csv\n"
     ]
    }
   ],
   "source": [
    "ls"
   ]
  },
  {
   "cell_type": "code",
   "execution_count": 42,
   "metadata": {},
   "outputs": [
    {
     "output_type": "execute_result",
     "data": {
      "text/plain": [
       "(149, 32)"
      ]
     },
     "metadata": {},
     "execution_count": 42
    }
   ],
   "source": [
    "df1 = pd.read_csv (r\"Country.csv\")\n",
    "df1.shape"
   ]
  },
  {
   "cell_type": "code",
   "execution_count": 43,
   "metadata": {},
   "outputs": [
    {
     "output_type": "execute_result",
     "data": {
      "text/plain": [
       "(298, 26)"
      ]
     },
     "metadata": {},
     "execution_count": 43
    }
   ],
   "source": [
    "df2 = pd.read_csv (r\"Data.csv\")\n",
    "trial = pd.read_csv (r\"Data.csv\")\n",
    "df2.shape"
   ]
  },
  {
   "cell_type": "code",
   "execution_count": 44,
   "metadata": {},
   "outputs": [
    {
     "output_type": "stream",
     "name": "stdout",
     "text": [
      "Index(['Country Name', 'Country Code', 'Indicator Name', 'Indicator Code',\n       '1995', '1996', '1997', '1998', '1999', '2000', '2001', '2002', '2003',\n       '2004', '2005', '2006', '2007', '2008', '2009', '2010', '2011', '2012',\n       '2013', '2014', '2015', 'Unnamed: 25'],\n      dtype='object')\n"
     ]
    }
   ],
   "source": [
    "print(df2.columns)"
   ]
  },
  {
   "cell_type": "code",
   "execution_count": 45,
   "metadata": {},
   "outputs": [],
   "source": [
    "def dropColumnHalf(df):\n",
    "    df.dropna(thresh=len(df.index)/2, axis=1, inplace=True)"
   ]
  },
  {
   "cell_type": "code",
   "execution_count": 46,
   "metadata": {},
   "outputs": [
    {
     "output_type": "execute_result",
     "data": {
      "text/plain": [
       "(149, 27)"
      ]
     },
     "metadata": {},
     "execution_count": 46
    }
   ],
   "source": [
    "dropColumnHalf(df1)\n",
    "df1.shape"
   ]
  },
  {
   "cell_type": "code",
   "execution_count": 48,
   "metadata": {},
   "outputs": [
    {
     "output_type": "execute_result",
     "data": {
      "text/plain": [
       "(298, 25)"
      ]
     },
     "metadata": {},
     "execution_count": 48
    }
   ],
   "source": [
    "dropColumnHalf(df2)\n",
    "df2.shape"
   ]
  },
  {
   "cell_type": "code",
   "execution_count": 49,
   "metadata": {},
   "outputs": [
    {
     "output_type": "execute_result",
     "data": {
      "text/plain": [
       "(298, 8)"
      ]
     },
     "metadata": {},
     "execution_count": 49
    }
   ],
   "source": [
    "years = ['2010', '2011', '2012','2013', '2014', '2015']\n",
    "df2 = df2[['Country Code','Indicator Code',*years]]\n",
    "df2.shape"
   ]
  },
  {
   "cell_type": "code",
   "execution_count": 50,
   "metadata": {},
   "outputs": [
    {
     "output_type": "stream",
     "name": "stdout",
     "text": [
      "Index(['Country Code', 'Indicator Code', '2010', '2011', '2012', '2013',\n       '2014', '2015'],\n      dtype='object')\n"
     ]
    }
   ],
   "source": [
    "print(df2.columns)"
   ]
  },
  {
   "cell_type": "code",
   "execution_count": 51,
   "metadata": {},
   "outputs": [
    {
     "output_type": "display_data",
     "data": {
      "text/plain": "    Country Code  Indicator Code           2010           2011        2012  \\\n0            AFG  EF.EFM.OVRL.XD   3.112900e-01   1.004800e-01    0.077571   \n1            AFG  EF.EFM.RANK.XD   8.300000e+01   1.050000e+02  106.000000   \n2            AGO  EF.EFM.OVRL.XD  5.030000e-194  4.890000e-253    0.000000   \n3            AGO  EF.EFM.RANK.XD   1.480000e+02   1.480000e+02  147.500000   \n4            ALB  EF.EFM.OVRL.XD   4.264100e-01   4.132700e-01    0.428530   \n..           ...             ...            ...            ...         ...   \n293          ZAF  EF.EFM.RANK.XD   4.700000e+01   4.700000e+01   46.000000   \n294          ZMB  EF.EFM.OVRL.XD   7.123200e-02   5.259800e-02    0.072511   \n295          ZMB  EF.EFM.RANK.XD   1.130000e+02   1.150000e+02  108.000000   \n296          ZWE  EF.EFM.OVRL.XD   1.469100e-01   1.597500e-01    0.140470   \n297          ZWE  EF.EFM.RANK.XD   9.800000e+01   9.500000e+01   96.000000   \n\n              2013           2014          2015  \n0     1.015700e-01   5.349700e-02  5.369534e-02  \n1     1.010000e+02   1.120000e+02  1.120000e+02  \n2    3.810000e-171  3.890000e-233  7.890000e-13  \n3     1.480000e+02   1.470000e+02  1.460000e+02  \n4     4.238000e-01   3.423200e-01  3.746223e-01  \n..             ...            ...           ...  \n293   4.700000e+01   4.400000e+01  4.500000e+01  \n294   1.134100e-01   7.183600e-02  6.530739e-02  \n295   1.000000e+02   1.070000e+02  1.090000e+02  \n296   1.517900e-01   1.639500e-01  1.078169e-01  \n297   9.300000e+01   9.300000e+01  1.000000e+02  \n\n[298 rows x 8 columns]",
      "text/html": "<div>\n<style scoped>\n    .dataframe tbody tr th:only-of-type {\n        vertical-align: middle;\n    }\n\n    .dataframe tbody tr th {\n        vertical-align: top;\n    }\n\n    .dataframe thead th {\n        text-align: right;\n    }\n</style>\n<table border=\"1\" class=\"dataframe\">\n  <thead>\n    <tr style=\"text-align: right;\">\n      <th></th>\n      <th>Country Code</th>\n      <th>Indicator Code</th>\n      <th>2010</th>\n      <th>2011</th>\n      <th>2012</th>\n      <th>2013</th>\n      <th>2014</th>\n      <th>2015</th>\n    </tr>\n  </thead>\n  <tbody>\n    <tr>\n      <td>0</td>\n      <td>AFG</td>\n      <td>EF.EFM.OVRL.XD</td>\n      <td>3.112900e-01</td>\n      <td>1.004800e-01</td>\n      <td>0.077571</td>\n      <td>1.015700e-01</td>\n      <td>5.349700e-02</td>\n      <td>5.369534e-02</td>\n    </tr>\n    <tr>\n      <td>1</td>\n      <td>AFG</td>\n      <td>EF.EFM.RANK.XD</td>\n      <td>8.300000e+01</td>\n      <td>1.050000e+02</td>\n      <td>106.000000</td>\n      <td>1.010000e+02</td>\n      <td>1.120000e+02</td>\n      <td>1.120000e+02</td>\n    </tr>\n    <tr>\n      <td>2</td>\n      <td>AGO</td>\n      <td>EF.EFM.OVRL.XD</td>\n      <td>5.030000e-194</td>\n      <td>4.890000e-253</td>\n      <td>0.000000</td>\n      <td>3.810000e-171</td>\n      <td>3.890000e-233</td>\n      <td>7.890000e-13</td>\n    </tr>\n    <tr>\n      <td>3</td>\n      <td>AGO</td>\n      <td>EF.EFM.RANK.XD</td>\n      <td>1.480000e+02</td>\n      <td>1.480000e+02</td>\n      <td>147.500000</td>\n      <td>1.480000e+02</td>\n      <td>1.470000e+02</td>\n      <td>1.460000e+02</td>\n    </tr>\n    <tr>\n      <td>4</td>\n      <td>ALB</td>\n      <td>EF.EFM.OVRL.XD</td>\n      <td>4.264100e-01</td>\n      <td>4.132700e-01</td>\n      <td>0.428530</td>\n      <td>4.238000e-01</td>\n      <td>3.423200e-01</td>\n      <td>3.746223e-01</td>\n    </tr>\n    <tr>\n      <td>...</td>\n      <td>...</td>\n      <td>...</td>\n      <td>...</td>\n      <td>...</td>\n      <td>...</td>\n      <td>...</td>\n      <td>...</td>\n      <td>...</td>\n    </tr>\n    <tr>\n      <td>293</td>\n      <td>ZAF</td>\n      <td>EF.EFM.RANK.XD</td>\n      <td>4.700000e+01</td>\n      <td>4.700000e+01</td>\n      <td>46.000000</td>\n      <td>4.700000e+01</td>\n      <td>4.400000e+01</td>\n      <td>4.500000e+01</td>\n    </tr>\n    <tr>\n      <td>294</td>\n      <td>ZMB</td>\n      <td>EF.EFM.OVRL.XD</td>\n      <td>7.123200e-02</td>\n      <td>5.259800e-02</td>\n      <td>0.072511</td>\n      <td>1.134100e-01</td>\n      <td>7.183600e-02</td>\n      <td>6.530739e-02</td>\n    </tr>\n    <tr>\n      <td>295</td>\n      <td>ZMB</td>\n      <td>EF.EFM.RANK.XD</td>\n      <td>1.130000e+02</td>\n      <td>1.150000e+02</td>\n      <td>108.000000</td>\n      <td>1.000000e+02</td>\n      <td>1.070000e+02</td>\n      <td>1.090000e+02</td>\n    </tr>\n    <tr>\n      <td>296</td>\n      <td>ZWE</td>\n      <td>EF.EFM.OVRL.XD</td>\n      <td>1.469100e-01</td>\n      <td>1.597500e-01</td>\n      <td>0.140470</td>\n      <td>1.517900e-01</td>\n      <td>1.639500e-01</td>\n      <td>1.078169e-01</td>\n    </tr>\n    <tr>\n      <td>297</td>\n      <td>ZWE</td>\n      <td>EF.EFM.RANK.XD</td>\n      <td>9.800000e+01</td>\n      <td>9.500000e+01</td>\n      <td>96.000000</td>\n      <td>9.300000e+01</td>\n      <td>9.300000e+01</td>\n      <td>1.000000e+02</td>\n    </tr>\n  </tbody>\n</table>\n<p>298 rows × 8 columns</p>\n</div>"
     },
     "metadata": {}
    }
   ],
   "source": [
    "display(df2)"
   ]
  },
  {
   "cell_type": "code",
   "execution_count": 52,
   "metadata": {},
   "outputs": [
    {
     "output_type": "execute_result",
     "data": {
      "text/plain": [
       "'\\ntrial.drop(\\'Country Name\\', inplace=True, axis=1)\\ntrial.drop(\\'Country Code\\', inplace=True, axis=1)\\ntrial.drop(\\'Indicator Name\\', inplace=True, axis=1)\\ntrial.drop(\\'Indicator Code\\', inplace=True, axis=1)\\n\\ndf2[\\'Numbers\\'] = trial.to_dict(\"records\")\\ndf2.shape\\n\\ncols = [c for c in df2.columns if c.lower()[0] != \\'1\\']\\ndf2 = df2[cols]\\ncols = [c for c in df2.columns if c.lower()[0] != \\'2\\']\\ndf2 = df2[cols]\\ndf2.shape\\n'"
      ]
     },
     "metadata": {},
     "execution_count": 52
    }
   ],
   "source": [
    "'''\n",
    "trial.drop('Country Name', inplace=True, axis=1)\n",
    "trial.drop('Country Code', inplace=True, axis=1)\n",
    "trial.drop('Indicator Name', inplace=True, axis=1)\n",
    "trial.drop('Indicator Code', inplace=True, axis=1)\n",
    "\n",
    "df2['Numbers'] = trial.to_dict(\"records\")\n",
    "df2.shape\n",
    "\n",
    "cols = [c for c in df2.columns if c.lower()[0] != '1']\n",
    "df2 = df2[cols]\n",
    "cols = [c for c in df2.columns if c.lower()[0] != '2']\n",
    "df2 = df2[cols]\n",
    "df2.shape\n",
    "'''"
   ]
  },
  {
   "cell_type": "code",
   "execution_count": 53,
   "metadata": {},
   "outputs": [
    {
     "output_type": "stream",
     "name": "stdout",
     "text": [
      "(149, 27)\n(298, 8)\nIndex(['Country Code', 'Short Name', 'Table Name', 'Long Name', '2-alpha code',\n       'Currency Unit', 'Special Notes', 'Region', 'Income Group', 'WB-2 code',\n       'National accounts base year', 'SNA price valuation',\n       'Lending category', 'System of National Accounts', 'PPP survey year',\n       'Balance of Payments Manual in use', 'External debt Reporting status',\n       'System of trade', 'Government Accounting concept',\n       'IMF data dissemination standard', 'Latest population census',\n       'Latest household survey',\n       'Source of most recent Income and expenditure data',\n       'Latest agricultural census', 'Latest industrial data',\n       'Latest trade data', 'Latest water withdrawal data'],\n      dtype='object')\nIndex(['Country Code', 'Indicator Code', '2010', '2011', '2012', '2013',\n       '2014', '2015'],\n      dtype='object')\n"
     ]
    }
   ],
   "source": [
    "print(df1.shape)\n",
    "print(df2.shape)\n",
    "print(df1.columns)\n",
    "print(df2.columns)"
   ]
  },
  {
   "cell_type": "code",
   "execution_count": 54,
   "metadata": {},
   "outputs": [],
   "source": [
    "comb1 = df1.merge(df2, how='inner', left_on='Country Code', right_on='Country Code')"
   ]
  },
  {
   "cell_type": "code",
   "execution_count": 55,
   "metadata": {},
   "outputs": [
    {
     "output_type": "stream",
     "name": "stdout",
     "text": [
      "Index(['Country Code', 'Short Name', 'Table Name', 'Long Name', '2-alpha code',\n       'Currency Unit', 'Special Notes', 'Region', 'Income Group', 'WB-2 code',\n       'National accounts base year', 'SNA price valuation',\n       'Lending category', 'System of National Accounts', 'PPP survey year',\n       'Balance of Payments Manual in use', 'External debt Reporting status',\n       'System of trade', 'Government Accounting concept',\n       'IMF data dissemination standard', 'Latest population census',\n       'Latest household survey',\n       'Source of most recent Income and expenditure data',\n       'Latest agricultural census', 'Latest industrial data',\n       'Latest trade data', 'Latest water withdrawal data', 'Indicator Code',\n       '2010', '2011', '2012', '2013', '2014', '2015'],\n      dtype='object')\n(298, 34)\n"
     ]
    }
   ],
   "source": [
    "print(comb1.columns)\n",
    "print(comb1.shape)"
   ]
  },
  {
   "cell_type": "code",
   "execution_count": 56,
   "metadata": {},
   "outputs": [
    {
     "output_type": "stream",
     "name": "stdout",
     "text": [
      "(2, 21)\n"
     ]
    }
   ],
   "source": [
    "df3 = pd.read_csv (r\"Series.csv\")\n",
    "print(df3.shape)"
   ]
  },
  {
   "cell_type": "code",
   "execution_count": 57,
   "metadata": {},
   "outputs": [
    {
     "output_type": "display_data",
     "data": {
      "text/plain": "      Series Code                   Topic  \\\n0  EF.EFM.OVRL.XD  Economic Policy & Debt   \n1  EF.EFM.RANK.XD  Economic Policy & Debt   \n\n                                   Indicator Name  Short definition  \\\n0                         Economic Fitness Metric               NaN   \n1  Economic Fitness Ranking (1 = high, 149 = low)               NaN   \n\n                                     Long definition  Unit of measure  \\\n0  Economic Fitness (EF) is both a measure of a c...              NaN   \n1                                                NaN              NaN   \n\n  Periodicity  Base Period  Other notes  Aggregation method  ...  \\\n0      Annual          NaN          NaN                 NaN  ...   \n1      Annual          NaN          NaN                 NaN  ...   \n\n  Notes from original source  General comments  \\\n0                        NaN               NaN   \n1                        NaN               NaN   \n\n                                              Source  \\\n0  World Bank, Economic Fitness project. For more...   \n1  World Bank, Economic Fitness project. For more...   \n\n                 Statistical concept and methodology Development relevance  \\\n0  The new literature of Economic Fitness uses te...                   NaN   \n1  The new literature of Economic Fitness uses te...                   NaN   \n\n   Related source links  Other web links  Related indicators  License Type  \\\n0                   NaN              NaN                 NaN           NaN   \n1                   NaN              NaN                 NaN           NaN   \n\n   Unnamed: 20  \n0          NaN  \n1          NaN  \n\n[2 rows x 21 columns]",
      "text/html": "<div>\n<style scoped>\n    .dataframe tbody tr th:only-of-type {\n        vertical-align: middle;\n    }\n\n    .dataframe tbody tr th {\n        vertical-align: top;\n    }\n\n    .dataframe thead th {\n        text-align: right;\n    }\n</style>\n<table border=\"1\" class=\"dataframe\">\n  <thead>\n    <tr style=\"text-align: right;\">\n      <th></th>\n      <th>Series Code</th>\n      <th>Topic</th>\n      <th>Indicator Name</th>\n      <th>Short definition</th>\n      <th>Long definition</th>\n      <th>Unit of measure</th>\n      <th>Periodicity</th>\n      <th>Base Period</th>\n      <th>Other notes</th>\n      <th>Aggregation method</th>\n      <th>...</th>\n      <th>Notes from original source</th>\n      <th>General comments</th>\n      <th>Source</th>\n      <th>Statistical concept and methodology</th>\n      <th>Development relevance</th>\n      <th>Related source links</th>\n      <th>Other web links</th>\n      <th>Related indicators</th>\n      <th>License Type</th>\n      <th>Unnamed: 20</th>\n    </tr>\n  </thead>\n  <tbody>\n    <tr>\n      <td>0</td>\n      <td>EF.EFM.OVRL.XD</td>\n      <td>Economic Policy &amp; Debt</td>\n      <td>Economic Fitness Metric</td>\n      <td>NaN</td>\n      <td>Economic Fitness (EF) is both a measure of a c...</td>\n      <td>NaN</td>\n      <td>Annual</td>\n      <td>NaN</td>\n      <td>NaN</td>\n      <td>NaN</td>\n      <td>...</td>\n      <td>NaN</td>\n      <td>NaN</td>\n      <td>World Bank, Economic Fitness project. For more...</td>\n      <td>The new literature of Economic Fitness uses te...</td>\n      <td>NaN</td>\n      <td>NaN</td>\n      <td>NaN</td>\n      <td>NaN</td>\n      <td>NaN</td>\n      <td>NaN</td>\n    </tr>\n    <tr>\n      <td>1</td>\n      <td>EF.EFM.RANK.XD</td>\n      <td>Economic Policy &amp; Debt</td>\n      <td>Economic Fitness Ranking (1 = high, 149 = low)</td>\n      <td>NaN</td>\n      <td>NaN</td>\n      <td>NaN</td>\n      <td>Annual</td>\n      <td>NaN</td>\n      <td>NaN</td>\n      <td>NaN</td>\n      <td>...</td>\n      <td>NaN</td>\n      <td>NaN</td>\n      <td>World Bank, Economic Fitness project. For more...</td>\n      <td>The new literature of Economic Fitness uses te...</td>\n      <td>NaN</td>\n      <td>NaN</td>\n      <td>NaN</td>\n      <td>NaN</td>\n      <td>NaN</td>\n      <td>NaN</td>\n    </tr>\n  </tbody>\n</table>\n<p>2 rows × 21 columns</p>\n</div>"
     },
     "metadata": {}
    }
   ],
   "source": [
    "display(df3)"
   ]
  },
  {
   "cell_type": "code",
   "execution_count": 58,
   "metadata": {},
   "outputs": [
    {
     "output_type": "stream",
     "name": "stdout",
     "text": [
      "(298, 55)\n(298, 42)\n"
     ]
    }
   ],
   "source": [
    "comb2 = comb1.merge(df3, how='inner', left_on='Indicator Code', right_on='Series Code')\n",
    "print(comb2.shape)\n",
    "dropColumnHalf(comb2)\n",
    "print(comb2.shape)"
   ]
  },
  {
   "cell_type": "code",
   "execution_count": 59,
   "metadata": {},
   "outputs": [
    {
     "output_type": "execute_result",
     "data": {
      "text/plain": [
       "Index(['Country Code', 'Short Name', 'Table Name', 'Long Name', '2-alpha code',\n",
       "       'Currency Unit', 'Special Notes', 'Region', 'Income Group', 'WB-2 code',\n",
       "       'National accounts base year', 'SNA price valuation',\n",
       "       'Lending category', 'System of National Accounts', 'PPP survey year',\n",
       "       'Balance of Payments Manual in use', 'External debt Reporting status',\n",
       "       'System of trade', 'Government Accounting concept',\n",
       "       'IMF data dissemination standard', 'Latest population census',\n",
       "       'Latest household survey',\n",
       "       'Source of most recent Income and expenditure data',\n",
       "       'Latest agricultural census', 'Latest industrial data',\n",
       "       'Latest trade data', 'Latest water withdrawal data', 'Indicator Code',\n",
       "       '2010', '2011', '2012', '2013', '2014', '2015', 'Series Code', 'Topic',\n",
       "       'Indicator Name', 'Long definition', 'Periodicity',\n",
       "       'Limitations and exceptions', 'Source',\n",
       "       'Statistical concept and methodology'],\n",
       "      dtype='object')"
      ]
     },
     "metadata": {},
     "execution_count": 59
    }
   ],
   "source": [
    "comb2.columns"
   ]
  },
  {
   "cell_type": "code",
   "execution_count": 60,
   "metadata": {},
   "outputs": [
    {
     "output_type": "execute_result",
     "data": {
      "text/plain": [
       "0      EF.EFM.OVRL.XD\n",
       "1      EF.EFM.OVRL.XD\n",
       "2      EF.EFM.OVRL.XD\n",
       "3      EF.EFM.OVRL.XD\n",
       "4      EF.EFM.OVRL.XD\n",
       "            ...      \n",
       "293    EF.EFM.RANK.XD\n",
       "294    EF.EFM.RANK.XD\n",
       "295    EF.EFM.RANK.XD\n",
       "296    EF.EFM.RANK.XD\n",
       "297    EF.EFM.RANK.XD\n",
       "Name: Indicator Code, Length: 298, dtype: object"
      ]
     },
     "metadata": {},
     "execution_count": 60
    }
   ],
   "source": [
    "comb2['Indicator Code']"
   ]
  },
  {
   "cell_type": "code",
   "execution_count": 61,
   "metadata": {},
   "outputs": [
    {
     "output_type": "execute_result",
     "data": {
      "text/plain": [
       "0      EF.EFM.OVRL.XD\n",
       "1      EF.EFM.OVRL.XD\n",
       "2      EF.EFM.OVRL.XD\n",
       "3      EF.EFM.OVRL.XD\n",
       "4      EF.EFM.OVRL.XD\n",
       "            ...      \n",
       "293    EF.EFM.RANK.XD\n",
       "294    EF.EFM.RANK.XD\n",
       "295    EF.EFM.RANK.XD\n",
       "296    EF.EFM.RANK.XD\n",
       "297    EF.EFM.RANK.XD\n",
       "Name: Series Code, Length: 298, dtype: object"
      ]
     },
     "metadata": {},
     "execution_count": 61
    }
   ],
   "source": [
    "comb2['Series Code']"
   ]
  },
  {
   "cell_type": "code",
   "execution_count": 62,
   "metadata": {},
   "outputs": [
    {
     "output_type": "stream",
     "name": "stdout",
     "text": [
      "(298, 42)\n(298, 41)\n"
     ]
    }
   ],
   "source": [
    "print(comb2.shape)\n",
    "comb2.drop('Indicator Code', inplace=True, axis=1)\n",
    "print(comb2.shape)"
   ]
  },
  {
   "cell_type": "code",
   "execution_count": 64,
   "metadata": {},
   "outputs": [
    {
     "output_type": "display_data",
     "data": {
      "text/plain": "    Country Code            Short Name            Table Name  \\\n0            AFG           Afghanistan           Afghanistan   \n1            AGO                Angola                Angola   \n2            ALB               Albania               Albania   \n3            AND               Andorra               Andorra   \n4            ARE  United Arab Emirates  United Arab Emirates   \n..           ...                   ...                   ...   \n293          VNM               Vietnam               Vietnam   \n294          YEM                 Yemen           Yemen, Rep.   \n295          ZAF          South Africa          South Africa   \n296          ZMB                Zambia                Zambia   \n297          ZWE              Zimbabwe              Zimbabwe   \n\n                         Long Name 2-alpha code       Currency Unit  \\\n0     Islamic State of Afghanistan           AF      Afghan afghani   \n1      People's Republic of Angola           AO      Angolan kwanza   \n2              Republic of Albania           AL        Albanian lek   \n3          Principality of Andorra           AD                Euro   \n4             United Arab Emirates           AE       U.A.E. dirham   \n..                             ...          ...                 ...   \n293  Socialist Republic of Vietnam           VN     Vietnamese dong   \n294              Republic of Yemen           YE         Yemeni rial   \n295       Republic of South Africa           ZA  South African rand   \n296             Republic of Zambia           ZM  New Zambian kwacha   \n297           Republic of Zimbabwe           ZW         U.S. dollar   \n\n                                         Special Notes  \\\n0    Fiscal year end: March 20; reporting period fo...   \n1                                                  NaN   \n2                                                  NaN   \n3    WB-3 code changed from ADO to AND to align wit...   \n4                                                  NaN   \n..                                                 ...   \n293                                                NaN   \n294  Based on official government statistics and In...   \n295  Fiscal year end: March 31; reporting period fo...   \n296  The base year is 2010. National accounts data ...   \n297  Fiscal year end: June 30; reporting period for...   \n\n                         Region         Income Group WB-2 code  ...  \\\n0                    South Asia           Low income        AF  ...   \n1            Sub-Saharan Africa  Lower middle income        AO  ...   \n2         Europe & Central Asia  Upper middle income        AL  ...   \n3         Europe & Central Asia          High income        AD  ...   \n4    Middle East & North Africa          High income        AE  ...   \n..                          ...                  ...       ...  ...   \n293         East Asia & Pacific  Lower middle income        VN  ...   \n294  Middle East & North Africa  Lower middle income        RY  ...   \n295          Sub-Saharan Africa  Upper middle income        ZA  ...   \n296          Sub-Saharan Africa  Lower middle income        ZM  ...   \n297          Sub-Saharan Africa           Low income        ZW  ...   \n\n              2014          2015     Series Code                   Topic  \\\n0     5.349700e-02  5.369534e-02  EF.EFM.OVRL.XD  Economic Policy & Debt   \n1    3.890000e-233  7.890000e-13  EF.EFM.OVRL.XD  Economic Policy & Debt   \n2     3.423200e-01  3.746223e-01  EF.EFM.OVRL.XD  Economic Policy & Debt   \n3     1.807900e-01  3.694202e-01  EF.EFM.OVRL.XD  Economic Policy & Debt   \n4     1.813300e-01  3.438621e-01  EF.EFM.OVRL.XD  Economic Policy & Debt   \n..             ...           ...             ...                     ...   \n293   3.700000e+01  3.600000e+01  EF.EFM.RANK.XD  Economic Policy & Debt   \n294   1.180000e+02  1.070000e+02  EF.EFM.RANK.XD  Economic Policy & Debt   \n295   4.400000e+01  4.500000e+01  EF.EFM.RANK.XD  Economic Policy & Debt   \n296   1.070000e+02  1.090000e+02  EF.EFM.RANK.XD  Economic Policy & Debt   \n297   9.300000e+01  1.000000e+02  EF.EFM.RANK.XD  Economic Policy & Debt   \n\n                                     Indicator Name  \\\n0                           Economic Fitness Metric   \n1                           Economic Fitness Metric   \n2                           Economic Fitness Metric   \n3                           Economic Fitness Metric   \n4                           Economic Fitness Metric   \n..                                              ...   \n293  Economic Fitness Ranking (1 = high, 149 = low)   \n294  Economic Fitness Ranking (1 = high, 149 = low)   \n295  Economic Fitness Ranking (1 = high, 149 = low)   \n296  Economic Fitness Ranking (1 = high, 149 = low)   \n297  Economic Fitness Ranking (1 = high, 149 = low)   \n\n                                       Long definition Periodicity  \\\n0    Economic Fitness (EF) is both a measure of a c...      Annual   \n1    Economic Fitness (EF) is both a measure of a c...      Annual   \n2    Economic Fitness (EF) is both a measure of a c...      Annual   \n3    Economic Fitness (EF) is both a measure of a c...      Annual   \n4    Economic Fitness (EF) is both a measure of a c...      Annual   \n..                                                 ...         ...   \n293                                                NaN      Annual   \n294                                                NaN      Annual   \n295                                                NaN      Annual   \n296                                                NaN      Annual   \n297                                                NaN      Annual   \n\n                            Limitations and exceptions  \\\n0    The trade data are necessary to define a coher...   \n1    The trade data are necessary to define a coher...   \n2    The trade data are necessary to define a coher...   \n3    The trade data are necessary to define a coher...   \n4    The trade data are necessary to define a coher...   \n..                                                 ...   \n293  The trade data are necessary to define a coher...   \n294  The trade data are necessary to define a coher...   \n295  The trade data are necessary to define a coher...   \n296  The trade data are necessary to define a coher...   \n297  The trade data are necessary to define a coher...   \n\n                                                Source  \\\n0    World Bank, Economic Fitness project. For more...   \n1    World Bank, Economic Fitness project. For more...   \n2    World Bank, Economic Fitness project. For more...   \n3    World Bank, Economic Fitness project. For more...   \n4    World Bank, Economic Fitness project. For more...   \n..                                                 ...   \n293  World Bank, Economic Fitness project. For more...   \n294  World Bank, Economic Fitness project. For more...   \n295  World Bank, Economic Fitness project. For more...   \n296  World Bank, Economic Fitness project. For more...   \n297  World Bank, Economic Fitness project. For more...   \n\n                   Statistical concept and methodology  \n0    The new literature of Economic Fitness uses te...  \n1    The new literature of Economic Fitness uses te...  \n2    The new literature of Economic Fitness uses te...  \n3    The new literature of Economic Fitness uses te...  \n4    The new literature of Economic Fitness uses te...  \n..                                                 ...  \n293  The new literature of Economic Fitness uses te...  \n294  The new literature of Economic Fitness uses te...  \n295  The new literature of Economic Fitness uses te...  \n296  The new literature of Economic Fitness uses te...  \n297  The new literature of Economic Fitness uses te...  \n\n[298 rows x 41 columns]",
      "text/html": "<div>\n<style scoped>\n    .dataframe tbody tr th:only-of-type {\n        vertical-align: middle;\n    }\n\n    .dataframe tbody tr th {\n        vertical-align: top;\n    }\n\n    .dataframe thead th {\n        text-align: right;\n    }\n</style>\n<table border=\"1\" class=\"dataframe\">\n  <thead>\n    <tr style=\"text-align: right;\">\n      <th></th>\n      <th>Country Code</th>\n      <th>Short Name</th>\n      <th>Table Name</th>\n      <th>Long Name</th>\n      <th>2-alpha code</th>\n      <th>Currency Unit</th>\n      <th>Special Notes</th>\n      <th>Region</th>\n      <th>Income Group</th>\n      <th>WB-2 code</th>\n      <th>...</th>\n      <th>2014</th>\n      <th>2015</th>\n      <th>Series Code</th>\n      <th>Topic</th>\n      <th>Indicator Name</th>\n      <th>Long definition</th>\n      <th>Periodicity</th>\n      <th>Limitations and exceptions</th>\n      <th>Source</th>\n      <th>Statistical concept and methodology</th>\n    </tr>\n  </thead>\n  <tbody>\n    <tr>\n      <td>0</td>\n      <td>AFG</td>\n      <td>Afghanistan</td>\n      <td>Afghanistan</td>\n      <td>Islamic State of Afghanistan</td>\n      <td>AF</td>\n      <td>Afghan afghani</td>\n      <td>Fiscal year end: March 20; reporting period fo...</td>\n      <td>South Asia</td>\n      <td>Low income</td>\n      <td>AF</td>\n      <td>...</td>\n      <td>5.349700e-02</td>\n      <td>5.369534e-02</td>\n      <td>EF.EFM.OVRL.XD</td>\n      <td>Economic Policy &amp; Debt</td>\n      <td>Economic Fitness Metric</td>\n      <td>Economic Fitness (EF) is both a measure of a c...</td>\n      <td>Annual</td>\n      <td>The trade data are necessary to define a coher...</td>\n      <td>World Bank, Economic Fitness project. For more...</td>\n      <td>The new literature of Economic Fitness uses te...</td>\n    </tr>\n    <tr>\n      <td>1</td>\n      <td>AGO</td>\n      <td>Angola</td>\n      <td>Angola</td>\n      <td>People's Republic of Angola</td>\n      <td>AO</td>\n      <td>Angolan kwanza</td>\n      <td>NaN</td>\n      <td>Sub-Saharan Africa</td>\n      <td>Lower middle income</td>\n      <td>AO</td>\n      <td>...</td>\n      <td>3.890000e-233</td>\n      <td>7.890000e-13</td>\n      <td>EF.EFM.OVRL.XD</td>\n      <td>Economic Policy &amp; Debt</td>\n      <td>Economic Fitness Metric</td>\n      <td>Economic Fitness (EF) is both a measure of a c...</td>\n      <td>Annual</td>\n      <td>The trade data are necessary to define a coher...</td>\n      <td>World Bank, Economic Fitness project. For more...</td>\n      <td>The new literature of Economic Fitness uses te...</td>\n    </tr>\n    <tr>\n      <td>2</td>\n      <td>ALB</td>\n      <td>Albania</td>\n      <td>Albania</td>\n      <td>Republic of Albania</td>\n      <td>AL</td>\n      <td>Albanian lek</td>\n      <td>NaN</td>\n      <td>Europe &amp; Central Asia</td>\n      <td>Upper middle income</td>\n      <td>AL</td>\n      <td>...</td>\n      <td>3.423200e-01</td>\n      <td>3.746223e-01</td>\n      <td>EF.EFM.OVRL.XD</td>\n      <td>Economic Policy &amp; Debt</td>\n      <td>Economic Fitness Metric</td>\n      <td>Economic Fitness (EF) is both a measure of a c...</td>\n      <td>Annual</td>\n      <td>The trade data are necessary to define a coher...</td>\n      <td>World Bank, Economic Fitness project. For more...</td>\n      <td>The new literature of Economic Fitness uses te...</td>\n    </tr>\n    <tr>\n      <td>3</td>\n      <td>AND</td>\n      <td>Andorra</td>\n      <td>Andorra</td>\n      <td>Principality of Andorra</td>\n      <td>AD</td>\n      <td>Euro</td>\n      <td>WB-3 code changed from ADO to AND to align wit...</td>\n      <td>Europe &amp; Central Asia</td>\n      <td>High income</td>\n      <td>AD</td>\n      <td>...</td>\n      <td>1.807900e-01</td>\n      <td>3.694202e-01</td>\n      <td>EF.EFM.OVRL.XD</td>\n      <td>Economic Policy &amp; Debt</td>\n      <td>Economic Fitness Metric</td>\n      <td>Economic Fitness (EF) is both a measure of a c...</td>\n      <td>Annual</td>\n      <td>The trade data are necessary to define a coher...</td>\n      <td>World Bank, Economic Fitness project. For more...</td>\n      <td>The new literature of Economic Fitness uses te...</td>\n    </tr>\n    <tr>\n      <td>4</td>\n      <td>ARE</td>\n      <td>United Arab Emirates</td>\n      <td>United Arab Emirates</td>\n      <td>United Arab Emirates</td>\n      <td>AE</td>\n      <td>U.A.E. dirham</td>\n      <td>NaN</td>\n      <td>Middle East &amp; North Africa</td>\n      <td>High income</td>\n      <td>AE</td>\n      <td>...</td>\n      <td>1.813300e-01</td>\n      <td>3.438621e-01</td>\n      <td>EF.EFM.OVRL.XD</td>\n      <td>Economic Policy &amp; Debt</td>\n      <td>Economic Fitness Metric</td>\n      <td>Economic Fitness (EF) is both a measure of a c...</td>\n      <td>Annual</td>\n      <td>The trade data are necessary to define a coher...</td>\n      <td>World Bank, Economic Fitness project. For more...</td>\n      <td>The new literature of Economic Fitness uses te...</td>\n    </tr>\n    <tr>\n      <td>...</td>\n      <td>...</td>\n      <td>...</td>\n      <td>...</td>\n      <td>...</td>\n      <td>...</td>\n      <td>...</td>\n      <td>...</td>\n      <td>...</td>\n      <td>...</td>\n      <td>...</td>\n      <td>...</td>\n      <td>...</td>\n      <td>...</td>\n      <td>...</td>\n      <td>...</td>\n      <td>...</td>\n      <td>...</td>\n      <td>...</td>\n      <td>...</td>\n      <td>...</td>\n      <td>...</td>\n    </tr>\n    <tr>\n      <td>293</td>\n      <td>VNM</td>\n      <td>Vietnam</td>\n      <td>Vietnam</td>\n      <td>Socialist Republic of Vietnam</td>\n      <td>VN</td>\n      <td>Vietnamese dong</td>\n      <td>NaN</td>\n      <td>East Asia &amp; Pacific</td>\n      <td>Lower middle income</td>\n      <td>VN</td>\n      <td>...</td>\n      <td>3.700000e+01</td>\n      <td>3.600000e+01</td>\n      <td>EF.EFM.RANK.XD</td>\n      <td>Economic Policy &amp; Debt</td>\n      <td>Economic Fitness Ranking (1 = high, 149 = low)</td>\n      <td>NaN</td>\n      <td>Annual</td>\n      <td>The trade data are necessary to define a coher...</td>\n      <td>World Bank, Economic Fitness project. For more...</td>\n      <td>The new literature of Economic Fitness uses te...</td>\n    </tr>\n    <tr>\n      <td>294</td>\n      <td>YEM</td>\n      <td>Yemen</td>\n      <td>Yemen, Rep.</td>\n      <td>Republic of Yemen</td>\n      <td>YE</td>\n      <td>Yemeni rial</td>\n      <td>Based on official government statistics and In...</td>\n      <td>Middle East &amp; North Africa</td>\n      <td>Lower middle income</td>\n      <td>RY</td>\n      <td>...</td>\n      <td>1.180000e+02</td>\n      <td>1.070000e+02</td>\n      <td>EF.EFM.RANK.XD</td>\n      <td>Economic Policy &amp; Debt</td>\n      <td>Economic Fitness Ranking (1 = high, 149 = low)</td>\n      <td>NaN</td>\n      <td>Annual</td>\n      <td>The trade data are necessary to define a coher...</td>\n      <td>World Bank, Economic Fitness project. For more...</td>\n      <td>The new literature of Economic Fitness uses te...</td>\n    </tr>\n    <tr>\n      <td>295</td>\n      <td>ZAF</td>\n      <td>South Africa</td>\n      <td>South Africa</td>\n      <td>Republic of South Africa</td>\n      <td>ZA</td>\n      <td>South African rand</td>\n      <td>Fiscal year end: March 31; reporting period fo...</td>\n      <td>Sub-Saharan Africa</td>\n      <td>Upper middle income</td>\n      <td>ZA</td>\n      <td>...</td>\n      <td>4.400000e+01</td>\n      <td>4.500000e+01</td>\n      <td>EF.EFM.RANK.XD</td>\n      <td>Economic Policy &amp; Debt</td>\n      <td>Economic Fitness Ranking (1 = high, 149 = low)</td>\n      <td>NaN</td>\n      <td>Annual</td>\n      <td>The trade data are necessary to define a coher...</td>\n      <td>World Bank, Economic Fitness project. For more...</td>\n      <td>The new literature of Economic Fitness uses te...</td>\n    </tr>\n    <tr>\n      <td>296</td>\n      <td>ZMB</td>\n      <td>Zambia</td>\n      <td>Zambia</td>\n      <td>Republic of Zambia</td>\n      <td>ZM</td>\n      <td>New Zambian kwacha</td>\n      <td>The base year is 2010. National accounts data ...</td>\n      <td>Sub-Saharan Africa</td>\n      <td>Lower middle income</td>\n      <td>ZM</td>\n      <td>...</td>\n      <td>1.070000e+02</td>\n      <td>1.090000e+02</td>\n      <td>EF.EFM.RANK.XD</td>\n      <td>Economic Policy &amp; Debt</td>\n      <td>Economic Fitness Ranking (1 = high, 149 = low)</td>\n      <td>NaN</td>\n      <td>Annual</td>\n      <td>The trade data are necessary to define a coher...</td>\n      <td>World Bank, Economic Fitness project. For more...</td>\n      <td>The new literature of Economic Fitness uses te...</td>\n    </tr>\n    <tr>\n      <td>297</td>\n      <td>ZWE</td>\n      <td>Zimbabwe</td>\n      <td>Zimbabwe</td>\n      <td>Republic of Zimbabwe</td>\n      <td>ZW</td>\n      <td>U.S. dollar</td>\n      <td>Fiscal year end: June 30; reporting period for...</td>\n      <td>Sub-Saharan Africa</td>\n      <td>Low income</td>\n      <td>ZW</td>\n      <td>...</td>\n      <td>9.300000e+01</td>\n      <td>1.000000e+02</td>\n      <td>EF.EFM.RANK.XD</td>\n      <td>Economic Policy &amp; Debt</td>\n      <td>Economic Fitness Ranking (1 = high, 149 = low)</td>\n      <td>NaN</td>\n      <td>Annual</td>\n      <td>The trade data are necessary to define a coher...</td>\n      <td>World Bank, Economic Fitness project. For more...</td>\n      <td>The new literature of Economic Fitness uses te...</td>\n    </tr>\n  </tbody>\n</table>\n<p>298 rows × 41 columns</p>\n</div>"
     },
     "metadata": {}
    }
   ],
   "source": [
    "display(comb2)"
   ]
  },
  {
   "cell_type": "code",
   "execution_count": 68,
   "metadata": {},
   "outputs": [
    {
     "output_type": "stream",
     "name": "stdout",
     "text": [
      "296\n296\n296\n296\n298\n298\n"
     ]
    }
   ],
   "source": [
    "print(comb2['2015'].count())\n",
    "print(comb2['2014'].count())\n",
    "print(comb2['2013'].count())\n",
    "print(comb2['2012'].count())\n",
    "print(comb2['2011'].count())\n",
    "print(comb2['2010'].count())"
   ]
  },
  {
   "cell_type": "code",
   "execution_count": 69,
   "metadata": {},
   "outputs": [],
   "source": [
    "def fill_missing_with_column(df, into, fro):\n",
    "    \"\"\"\n",
    "    Merges one column into the other filling null values of the into colun and removing the fro column\n",
    "    \"\"\"\n",
    "    df[into] = df[into].combine_first(df[fro])\n",
    "    df.drop([fro], axis=1, inplace = True)"
   ]
  },
  {
   "cell_type": "code",
   "execution_count": 70,
   "metadata": {},
   "outputs": [],
   "source": [
    "years = ['2010', '2011', '2012', '2013', '2014', '2015']\n",
    "for year in years[:-1]:\n",
    "    fill_missing_with_column(comb2, '2015',year)\n"
   ]
  },
  {
   "cell_type": "code",
   "execution_count": 75,
   "metadata": {},
   "outputs": [],
   "source": [
    "# Not sure if thats necessary"
   ]
  },
  {
   "cell_type": "code",
   "execution_count": 76,
   "metadata": {},
   "outputs": [
    {
     "output_type": "stream",
     "name": "stdout",
     "text": [
      "Index(['Country Code', 'Short Name', 'Table Name', 'Long Name', '2-alpha code',\n       'Currency Unit', 'Special Notes', 'Region', 'Income Group', 'WB-2 code',\n       'National accounts base year', 'SNA price valuation',\n       'Lending category', 'System of National Accounts', 'PPP survey year',\n       'Balance of Payments Manual in use', 'External debt Reporting status',\n       'System of trade', 'Government Accounting concept',\n       'IMF data dissemination standard', 'Latest population census',\n       'Latest household survey',\n       'Source of most recent Income and expenditure data',\n       'Latest agricultural census', 'Latest industrial data',\n       'Latest trade data', 'Latest water withdrawal data', '2015',\n       'Series Code', 'Topic', 'Indicator Name', 'Long definition',\n       'Periodicity', 'Limitations and exceptions', 'Source',\n       'Statistical concept and methodology'],\n      dtype='object')\n(298, 36)\n"
     ]
    }
   ],
   "source": [
    "print(comb2.columns)\n",
    "print(comb2.shape)"
   ]
  },
  {
   "cell_type": "code",
   "execution_count": 80,
   "metadata": {},
   "outputs": [],
   "source": [
    "comb2 = comb2.rename({'2015': 'Recent VALUES', 'Series Code': 'Indicator Code'}, axis=1)"
   ]
  },
  {
   "cell_type": "code",
   "execution_count": 81,
   "metadata": {},
   "outputs": [
    {
     "output_type": "stream",
     "name": "stdout",
     "text": [
      "Index(['Country Code', 'Short Name', 'Table Name', 'Long Name', '2-alpha code',\n       'Currency Unit', 'Special Notes', 'Region', 'Income Group', 'WB-2 code',\n       'National accounts base year', 'SNA price valuation',\n       'Lending category', 'System of National Accounts', 'PPP survey year',\n       'Balance of Payments Manual in use', 'External debt Reporting status',\n       'System of trade', 'Government Accounting concept',\n       'IMF data dissemination standard', 'Latest population census',\n       'Latest household survey',\n       'Source of most recent Income and expenditure data',\n       'Latest agricultural census', 'Latest industrial data',\n       'Latest trade data', 'Latest water withdrawal data', 'Recent VALUES',\n       'Indicator Code', 'Topic', 'Indicator Name', 'Long definition',\n       'Periodicity', 'Limitations and exceptions', 'Source',\n       'Statistical concept and methodology'],\n      dtype='object')\n"
     ]
    }
   ],
   "source": [
    "print(comb2.columns)"
   ]
  },
  {
   "cell_type": "code",
   "execution_count": 88,
   "metadata": {},
   "outputs": [
    {
     "output_type": "stream",
     "name": "stdout",
     "text": [
      "Country Code : 149\nShort Name : 149\nTable Name : 149\nLong Name : 149\n2-alpha code : 149\nCurrency Unit : 114\nSpecial Notes : 69\nRegion : 7\nIncome Group : 4\nWB-2 code : 149\nNational accounts base year : 31\nSNA price valuation : 2\nLending category : 4\nSystem of National Accounts : 3\nPPP survey year : 2\nBalance of Payments Manual in use : 2\nExternal debt Reporting status : 3\nSystem of trade : 2\nGovernment Accounting concept : 2\nIMF data dissemination standard : 3\nLatest population census : 32\nLatest household survey : 58\nSource of most recent Income and expenditure data : 56\nLatest agricultural census : 24\nLatest industrial data : 30\nLatest trade data : 2\nLatest water withdrawal data : 18\nRecent VALUES : 297\nIndicator Code : 2\nTopic : 1\nIndicator Name : 2\nLong definition : 1\nPeriodicity : 1\nLimitations and exceptions : 1\nSource : 1\nStatistical concept and methodology : 1\n"
     ]
    }
   ],
   "source": [
    "for col in comb2.columns:\n",
    "    print(col, \":\" , comb2[col].nunique() )"
   ]
  },
  {
   "cell_type": "code",
   "execution_count": 94,
   "metadata": {},
   "outputs": [
    {
     "output_type": "execute_result",
     "data": {
      "text/plain": [
       "0      Economic Fitness (EF) is both a measure of a c...\n",
       "1      Economic Fitness (EF) is both a measure of a c...\n",
       "2      Economic Fitness (EF) is both a measure of a c...\n",
       "3      Economic Fitness (EF) is both a measure of a c...\n",
       "4      Economic Fitness (EF) is both a measure of a c...\n",
       "                             ...                        \n",
       "293                                                  NaN\n",
       "294                                                  NaN\n",
       "295                                                  NaN\n",
       "296                                                  NaN\n",
       "297                                                  NaN\n",
       "Name: Long definition, Length: 298, dtype: object"
      ]
     },
     "metadata": {},
     "execution_count": 94
    }
   ],
   "source": [
    "comb2['Long definition']"
   ]
  },
  {
   "cell_type": "code",
   "execution_count": 99,
   "metadata": {},
   "outputs": [
    {
     "output_type": "execute_result",
     "data": {
      "text/plain": [
       "0      Economic Policy & Debt\n",
       "1      Economic Policy & Debt\n",
       "2      Economic Policy & Debt\n",
       "3      Economic Policy & Debt\n",
       "4      Economic Policy & Debt\n",
       "                ...          \n",
       "293    Economic Policy & Debt\n",
       "294    Economic Policy & Debt\n",
       "295    Economic Policy & Debt\n",
       "296    Economic Policy & Debt\n",
       "297    Economic Policy & Debt\n",
       "Name: Topic, Length: 298, dtype: object"
      ]
     },
     "metadata": {},
     "execution_count": 99
    }
   ],
   "source": [
    "comb2['Topic']"
   ]
  },
  {
   "cell_type": "code",
   "execution_count": 100,
   "metadata": {},
   "outputs": [
    {
     "output_type": "execute_result",
     "data": {
      "text/plain": [
       "0      World Bank, Economic Fitness project. For more...\n",
       "1      World Bank, Economic Fitness project. For more...\n",
       "2      World Bank, Economic Fitness project. For more...\n",
       "3      World Bank, Economic Fitness project. For more...\n",
       "4      World Bank, Economic Fitness project. For more...\n",
       "                             ...                        \n",
       "293    World Bank, Economic Fitness project. For more...\n",
       "294    World Bank, Economic Fitness project. For more...\n",
       "295    World Bank, Economic Fitness project. For more...\n",
       "296    World Bank, Economic Fitness project. For more...\n",
       "297    World Bank, Economic Fitness project. For more...\n",
       "Name: Source, Length: 298, dtype: object"
      ]
     },
     "metadata": {},
     "execution_count": 100
    }
   ],
   "source": [
    "comb2['Source']\n",
    "# Source: \"World Bank, Economic Fitness project. For more details, please visit https://www.nature.com/articles/srep00723 and http://documents.worldbank.org/curated/en/632611498503242103/On-the-predictability-of-growth\""
   ]
  },
  {
   "cell_type": "code",
   "execution_count": 101,
   "metadata": {},
   "outputs": [
    {
     "output_type": "execute_result",
     "data": {
      "text/plain": [
       "0      The new literature of Economic Fitness uses te...\n",
       "1      The new literature of Economic Fitness uses te...\n",
       "2      The new literature of Economic Fitness uses te...\n",
       "3      The new literature of Economic Fitness uses te...\n",
       "4      The new literature of Economic Fitness uses te...\n",
       "                             ...                        \n",
       "293    The new literature of Economic Fitness uses te...\n",
       "294    The new literature of Economic Fitness uses te...\n",
       "295    The new literature of Economic Fitness uses te...\n",
       "296    The new literature of Economic Fitness uses te...\n",
       "297    The new literature of Economic Fitness uses te...\n",
       "Name: Statistical concept and methodology, Length: 298, dtype: object"
      ]
     },
     "metadata": {},
     "execution_count": 101
    }
   ],
   "source": [
    "comb2['Statistical concept and methodology']"
   ]
  },
  {
   "cell_type": "code",
   "execution_count": 102,
   "metadata": {},
   "outputs": [
    {
     "output_type": "execute_result",
     "data": {
      "text/plain": [
       "0      The trade data are necessary to define a coher...\n",
       "1      The trade data are necessary to define a coher...\n",
       "2      The trade data are necessary to define a coher...\n",
       "3      The trade data are necessary to define a coher...\n",
       "4      The trade data are necessary to define a coher...\n",
       "                             ...                        \n",
       "293    The trade data are necessary to define a coher...\n",
       "294    The trade data are necessary to define a coher...\n",
       "295    The trade data are necessary to define a coher...\n",
       "296    The trade data are necessary to define a coher...\n",
       "297    The trade data are necessary to define a coher...\n",
       "Name: Limitations and exceptions, Length: 298, dtype: object"
      ]
     },
     "metadata": {},
     "execution_count": 102
    }
   ],
   "source": [
    "comb2['Limitations and exceptions']"
   ]
  },
  {
   "cell_type": "code",
   "execution_count": 103,
   "metadata": {},
   "outputs": [
    {
     "output_type": "execute_result",
     "data": {
      "text/plain": [
       "0      Annual\n",
       "1      Annual\n",
       "2      Annual\n",
       "3      Annual\n",
       "4      Annual\n",
       "        ...  \n",
       "293    Annual\n",
       "294    Annual\n",
       "295    Annual\n",
       "296    Annual\n",
       "297    Annual\n",
       "Name: Periodicity, Length: 298, dtype: object"
      ]
     },
     "metadata": {},
     "execution_count": 103
    }
   ],
   "source": [
    "comb2['Periodicity']"
   ]
  },
  {
   "cell_type": "code",
   "execution_count": 108,
   "metadata": {},
   "outputs": [
    {
     "output_type": "execute_result",
     "data": {
      "text/plain": [
       "Index(['Country Code', 'Short Name', 'Table Name', 'Long Name', '2-alpha code',\n",
       "       'Currency Unit', 'Special Notes', 'Region', 'Income Group', 'WB-2 code',\n",
       "       'National accounts base year', 'SNA price valuation',\n",
       "       'Lending category', 'System of National Accounts', 'PPP survey year',\n",
       "       'Balance of Payments Manual in use', 'External debt Reporting status',\n",
       "       'System of trade', 'Government Accounting concept',\n",
       "       'IMF data dissemination standard', 'Latest population census',\n",
       "       'Latest household survey',\n",
       "       'Source of most recent Income and expenditure data',\n",
       "       'Latest agricultural census', 'Latest industrial data',\n",
       "       'Latest trade data', 'Latest water withdrawal data', 'Recent VALUES',\n",
       "       'Indicator Code', 'Topic', 'Indicator Name',\n",
       "       'Limitations and exceptions', 'Statistical concept and methodology'],\n",
       "      dtype='object')"
      ]
     },
     "metadata": {},
     "execution_count": 108
    }
   ],
   "source": [
    "comb2 = comb2.drop(['Long definition', 'Source', 'Periodicity'], axis = 1)\n",
    "comb2.columns"
   ]
  },
  {
   "cell_type": "code",
   "execution_count": 109,
   "metadata": {},
   "outputs": [
    {
     "output_type": "execute_result",
     "data": {
      "text/plain": [
       "(298, 33)"
      ]
     },
     "metadata": {},
     "execution_count": 109
    }
   ],
   "source": [
    "comb2.shape"
   ]
  },
  {
   "cell_type": "code",
   "execution_count": 110,
   "metadata": {},
   "outputs": [
    {
     "output_type": "stream",
     "name": "stdout",
     "text": [
      "Country.csv     Data.csv        Prep.ipynb      Series.csv      processed1.csv\n"
     ]
    }
   ],
   "source": [
    "ls"
   ]
  },
  {
   "cell_type": "code",
   "execution_count": 111,
   "metadata": {},
   "outputs": [],
   "source": [
    "comb2.to_csv(\"economy_v2.csv\")"
   ]
  }
 ]
}