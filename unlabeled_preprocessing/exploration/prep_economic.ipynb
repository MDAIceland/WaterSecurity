{
 "metadata": {
  "language_info": {
   "codemirror_mode": {
    "name": "ipython",
    "version": 3
   },
   "file_extension": ".py",
   "mimetype": "text/x-python",
   "name": "python",
   "nbconvert_exporter": "python",
   "pygments_lexer": "ipython3",
   "version": "3.8.5"
  },
  "orig_nbformat": 2,
  "kernelspec": {
   "name": "python385jvsc74a57bd0b3ba2566441a7c06988d0923437866b63cedc61552a5af99d1f4fb67d367b25f",
   "display_name": "Python 3.8.5 64-bit ('base': conda)"
  }
 },
 "nbformat": 4,
 "nbformat_minor": 2,
 "cells": [
  {
   "source": [
    "import pandas as pd\n",
    "from helpers import *"
   ],
   "cell_type": "code",
   "metadata": {},
   "execution_count": 1,
   "outputs": []
  },
  {
   "cell_type": "code",
   "execution_count": 2,
   "metadata": {},
   "outputs": [],
   "source": [
    "data_path = \"C:/Users/joach/code-projects/WaterSecurity/data/unlabeled/Economic_Fitness_CSV/\"\n",
    "export_path = \"preprocessed_data/preprocessed_ef.csv\""
   ]
  },
  {
   "cell_type": "code",
   "execution_count": 12,
   "metadata": {},
   "outputs": [
    {
     "output_type": "execute_result",
     "data": {
      "text/plain": [
       "(149, 32)"
      ]
     },
     "metadata": {},
     "execution_count": 12
    }
   ],
   "source": [
    "df1 = pd.read_csv (f\"{data_path}/Country.csv\")\n",
    "df1.shape"
   ]
  },
  {
   "cell_type": "code",
   "execution_count": 13,
   "metadata": {},
   "outputs": [
    {
     "output_type": "execute_result",
     "data": {
      "text/plain": [
       "(149, 27)"
      ]
     },
     "metadata": {},
     "execution_count": 13
    }
   ],
   "source": [
    "dropColumnHalf(df1)\n",
    "df1.shape"
   ]
  },
  {
   "cell_type": "code",
   "execution_count": 14,
   "metadata": {},
   "outputs": [
    {
     "output_type": "execute_result",
     "data": {
      "text/plain": [
       "(298, 26)"
      ]
     },
     "metadata": {},
     "execution_count": 14
    }
   ],
   "source": [
    "df2 = pd.read_csv (f\"{data_path}Data.csv\")\n",
    "#trial = pd.read_csv (f\"{data_path}Data.csv\")\n",
    "df2.shape"
   ]
  },
  {
   "cell_type": "code",
   "execution_count": 29,
   "metadata": {},
   "outputs": [
    {
     "output_type": "execute_result",
     "data": {
      "text/plain": [
       "(298, 8)"
      ]
     },
     "metadata": {},
     "execution_count": 29
    }
   ],
   "source": [
    "dropColumnHalf(df2)\n",
    "df2.shape"
   ]
  },
  {
   "cell_type": "code",
   "execution_count": 30,
   "metadata": {},
   "outputs": [
    {
     "output_type": "stream",
     "name": "stdout",
     "text": [
      "Index(['Country Code', 'Indicator Code', '2010', '2011', '2012', '2013',\n       '2014', '2015'],\n      dtype='object')\n"
     ]
    }
   ],
   "source": [
    "print(df2.columns)"
   ]
  },
  {
   "cell_type": "code",
   "execution_count": 31,
   "metadata": {},
   "outputs": [
    {
     "output_type": "execute_result",
     "data": {
      "text/plain": [
       "Index(['Country Code', 'Indicator Code', '2010', '2011', '2012', '2013',\n",
       "       '2014', '2015'],\n",
       "      dtype='object')"
      ]
     },
     "metadata": {},
     "execution_count": 31
    }
   ],
   "source": [
    "# trial.drop('Country Name', inplace=True, axis=1)\n",
    "# trial.drop('Country Code', inplace=True, axis=1)\n",
    "# trial.drop('Indicator Name', inplace=True, axis=1)\n",
    "# trial.drop('Indicator Code', inplace=True, axis=1)\n",
    "\n",
    "# df2['Numbers'] = trial.to_dict(\"records\")\n",
    "# df2.shape\n",
    "df2.columns"
   ]
  },
  {
   "cell_type": "code",
   "execution_count": 32,
   "metadata": {},
   "outputs": [],
   "source": [
    "# cols = [c for c in df2.columns if c.lower()[0] != '1']\n",
    "# df2 = df2[cols]\n",
    "# cols = [c for c in df2.columns if c.lower()[0] != '2']\n",
    "# df2 = df2[cols]\n",
    "# df2.shape\n"
   ]
  },
  {
   "cell_type": "code",
   "execution_count": 33,
   "metadata": {},
   "outputs": [
    {
     "output_type": "execute_result",
     "data": {
      "text/plain": [
       "    Country Code  Indicator Code           2010           2011        2012  \\\n",
       "0            AFG  EF.EFM.OVRL.XD   3.112900e-01   1.004800e-01    0.077571   \n",
       "1            AFG  EF.EFM.RANK.XD   8.300000e+01   1.050000e+02  106.000000   \n",
       "2            AGO  EF.EFM.OVRL.XD  5.030000e-194  4.890000e-253    0.000000   \n",
       "3            AGO  EF.EFM.RANK.XD   1.480000e+02   1.480000e+02  147.500000   \n",
       "4            ALB  EF.EFM.OVRL.XD   4.264100e-01   4.132700e-01    0.428530   \n",
       "..           ...             ...            ...            ...         ...   \n",
       "293          ZAF  EF.EFM.RANK.XD   4.700000e+01   4.700000e+01   46.000000   \n",
       "294          ZMB  EF.EFM.OVRL.XD   7.123200e-02   5.259800e-02    0.072511   \n",
       "295          ZMB  EF.EFM.RANK.XD   1.130000e+02   1.150000e+02  108.000000   \n",
       "296          ZWE  EF.EFM.OVRL.XD   1.469100e-01   1.597500e-01    0.140470   \n",
       "297          ZWE  EF.EFM.RANK.XD   9.800000e+01   9.500000e+01   96.000000   \n",
       "\n",
       "              2013           2014          2015  \n",
       "0     1.015700e-01   5.349700e-02  5.369534e-02  \n",
       "1     1.010000e+02   1.120000e+02  1.120000e+02  \n",
       "2    3.810000e-171  3.890000e-233  7.890000e-13  \n",
       "3     1.480000e+02   1.470000e+02  1.460000e+02  \n",
       "4     4.238000e-01   3.423200e-01  3.746223e-01  \n",
       "..             ...            ...           ...  \n",
       "293   4.700000e+01   4.400000e+01  4.500000e+01  \n",
       "294   1.134100e-01   7.183600e-02  6.530739e-02  \n",
       "295   1.000000e+02   1.070000e+02  1.090000e+02  \n",
       "296   1.517900e-01   1.639500e-01  1.078169e-01  \n",
       "297   9.300000e+01   9.300000e+01  1.000000e+02  \n",
       "\n",
       "[298 rows x 8 columns]"
      ],
      "text/html": "<div>\n<style scoped>\n    .dataframe tbody tr th:only-of-type {\n        vertical-align: middle;\n    }\n\n    .dataframe tbody tr th {\n        vertical-align: top;\n    }\n\n    .dataframe thead th {\n        text-align: right;\n    }\n</style>\n<table border=\"1\" class=\"dataframe\">\n  <thead>\n    <tr style=\"text-align: right;\">\n      <th></th>\n      <th>Country Code</th>\n      <th>Indicator Code</th>\n      <th>2010</th>\n      <th>2011</th>\n      <th>2012</th>\n      <th>2013</th>\n      <th>2014</th>\n      <th>2015</th>\n    </tr>\n  </thead>\n  <tbody>\n    <tr>\n      <th>0</th>\n      <td>AFG</td>\n      <td>EF.EFM.OVRL.XD</td>\n      <td>3.112900e-01</td>\n      <td>1.004800e-01</td>\n      <td>0.077571</td>\n      <td>1.015700e-01</td>\n      <td>5.349700e-02</td>\n      <td>5.369534e-02</td>\n    </tr>\n    <tr>\n      <th>1</th>\n      <td>AFG</td>\n      <td>EF.EFM.RANK.XD</td>\n      <td>8.300000e+01</td>\n      <td>1.050000e+02</td>\n      <td>106.000000</td>\n      <td>1.010000e+02</td>\n      <td>1.120000e+02</td>\n      <td>1.120000e+02</td>\n    </tr>\n    <tr>\n      <th>2</th>\n      <td>AGO</td>\n      <td>EF.EFM.OVRL.XD</td>\n      <td>5.030000e-194</td>\n      <td>4.890000e-253</td>\n      <td>0.000000</td>\n      <td>3.810000e-171</td>\n      <td>3.890000e-233</td>\n      <td>7.890000e-13</td>\n    </tr>\n    <tr>\n      <th>3</th>\n      <td>AGO</td>\n      <td>EF.EFM.RANK.XD</td>\n      <td>1.480000e+02</td>\n      <td>1.480000e+02</td>\n      <td>147.500000</td>\n      <td>1.480000e+02</td>\n      <td>1.470000e+02</td>\n      <td>1.460000e+02</td>\n    </tr>\n    <tr>\n      <th>4</th>\n      <td>ALB</td>\n      <td>EF.EFM.OVRL.XD</td>\n      <td>4.264100e-01</td>\n      <td>4.132700e-01</td>\n      <td>0.428530</td>\n      <td>4.238000e-01</td>\n      <td>3.423200e-01</td>\n      <td>3.746223e-01</td>\n    </tr>\n    <tr>\n      <th>...</th>\n      <td>...</td>\n      <td>...</td>\n      <td>...</td>\n      <td>...</td>\n      <td>...</td>\n      <td>...</td>\n      <td>...</td>\n      <td>...</td>\n    </tr>\n    <tr>\n      <th>293</th>\n      <td>ZAF</td>\n      <td>EF.EFM.RANK.XD</td>\n      <td>4.700000e+01</td>\n      <td>4.700000e+01</td>\n      <td>46.000000</td>\n      <td>4.700000e+01</td>\n      <td>4.400000e+01</td>\n      <td>4.500000e+01</td>\n    </tr>\n    <tr>\n      <th>294</th>\n      <td>ZMB</td>\n      <td>EF.EFM.OVRL.XD</td>\n      <td>7.123200e-02</td>\n      <td>5.259800e-02</td>\n      <td>0.072511</td>\n      <td>1.134100e-01</td>\n      <td>7.183600e-02</td>\n      <td>6.530739e-02</td>\n    </tr>\n    <tr>\n      <th>295</th>\n      <td>ZMB</td>\n      <td>EF.EFM.RANK.XD</td>\n      <td>1.130000e+02</td>\n      <td>1.150000e+02</td>\n      <td>108.000000</td>\n      <td>1.000000e+02</td>\n      <td>1.070000e+02</td>\n      <td>1.090000e+02</td>\n    </tr>\n    <tr>\n      <th>296</th>\n      <td>ZWE</td>\n      <td>EF.EFM.OVRL.XD</td>\n      <td>1.469100e-01</td>\n      <td>1.597500e-01</td>\n      <td>0.140470</td>\n      <td>1.517900e-01</td>\n      <td>1.639500e-01</td>\n      <td>1.078169e-01</td>\n    </tr>\n    <tr>\n      <th>297</th>\n      <td>ZWE</td>\n      <td>EF.EFM.RANK.XD</td>\n      <td>9.800000e+01</td>\n      <td>9.500000e+01</td>\n      <td>96.000000</td>\n      <td>9.300000e+01</td>\n      <td>9.300000e+01</td>\n      <td>1.000000e+02</td>\n    </tr>\n  </tbody>\n</table>\n<p>298 rows × 8 columns</p>\n</div>"
     },
     "metadata": {},
     "execution_count": 33
    }
   ],
   "source": [
    "years = ['2010', '2011', '2012','2013', '2014', '2015']\n",
    "df2 = df2[['Country Code','Indicator Code',*years]]\n",
    "df2"
   ]
  },
  {
   "cell_type": "code",
   "execution_count": 34,
   "metadata": {},
   "outputs": [
    {
     "output_type": "stream",
     "name": "stdout",
     "text": [
      "(149, 27)\n(298, 8)\n"
     ]
    }
   ],
   "source": [
    "print(df1.shape)\n",
    "print(df2.shape)"
   ]
  },
  {
   "cell_type": "code",
   "execution_count": 35,
   "metadata": {},
   "outputs": [],
   "source": [
    "comb1 = df1.merge(df2, how='inner', left_on='Country Code', right_on='Country Code')"
   ]
  },
  {
   "cell_type": "code",
   "execution_count": 36,
   "metadata": {},
   "outputs": [
    {
     "output_type": "stream",
     "name": "stdout",
     "text": [
      "Index(['Country Code', 'Short Name', 'Table Name', 'Long Name', '2-alpha code',\n       'Currency Unit', 'Special Notes', 'Region', 'Income Group', 'WB-2 code',\n       'National accounts base year', 'SNA price valuation',\n       'Lending category', 'System of National Accounts', 'PPP survey year',\n       'Balance of Payments Manual in use', 'External debt Reporting status',\n       'System of trade', 'Government Accounting concept',\n       'IMF data dissemination standard', 'Latest population census',\n       'Latest household survey',\n       'Source of most recent Income and expenditure data',\n       'Latest agricultural census', 'Latest industrial data',\n       'Latest trade data', 'Latest water withdrawal data', 'Indicator Code',\n       '2010', '2011', '2012', '2013', '2014', '2015'],\n      dtype='object')\n(298, 34)\n"
     ]
    }
   ],
   "source": [
    "print(comb1.columns)\n",
    "print(comb1.shape)"
   ]
  },
  {
   "cell_type": "code",
   "execution_count": 37,
   "metadata": {},
   "outputs": [
    {
     "output_type": "stream",
     "name": "stdout",
     "text": [
      "(2, 21)\n"
     ]
    }
   ],
   "source": [
    "df3 = pd.read_csv (f\"{data_path}Series.csv\")\n",
    "print(df3.shape)"
   ]
  },
  {
   "cell_type": "code",
   "execution_count": 38,
   "metadata": {},
   "outputs": [
    {
     "output_type": "display_data",
     "data": {
      "text/plain": "      Series Code                   Topic  \\\n0  EF.EFM.OVRL.XD  Economic Policy & Debt   \n1  EF.EFM.RANK.XD  Economic Policy & Debt   \n\n                                   Indicator Name  Short definition  \\\n0                         Economic Fitness Metric               NaN   \n1  Economic Fitness Ranking (1 = high, 149 = low)               NaN   \n\n                                     Long definition  Unit of measure  \\\n0  Economic Fitness (EF) is both a measure of a c...              NaN   \n1                                                NaN              NaN   \n\n  Periodicity  Base Period  Other notes  Aggregation method  ...  \\\n0      Annual          NaN          NaN                 NaN  ...   \n1      Annual          NaN          NaN                 NaN  ...   \n\n  Notes from original source  General comments  \\\n0                        NaN               NaN   \n1                        NaN               NaN   \n\n                                              Source  \\\n0  World Bank, Economic Fitness project. For more...   \n1  World Bank, Economic Fitness project. For more...   \n\n                 Statistical concept and methodology Development relevance  \\\n0  The new literature of Economic Fitness uses te...                   NaN   \n1  The new literature of Economic Fitness uses te...                   NaN   \n\n   Related source links  Other web links  Related indicators  License Type  \\\n0                   NaN              NaN                 NaN           NaN   \n1                   NaN              NaN                 NaN           NaN   \n\n   Unnamed: 20  \n0          NaN  \n1          NaN  \n\n[2 rows x 21 columns]",
      "text/html": "<div>\n<style scoped>\n    .dataframe tbody tr th:only-of-type {\n        vertical-align: middle;\n    }\n\n    .dataframe tbody tr th {\n        vertical-align: top;\n    }\n\n    .dataframe thead th {\n        text-align: right;\n    }\n</style>\n<table border=\"1\" class=\"dataframe\">\n  <thead>\n    <tr style=\"text-align: right;\">\n      <th></th>\n      <th>Series Code</th>\n      <th>Topic</th>\n      <th>Indicator Name</th>\n      <th>Short definition</th>\n      <th>Long definition</th>\n      <th>Unit of measure</th>\n      <th>Periodicity</th>\n      <th>Base Period</th>\n      <th>Other notes</th>\n      <th>Aggregation method</th>\n      <th>...</th>\n      <th>Notes from original source</th>\n      <th>General comments</th>\n      <th>Source</th>\n      <th>Statistical concept and methodology</th>\n      <th>Development relevance</th>\n      <th>Related source links</th>\n      <th>Other web links</th>\n      <th>Related indicators</th>\n      <th>License Type</th>\n      <th>Unnamed: 20</th>\n    </tr>\n  </thead>\n  <tbody>\n    <tr>\n      <th>0</th>\n      <td>EF.EFM.OVRL.XD</td>\n      <td>Economic Policy &amp; Debt</td>\n      <td>Economic Fitness Metric</td>\n      <td>NaN</td>\n      <td>Economic Fitness (EF) is both a measure of a c...</td>\n      <td>NaN</td>\n      <td>Annual</td>\n      <td>NaN</td>\n      <td>NaN</td>\n      <td>NaN</td>\n      <td>...</td>\n      <td>NaN</td>\n      <td>NaN</td>\n      <td>World Bank, Economic Fitness project. For more...</td>\n      <td>The new literature of Economic Fitness uses te...</td>\n      <td>NaN</td>\n      <td>NaN</td>\n      <td>NaN</td>\n      <td>NaN</td>\n      <td>NaN</td>\n      <td>NaN</td>\n    </tr>\n    <tr>\n      <th>1</th>\n      <td>EF.EFM.RANK.XD</td>\n      <td>Economic Policy &amp; Debt</td>\n      <td>Economic Fitness Ranking (1 = high, 149 = low)</td>\n      <td>NaN</td>\n      <td>NaN</td>\n      <td>NaN</td>\n      <td>Annual</td>\n      <td>NaN</td>\n      <td>NaN</td>\n      <td>NaN</td>\n      <td>...</td>\n      <td>NaN</td>\n      <td>NaN</td>\n      <td>World Bank, Economic Fitness project. For more...</td>\n      <td>The new literature of Economic Fitness uses te...</td>\n      <td>NaN</td>\n      <td>NaN</td>\n      <td>NaN</td>\n      <td>NaN</td>\n      <td>NaN</td>\n      <td>NaN</td>\n    </tr>\n  </tbody>\n</table>\n<p>2 rows × 21 columns</p>\n</div>"
     },
     "metadata": {}
    }
   ],
   "source": [
    "display(df3)"
   ]
  },
  {
   "cell_type": "code",
   "execution_count": 39,
   "metadata": {},
   "outputs": [
    {
     "output_type": "stream",
     "name": "stdout",
     "text": [
      "(298, 55)\n(298, 42)\n"
     ]
    }
   ],
   "source": [
    "comb2 = comb1.merge(df3, how='inner', left_on='Indicator Code', right_on='Series Code')\n",
    "print(comb2.shape)\n",
    "dropColumnHalf(comb2)\n",
    "print(comb2.shape)"
   ]
  },
  {
   "cell_type": "code",
   "execution_count": 40,
   "metadata": {},
   "outputs": [
    {
     "output_type": "execute_result",
     "data": {
      "text/plain": [
       "Index(['Country Code', 'Short Name', 'Table Name', 'Long Name', '2-alpha code',\n",
       "       'Currency Unit', 'Special Notes', 'Region', 'Income Group', 'WB-2 code',\n",
       "       'National accounts base year', 'SNA price valuation',\n",
       "       'Lending category', 'System of National Accounts', 'PPP survey year',\n",
       "       'Balance of Payments Manual in use', 'External debt Reporting status',\n",
       "       'System of trade', 'Government Accounting concept',\n",
       "       'IMF data dissemination standard', 'Latest population census',\n",
       "       'Latest household survey',\n",
       "       'Source of most recent Income and expenditure data',\n",
       "       'Latest agricultural census', 'Latest industrial data',\n",
       "       'Latest trade data', 'Latest water withdrawal data', 'Indicator Code',\n",
       "       '2010', '2011', '2012', '2013', '2014', '2015', 'Series Code', 'Topic',\n",
       "       'Indicator Name', 'Long definition', 'Periodicity',\n",
       "       'Limitations and exceptions', 'Source',\n",
       "       'Statistical concept and methodology'],\n",
       "      dtype='object')"
      ]
     },
     "metadata": {},
     "execution_count": 40
    }
   ],
   "source": [
    "comb2.columns"
   ]
  },
  {
   "cell_type": "code",
   "execution_count": 41,
   "metadata": {},
   "outputs": [
    {
     "output_type": "execute_result",
     "data": {
      "text/plain": [
       "0      EF.EFM.OVRL.XD\n",
       "1      EF.EFM.OVRL.XD\n",
       "2      EF.EFM.OVRL.XD\n",
       "3      EF.EFM.OVRL.XD\n",
       "4      EF.EFM.OVRL.XD\n",
       "            ...      \n",
       "293    EF.EFM.RANK.XD\n",
       "294    EF.EFM.RANK.XD\n",
       "295    EF.EFM.RANK.XD\n",
       "296    EF.EFM.RANK.XD\n",
       "297    EF.EFM.RANK.XD\n",
       "Name: Indicator Code, Length: 298, dtype: object"
      ]
     },
     "metadata": {},
     "execution_count": 41
    }
   ],
   "source": [
    "comb2['Indicator Code']"
   ]
  },
  {
   "cell_type": "code",
   "execution_count": 42,
   "metadata": {},
   "outputs": [
    {
     "output_type": "execute_result",
     "data": {
      "text/plain": [
       "0      EF.EFM.OVRL.XD\n",
       "1      EF.EFM.OVRL.XD\n",
       "2      EF.EFM.OVRL.XD\n",
       "3      EF.EFM.OVRL.XD\n",
       "4      EF.EFM.OVRL.XD\n",
       "            ...      \n",
       "293    EF.EFM.RANK.XD\n",
       "294    EF.EFM.RANK.XD\n",
       "295    EF.EFM.RANK.XD\n",
       "296    EF.EFM.RANK.XD\n",
       "297    EF.EFM.RANK.XD\n",
       "Name: Series Code, Length: 298, dtype: object"
      ]
     },
     "metadata": {},
     "execution_count": 42
    }
   ],
   "source": [
    "comb2['Series Code']"
   ]
  },
  {
   "cell_type": "code",
   "execution_count": 43,
   "metadata": {},
   "outputs": [
    {
     "output_type": "stream",
     "name": "stdout",
     "text": [
      "(298, 42)\n"
     ]
    }
   ],
   "source": [
    "print(comb2.shape)\n",
    "comb2.drop('Indicator Code', inplace=True, axis=1)"
   ]
  },
  {
   "cell_type": "code",
   "execution_count": 45,
   "metadata": {},
   "outputs": [
    {
     "output_type": "stream",
     "name": "stdout",
     "text": [
      "(298, 41)\n"
     ]
    },
    {
     "output_type": "execute_result",
     "data": {
      "text/plain": [
       "    Country Code            Short Name            Table Name  \\\n",
       "0            AFG           Afghanistan           Afghanistan   \n",
       "1            AGO                Angola                Angola   \n",
       "2            ALB               Albania               Albania   \n",
       "3            AND               Andorra               Andorra   \n",
       "4            ARE  United Arab Emirates  United Arab Emirates   \n",
       "..           ...                   ...                   ...   \n",
       "293          VNM               Vietnam               Vietnam   \n",
       "294          YEM                 Yemen           Yemen, Rep.   \n",
       "295          ZAF          South Africa          South Africa   \n",
       "296          ZMB                Zambia                Zambia   \n",
       "297          ZWE              Zimbabwe              Zimbabwe   \n",
       "\n",
       "                         Long Name 2-alpha code       Currency Unit  \\\n",
       "0     Islamic State of Afghanistan           AF      Afghan afghani   \n",
       "1      People's Republic of Angola           AO      Angolan kwanza   \n",
       "2              Republic of Albania           AL        Albanian lek   \n",
       "3          Principality of Andorra           AD                Euro   \n",
       "4             United Arab Emirates           AE       U.A.E. dirham   \n",
       "..                             ...          ...                 ...   \n",
       "293  Socialist Republic of Vietnam           VN     Vietnamese dong   \n",
       "294              Republic of Yemen           YE         Yemeni rial   \n",
       "295       Republic of South Africa           ZA  South African rand   \n",
       "296             Republic of Zambia           ZM  New Zambian kwacha   \n",
       "297           Republic of Zimbabwe           ZW         U.S. dollar   \n",
       "\n",
       "                                         Special Notes  \\\n",
       "0    Fiscal year end: March 20; reporting period fo...   \n",
       "1                                                  NaN   \n",
       "2                                                  NaN   \n",
       "3    WB-3 code changed from ADO to AND to align wit...   \n",
       "4                                                  NaN   \n",
       "..                                                 ...   \n",
       "293                                                NaN   \n",
       "294  Based on official government statistics and In...   \n",
       "295  Fiscal year end: March 31; reporting period fo...   \n",
       "296  The base year is 2010. National accounts data ...   \n",
       "297  Fiscal year end: June 30; reporting period for...   \n",
       "\n",
       "                         Region         Income Group WB-2 code  ...  \\\n",
       "0                    South Asia           Low income        AF  ...   \n",
       "1            Sub-Saharan Africa  Lower middle income        AO  ...   \n",
       "2         Europe & Central Asia  Upper middle income        AL  ...   \n",
       "3         Europe & Central Asia          High income        AD  ...   \n",
       "4    Middle East & North Africa          High income        AE  ...   \n",
       "..                          ...                  ...       ...  ...   \n",
       "293         East Asia & Pacific  Lower middle income        VN  ...   \n",
       "294  Middle East & North Africa  Lower middle income        RY  ...   \n",
       "295          Sub-Saharan Africa  Upper middle income        ZA  ...   \n",
       "296          Sub-Saharan Africa  Lower middle income        ZM  ...   \n",
       "297          Sub-Saharan Africa           Low income        ZW  ...   \n",
       "\n",
       "              2014          2015     Series Code                   Topic  \\\n",
       "0     5.349700e-02  5.369534e-02  EF.EFM.OVRL.XD  Economic Policy & Debt   \n",
       "1    3.890000e-233  7.890000e-13  EF.EFM.OVRL.XD  Economic Policy & Debt   \n",
       "2     3.423200e-01  3.746223e-01  EF.EFM.OVRL.XD  Economic Policy & Debt   \n",
       "3     1.807900e-01  3.694202e-01  EF.EFM.OVRL.XD  Economic Policy & Debt   \n",
       "4     1.813300e-01  3.438621e-01  EF.EFM.OVRL.XD  Economic Policy & Debt   \n",
       "..             ...           ...             ...                     ...   \n",
       "293   3.700000e+01  3.600000e+01  EF.EFM.RANK.XD  Economic Policy & Debt   \n",
       "294   1.180000e+02  1.070000e+02  EF.EFM.RANK.XD  Economic Policy & Debt   \n",
       "295   4.400000e+01  4.500000e+01  EF.EFM.RANK.XD  Economic Policy & Debt   \n",
       "296   1.070000e+02  1.090000e+02  EF.EFM.RANK.XD  Economic Policy & Debt   \n",
       "297   9.300000e+01  1.000000e+02  EF.EFM.RANK.XD  Economic Policy & Debt   \n",
       "\n",
       "                                     Indicator Name  \\\n",
       "0                           Economic Fitness Metric   \n",
       "1                           Economic Fitness Metric   \n",
       "2                           Economic Fitness Metric   \n",
       "3                           Economic Fitness Metric   \n",
       "4                           Economic Fitness Metric   \n",
       "..                                              ...   \n",
       "293  Economic Fitness Ranking (1 = high, 149 = low)   \n",
       "294  Economic Fitness Ranking (1 = high, 149 = low)   \n",
       "295  Economic Fitness Ranking (1 = high, 149 = low)   \n",
       "296  Economic Fitness Ranking (1 = high, 149 = low)   \n",
       "297  Economic Fitness Ranking (1 = high, 149 = low)   \n",
       "\n",
       "                                       Long definition Periodicity  \\\n",
       "0    Economic Fitness (EF) is both a measure of a c...      Annual   \n",
       "1    Economic Fitness (EF) is both a measure of a c...      Annual   \n",
       "2    Economic Fitness (EF) is both a measure of a c...      Annual   \n",
       "3    Economic Fitness (EF) is both a measure of a c...      Annual   \n",
       "4    Economic Fitness (EF) is both a measure of a c...      Annual   \n",
       "..                                                 ...         ...   \n",
       "293                                                NaN      Annual   \n",
       "294                                                NaN      Annual   \n",
       "295                                                NaN      Annual   \n",
       "296                                                NaN      Annual   \n",
       "297                                                NaN      Annual   \n",
       "\n",
       "                            Limitations and exceptions  \\\n",
       "0    The trade data are necessary to define a coher...   \n",
       "1    The trade data are necessary to define a coher...   \n",
       "2    The trade data are necessary to define a coher...   \n",
       "3    The trade data are necessary to define a coher...   \n",
       "4    The trade data are necessary to define a coher...   \n",
       "..                                                 ...   \n",
       "293  The trade data are necessary to define a coher...   \n",
       "294  The trade data are necessary to define a coher...   \n",
       "295  The trade data are necessary to define a coher...   \n",
       "296  The trade data are necessary to define a coher...   \n",
       "297  The trade data are necessary to define a coher...   \n",
       "\n",
       "                                                Source  \\\n",
       "0    World Bank, Economic Fitness project. For more...   \n",
       "1    World Bank, Economic Fitness project. For more...   \n",
       "2    World Bank, Economic Fitness project. For more...   \n",
       "3    World Bank, Economic Fitness project. For more...   \n",
       "4    World Bank, Economic Fitness project. For more...   \n",
       "..                                                 ...   \n",
       "293  World Bank, Economic Fitness project. For more...   \n",
       "294  World Bank, Economic Fitness project. For more...   \n",
       "295  World Bank, Economic Fitness project. For more...   \n",
       "296  World Bank, Economic Fitness project. For more...   \n",
       "297  World Bank, Economic Fitness project. For more...   \n",
       "\n",
       "                   Statistical concept and methodology  \n",
       "0    The new literature of Economic Fitness uses te...  \n",
       "1    The new literature of Economic Fitness uses te...  \n",
       "2    The new literature of Economic Fitness uses te...  \n",
       "3    The new literature of Economic Fitness uses te...  \n",
       "4    The new literature of Economic Fitness uses te...  \n",
       "..                                                 ...  \n",
       "293  The new literature of Economic Fitness uses te...  \n",
       "294  The new literature of Economic Fitness uses te...  \n",
       "295  The new literature of Economic Fitness uses te...  \n",
       "296  The new literature of Economic Fitness uses te...  \n",
       "297  The new literature of Economic Fitness uses te...  \n",
       "\n",
       "[298 rows x 41 columns]"
      ],
      "text/html": "<div>\n<style scoped>\n    .dataframe tbody tr th:only-of-type {\n        vertical-align: middle;\n    }\n\n    .dataframe tbody tr th {\n        vertical-align: top;\n    }\n\n    .dataframe thead th {\n        text-align: right;\n    }\n</style>\n<table border=\"1\" class=\"dataframe\">\n  <thead>\n    <tr style=\"text-align: right;\">\n      <th></th>\n      <th>Country Code</th>\n      <th>Short Name</th>\n      <th>Table Name</th>\n      <th>Long Name</th>\n      <th>2-alpha code</th>\n      <th>Currency Unit</th>\n      <th>Special Notes</th>\n      <th>Region</th>\n      <th>Income Group</th>\n      <th>WB-2 code</th>\n      <th>...</th>\n      <th>2014</th>\n      <th>2015</th>\n      <th>Series Code</th>\n      <th>Topic</th>\n      <th>Indicator Name</th>\n      <th>Long definition</th>\n      <th>Periodicity</th>\n      <th>Limitations and exceptions</th>\n      <th>Source</th>\n      <th>Statistical concept and methodology</th>\n    </tr>\n  </thead>\n  <tbody>\n    <tr>\n      <th>0</th>\n      <td>AFG</td>\n      <td>Afghanistan</td>\n      <td>Afghanistan</td>\n      <td>Islamic State of Afghanistan</td>\n      <td>AF</td>\n      <td>Afghan afghani</td>\n      <td>Fiscal year end: March 20; reporting period fo...</td>\n      <td>South Asia</td>\n      <td>Low income</td>\n      <td>AF</td>\n      <td>...</td>\n      <td>5.349700e-02</td>\n      <td>5.369534e-02</td>\n      <td>EF.EFM.OVRL.XD</td>\n      <td>Economic Policy &amp; Debt</td>\n      <td>Economic Fitness Metric</td>\n      <td>Economic Fitness (EF) is both a measure of a c...</td>\n      <td>Annual</td>\n      <td>The trade data are necessary to define a coher...</td>\n      <td>World Bank, Economic Fitness project. For more...</td>\n      <td>The new literature of Economic Fitness uses te...</td>\n    </tr>\n    <tr>\n      <th>1</th>\n      <td>AGO</td>\n      <td>Angola</td>\n      <td>Angola</td>\n      <td>People's Republic of Angola</td>\n      <td>AO</td>\n      <td>Angolan kwanza</td>\n      <td>NaN</td>\n      <td>Sub-Saharan Africa</td>\n      <td>Lower middle income</td>\n      <td>AO</td>\n      <td>...</td>\n      <td>3.890000e-233</td>\n      <td>7.890000e-13</td>\n      <td>EF.EFM.OVRL.XD</td>\n      <td>Economic Policy &amp; Debt</td>\n      <td>Economic Fitness Metric</td>\n      <td>Economic Fitness (EF) is both a measure of a c...</td>\n      <td>Annual</td>\n      <td>The trade data are necessary to define a coher...</td>\n      <td>World Bank, Economic Fitness project. For more...</td>\n      <td>The new literature of Economic Fitness uses te...</td>\n    </tr>\n    <tr>\n      <th>2</th>\n      <td>ALB</td>\n      <td>Albania</td>\n      <td>Albania</td>\n      <td>Republic of Albania</td>\n      <td>AL</td>\n      <td>Albanian lek</td>\n      <td>NaN</td>\n      <td>Europe &amp; Central Asia</td>\n      <td>Upper middle income</td>\n      <td>AL</td>\n      <td>...</td>\n      <td>3.423200e-01</td>\n      <td>3.746223e-01</td>\n      <td>EF.EFM.OVRL.XD</td>\n      <td>Economic Policy &amp; Debt</td>\n      <td>Economic Fitness Metric</td>\n      <td>Economic Fitness (EF) is both a measure of a c...</td>\n      <td>Annual</td>\n      <td>The trade data are necessary to define a coher...</td>\n      <td>World Bank, Economic Fitness project. For more...</td>\n      <td>The new literature of Economic Fitness uses te...</td>\n    </tr>\n    <tr>\n      <th>3</th>\n      <td>AND</td>\n      <td>Andorra</td>\n      <td>Andorra</td>\n      <td>Principality of Andorra</td>\n      <td>AD</td>\n      <td>Euro</td>\n      <td>WB-3 code changed from ADO to AND to align wit...</td>\n      <td>Europe &amp; Central Asia</td>\n      <td>High income</td>\n      <td>AD</td>\n      <td>...</td>\n      <td>1.807900e-01</td>\n      <td>3.694202e-01</td>\n      <td>EF.EFM.OVRL.XD</td>\n      <td>Economic Policy &amp; Debt</td>\n      <td>Economic Fitness Metric</td>\n      <td>Economic Fitness (EF) is both a measure of a c...</td>\n      <td>Annual</td>\n      <td>The trade data are necessary to define a coher...</td>\n      <td>World Bank, Economic Fitness project. For more...</td>\n      <td>The new literature of Economic Fitness uses te...</td>\n    </tr>\n    <tr>\n      <th>4</th>\n      <td>ARE</td>\n      <td>United Arab Emirates</td>\n      <td>United Arab Emirates</td>\n      <td>United Arab Emirates</td>\n      <td>AE</td>\n      <td>U.A.E. dirham</td>\n      <td>NaN</td>\n      <td>Middle East &amp; North Africa</td>\n      <td>High income</td>\n      <td>AE</td>\n      <td>...</td>\n      <td>1.813300e-01</td>\n      <td>3.438621e-01</td>\n      <td>EF.EFM.OVRL.XD</td>\n      <td>Economic Policy &amp; Debt</td>\n      <td>Economic Fitness Metric</td>\n      <td>Economic Fitness (EF) is both a measure of a c...</td>\n      <td>Annual</td>\n      <td>The trade data are necessary to define a coher...</td>\n      <td>World Bank, Economic Fitness project. For more...</td>\n      <td>The new literature of Economic Fitness uses te...</td>\n    </tr>\n    <tr>\n      <th>...</th>\n      <td>...</td>\n      <td>...</td>\n      <td>...</td>\n      <td>...</td>\n      <td>...</td>\n      <td>...</td>\n      <td>...</td>\n      <td>...</td>\n      <td>...</td>\n      <td>...</td>\n      <td>...</td>\n      <td>...</td>\n      <td>...</td>\n      <td>...</td>\n      <td>...</td>\n      <td>...</td>\n      <td>...</td>\n      <td>...</td>\n      <td>...</td>\n      <td>...</td>\n      <td>...</td>\n    </tr>\n    <tr>\n      <th>293</th>\n      <td>VNM</td>\n      <td>Vietnam</td>\n      <td>Vietnam</td>\n      <td>Socialist Republic of Vietnam</td>\n      <td>VN</td>\n      <td>Vietnamese dong</td>\n      <td>NaN</td>\n      <td>East Asia &amp; Pacific</td>\n      <td>Lower middle income</td>\n      <td>VN</td>\n      <td>...</td>\n      <td>3.700000e+01</td>\n      <td>3.600000e+01</td>\n      <td>EF.EFM.RANK.XD</td>\n      <td>Economic Policy &amp; Debt</td>\n      <td>Economic Fitness Ranking (1 = high, 149 = low)</td>\n      <td>NaN</td>\n      <td>Annual</td>\n      <td>The trade data are necessary to define a coher...</td>\n      <td>World Bank, Economic Fitness project. For more...</td>\n      <td>The new literature of Economic Fitness uses te...</td>\n    </tr>\n    <tr>\n      <th>294</th>\n      <td>YEM</td>\n      <td>Yemen</td>\n      <td>Yemen, Rep.</td>\n      <td>Republic of Yemen</td>\n      <td>YE</td>\n      <td>Yemeni rial</td>\n      <td>Based on official government statistics and In...</td>\n      <td>Middle East &amp; North Africa</td>\n      <td>Lower middle income</td>\n      <td>RY</td>\n      <td>...</td>\n      <td>1.180000e+02</td>\n      <td>1.070000e+02</td>\n      <td>EF.EFM.RANK.XD</td>\n      <td>Economic Policy &amp; Debt</td>\n      <td>Economic Fitness Ranking (1 = high, 149 = low)</td>\n      <td>NaN</td>\n      <td>Annual</td>\n      <td>The trade data are necessary to define a coher...</td>\n      <td>World Bank, Economic Fitness project. For more...</td>\n      <td>The new literature of Economic Fitness uses te...</td>\n    </tr>\n    <tr>\n      <th>295</th>\n      <td>ZAF</td>\n      <td>South Africa</td>\n      <td>South Africa</td>\n      <td>Republic of South Africa</td>\n      <td>ZA</td>\n      <td>South African rand</td>\n      <td>Fiscal year end: March 31; reporting period fo...</td>\n      <td>Sub-Saharan Africa</td>\n      <td>Upper middle income</td>\n      <td>ZA</td>\n      <td>...</td>\n      <td>4.400000e+01</td>\n      <td>4.500000e+01</td>\n      <td>EF.EFM.RANK.XD</td>\n      <td>Economic Policy &amp; Debt</td>\n      <td>Economic Fitness Ranking (1 = high, 149 = low)</td>\n      <td>NaN</td>\n      <td>Annual</td>\n      <td>The trade data are necessary to define a coher...</td>\n      <td>World Bank, Economic Fitness project. For more...</td>\n      <td>The new literature of Economic Fitness uses te...</td>\n    </tr>\n    <tr>\n      <th>296</th>\n      <td>ZMB</td>\n      <td>Zambia</td>\n      <td>Zambia</td>\n      <td>Republic of Zambia</td>\n      <td>ZM</td>\n      <td>New Zambian kwacha</td>\n      <td>The base year is 2010. National accounts data ...</td>\n      <td>Sub-Saharan Africa</td>\n      <td>Lower middle income</td>\n      <td>ZM</td>\n      <td>...</td>\n      <td>1.070000e+02</td>\n      <td>1.090000e+02</td>\n      <td>EF.EFM.RANK.XD</td>\n      <td>Economic Policy &amp; Debt</td>\n      <td>Economic Fitness Ranking (1 = high, 149 = low)</td>\n      <td>NaN</td>\n      <td>Annual</td>\n      <td>The trade data are necessary to define a coher...</td>\n      <td>World Bank, Economic Fitness project. For more...</td>\n      <td>The new literature of Economic Fitness uses te...</td>\n    </tr>\n    <tr>\n      <th>297</th>\n      <td>ZWE</td>\n      <td>Zimbabwe</td>\n      <td>Zimbabwe</td>\n      <td>Republic of Zimbabwe</td>\n      <td>ZW</td>\n      <td>U.S. dollar</td>\n      <td>Fiscal year end: June 30; reporting period for...</td>\n      <td>Sub-Saharan Africa</td>\n      <td>Low income</td>\n      <td>ZW</td>\n      <td>...</td>\n      <td>9.300000e+01</td>\n      <td>1.000000e+02</td>\n      <td>EF.EFM.RANK.XD</td>\n      <td>Economic Policy &amp; Debt</td>\n      <td>Economic Fitness Ranking (1 = high, 149 = low)</td>\n      <td>NaN</td>\n      <td>Annual</td>\n      <td>The trade data are necessary to define a coher...</td>\n      <td>World Bank, Economic Fitness project. For more...</td>\n      <td>The new literature of Economic Fitness uses te...</td>\n    </tr>\n  </tbody>\n</table>\n<p>298 rows × 41 columns</p>\n</div>"
     },
     "metadata": {},
     "execution_count": 45
    }
   ],
   "source": [
    "print(comb2.shape)\n",
    "comb2"
   ]
  },
  {
   "cell_type": "code",
   "execution_count": 24,
   "metadata": {},
   "outputs": [],
   "source": [
    "comb2.to_csv(export_path)"
   ]
  }
 ]
}