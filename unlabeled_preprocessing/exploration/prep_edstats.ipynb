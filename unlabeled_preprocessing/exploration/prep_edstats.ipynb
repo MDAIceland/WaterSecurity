{
 "metadata": {
  "language_info": {
   "codemirror_mode": {
    "name": "ipython",
    "version": 3
   },
   "file_extension": ".py",
   "mimetype": "text/x-python",
   "name": "python",
   "nbconvert_exporter": "python",
   "pygments_lexer": "ipython3",
   "version": "3.8.5"
  },
  "orig_nbformat": 2,
  "kernelspec": {
   "name": "python385jvsc74a57bd0b3ba2566441a7c06988d0923437866b63cedc61552a5af99d1f4fb67d367b25f",
   "display_name": "Python 3.8.5 64-bit ('base': conda)"
  }
 },
 "nbformat": 4,
 "nbformat_minor": 2,
 "cells": [
  {
   "cell_type": "code",
   "execution_count": 6,
   "metadata": {},
   "outputs": [],
   "source": [
    "import pandas as pd\n",
    "from helpers import *"
   ]
  },
  {
   "source": [
    "### Remember to extract Edstats_csv.zip to Edstats_csv"
   ],
   "cell_type": "markdown",
   "metadata": {}
  },
  {
   "cell_type": "code",
   "execution_count": 83,
   "metadata": {},
   "outputs": [],
   "source": [
    "data_path = \"C:/Users/joach/code-projects/WaterSecurity/data/unlabeled/Edstats_csv\"\n",
    "export_path = \"preprocessed_data/preprocessed_edstats.csv\""
   ]
  },
  {
   "cell_type": "code",
   "execution_count": 75,
   "metadata": {},
   "outputs": [],
   "source": [
    "#df_cs = pd.read_csv (f\"{data_path}/EdStatsCountry-Series.csv\")\n",
    "df_c = pd.read_csv (f\"{data_path}/EdStatsCountry.csv\")\n",
    "df_d = pd.read_csv (f\"{data_path}/EdStatsData.csv\")\n",
    "#df_fn = pd.read_csv (f\"{data_path}/EdStatsFootNote.csv\")\n",
    "df_s = pd.read_csv (f\"{data_path}/EdStatsSeries.csv\")"
   ]
  },
  {
   "cell_type": "code",
   "execution_count": 46,
   "metadata": {},
   "outputs": [
    {
     "output_type": "execute_result",
     "data": {
      "text/plain": [
       "Index(['Country Name', 'Country Code', 'Indicator Name', 'Indicator Code',\n",
       "       '1970', '1971', '1972', '1973', '1974', '1975', '1976', '1977', '1978',\n",
       "       '1979', '1980', '1981', '1982', '1983', '1984', '1985', '1986', '1987',\n",
       "       '1988', '1989', '1990', '1991', '1992', '1993', '1994', '1995', '1996',\n",
       "       '1997', '1998', '1999', '2000', '2001', '2002', '2003', '2004', '2005',\n",
       "       '2006', '2007', '2008', '2009', '2010', '2011', '2012', '2013', '2014',\n",
       "       '2015', '2016', '2017', '2020', '2025', '2030', '2035', '2040', '2045',\n",
       "       '2050', '2055', '2060', '2065', '2070', '2075', '2080', '2085', '2090',\n",
       "       '2095', '2100', 'Unnamed: 69'],\n",
       "      dtype='object')"
      ]
     },
     "metadata": {},
     "execution_count": 46
    }
   ],
   "source": [
    "df_d.columns"
   ]
  },
  {
   "cell_type": "code",
   "execution_count": 67,
   "metadata": {},
   "outputs": [
    {
     "output_type": "execute_result",
     "data": {
      "text/plain": [
       "       Country Code        Indicator Code  2015  2016  2017  2020  2025\n",
       "0               ARB            UIS.NERA.2   NaN   NaN   NaN   NaN   NaN\n",
       "1               ARB          UIS.NERA.2.F   NaN   NaN   NaN   NaN   NaN\n",
       "2               ARB        UIS.NERA.2.GPI   NaN   NaN   NaN   NaN   NaN\n",
       "3               ARB          UIS.NERA.2.M   NaN   NaN   NaN   NaN   NaN\n",
       "4               ARB           SE.PRM.TENR   NaN   NaN   NaN   NaN   NaN\n",
       "...             ...                   ...   ...   ...   ...   ...   ...\n",
       "886925          ZWE      UIS.LP.AG15T24.M   NaN   NaN   NaN   NaN   NaN\n",
       "886926          ZWE     SE.ADT.1524.LT.ZS   NaN   NaN   NaN   NaN   NaN\n",
       "886927          ZWE  SE.ADT.1524.LT.FE.ZS   NaN   NaN   NaN   NaN   NaN\n",
       "886928          ZWE  SE.ADT.1524.LT.FM.ZS   NaN   NaN   NaN   NaN   NaN\n",
       "886929          ZWE  SE.ADT.1524.LT.MA.ZS   NaN   NaN   NaN   NaN   NaN\n",
       "\n",
       "[886930 rows x 7 columns]"
      ],
      "text/html": "<div>\n<style scoped>\n    .dataframe tbody tr th:only-of-type {\n        vertical-align: middle;\n    }\n\n    .dataframe tbody tr th {\n        vertical-align: top;\n    }\n\n    .dataframe thead th {\n        text-align: right;\n    }\n</style>\n<table border=\"1\" class=\"dataframe\">\n  <thead>\n    <tr style=\"text-align: right;\">\n      <th></th>\n      <th>Country Code</th>\n      <th>Indicator Code</th>\n      <th>2015</th>\n      <th>2016</th>\n      <th>2017</th>\n      <th>2020</th>\n      <th>2025</th>\n    </tr>\n  </thead>\n  <tbody>\n    <tr>\n      <th>0</th>\n      <td>ARB</td>\n      <td>UIS.NERA.2</td>\n      <td>NaN</td>\n      <td>NaN</td>\n      <td>NaN</td>\n      <td>NaN</td>\n      <td>NaN</td>\n    </tr>\n    <tr>\n      <th>1</th>\n      <td>ARB</td>\n      <td>UIS.NERA.2.F</td>\n      <td>NaN</td>\n      <td>NaN</td>\n      <td>NaN</td>\n      <td>NaN</td>\n      <td>NaN</td>\n    </tr>\n    <tr>\n      <th>2</th>\n      <td>ARB</td>\n      <td>UIS.NERA.2.GPI</td>\n      <td>NaN</td>\n      <td>NaN</td>\n      <td>NaN</td>\n      <td>NaN</td>\n      <td>NaN</td>\n    </tr>\n    <tr>\n      <th>3</th>\n      <td>ARB</td>\n      <td>UIS.NERA.2.M</td>\n      <td>NaN</td>\n      <td>NaN</td>\n      <td>NaN</td>\n      <td>NaN</td>\n      <td>NaN</td>\n    </tr>\n    <tr>\n      <th>4</th>\n      <td>ARB</td>\n      <td>SE.PRM.TENR</td>\n      <td>NaN</td>\n      <td>NaN</td>\n      <td>NaN</td>\n      <td>NaN</td>\n      <td>NaN</td>\n    </tr>\n    <tr>\n      <th>...</th>\n      <td>...</td>\n      <td>...</td>\n      <td>...</td>\n      <td>...</td>\n      <td>...</td>\n      <td>...</td>\n      <td>...</td>\n    </tr>\n    <tr>\n      <th>886925</th>\n      <td>ZWE</td>\n      <td>UIS.LP.AG15T24.M</td>\n      <td>NaN</td>\n      <td>NaN</td>\n      <td>NaN</td>\n      <td>NaN</td>\n      <td>NaN</td>\n    </tr>\n    <tr>\n      <th>886926</th>\n      <td>ZWE</td>\n      <td>SE.ADT.1524.LT.ZS</td>\n      <td>NaN</td>\n      <td>NaN</td>\n      <td>NaN</td>\n      <td>NaN</td>\n      <td>NaN</td>\n    </tr>\n    <tr>\n      <th>886927</th>\n      <td>ZWE</td>\n      <td>SE.ADT.1524.LT.FE.ZS</td>\n      <td>NaN</td>\n      <td>NaN</td>\n      <td>NaN</td>\n      <td>NaN</td>\n      <td>NaN</td>\n    </tr>\n    <tr>\n      <th>886928</th>\n      <td>ZWE</td>\n      <td>SE.ADT.1524.LT.FM.ZS</td>\n      <td>NaN</td>\n      <td>NaN</td>\n      <td>NaN</td>\n      <td>NaN</td>\n      <td>NaN</td>\n    </tr>\n    <tr>\n      <th>886929</th>\n      <td>ZWE</td>\n      <td>SE.ADT.1524.LT.MA.ZS</td>\n      <td>NaN</td>\n      <td>NaN</td>\n      <td>NaN</td>\n      <td>NaN</td>\n      <td>NaN</td>\n    </tr>\n  </tbody>\n</table>\n<p>886930 rows × 7 columns</p>\n</div>"
     },
     "metadata": {},
     "execution_count": 67
    }
   ],
   "source": [
    "years = ['2015', '2016', '2017', '2020', '2025']\n",
    "stripped_df_d = df_d[['Country Code','Indicator Code',*years]]\n",
    "stripped_df_d"
   ]
  },
  {
   "cell_type": "code",
   "execution_count": 64,
   "metadata": {},
   "outputs": [],
   "source": [
    "dropColumnHalf(df_s)\n",
    "df_d_withseries = stripped_df_d.merge(df_s, how='left', left_on='Indicator Code', right_on='Series Code')\n",
    "df_d_withseries.drop(['Indicator Code'], inplace=True, axis=1)"
   ]
  },
  {
   "cell_type": "code",
   "execution_count": 65,
   "metadata": {},
   "outputs": [
    {
     "output_type": "execute_result",
     "data": {
      "text/plain": [
       "Index(['Country Code', '2015', '2016', '2017', '2020', '2025', 'Series Code',\n",
       "       'Topic', 'Indicator Name', 'Short definition', 'Long definition',\n",
       "       'Source'],\n",
       "      dtype='object')"
      ]
     },
     "metadata": {},
     "execution_count": 65
    }
   ],
   "source": [
    "df_d_withseries.columns"
   ]
  },
  {
   "cell_type": "code",
   "execution_count": 78,
   "metadata": {},
   "outputs": [],
   "source": [
    "dropColumnHalf(df_c)"
   ]
  },
  {
   "cell_type": "code",
   "execution_count": 81,
   "metadata": {},
   "outputs": [
    {
     "output_type": "execute_result",
     "data": {
      "text/plain": [
       "Index(['Country Code', '2015', '2016', '2017', '2020', '2025', 'Series Code',\n",
       "       'Topic', 'Indicator Name', 'Short definition', 'Long definition',\n",
       "       'Source', 'Short Name', 'Table Name', 'Long Name', '2-alpha code',\n",
       "       'Currency Unit', 'Special Notes', 'Region', 'Income Group', 'WB-2 code',\n",
       "       'National accounts base year', 'SNA price valuation',\n",
       "       'Lending category', 'System of National Accounts', 'PPP survey year',\n",
       "       'Balance of Payments Manual in use', 'External debt Reporting status',\n",
       "       'System of trade', 'Government Accounting concept',\n",
       "       'IMF data dissemination standard', 'Latest population census',\n",
       "       'Latest household survey',\n",
       "       'Source of most recent Income and expenditure data',\n",
       "       'Latest agricultural census', 'Latest trade data',\n",
       "       'Latest water withdrawal data'],\n",
       "      dtype='object')"
      ]
     },
     "metadata": {},
     "execution_count": 81
    }
   ],
   "source": [
    "bigtable = df_d_withseries.merge(df_c, how='left', on=\"Country Code\")\n",
    "bigtable.columns"
   ]
  },
  {
   "cell_type": "code",
   "execution_count": 82,
   "metadata": {},
   "outputs": [],
   "source": [
    "bigtable.to_csv(export_path)"
   ]
  }
 ]
}