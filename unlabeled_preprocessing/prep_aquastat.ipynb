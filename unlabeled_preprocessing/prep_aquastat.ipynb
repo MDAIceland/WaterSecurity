{
 "metadata": {
  "language_info": {
   "codemirror_mode": {
    "name": "ipython",
    "version": 3
   },
   "file_extension": ".py",
   "mimetype": "text/x-python",
   "name": "python",
   "nbconvert_exporter": "python",
   "pygments_lexer": "ipython3",
   "version": "3.9.4"
  },
  "orig_nbformat": 2,
  "kernelspec": {
   "name": "python394jvsc74a57bd01e002e48d41ce7b93ab532133c559bfbfa167161e2109b258903f10473d9f54b",
   "display_name": "Python 3.9.4 64-bit ('wsenv': conda)"
  }
 },
 "nbformat": 4,
 "nbformat_minor": 2,
 "cells": [
  {
   "cell_type": "code",
   "execution_count": 1,
   "metadata": {},
   "outputs": [
    {
     "output_type": "stream",
     "name": "stderr",
     "text": [
      "..\\data\\unlabeled\\__init__.py:40: ParserWarning: Falling back to the 'python' engine because the 'c' engine does not support skipfooter; you can avoid this warning by specifying engine='python'.\n  aquastat_eah = pd.read_csv(aquastat_eah_path, skipfooter=8)\n..\\data\\unlabeled\\__init__.py:41: ParserWarning: Falling back to the 'python' engine because the 'c' engine does not support skipfooter; you can avoid this warning by specifying engine='python'.\n  aquastat_wr = pd.read_csv(aquastat_wr_path, skipfooter=8)\n..\\data\\unlabeled\\__init__.py:42: ParserWarning: Falling back to the 'python' engine because the 'c' engine does not support skipfooter; you can avoid this warning by specifying engine='python'.\n  aquastat_wu = pd.read_csv(aquastat_wu_path, skipfooter=8)\n"
     ]
    }
   ],
   "source": [
    "import pandas as pd\n",
    "import sklearn\n",
    "from helpers import *\n",
    "import matplotlib.pyplot as plt\n",
    "import sys\n",
    "sys.path.append(\"..\")\n",
    "from data.unlabeled import aquastat_eah, aquastat_wr, aquastat_wu\n",
    "import seaborn as sns"
   ]
  },
  {
   "cell_type": "code",
   "execution_count": 10,
   "metadata": {},
   "outputs": [
    {
     "output_type": "stream",
     "name": "stdout",
     "text": [
      "<class 'pandas.core.frame.DataFrame'>\nRangeIndex: 1951 entries, 0 to 1950\nData columns (total 9 columns):\n #   Column         Non-Null Count  Dtype  \n---  ------         --------------  -----  \n 0   Area           1951 non-null   object \n 1   Area Id        1951 non-null   int64  \n 2   Variable Name  1951 non-null   object \n 3   Variable Id    1951 non-null   int64  \n 4   Year           1951 non-null   int64  \n 5   Value          1951 non-null   float64\n 6   Symbol         1951 non-null   object \n 7   Md             0 non-null      float64\n 8   Unknown        1951 non-null   int64  \ndtypes: float64(2), int64(4), object(3)\nmemory usage: 137.3+ KB\n"
     ]
    }
   ],
   "source": [
    "aquastat_wu.info()"
   ]
  },
  {
   "cell_type": "code",
   "execution_count": null,
   "metadata": {},
   "outputs": [],
   "source": []
  }
 ]
}