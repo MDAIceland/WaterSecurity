{
 "metadata": {
  "language_info": {
   "codemirror_mode": {
    "name": "ipython",
    "version": 3
   },
   "file_extension": ".py",
   "mimetype": "text/x-python",
   "name": "python",
   "nbconvert_exporter": "python",
   "pygments_lexer": "ipython3",
   "version": "3.9.4"
  },
  "orig_nbformat": 2,
  "kernelspec": {
   "name": "python394jvsc74a57bd01e002e48d41ce7b93ab532133c559bfbfa167161e2109b258903f10473d9f54b",
   "display_name": "Python 3.9.4 64-bit ('wsenv': conda)"
  }
 },
 "nbformat": 4,
 "nbformat_minor": 2,
 "cells": [
  {
   "source": [
    "import pandas as pd\n",
    "from helpers import *\n",
    "import sys\n",
    "sys.path.append(\"..\")\n",
    "from data.unlabeled.raw import econ_co as df1, econ_da as df2, econ_se as df3"
   ],
   "cell_type": "code",
   "metadata": {},
   "execution_count": 1,
   "outputs": [
    {
     "output_type": "stream",
     "name": "stderr",
     "text": [
      "..\\data\\unlabeled\\raw\\__init__.py:41: ParserWarning: Falling back to the 'python' engine because the 'c' engine does not support skipfooter; you can avoid this warning by specifying engine='python'.\n  aquastat_eah = pd.read_csv(aquastat_eah_path, skipfooter=8)\n..\\data\\unlabeled\\raw\\__init__.py:42: ParserWarning: Falling back to the 'python' engine because the 'c' engine does not support skipfooter; you can avoid this warning by specifying engine='python'.\n  aquastat_wr = pd.read_csv(aquastat_wr_path, skipfooter=8)\n..\\data\\unlabeled\\raw\\__init__.py:43: ParserWarning: Falling back to the 'python' engine because the 'c' engine does not support skipfooter; you can avoid this warning by specifying engine='python'.\n  aquastat_wu = pd.read_csv(aquastat_wu_path, skipfooter=8)\n"
     ]
    }
   ]
  },
  {
   "cell_type": "code",
   "execution_count": 2,
   "metadata": {},
   "outputs": [
    {
     "output_type": "stream",
     "name": "stdout",
     "text": [
      "Index(['Country Name', 'Country Code', 'Indicator Name', 'Indicator Code',\n       '1995', '1996', '1997', '1998', '1999', '2000', '2001', '2002', '2003',\n       '2004', '2005', '2006', '2007', '2008', '2009', '2010', '2011', '2012',\n       '2013', '2014', '2015', 'Unnamed: 25'],\n      dtype='object')\n"
     ]
    }
   ],
   "source": [
    "print(df2.columns)"
   ]
  },
  {
   "source": [
    "### Only look at the years listed below"
   ],
   "cell_type": "markdown",
   "metadata": {}
  },
  {
   "cell_type": "code",
   "execution_count": 3,
   "metadata": {},
   "outputs": [
    {
     "output_type": "execute_result",
     "data": {
      "text/plain": [
       "(298, 8)"
      ]
     },
     "metadata": {},
     "execution_count": 3
    }
   ],
   "source": [
    "years = ['2010', '2011', '2012','2013', '2014', '2015']\n",
    "df2 = df2[['Country Code','Indicator Code',*years]]\n",
    "df2.shape"
   ]
  },
  {
   "cell_type": "code",
   "execution_count": 4,
   "metadata": {},
   "outputs": [
    {
     "output_type": "execute_result",
     "data": {
      "text/plain": [
       "Country Code      0\n",
       "Indicator Code    0\n",
       "2010              0\n",
       "2011              0\n",
       "2012              2\n",
       "2013              2\n",
       "2014              2\n",
       "2015              2\n",
       "dtype: int64"
      ]
     },
     "metadata": {},
     "execution_count": 4
    }
   ],
   "source": [
    "df2.isna().sum()"
   ]
  },
  {
   "source": [
    "### Same missing values in 2012-2015 -> Merge 2011 with 2015 and remove the rest"
   ],
   "cell_type": "markdown",
   "metadata": {}
  },
  {
   "cell_type": "code",
   "execution_count": 5,
   "metadata": {},
   "outputs": [
    {
     "output_type": "stream",
     "name": "stderr",
     "text": [
      "c:\\Users\\joach\\code-projects\\WaterSecurity\\unlabeled_preprocessing\\helpers.py:15: SettingWithCopyWarning: \nA value is trying to be set on a copy of a slice from a DataFrame.\nTry using .loc[row_indexer,col_indexer] = value instead\n\nSee the caveats in the documentation: https://pandas.pydata.org/pandas-docs/stable/user_guide/indexing.html#returning-a-view-versus-a-copy\n  df[into] = df[into].combine_first(df[fro])\nC:\\Users\\joach\\.conda\\envs\\wsenv\\lib\\site-packages\\pandas\\core\\frame.py:4308: SettingWithCopyWarning: \nA value is trying to be set on a copy of a slice from a DataFrame\n\nSee the caveats in the documentation: https://pandas.pydata.org/pandas-docs/stable/user_guide/indexing.html#returning-a-view-versus-a-copy\n  return super().drop(\n"
     ]
    },
    {
     "output_type": "execute_result",
     "data": {
      "text/plain": [
       "Country Code      0\n",
       "Indicator Code    0\n",
       "2010              0\n",
       "2012              2\n",
       "2013              2\n",
       "2014              2\n",
       "2015              0\n",
       "dtype: int64"
      ]
     },
     "metadata": {},
     "execution_count": 5
    }
   ],
   "source": [
    "fill_missing_with_column(df2,'2015','2011')\n",
    "df2.isna().sum()"
   ]
  },
  {
   "cell_type": "code",
   "execution_count": 6,
   "metadata": {},
   "outputs": [],
   "source": [
    "df2 = df2[['Country Code','Indicator Code','2015']]"
   ]
  },
  {
   "cell_type": "code",
   "execution_count": 7,
   "metadata": {},
   "outputs": [
    {
     "output_type": "execute_result",
     "data": {
      "text/plain": [
       "    Country Code  Indicator Code          2015\n",
       "0            AFG  EF.EFM.OVRL.XD  5.369534e-02\n",
       "1            AFG  EF.EFM.RANK.XD  1.120000e+02\n",
       "2            AGO  EF.EFM.OVRL.XD  7.890000e-13\n",
       "3            AGO  EF.EFM.RANK.XD  1.460000e+02\n",
       "4            ALB  EF.EFM.OVRL.XD  3.746223e-01\n",
       "..           ...             ...           ...\n",
       "293          ZAF  EF.EFM.RANK.XD  4.500000e+01\n",
       "294          ZMB  EF.EFM.OVRL.XD  6.530739e-02\n",
       "295          ZMB  EF.EFM.RANK.XD  1.090000e+02\n",
       "296          ZWE  EF.EFM.OVRL.XD  1.078169e-01\n",
       "297          ZWE  EF.EFM.RANK.XD  1.000000e+02\n",
       "\n",
       "[298 rows x 3 columns]"
      ],
      "text/html": "<div>\n<style scoped>\n    .dataframe tbody tr th:only-of-type {\n        vertical-align: middle;\n    }\n\n    .dataframe tbody tr th {\n        vertical-align: top;\n    }\n\n    .dataframe thead th {\n        text-align: right;\n    }\n</style>\n<table border=\"1\" class=\"dataframe\">\n  <thead>\n    <tr style=\"text-align: right;\">\n      <th></th>\n      <th>Country Code</th>\n      <th>Indicator Code</th>\n      <th>2015</th>\n    </tr>\n  </thead>\n  <tbody>\n    <tr>\n      <th>0</th>\n      <td>AFG</td>\n      <td>EF.EFM.OVRL.XD</td>\n      <td>5.369534e-02</td>\n    </tr>\n    <tr>\n      <th>1</th>\n      <td>AFG</td>\n      <td>EF.EFM.RANK.XD</td>\n      <td>1.120000e+02</td>\n    </tr>\n    <tr>\n      <th>2</th>\n      <td>AGO</td>\n      <td>EF.EFM.OVRL.XD</td>\n      <td>7.890000e-13</td>\n    </tr>\n    <tr>\n      <th>3</th>\n      <td>AGO</td>\n      <td>EF.EFM.RANK.XD</td>\n      <td>1.460000e+02</td>\n    </tr>\n    <tr>\n      <th>4</th>\n      <td>ALB</td>\n      <td>EF.EFM.OVRL.XD</td>\n      <td>3.746223e-01</td>\n    </tr>\n    <tr>\n      <th>...</th>\n      <td>...</td>\n      <td>...</td>\n      <td>...</td>\n    </tr>\n    <tr>\n      <th>293</th>\n      <td>ZAF</td>\n      <td>EF.EFM.RANK.XD</td>\n      <td>4.500000e+01</td>\n    </tr>\n    <tr>\n      <th>294</th>\n      <td>ZMB</td>\n      <td>EF.EFM.OVRL.XD</td>\n      <td>6.530739e-02</td>\n    </tr>\n    <tr>\n      <th>295</th>\n      <td>ZMB</td>\n      <td>EF.EFM.RANK.XD</td>\n      <td>1.090000e+02</td>\n    </tr>\n    <tr>\n      <th>296</th>\n      <td>ZWE</td>\n      <td>EF.EFM.OVRL.XD</td>\n      <td>1.078169e-01</td>\n    </tr>\n    <tr>\n      <th>297</th>\n      <td>ZWE</td>\n      <td>EF.EFM.RANK.XD</td>\n      <td>1.000000e+02</td>\n    </tr>\n  </tbody>\n</table>\n<p>298 rows × 3 columns</p>\n</div>"
     },
     "metadata": {},
     "execution_count": 7
    }
   ],
   "source": [
    "df2"
   ]
  },
  {
   "source": [
    "### Join indicator names"
   ],
   "cell_type": "markdown",
   "metadata": {}
  },
  {
   "cell_type": "code",
   "execution_count": 8,
   "metadata": {},
   "outputs": [
    {
     "output_type": "stream",
     "name": "stdout",
     "text": [
      "(298, 24)\n"
     ]
    }
   ],
   "source": [
    "comb1 = df2.merge(df3, how='inner', left_on='Indicator Code', right_on='Series Code')\n",
    "print(comb1.shape)"
   ]
  },
  {
   "cell_type": "code",
   "execution_count": 9,
   "metadata": {},
   "outputs": [
    {
     "output_type": "execute_result",
     "data": {
      "text/plain": [
       "    Country Code  Indicator Code          2015     Series Code  \\\n",
       "0            AFG  EF.EFM.OVRL.XD  5.369534e-02  EF.EFM.OVRL.XD   \n",
       "1            AGO  EF.EFM.OVRL.XD  7.890000e-13  EF.EFM.OVRL.XD   \n",
       "2            ALB  EF.EFM.OVRL.XD  3.746223e-01  EF.EFM.OVRL.XD   \n",
       "3            AND  EF.EFM.OVRL.XD  3.694202e-01  EF.EFM.OVRL.XD   \n",
       "4            ARE  EF.EFM.OVRL.XD  3.438621e-01  EF.EFM.OVRL.XD   \n",
       "..           ...             ...           ...             ...   \n",
       "293          VNM  EF.EFM.RANK.XD  3.600000e+01  EF.EFM.RANK.XD   \n",
       "294          YEM  EF.EFM.RANK.XD  1.070000e+02  EF.EFM.RANK.XD   \n",
       "295          ZAF  EF.EFM.RANK.XD  4.500000e+01  EF.EFM.RANK.XD   \n",
       "296          ZMB  EF.EFM.RANK.XD  1.090000e+02  EF.EFM.RANK.XD   \n",
       "297          ZWE  EF.EFM.RANK.XD  1.000000e+02  EF.EFM.RANK.XD   \n",
       "\n",
       "                      Topic                                  Indicator Name  \\\n",
       "0    Economic Policy & Debt                         Economic Fitness Metric   \n",
       "1    Economic Policy & Debt                         Economic Fitness Metric   \n",
       "2    Economic Policy & Debt                         Economic Fitness Metric   \n",
       "3    Economic Policy & Debt                         Economic Fitness Metric   \n",
       "4    Economic Policy & Debt                         Economic Fitness Metric   \n",
       "..                      ...                                             ...   \n",
       "293  Economic Policy & Debt  Economic Fitness Ranking (1 = high, 149 = low)   \n",
       "294  Economic Policy & Debt  Economic Fitness Ranking (1 = high, 149 = low)   \n",
       "295  Economic Policy & Debt  Economic Fitness Ranking (1 = high, 149 = low)   \n",
       "296  Economic Policy & Debt  Economic Fitness Ranking (1 = high, 149 = low)   \n",
       "297  Economic Policy & Debt  Economic Fitness Ranking (1 = high, 149 = low)   \n",
       "\n",
       "     Short definition                                    Long definition  \\\n",
       "0                 NaN  Economic Fitness (EF) is both a measure of a c...   \n",
       "1                 NaN  Economic Fitness (EF) is both a measure of a c...   \n",
       "2                 NaN  Economic Fitness (EF) is both a measure of a c...   \n",
       "3                 NaN  Economic Fitness (EF) is both a measure of a c...   \n",
       "4                 NaN  Economic Fitness (EF) is both a measure of a c...   \n",
       "..                ...                                                ...   \n",
       "293               NaN                                                NaN   \n",
       "294               NaN                                                NaN   \n",
       "295               NaN                                                NaN   \n",
       "296               NaN                                                NaN   \n",
       "297               NaN                                                NaN   \n",
       "\n",
       "     Unit of measure Periodicity  ...  Notes from original source  \\\n",
       "0                NaN      Annual  ...                         NaN   \n",
       "1                NaN      Annual  ...                         NaN   \n",
       "2                NaN      Annual  ...                         NaN   \n",
       "3                NaN      Annual  ...                         NaN   \n",
       "4                NaN      Annual  ...                         NaN   \n",
       "..               ...         ...  ...                         ...   \n",
       "293              NaN      Annual  ...                         NaN   \n",
       "294              NaN      Annual  ...                         NaN   \n",
       "295              NaN      Annual  ...                         NaN   \n",
       "296              NaN      Annual  ...                         NaN   \n",
       "297              NaN      Annual  ...                         NaN   \n",
       "\n",
       "     General comments                                             Source  \\\n",
       "0                 NaN  World Bank, Economic Fitness project. For more...   \n",
       "1                 NaN  World Bank, Economic Fitness project. For more...   \n",
       "2                 NaN  World Bank, Economic Fitness project. For more...   \n",
       "3                 NaN  World Bank, Economic Fitness project. For more...   \n",
       "4                 NaN  World Bank, Economic Fitness project. For more...   \n",
       "..                ...                                                ...   \n",
       "293               NaN  World Bank, Economic Fitness project. For more...   \n",
       "294               NaN  World Bank, Economic Fitness project. For more...   \n",
       "295               NaN  World Bank, Economic Fitness project. For more...   \n",
       "296               NaN  World Bank, Economic Fitness project. For more...   \n",
       "297               NaN  World Bank, Economic Fitness project. For more...   \n",
       "\n",
       "                   Statistical concept and methodology  Development relevance  \\\n",
       "0    The new literature of Economic Fitness uses te...                    NaN   \n",
       "1    The new literature of Economic Fitness uses te...                    NaN   \n",
       "2    The new literature of Economic Fitness uses te...                    NaN   \n",
       "3    The new literature of Economic Fitness uses te...                    NaN   \n",
       "4    The new literature of Economic Fitness uses te...                    NaN   \n",
       "..                                                 ...                    ...   \n",
       "293  The new literature of Economic Fitness uses te...                    NaN   \n",
       "294  The new literature of Economic Fitness uses te...                    NaN   \n",
       "295  The new literature of Economic Fitness uses te...                    NaN   \n",
       "296  The new literature of Economic Fitness uses te...                    NaN   \n",
       "297  The new literature of Economic Fitness uses te...                    NaN   \n",
       "\n",
       "     Related source links Other web links Related indicators  License Type  \\\n",
       "0                     NaN             NaN                NaN           NaN   \n",
       "1                     NaN             NaN                NaN           NaN   \n",
       "2                     NaN             NaN                NaN           NaN   \n",
       "3                     NaN             NaN                NaN           NaN   \n",
       "4                     NaN             NaN                NaN           NaN   \n",
       "..                    ...             ...                ...           ...   \n",
       "293                   NaN             NaN                NaN           NaN   \n",
       "294                   NaN             NaN                NaN           NaN   \n",
       "295                   NaN             NaN                NaN           NaN   \n",
       "296                   NaN             NaN                NaN           NaN   \n",
       "297                   NaN             NaN                NaN           NaN   \n",
       "\n",
       "     Unnamed: 20  \n",
       "0            NaN  \n",
       "1            NaN  \n",
       "2            NaN  \n",
       "3            NaN  \n",
       "4            NaN  \n",
       "..           ...  \n",
       "293          NaN  \n",
       "294          NaN  \n",
       "295          NaN  \n",
       "296          NaN  \n",
       "297          NaN  \n",
       "\n",
       "[298 rows x 24 columns]"
      ],
      "text/html": "<div>\n<style scoped>\n    .dataframe tbody tr th:only-of-type {\n        vertical-align: middle;\n    }\n\n    .dataframe tbody tr th {\n        vertical-align: top;\n    }\n\n    .dataframe thead th {\n        text-align: right;\n    }\n</style>\n<table border=\"1\" class=\"dataframe\">\n  <thead>\n    <tr style=\"text-align: right;\">\n      <th></th>\n      <th>Country Code</th>\n      <th>Indicator Code</th>\n      <th>2015</th>\n      <th>Series Code</th>\n      <th>Topic</th>\n      <th>Indicator Name</th>\n      <th>Short definition</th>\n      <th>Long definition</th>\n      <th>Unit of measure</th>\n      <th>Periodicity</th>\n      <th>...</th>\n      <th>Notes from original source</th>\n      <th>General comments</th>\n      <th>Source</th>\n      <th>Statistical concept and methodology</th>\n      <th>Development relevance</th>\n      <th>Related source links</th>\n      <th>Other web links</th>\n      <th>Related indicators</th>\n      <th>License Type</th>\n      <th>Unnamed: 20</th>\n    </tr>\n  </thead>\n  <tbody>\n    <tr>\n      <th>0</th>\n      <td>AFG</td>\n      <td>EF.EFM.OVRL.XD</td>\n      <td>5.369534e-02</td>\n      <td>EF.EFM.OVRL.XD</td>\n      <td>Economic Policy &amp; Debt</td>\n      <td>Economic Fitness Metric</td>\n      <td>NaN</td>\n      <td>Economic Fitness (EF) is both a measure of a c...</td>\n      <td>NaN</td>\n      <td>Annual</td>\n      <td>...</td>\n      <td>NaN</td>\n      <td>NaN</td>\n      <td>World Bank, Economic Fitness project. For more...</td>\n      <td>The new literature of Economic Fitness uses te...</td>\n      <td>NaN</td>\n      <td>NaN</td>\n      <td>NaN</td>\n      <td>NaN</td>\n      <td>NaN</td>\n      <td>NaN</td>\n    </tr>\n    <tr>\n      <th>1</th>\n      <td>AGO</td>\n      <td>EF.EFM.OVRL.XD</td>\n      <td>7.890000e-13</td>\n      <td>EF.EFM.OVRL.XD</td>\n      <td>Economic Policy &amp; Debt</td>\n      <td>Economic Fitness Metric</td>\n      <td>NaN</td>\n      <td>Economic Fitness (EF) is both a measure of a c...</td>\n      <td>NaN</td>\n      <td>Annual</td>\n      <td>...</td>\n      <td>NaN</td>\n      <td>NaN</td>\n      <td>World Bank, Economic Fitness project. For more...</td>\n      <td>The new literature of Economic Fitness uses te...</td>\n      <td>NaN</td>\n      <td>NaN</td>\n      <td>NaN</td>\n      <td>NaN</td>\n      <td>NaN</td>\n      <td>NaN</td>\n    </tr>\n    <tr>\n      <th>2</th>\n      <td>ALB</td>\n      <td>EF.EFM.OVRL.XD</td>\n      <td>3.746223e-01</td>\n      <td>EF.EFM.OVRL.XD</td>\n      <td>Economic Policy &amp; Debt</td>\n      <td>Economic Fitness Metric</td>\n      <td>NaN</td>\n      <td>Economic Fitness (EF) is both a measure of a c...</td>\n      <td>NaN</td>\n      <td>Annual</td>\n      <td>...</td>\n      <td>NaN</td>\n      <td>NaN</td>\n      <td>World Bank, Economic Fitness project. For more...</td>\n      <td>The new literature of Economic Fitness uses te...</td>\n      <td>NaN</td>\n      <td>NaN</td>\n      <td>NaN</td>\n      <td>NaN</td>\n      <td>NaN</td>\n      <td>NaN</td>\n    </tr>\n    <tr>\n      <th>3</th>\n      <td>AND</td>\n      <td>EF.EFM.OVRL.XD</td>\n      <td>3.694202e-01</td>\n      <td>EF.EFM.OVRL.XD</td>\n      <td>Economic Policy &amp; Debt</td>\n      <td>Economic Fitness Metric</td>\n      <td>NaN</td>\n      <td>Economic Fitness (EF) is both a measure of a c...</td>\n      <td>NaN</td>\n      <td>Annual</td>\n      <td>...</td>\n      <td>NaN</td>\n      <td>NaN</td>\n      <td>World Bank, Economic Fitness project. For more...</td>\n      <td>The new literature of Economic Fitness uses te...</td>\n      <td>NaN</td>\n      <td>NaN</td>\n      <td>NaN</td>\n      <td>NaN</td>\n      <td>NaN</td>\n      <td>NaN</td>\n    </tr>\n    <tr>\n      <th>4</th>\n      <td>ARE</td>\n      <td>EF.EFM.OVRL.XD</td>\n      <td>3.438621e-01</td>\n      <td>EF.EFM.OVRL.XD</td>\n      <td>Economic Policy &amp; Debt</td>\n      <td>Economic Fitness Metric</td>\n      <td>NaN</td>\n      <td>Economic Fitness (EF) is both a measure of a c...</td>\n      <td>NaN</td>\n      <td>Annual</td>\n      <td>...</td>\n      <td>NaN</td>\n      <td>NaN</td>\n      <td>World Bank, Economic Fitness project. For more...</td>\n      <td>The new literature of Economic Fitness uses te...</td>\n      <td>NaN</td>\n      <td>NaN</td>\n      <td>NaN</td>\n      <td>NaN</td>\n      <td>NaN</td>\n      <td>NaN</td>\n    </tr>\n    <tr>\n      <th>...</th>\n      <td>...</td>\n      <td>...</td>\n      <td>...</td>\n      <td>...</td>\n      <td>...</td>\n      <td>...</td>\n      <td>...</td>\n      <td>...</td>\n      <td>...</td>\n      <td>...</td>\n      <td>...</td>\n      <td>...</td>\n      <td>...</td>\n      <td>...</td>\n      <td>...</td>\n      <td>...</td>\n      <td>...</td>\n      <td>...</td>\n      <td>...</td>\n      <td>...</td>\n      <td>...</td>\n    </tr>\n    <tr>\n      <th>293</th>\n      <td>VNM</td>\n      <td>EF.EFM.RANK.XD</td>\n      <td>3.600000e+01</td>\n      <td>EF.EFM.RANK.XD</td>\n      <td>Economic Policy &amp; Debt</td>\n      <td>Economic Fitness Ranking (1 = high, 149 = low)</td>\n      <td>NaN</td>\n      <td>NaN</td>\n      <td>NaN</td>\n      <td>Annual</td>\n      <td>...</td>\n      <td>NaN</td>\n      <td>NaN</td>\n      <td>World Bank, Economic Fitness project. For more...</td>\n      <td>The new literature of Economic Fitness uses te...</td>\n      <td>NaN</td>\n      <td>NaN</td>\n      <td>NaN</td>\n      <td>NaN</td>\n      <td>NaN</td>\n      <td>NaN</td>\n    </tr>\n    <tr>\n      <th>294</th>\n      <td>YEM</td>\n      <td>EF.EFM.RANK.XD</td>\n      <td>1.070000e+02</td>\n      <td>EF.EFM.RANK.XD</td>\n      <td>Economic Policy &amp; Debt</td>\n      <td>Economic Fitness Ranking (1 = high, 149 = low)</td>\n      <td>NaN</td>\n      <td>NaN</td>\n      <td>NaN</td>\n      <td>Annual</td>\n      <td>...</td>\n      <td>NaN</td>\n      <td>NaN</td>\n      <td>World Bank, Economic Fitness project. For more...</td>\n      <td>The new literature of Economic Fitness uses te...</td>\n      <td>NaN</td>\n      <td>NaN</td>\n      <td>NaN</td>\n      <td>NaN</td>\n      <td>NaN</td>\n      <td>NaN</td>\n    </tr>\n    <tr>\n      <th>295</th>\n      <td>ZAF</td>\n      <td>EF.EFM.RANK.XD</td>\n      <td>4.500000e+01</td>\n      <td>EF.EFM.RANK.XD</td>\n      <td>Economic Policy &amp; Debt</td>\n      <td>Economic Fitness Ranking (1 = high, 149 = low)</td>\n      <td>NaN</td>\n      <td>NaN</td>\n      <td>NaN</td>\n      <td>Annual</td>\n      <td>...</td>\n      <td>NaN</td>\n      <td>NaN</td>\n      <td>World Bank, Economic Fitness project. For more...</td>\n      <td>The new literature of Economic Fitness uses te...</td>\n      <td>NaN</td>\n      <td>NaN</td>\n      <td>NaN</td>\n      <td>NaN</td>\n      <td>NaN</td>\n      <td>NaN</td>\n    </tr>\n    <tr>\n      <th>296</th>\n      <td>ZMB</td>\n      <td>EF.EFM.RANK.XD</td>\n      <td>1.090000e+02</td>\n      <td>EF.EFM.RANK.XD</td>\n      <td>Economic Policy &amp; Debt</td>\n      <td>Economic Fitness Ranking (1 = high, 149 = low)</td>\n      <td>NaN</td>\n      <td>NaN</td>\n      <td>NaN</td>\n      <td>Annual</td>\n      <td>...</td>\n      <td>NaN</td>\n      <td>NaN</td>\n      <td>World Bank, Economic Fitness project. For more...</td>\n      <td>The new literature of Economic Fitness uses te...</td>\n      <td>NaN</td>\n      <td>NaN</td>\n      <td>NaN</td>\n      <td>NaN</td>\n      <td>NaN</td>\n      <td>NaN</td>\n    </tr>\n    <tr>\n      <th>297</th>\n      <td>ZWE</td>\n      <td>EF.EFM.RANK.XD</td>\n      <td>1.000000e+02</td>\n      <td>EF.EFM.RANK.XD</td>\n      <td>Economic Policy &amp; Debt</td>\n      <td>Economic Fitness Ranking (1 = high, 149 = low)</td>\n      <td>NaN</td>\n      <td>NaN</td>\n      <td>NaN</td>\n      <td>Annual</td>\n      <td>...</td>\n      <td>NaN</td>\n      <td>NaN</td>\n      <td>World Bank, Economic Fitness project. For more...</td>\n      <td>The new literature of Economic Fitness uses te...</td>\n      <td>NaN</td>\n      <td>NaN</td>\n      <td>NaN</td>\n      <td>NaN</td>\n      <td>NaN</td>\n      <td>NaN</td>\n    </tr>\n  </tbody>\n</table>\n<p>298 rows × 24 columns</p>\n</div>"
     },
     "metadata": {},
     "execution_count": 9
    }
   ],
   "source": [
    "comb1"
   ]
  },
  {
   "source": [
    "### Pivot so that table is countrycodeXindicator"
   ],
   "cell_type": "markdown",
   "metadata": {}
  },
  {
   "cell_type": "code",
   "execution_count": 10,
   "metadata": {},
   "outputs": [
    {
     "output_type": "execute_result",
     "data": {
      "text/plain": [
       "Indicator Name  Economic Fitness Metric  \\\n",
       "Country Code                              \n",
       "AFG                        5.369534e-02   \n",
       "AGO                        7.890000e-13   \n",
       "ALB                        3.746223e-01   \n",
       "AND                        3.694202e-01   \n",
       "ARE                        3.438621e-01   \n",
       "...                                 ...   \n",
       "VNM                        1.391330e+00   \n",
       "YEM                        7.417100e-02   \n",
       "ZAF                        9.784253e-01   \n",
       "ZMB                        6.530739e-02   \n",
       "ZWE                        1.078169e-01   \n",
       "\n",
       "Indicator Name  Economic Fitness Ranking (1 = high, 149 = low)  \n",
       "Country Code                                                    \n",
       "AFG                                                      112.0  \n",
       "AGO                                                      146.0  \n",
       "ALB                                                       73.0  \n",
       "AND                                                       74.0  \n",
       "ARE                                                       76.0  \n",
       "...                                                        ...  \n",
       "VNM                                                       36.0  \n",
       "YEM                                                      107.0  \n",
       "ZAF                                                       45.0  \n",
       "ZMB                                                      109.0  \n",
       "ZWE                                                      100.0  \n",
       "\n",
       "[149 rows x 2 columns]"
      ],
      "text/html": "<div>\n<style scoped>\n    .dataframe tbody tr th:only-of-type {\n        vertical-align: middle;\n    }\n\n    .dataframe tbody tr th {\n        vertical-align: top;\n    }\n\n    .dataframe thead th {\n        text-align: right;\n    }\n</style>\n<table border=\"1\" class=\"dataframe\">\n  <thead>\n    <tr style=\"text-align: right;\">\n      <th>Indicator Name</th>\n      <th>Economic Fitness Metric</th>\n      <th>Economic Fitness Ranking (1 = high, 149 = low)</th>\n    </tr>\n    <tr>\n      <th>Country Code</th>\n      <th></th>\n      <th></th>\n    </tr>\n  </thead>\n  <tbody>\n    <tr>\n      <th>AFG</th>\n      <td>5.369534e-02</td>\n      <td>112.0</td>\n    </tr>\n    <tr>\n      <th>AGO</th>\n      <td>7.890000e-13</td>\n      <td>146.0</td>\n    </tr>\n    <tr>\n      <th>ALB</th>\n      <td>3.746223e-01</td>\n      <td>73.0</td>\n    </tr>\n    <tr>\n      <th>AND</th>\n      <td>3.694202e-01</td>\n      <td>74.0</td>\n    </tr>\n    <tr>\n      <th>ARE</th>\n      <td>3.438621e-01</td>\n      <td>76.0</td>\n    </tr>\n    <tr>\n      <th>...</th>\n      <td>...</td>\n      <td>...</td>\n    </tr>\n    <tr>\n      <th>VNM</th>\n      <td>1.391330e+00</td>\n      <td>36.0</td>\n    </tr>\n    <tr>\n      <th>YEM</th>\n      <td>7.417100e-02</td>\n      <td>107.0</td>\n    </tr>\n    <tr>\n      <th>ZAF</th>\n      <td>9.784253e-01</td>\n      <td>45.0</td>\n    </tr>\n    <tr>\n      <th>ZMB</th>\n      <td>6.530739e-02</td>\n      <td>109.0</td>\n    </tr>\n    <tr>\n      <th>ZWE</th>\n      <td>1.078169e-01</td>\n      <td>100.0</td>\n    </tr>\n  </tbody>\n</table>\n<p>149 rows × 2 columns</p>\n</div>"
     },
     "metadata": {},
     "execution_count": 10
    }
   ],
   "source": [
    "countryXindicator = comb1.pivot_table('2015',['Country Code'], 'Indicator Name')\n",
    "countryXindicator"
   ]
  },
  {
   "source": [
    "### No missing values -> no imputation needed"
   ],
   "cell_type": "markdown",
   "metadata": {}
  },
  {
   "cell_type": "code",
   "execution_count": 11,
   "metadata": {},
   "outputs": [
    {
     "output_type": "stream",
     "name": "stdout",
     "text": [
      "Max, min and mean number of missing values for the columns\nMax: 0.0 %\nMin: 0.0 %\nMean: 0.0 %\n"
     ]
    },
    {
     "output_type": "execute_result",
     "data": {
      "text/plain": [
       "(0.0, 0.0)"
      ]
     },
     "metadata": {},
     "execution_count": 11
    }
   ],
   "source": [
    "print_missing_percentages(countryXindicator)"
   ]
  },
  {
   "source": [
    "### Merge with country information"
   ],
   "cell_type": "markdown",
   "metadata": {}
  },
  {
   "cell_type": "code",
   "execution_count": 12,
   "metadata": {},
   "outputs": [],
   "source": [
    "comb2 = df1.merge(countryXindicator, how='inner', left_on='Country Code', right_on='Country Code')"
   ]
  },
  {
   "cell_type": "code",
   "execution_count": 13,
   "metadata": {},
   "outputs": [
    {
     "output_type": "stream",
     "name": "stdout",
     "text": [
      "Index(['Country Code', 'Short Name', 'Table Name', 'Long Name', '2-alpha code',\n       'Currency Unit', 'Special Notes', 'Region', 'Income Group', 'WB-2 code',\n       'National accounts base year', 'National accounts reference year',\n       'SNA price valuation', 'Lending category', 'Other groups',\n       'System of National Accounts', 'Alternative conversion factor',\n       'PPP survey year', 'Balance of Payments Manual in use',\n       'External debt Reporting status', 'System of trade',\n       'Government Accounting concept', 'IMF data dissemination standard',\n       'Latest population census', 'Latest household survey',\n       'Source of most recent Income and expenditure data',\n       'Vital registration complete', 'Latest agricultural census',\n       'Latest industrial data', 'Latest trade data',\n       'Latest water withdrawal data', 'Unnamed: 31',\n       'Economic Fitness Metric',\n       'Economic Fitness Ranking (1 = high, 149 = low)'],\n      dtype='object')\n(149, 34)\n"
     ]
    }
   ],
   "source": [
    "print(comb2.columns)\n",
    "print(comb2.shape)"
   ]
  },
  {
   "cell_type": "code",
   "execution_count": 14,
   "metadata": {},
   "outputs": [
    {
     "output_type": "display_data",
     "data": {
      "text/plain": "    Country Code            Short Name            Table Name  \\\n0            AFG           Afghanistan           Afghanistan   \n1            AGO                Angola                Angola   \n2            ALB               Albania               Albania   \n3            AND               Andorra               Andorra   \n4            ARE  United Arab Emirates  United Arab Emirates   \n..           ...                   ...                   ...   \n144          VNM               Vietnam               Vietnam   \n145          YEM                 Yemen           Yemen, Rep.   \n146          ZAF          South Africa          South Africa   \n147          ZMB                Zambia                Zambia   \n148          ZWE              Zimbabwe              Zimbabwe   \n\n                         Long Name 2-alpha code       Currency Unit  \\\n0     Islamic State of Afghanistan           AF      Afghan afghani   \n1      People's Republic of Angola           AO      Angolan kwanza   \n2              Republic of Albania           AL        Albanian lek   \n3          Principality of Andorra           AD                Euro   \n4             United Arab Emirates           AE       U.A.E. dirham   \n..                             ...          ...                 ...   \n144  Socialist Republic of Vietnam           VN     Vietnamese dong   \n145              Republic of Yemen           YE         Yemeni rial   \n146       Republic of South Africa           ZA  South African rand   \n147             Republic of Zambia           ZM  New Zambian kwacha   \n148           Republic of Zimbabwe           ZW         U.S. dollar   \n\n                                         Special Notes  \\\n0    Fiscal year end: March 20; reporting period fo...   \n1                                                  NaN   \n2                                                  NaN   \n3    WB-3 code changed from ADO to AND to align wit...   \n4                                                  NaN   \n..                                                 ...   \n144                                                NaN   \n145  Based on official government statistics and In...   \n146  Fiscal year end: March 31; reporting period fo...   \n147  The base year is 2010. National accounts data ...   \n148  Fiscal year end: June 30; reporting period for...   \n\n                         Region         Income Group WB-2 code  ...  \\\n0                    South Asia           Low income        AF  ...   \n1            Sub-Saharan Africa  Lower middle income        AO  ...   \n2         Europe & Central Asia  Upper middle income        AL  ...   \n3         Europe & Central Asia          High income        AD  ...   \n4    Middle East & North Africa          High income        AE  ...   \n..                          ...                  ...       ...  ...   \n144         East Asia & Pacific  Lower middle income        VN  ...   \n145  Middle East & North Africa  Lower middle income        RY  ...   \n146          Sub-Saharan Africa  Upper middle income        ZA  ...   \n147          Sub-Saharan Africa  Lower middle income        ZM  ...   \n148          Sub-Saharan Africa           Low income        ZW  ...   \n\n                               Latest household survey  \\\n0                  Demographic and Health Survey, 2015   \n1               Demographic and Health Survey, 2015/16   \n2               Demographic and Health Survey, 2008/09   \n3                                                  NaN   \n4                            World Health Survey, 2003   \n..                                                 ...   \n144         Multiple Indicator Cluster Survey, 2013/14   \n145                Demographic and Health Survey, 2013   \n146  Demographic and Health Survey, 2003; World Hea...   \n147             Demographic and Health Survey, 2013/14   \n148                Demographic and Health Survey, 2015   \n\n     Source of most recent Income and expenditure data  \\\n0              Integrated household survey (IHS), 2011   \n1           Integrated household survey (IHS), 2008/09   \n2    Living Standards Measurement Study Survey (LSM...   \n3                                                  NaN   \n4                                                  NaN   \n..                                                 ...   \n144            Integrated household survey (IHS), 2014   \n145     Expenditure survey/budget survey (ES/BS), 2005   \n146  Expenditure survey/budget survey (ES/BS), 2010/11   \n147            Integrated household survey (IHS), 2010   \n148         Integrated household survey (IHS), 2011/12   \n\n    Vital registration complete Latest agricultural census  \\\n0                           NaN                        NaN   \n1                           NaN                        NaN   \n2                           Yes                       2012   \n3                           Yes                        NaN   \n4                           NaN                       2012   \n..                          ...                        ...   \n144                         Yes                       2011   \n145                         NaN                        NaN   \n146                         NaN                       2007   \n147                         NaN                        NaN   \n148                         NaN                        NaN   \n\n    Latest industrial data Latest trade data Latest water withdrawal data  \\\n0                      NaN            2016.0                       2000.0   \n1                      NaN            2016.0                       2005.0   \n2                   2013.0            2016.0                       2006.0   \n3                      NaN               NaN                          NaN   \n4                   1985.0            2016.0                       2005.0   \n..                     ...               ...                          ...   \n144                 2013.0            2016.0                       2005.0   \n145                 2012.0            2016.0                       2005.0   \n146                 2010.0            2016.0                       2013.0   \n147                 1994.0            2016.0                       2002.0   \n148                    NaN            2016.0                       2007.0   \n\n    Unnamed: 31 Economic Fitness Metric  \\\n0           NaN            5.369534e-02   \n1           NaN            7.890000e-13   \n2           NaN            3.746223e-01   \n3           NaN            3.694202e-01   \n4           NaN            3.438621e-01   \n..          ...                     ...   \n144         NaN            1.391330e+00   \n145         NaN            7.417100e-02   \n146         NaN            9.784253e-01   \n147         NaN            6.530739e-02   \n148         NaN            1.078169e-01   \n\n    Economic Fitness Ranking (1 = high, 149 = low)  \n0                                            112.0  \n1                                            146.0  \n2                                             73.0  \n3                                             74.0  \n4                                             76.0  \n..                                             ...  \n144                                           36.0  \n145                                          107.0  \n146                                           45.0  \n147                                          109.0  \n148                                          100.0  \n\n[149 rows x 34 columns]",
      "text/html": "<div>\n<style scoped>\n    .dataframe tbody tr th:only-of-type {\n        vertical-align: middle;\n    }\n\n    .dataframe tbody tr th {\n        vertical-align: top;\n    }\n\n    .dataframe thead th {\n        text-align: right;\n    }\n</style>\n<table border=\"1\" class=\"dataframe\">\n  <thead>\n    <tr style=\"text-align: right;\">\n      <th></th>\n      <th>Country Code</th>\n      <th>Short Name</th>\n      <th>Table Name</th>\n      <th>Long Name</th>\n      <th>2-alpha code</th>\n      <th>Currency Unit</th>\n      <th>Special Notes</th>\n      <th>Region</th>\n      <th>Income Group</th>\n      <th>WB-2 code</th>\n      <th>...</th>\n      <th>Latest household survey</th>\n      <th>Source of most recent Income and expenditure data</th>\n      <th>Vital registration complete</th>\n      <th>Latest agricultural census</th>\n      <th>Latest industrial data</th>\n      <th>Latest trade data</th>\n      <th>Latest water withdrawal data</th>\n      <th>Unnamed: 31</th>\n      <th>Economic Fitness Metric</th>\n      <th>Economic Fitness Ranking (1 = high, 149 = low)</th>\n    </tr>\n  </thead>\n  <tbody>\n    <tr>\n      <th>0</th>\n      <td>AFG</td>\n      <td>Afghanistan</td>\n      <td>Afghanistan</td>\n      <td>Islamic State of Afghanistan</td>\n      <td>AF</td>\n      <td>Afghan afghani</td>\n      <td>Fiscal year end: March 20; reporting period fo...</td>\n      <td>South Asia</td>\n      <td>Low income</td>\n      <td>AF</td>\n      <td>...</td>\n      <td>Demographic and Health Survey, 2015</td>\n      <td>Integrated household survey (IHS), 2011</td>\n      <td>NaN</td>\n      <td>NaN</td>\n      <td>NaN</td>\n      <td>2016.0</td>\n      <td>2000.0</td>\n      <td>NaN</td>\n      <td>5.369534e-02</td>\n      <td>112.0</td>\n    </tr>\n    <tr>\n      <th>1</th>\n      <td>AGO</td>\n      <td>Angola</td>\n      <td>Angola</td>\n      <td>People's Republic of Angola</td>\n      <td>AO</td>\n      <td>Angolan kwanza</td>\n      <td>NaN</td>\n      <td>Sub-Saharan Africa</td>\n      <td>Lower middle income</td>\n      <td>AO</td>\n      <td>...</td>\n      <td>Demographic and Health Survey, 2015/16</td>\n      <td>Integrated household survey (IHS), 2008/09</td>\n      <td>NaN</td>\n      <td>NaN</td>\n      <td>NaN</td>\n      <td>2016.0</td>\n      <td>2005.0</td>\n      <td>NaN</td>\n      <td>7.890000e-13</td>\n      <td>146.0</td>\n    </tr>\n    <tr>\n      <th>2</th>\n      <td>ALB</td>\n      <td>Albania</td>\n      <td>Albania</td>\n      <td>Republic of Albania</td>\n      <td>AL</td>\n      <td>Albanian lek</td>\n      <td>NaN</td>\n      <td>Europe &amp; Central Asia</td>\n      <td>Upper middle income</td>\n      <td>AL</td>\n      <td>...</td>\n      <td>Demographic and Health Survey, 2008/09</td>\n      <td>Living Standards Measurement Study Survey (LSM...</td>\n      <td>Yes</td>\n      <td>2012</td>\n      <td>2013.0</td>\n      <td>2016.0</td>\n      <td>2006.0</td>\n      <td>NaN</td>\n      <td>3.746223e-01</td>\n      <td>73.0</td>\n    </tr>\n    <tr>\n      <th>3</th>\n      <td>AND</td>\n      <td>Andorra</td>\n      <td>Andorra</td>\n      <td>Principality of Andorra</td>\n      <td>AD</td>\n      <td>Euro</td>\n      <td>WB-3 code changed from ADO to AND to align wit...</td>\n      <td>Europe &amp; Central Asia</td>\n      <td>High income</td>\n      <td>AD</td>\n      <td>...</td>\n      <td>NaN</td>\n      <td>NaN</td>\n      <td>Yes</td>\n      <td>NaN</td>\n      <td>NaN</td>\n      <td>NaN</td>\n      <td>NaN</td>\n      <td>NaN</td>\n      <td>3.694202e-01</td>\n      <td>74.0</td>\n    </tr>\n    <tr>\n      <th>4</th>\n      <td>ARE</td>\n      <td>United Arab Emirates</td>\n      <td>United Arab Emirates</td>\n      <td>United Arab Emirates</td>\n      <td>AE</td>\n      <td>U.A.E. dirham</td>\n      <td>NaN</td>\n      <td>Middle East &amp; North Africa</td>\n      <td>High income</td>\n      <td>AE</td>\n      <td>...</td>\n      <td>World Health Survey, 2003</td>\n      <td>NaN</td>\n      <td>NaN</td>\n      <td>2012</td>\n      <td>1985.0</td>\n      <td>2016.0</td>\n      <td>2005.0</td>\n      <td>NaN</td>\n      <td>3.438621e-01</td>\n      <td>76.0</td>\n    </tr>\n    <tr>\n      <th>...</th>\n      <td>...</td>\n      <td>...</td>\n      <td>...</td>\n      <td>...</td>\n      <td>...</td>\n      <td>...</td>\n      <td>...</td>\n      <td>...</td>\n      <td>...</td>\n      <td>...</td>\n      <td>...</td>\n      <td>...</td>\n      <td>...</td>\n      <td>...</td>\n      <td>...</td>\n      <td>...</td>\n      <td>...</td>\n      <td>...</td>\n      <td>...</td>\n      <td>...</td>\n      <td>...</td>\n    </tr>\n    <tr>\n      <th>144</th>\n      <td>VNM</td>\n      <td>Vietnam</td>\n      <td>Vietnam</td>\n      <td>Socialist Republic of Vietnam</td>\n      <td>VN</td>\n      <td>Vietnamese dong</td>\n      <td>NaN</td>\n      <td>East Asia &amp; Pacific</td>\n      <td>Lower middle income</td>\n      <td>VN</td>\n      <td>...</td>\n      <td>Multiple Indicator Cluster Survey, 2013/14</td>\n      <td>Integrated household survey (IHS), 2014</td>\n      <td>Yes</td>\n      <td>2011</td>\n      <td>2013.0</td>\n      <td>2016.0</td>\n      <td>2005.0</td>\n      <td>NaN</td>\n      <td>1.391330e+00</td>\n      <td>36.0</td>\n    </tr>\n    <tr>\n      <th>145</th>\n      <td>YEM</td>\n      <td>Yemen</td>\n      <td>Yemen, Rep.</td>\n      <td>Republic of Yemen</td>\n      <td>YE</td>\n      <td>Yemeni rial</td>\n      <td>Based on official government statistics and In...</td>\n      <td>Middle East &amp; North Africa</td>\n      <td>Lower middle income</td>\n      <td>RY</td>\n      <td>...</td>\n      <td>Demographic and Health Survey, 2013</td>\n      <td>Expenditure survey/budget survey (ES/BS), 2005</td>\n      <td>NaN</td>\n      <td>NaN</td>\n      <td>2012.0</td>\n      <td>2016.0</td>\n      <td>2005.0</td>\n      <td>NaN</td>\n      <td>7.417100e-02</td>\n      <td>107.0</td>\n    </tr>\n    <tr>\n      <th>146</th>\n      <td>ZAF</td>\n      <td>South Africa</td>\n      <td>South Africa</td>\n      <td>Republic of South Africa</td>\n      <td>ZA</td>\n      <td>South African rand</td>\n      <td>Fiscal year end: March 31; reporting period fo...</td>\n      <td>Sub-Saharan Africa</td>\n      <td>Upper middle income</td>\n      <td>ZA</td>\n      <td>...</td>\n      <td>Demographic and Health Survey, 2003; World Hea...</td>\n      <td>Expenditure survey/budget survey (ES/BS), 2010/11</td>\n      <td>NaN</td>\n      <td>2007</td>\n      <td>2010.0</td>\n      <td>2016.0</td>\n      <td>2013.0</td>\n      <td>NaN</td>\n      <td>9.784253e-01</td>\n      <td>45.0</td>\n    </tr>\n    <tr>\n      <th>147</th>\n      <td>ZMB</td>\n      <td>Zambia</td>\n      <td>Zambia</td>\n      <td>Republic of Zambia</td>\n      <td>ZM</td>\n      <td>New Zambian kwacha</td>\n      <td>The base year is 2010. National accounts data ...</td>\n      <td>Sub-Saharan Africa</td>\n      <td>Lower middle income</td>\n      <td>ZM</td>\n      <td>...</td>\n      <td>Demographic and Health Survey, 2013/14</td>\n      <td>Integrated household survey (IHS), 2010</td>\n      <td>NaN</td>\n      <td>NaN</td>\n      <td>1994.0</td>\n      <td>2016.0</td>\n      <td>2002.0</td>\n      <td>NaN</td>\n      <td>6.530739e-02</td>\n      <td>109.0</td>\n    </tr>\n    <tr>\n      <th>148</th>\n      <td>ZWE</td>\n      <td>Zimbabwe</td>\n      <td>Zimbabwe</td>\n      <td>Republic of Zimbabwe</td>\n      <td>ZW</td>\n      <td>U.S. dollar</td>\n      <td>Fiscal year end: June 30; reporting period for...</td>\n      <td>Sub-Saharan Africa</td>\n      <td>Low income</td>\n      <td>ZW</td>\n      <td>...</td>\n      <td>Demographic and Health Survey, 2015</td>\n      <td>Integrated household survey (IHS), 2011/12</td>\n      <td>NaN</td>\n      <td>NaN</td>\n      <td>NaN</td>\n      <td>2016.0</td>\n      <td>2007.0</td>\n      <td>NaN</td>\n      <td>1.078169e-01</td>\n      <td>100.0</td>\n    </tr>\n  </tbody>\n</table>\n<p>149 rows × 34 columns</p>\n</div>"
     },
     "metadata": {}
    }
   ],
   "source": [
    "display(comb2)"
   ]
  },
  {
   "cell_type": "code",
   "execution_count": 16,
   "metadata": {},
   "outputs": [],
   "source": [
    "comb2.to_csv(\"../data/unlabeled/preprocessed/economy_preprocessed.csv\")"
   ]
  },
  {
   "cell_type": "code",
   "execution_count": null,
   "metadata": {},
   "outputs": [],
   "source": []
  }
 ]
}