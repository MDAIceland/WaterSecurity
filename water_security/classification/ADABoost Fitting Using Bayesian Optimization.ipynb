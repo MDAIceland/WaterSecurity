{
 "cells": [
  {
   "cell_type": "markdown",
   "metadata": {},
   "source": [
    "# The following gave worse results than xgboost, so it was dropped"
   ]
  },
  {
   "cell_type": "code",
   "execution_count": 1,
   "metadata": {
    "scrolled": true
   },
   "outputs": [],
   "source": [
    "import pandas as pd\n",
    "import sklearn as sfs\n",
    "import matplotlib.pyplot as plt\n",
    "import numpy as np\n",
    "import sys\n",
    "sys.path.append('..')\n",
    "from model_handler import ModelHandler\n",
    "from feature_selection import FeatureSelectionAndGeneration\n",
    "handler = ModelHandler()\n",
    "dataset = handler.dataset\n",
    "train_set = dataset[handler.train_mask]"
   ]
  },
  {
   "cell_type": "markdown",
   "metadata": {},
   "source": [
    "The dataset includes different risks that need a prediction. Every risk is considered as a different target of labels, namely a response variable.\n",
    "\n",
    "The aim is to build a model able to predict each risk in the most accurate way possible. However, the learning process is different for each of them, meaning that the minimum set of variables that best explain the largest amount of variance in the dataset is unique for every risk. As a consequence, the following pipeline will be executed as much time as the number of risks in order to return as more precise predictions as possible. "
   ]
  },
  {
   "cell_type": "markdown",
   "metadata": {},
   "source": [
    "# Dataset splitting"
   ]
  },
  {
   "cell_type": "markdown",
   "metadata": {},
   "source": [
    "The first step consists in splitting the dataset into training and test sets. The first will be used during the feature selection part, which is implemented using a boosted logistic regression model. This is a supervised learning approach, thus labels are needed for the regression to be carried out. In this dataset risks are assigned to only some of the cities, therefore it's wise to select as training set all the entries containing values for the given risk. All the rest will be referred to as test set, used for the classification task, since those cities will be the ones needing a prediction."
   ]
  },
  {
   "cell_type": "markdown",
   "metadata": {},
   "source": [
    "# Feature selection"
   ]
  },
  {
   "cell_type": "markdown",
   "metadata": {},
   "source": [
    "When there is a highly non-linear and complex relationship between the predictors and the labels decision trees are preferable. The dataset has many different predictors and we don't know whether this relationship is linear or not.\n",
    "\n",
    "The most robust approach among the ensemble method is `Boosting`. It allows to aggregate many decision trees, differently from `Random Forest`, and grow them sequentially, instead of using boostrap sampling like in `Bagging`. \n",
    "\n",
    "The procedure consists in fitting small trees to the residuals in order to slowly improve the prediction error. Generally, model that learn slowly tend to perform better. A pitfall of Boosting, however, is that it relies very much on its tuning parameters. Hence, it's important to undergo `Cross Validation` in order to select the combination returning the highest accuracy, for every target. \n",
    "For this purpose we decided to use 10-fold cross validation in such a way to speed up the tuning process, which is already slow given the amount of parameters that need to be optimized."
   ]
  },
  {
   "cell_type": "code",
   "execution_count": 3,
   "metadata": {},
   "outputs": [],
   "source": [
    "from sklearn.ensemble import AdaBoostRegressor"
   ]
  },
  {
   "cell_type": "code",
   "execution_count": 4,
   "metadata": {},
   "outputs": [],
   "source": [
    "import xgboost as xgb\n",
    "from sklearn.metrics import accuracy_score, make_scorer\n",
    "from sklearn.model_selection import GridSearchCV, KFold\n",
    "from sklearn.pipeline import Pipeline\n",
    "import shutil\n",
    "import os\n",
    "memory_dir = '.pipeline_cache.tmp'"
   ]
  },
  {
   "cell_type": "markdown",
   "metadata": {},
   "source": [
    "XgBoost has as default objective function `reg:squarederror`, which corresponds to a linear regression with mean-squared error as loss function."
   ]
  },
  {
   "cell_type": "code",
   "execution_count": 5,
   "metadata": {},
   "outputs": [],
   "source": [
    "from bayes_opt import BayesianOptimization\n",
    "if os.path.isdir(memory_dir):\n",
    "    shutil.rmtree(memory_dir)\n",
    "\n",
    "def init_model(**model_params):\n",
    "    return Pipeline([('generation_and_selection', FeatureSelectionAndGeneration(feats_num=200)),\n",
    "                     ('regressor', AdaBoostRegressor(**model_params))],memory=memory_dir)\n",
    "    "
   ]
  },
  {
   "cell_type": "code",
   "execution_count": 7,
   "metadata": {
    "scrolled": false
   },
   "outputs": [
    {
     "name": "stdout",
     "output_type": "stream",
     "text": [
      "\n",
      "\n",
      "**Risk: Higher water prices**\n",
      "\n",
      "Annotated Samples Size: 87\n",
      "To be used for parameters estimation: 60\n",
      "\n",
      "|   iter    |  target   | learni... | n_esti... |\n",
      "-------------------------------------------------\n",
      "| \u001b[0m 1       \u001b[0m | \u001b[0m-1.965   \u001b[0m | \u001b[0m 3.01    \u001b[0m | \u001b[0m 425.5   \u001b[0m |\n",
      "| \u001b[0m 2       \u001b[0m | \u001b[0m-2.01    \u001b[0m | \u001b[0m 2.664   \u001b[0m | \u001b[0m 399.6   \u001b[0m |\n",
      "| \u001b[95m 3       \u001b[0m | \u001b[95m-1.717   \u001b[0m | \u001b[95m 6.241   \u001b[0m | \u001b[95m 380.4   \u001b[0m |\n",
      "| \u001b[0m 4       \u001b[0m | \u001b[0m-5.05    \u001b[0m | \u001b[0m 9.546   \u001b[0m | \u001b[0m 286.7   \u001b[0m |\n",
      "| \u001b[0m 5       \u001b[0m | \u001b[0m-1.883   \u001b[0m | \u001b[0m 6.565   \u001b[0m | \u001b[0m 487.1   \u001b[0m |\n",
      "| \u001b[0m 6       \u001b[0m | \u001b[0m-5.05    \u001b[0m | \u001b[0m 9.719   \u001b[0m | \u001b[0m 240.8   \u001b[0m |\n",
      "| \u001b[95m 7       \u001b[0m | \u001b[95m-1.49    \u001b[0m | \u001b[95m 0.8848  \u001b[0m | \u001b[95m 440.6   \u001b[0m |\n",
      "| \u001b[0m 8       \u001b[0m | \u001b[0m-2.481   \u001b[0m | \u001b[0m 3.183   \u001b[0m | \u001b[0m 495.0   \u001b[0m |\n",
      "| \u001b[0m 9       \u001b[0m | \u001b[0m-4.05    \u001b[0m | \u001b[0m 6.968   \u001b[0m | \u001b[0m 375.0   \u001b[0m |\n",
      "| \u001b[0m 10      \u001b[0m | \u001b[0m-1.53    \u001b[0m | \u001b[0m 0.2746  \u001b[0m | \u001b[0m 306.1   \u001b[0m |\n",
      "| \u001b[0m 11      \u001b[0m | \u001b[0m-2.166   \u001b[0m | \u001b[0m 3.871   \u001b[0m | \u001b[0m 247.5   \u001b[0m |\n",
      "| \u001b[0m 12      \u001b[0m | \u001b[0m-1.5     \u001b[0m | \u001b[0m 0.8264  \u001b[0m | \u001b[0m 440.7   \u001b[0m |\n",
      "| \u001b[0m 13      \u001b[0m | \u001b[0m-2.65    \u001b[0m | \u001b[0m 6.068   \u001b[0m | \u001b[0m 385.6   \u001b[0m |\n",
      "| \u001b[95m 14      \u001b[0m | \u001b[95m-1.25    \u001b[0m | \u001b[95m 5.231   \u001b[0m | \u001b[95m 442.7   \u001b[0m |\n",
      "| \u001b[0m 15      \u001b[0m | \u001b[0m-5.183   \u001b[0m | \u001b[0m 7.267   \u001b[0m | \u001b[0m 437.6   \u001b[0m |\n",
      "| \u001b[0m 16      \u001b[0m | \u001b[0m-1.55    \u001b[0m | \u001b[0m 3.134   \u001b[0m | \u001b[0m 444.8   \u001b[0m |\n",
      "| \u001b[0m 17      \u001b[0m | \u001b[0m-4.85    \u001b[0m | \u001b[0m 7.371   \u001b[0m | \u001b[0m 446.1   \u001b[0m |\n",
      "| \u001b[0m 18      \u001b[0m | \u001b[0m-2.555   \u001b[0m | \u001b[0m 3.04    \u001b[0m | \u001b[0m 442.6   \u001b[0m |\n",
      "| \u001b[0m 19      \u001b[0m | \u001b[0m-1.502   \u001b[0m | \u001b[0m 0.8823  \u001b[0m | \u001b[0m 308.4   \u001b[0m |\n",
      "| \u001b[0m 20      \u001b[0m | \u001b[0m-1.417   \u001b[0m | \u001b[0m 3.114   \u001b[0m | \u001b[0m 306.3   \u001b[0m |\n",
      "=================================================\n",
      "\n",
      "\n",
      "**Risk: Inadequate or aging infrastructure**\n",
      "\n",
      "Annotated Samples Size: 148\n",
      "To be used for parameters estimation: 103\n",
      "\n",
      "|   iter    |  target   | learni... | n_esti... |\n",
      "-------------------------------------------------\n",
      "| \u001b[0m 1       \u001b[0m | \u001b[0m-2.304   \u001b[0m | \u001b[0m 5.569   \u001b[0m | \u001b[0m 228.1   \u001b[0m |\n",
      "| \u001b[0m 2       \u001b[0m | \u001b[0m-2.991   \u001b[0m | \u001b[0m 5.131   \u001b[0m | \u001b[0m 490.6   \u001b[0m |\n",
      "| \u001b[95m 3       \u001b[0m | \u001b[95m-1.825   \u001b[0m | \u001b[95m 3.882   \u001b[0m | \u001b[95m 203.0   \u001b[0m |\n",
      "| \u001b[95m 4       \u001b[0m | \u001b[95m-1.704   \u001b[0m | \u001b[95m 5.704   \u001b[0m | \u001b[95m 213.3   \u001b[0m |\n",
      "| \u001b[0m 5       \u001b[0m | \u001b[0m-2.991   \u001b[0m | \u001b[0m 9.979   \u001b[0m | \u001b[0m 226.2   \u001b[0m |\n",
      "| \u001b[0m 6       \u001b[0m | \u001b[0m-2.932   \u001b[0m | \u001b[0m 7.909   \u001b[0m | \u001b[0m 242.6   \u001b[0m |\n",
      "| \u001b[95m 7       \u001b[0m | \u001b[95m-1.408   \u001b[0m | \u001b[95m 2.913   \u001b[0m | \u001b[95m 387.4   \u001b[0m |\n",
      "| \u001b[95m 8       \u001b[0m | \u001b[95m-1.02    \u001b[0m | \u001b[95m 0.3351  \u001b[0m | \u001b[95m 225.5   \u001b[0m |\n",
      "| \u001b[0m 9       \u001b[0m | \u001b[0m-2.285   \u001b[0m | \u001b[0m 5.265   \u001b[0m | \u001b[0m 316.6   \u001b[0m |\n",
      "| \u001b[95m 10      \u001b[0m | \u001b[95m-0.9829  \u001b[0m | \u001b[95m 0.8706  \u001b[0m | \u001b[95m 333.9   \u001b[0m |\n",
      "| \u001b[0m 11      \u001b[0m | \u001b[0m-1.106   \u001b[0m | \u001b[0m 0.1     \u001b[0m | \u001b[0m 338.0   \u001b[0m |\n",
      "| \u001b[0m 12      \u001b[0m | \u001b[0m-2.932   \u001b[0m | \u001b[0m 9.456   \u001b[0m | \u001b[0m 336.4   \u001b[0m |\n",
      "| \u001b[0m 13      \u001b[0m | \u001b[0m-1.018   \u001b[0m | \u001b[0m 0.2771  \u001b[0m | \u001b[0m 220.4   \u001b[0m |\n",
      "| \u001b[0m 14      \u001b[0m | \u001b[0m-1.579   \u001b[0m | \u001b[0m 3.369   \u001b[0m | \u001b[0m 397.4   \u001b[0m |\n",
      "| \u001b[0m 15      \u001b[0m | \u001b[0m-2.991   \u001b[0m | \u001b[0m 9.841   \u001b[0m | \u001b[0m 379.4   \u001b[0m |\n",
      "| \u001b[0m 16      \u001b[0m | \u001b[0m-1.106   \u001b[0m | \u001b[0m 0.1     \u001b[0m | \u001b[0m 327.5   \u001b[0m |\n",
      "| \u001b[0m 17      \u001b[0m | \u001b[0m-1.103   \u001b[0m | \u001b[0m 0.1     \u001b[0m | \u001b[0m 351.4   \u001b[0m |\n",
      "| \u001b[0m 18      \u001b[0m | \u001b[0m-1.103   \u001b[0m | \u001b[0m 0.1     \u001b[0m | \u001b[0m 360.4   \u001b[0m |\n",
      "| \u001b[0m 19      \u001b[0m | \u001b[0m-3.191   \u001b[0m | \u001b[0m 9.08    \u001b[0m | \u001b[0m 356.8   \u001b[0m |\n",
      "| \u001b[0m 20      \u001b[0m | \u001b[0m-1.103   \u001b[0m | \u001b[0m 0.1     \u001b[0m | \u001b[0m 367.8   \u001b[0m |\n",
      "=================================================\n",
      "\n",
      "\n",
      "**Risk: Increased water stress or scarcity**\n",
      "\n",
      "Annotated Samples Size: 261\n",
      "To be used for parameters estimation: 182\n",
      "\n",
      "|   iter    |  target   | learni... | n_esti... |\n",
      "-------------------------------------------------\n",
      "| \u001b[0m 1       \u001b[0m | \u001b[0m-0.5282  \u001b[0m | \u001b[0m 2.514   \u001b[0m | \u001b[0m 249.8   \u001b[0m |\n",
      "| \u001b[0m 2       \u001b[0m | \u001b[0m-1.382   \u001b[0m | \u001b[0m 5.48    \u001b[0m | \u001b[0m 497.2   \u001b[0m |\n",
      "| \u001b[0m 3       \u001b[0m | \u001b[0m-1.028   \u001b[0m | \u001b[0m 3.152   \u001b[0m | \u001b[0m 297.1   \u001b[0m |\n",
      "| \u001b[0m 4       \u001b[0m | \u001b[0m-1.298   \u001b[0m | \u001b[0m 6.206   \u001b[0m | \u001b[0m 309.0   \u001b[0m |\n",
      "| \u001b[95m 5       \u001b[0m | \u001b[95m-0.4459  \u001b[0m | \u001b[95m 0.7588  \u001b[0m | \u001b[95m 395.0   \u001b[0m |\n",
      "| \u001b[0m 6       \u001b[0m | \u001b[0m-0.52    \u001b[0m | \u001b[0m 2.351   \u001b[0m | \u001b[0m 364.3   \u001b[0m |\n",
      "| \u001b[0m 7       \u001b[0m | \u001b[0m-4.561   \u001b[0m | \u001b[0m 6.462   \u001b[0m | \u001b[0m 407.9   \u001b[0m |\n",
      "| \u001b[95m 8       \u001b[0m | \u001b[95m-0.3961  \u001b[0m | \u001b[95m 0.1275  \u001b[0m | \u001b[95m 359.8   \u001b[0m |\n",
      "| \u001b[0m 9       \u001b[0m | \u001b[0m-2.065   \u001b[0m | \u001b[0m 7.644   \u001b[0m | \u001b[0m 413.9   \u001b[0m |\n",
      "| \u001b[0m 10      \u001b[0m | \u001b[0m-0.4509  \u001b[0m | \u001b[0m 2.155   \u001b[0m | \u001b[0m 390.5   \u001b[0m |\n",
      "| \u001b[0m 11      \u001b[0m | \u001b[0m-2.496   \u001b[0m | \u001b[0m 7.785   \u001b[0m | \u001b[0m 357.8   \u001b[0m |\n",
      "| \u001b[0m 12      \u001b[0m | \u001b[0m-1.229   \u001b[0m | \u001b[0m 7.883   \u001b[0m | \u001b[0m 393.1   \u001b[0m |\n",
      "| \u001b[0m 13      \u001b[0m | \u001b[0m-0.4734  \u001b[0m | \u001b[0m 2.233   \u001b[0m | \u001b[0m 256.7   \u001b[0m |\n",
      "| \u001b[0m 14      \u001b[0m | \u001b[0m-4.561   \u001b[0m | \u001b[0m 9.149   \u001b[0m | \u001b[0m 253.8   \u001b[0m |\n",
      "| \u001b[95m 15      \u001b[0m | \u001b[95m-0.3803  \u001b[0m | \u001b[95m 0.1261  \u001b[0m | \u001b[95m 252.9   \u001b[0m |\n",
      "| \u001b[0m 16      \u001b[0m | \u001b[0m-0.3877  \u001b[0m | \u001b[0m 0.1     \u001b[0m | \u001b[0m 244.5   \u001b[0m |\n",
      "| \u001b[0m 17      \u001b[0m | \u001b[0m-0.4212  \u001b[0m | \u001b[0m 0.3707  \u001b[0m | \u001b[0m 262.7   \u001b[0m |\n",
      "| \u001b[0m 18      \u001b[0m | \u001b[0m-0.4046  \u001b[0m | \u001b[0m 0.3885  \u001b[0m | \u001b[0m 371.9   \u001b[0m |\n",
      "| \u001b[0m 19      \u001b[0m | \u001b[0m-0.4121  \u001b[0m | \u001b[0m 0.3545  \u001b[0m | \u001b[0m 380.6   \u001b[0m |\n",
      "| \u001b[0m 20      \u001b[0m | \u001b[0m-3.295   \u001b[0m | \u001b[0m 7.194   \u001b[0m | \u001b[0m 376.3   \u001b[0m |\n",
      "=================================================\n",
      "\n",
      "\n",
      "**Risk: Declining water quality**\n",
      "\n",
      "Annotated Samples Size: 183\n",
      "To be used for parameters estimation: 128\n",
      "\n",
      "|   iter    |  target   | learni... | n_esti... |\n",
      "-------------------------------------------------\n",
      "| \u001b[0m 1       \u001b[0m | \u001b[0m-2.631   \u001b[0m | \u001b[0m 4.409   \u001b[0m | \u001b[0m 498.5   \u001b[0m |\n",
      "| \u001b[0m 2       \u001b[0m | \u001b[0m-3.562   \u001b[0m | \u001b[0m 7.169   \u001b[0m | \u001b[0m 232.2   \u001b[0m |\n",
      "| \u001b[95m 3       \u001b[0m | \u001b[95m-1.047   \u001b[0m | \u001b[95m 0.6939  \u001b[0m | \u001b[95m 477.2   \u001b[0m |\n",
      "| \u001b[95m 4       \u001b[0m | \u001b[95m-1.017   \u001b[0m | \u001b[95m 1.994   \u001b[0m | \u001b[95m 307.4   \u001b[0m |\n",
      "| \u001b[0m 5       \u001b[0m | \u001b[0m-2.631   \u001b[0m | \u001b[0m 9.357   \u001b[0m | \u001b[0m 344.3   \u001b[0m |\n",
      "| \u001b[0m 6       \u001b[0m | \u001b[0m-3.562   \u001b[0m | \u001b[0m 6.819   \u001b[0m | \u001b[0m 426.0   \u001b[0m |\n",
      "| \u001b[0m 7       \u001b[0m | \u001b[0m-3.562   \u001b[0m | \u001b[0m 7.45    \u001b[0m | \u001b[0m 357.4   \u001b[0m |\n",
      "| \u001b[0m 8       \u001b[0m | \u001b[0m-3.12    \u001b[0m | \u001b[0m 9.436   \u001b[0m | \u001b[0m 460.1   \u001b[0m |\n",
      "| \u001b[0m 9       \u001b[0m | \u001b[0m-3.12    \u001b[0m | \u001b[0m 6.74    \u001b[0m | \u001b[0m 246.2   \u001b[0m |\n",
      "| \u001b[0m 10      \u001b[0m | \u001b[0m-1.18    \u001b[0m | \u001b[0m 2.409   \u001b[0m | \u001b[0m 449.8   \u001b[0m |\n",
      "| \u001b[0m 11      \u001b[0m | \u001b[0m-1.031   \u001b[0m | \u001b[0m 2.063   \u001b[0m | \u001b[0m 449.5   \u001b[0m |\n",
      "| \u001b[0m 12      \u001b[0m | \u001b[0m-1.026   \u001b[0m | \u001b[0m 0.6423  \u001b[0m | \u001b[0m 444.8   \u001b[0m |\n",
      "| \u001b[0m 13      \u001b[0m | \u001b[0m-3.562   \u001b[0m | \u001b[0m 7.448   \u001b[0m | \u001b[0m 302.9   \u001b[0m |\n",
      "| \u001b[0m 14      \u001b[0m | \u001b[0m-1.02    \u001b[0m | \u001b[0m 0.4752  \u001b[0m | \u001b[0m 311.9   \u001b[0m |\n",
      "| \u001b[0m 15      \u001b[0m | \u001b[0m-1.089   \u001b[0m | \u001b[0m 6.263   \u001b[0m | \u001b[0m 480.5   \u001b[0m |\n",
      "| \u001b[95m 16      \u001b[0m | \u001b[95m-0.9587  \u001b[0m | \u001b[95m 0.1328  \u001b[0m | \u001b[95m 483.9   \u001b[0m |\n",
      "| \u001b[0m 17      \u001b[0m | \u001b[0m-3.562   \u001b[0m | \u001b[0m 7.14    \u001b[0m | \u001b[0m 318.4   \u001b[0m |\n",
      "| \u001b[0m 18      \u001b[0m | \u001b[0m-2.631   \u001b[0m | \u001b[0m 6.864   \u001b[0m | \u001b[0m 487.4   \u001b[0m |\n",
      "| \u001b[0m 19      \u001b[0m | \u001b[0m-3.562   \u001b[0m | \u001b[0m 7.265   \u001b[0m | \u001b[0m 474.0   \u001b[0m |\n",
      "| \u001b[0m 20      \u001b[0m | \u001b[0m-1.321   \u001b[0m | \u001b[0m 2.443   \u001b[0m | \u001b[0m 481.1   \u001b[0m |\n",
      "=================================================\n",
      "\n",
      "\n",
      "**Risk: Increased water demand**\n",
      "\n",
      "Annotated Samples Size: 98\n",
      "To be used for parameters estimation: 68\n",
      "\n",
      "|   iter    |  target   | learni... | n_esti... |\n",
      "-------------------------------------------------\n",
      "| \u001b[0m 1       \u001b[0m | \u001b[0m-1.524   \u001b[0m | \u001b[0m 0.9663  \u001b[0m | \u001b[0m 409.4   \u001b[0m |\n",
      "| \u001b[0m 2       \u001b[0m | \u001b[0m-2.294   \u001b[0m | \u001b[0m 8.569   \u001b[0m | \u001b[0m 376.6   \u001b[0m |\n",
      "| \u001b[0m 3       \u001b[0m | \u001b[0m-2.62    \u001b[0m | \u001b[0m 2.884   \u001b[0m | \u001b[0m 425.2   \u001b[0m |\n",
      "| \u001b[0m 4       \u001b[0m | \u001b[0m-2.294   \u001b[0m | \u001b[0m 9.593   \u001b[0m | \u001b[0m 227.2   \u001b[0m |\n"
     ]
    },
    {
     "name": "stdout",
     "output_type": "stream",
     "text": [
      "| \u001b[0m 5       \u001b[0m | \u001b[0m-2.772   \u001b[0m | \u001b[0m 9.375   \u001b[0m | \u001b[0m 428.7   \u001b[0m |\n",
      "| \u001b[0m 6       \u001b[0m | \u001b[0m-3.337   \u001b[0m | \u001b[0m 7.097   \u001b[0m | \u001b[0m 211.7   \u001b[0m |\n",
      "| \u001b[0m 7       \u001b[0m | \u001b[0m-4.883   \u001b[0m | \u001b[0m 7.126   \u001b[0m | \u001b[0m 497.2   \u001b[0m |\n",
      "| \u001b[0m 8       \u001b[0m | \u001b[0m-1.544   \u001b[0m | \u001b[0m 2.891   \u001b[0m | \u001b[0m 253.6   \u001b[0m |\n",
      "| \u001b[0m 9       \u001b[0m | \u001b[0m-2.004   \u001b[0m | \u001b[0m 3.842   \u001b[0m | \u001b[0m 414.7   \u001b[0m |\n",
      "| \u001b[0m 10      \u001b[0m | \u001b[0m-2.212   \u001b[0m | \u001b[0m 2.601   \u001b[0m | \u001b[0m 451.4   \u001b[0m |\n",
      "| \u001b[0m 11      \u001b[0m | \u001b[0m-2.294   \u001b[0m | \u001b[0m 10.0    \u001b[0m | \u001b[0m 280.5   \u001b[0m |\n",
      "| \u001b[95m 12      \u001b[0m | \u001b[95m-1.488   \u001b[0m | \u001b[95m 0.1     \u001b[0m | \u001b[95m 327.5   \u001b[0m |\n",
      "| \u001b[0m 13      \u001b[0m | \u001b[0m-2.294   \u001b[0m | \u001b[0m 9.727   \u001b[0m | \u001b[0m 345.2   \u001b[0m |\n",
      "| \u001b[0m 14      \u001b[0m | \u001b[0m-2.294   \u001b[0m | \u001b[0m 10.0    \u001b[0m | \u001b[0m 311.2   \u001b[0m |\n",
      "| \u001b[0m 15      \u001b[0m | \u001b[0m-1.489   \u001b[0m | \u001b[0m 0.1     \u001b[0m | \u001b[0m 394.4   \u001b[0m |\n",
      "| \u001b[0m 16      \u001b[0m | \u001b[0m-2.294   \u001b[0m | \u001b[0m 9.736   \u001b[0m | \u001b[0m 399.0   \u001b[0m |\n",
      "| \u001b[0m 17      \u001b[0m | \u001b[0m-1.499   \u001b[0m | \u001b[0m 0.1     \u001b[0m | \u001b[0m 240.9   \u001b[0m |\n",
      "| \u001b[0m 18      \u001b[0m | \u001b[0m-2.294   \u001b[0m | \u001b[0m 10.0    \u001b[0m | \u001b[0m 245.4   \u001b[0m |\n",
      "| \u001b[0m 19      \u001b[0m | \u001b[0m-1.492   \u001b[0m | \u001b[0m 0.1     \u001b[0m | \u001b[0m 266.6   \u001b[0m |\n",
      "| \u001b[0m 20      \u001b[0m | \u001b[0m-2.294   \u001b[0m | \u001b[0m 9.988   \u001b[0m | \u001b[0m 328.0   \u001b[0m |\n",
      "=================================================\n",
      "\n",
      "\n",
      "**Risk: Regulatory**\n",
      "\n",
      "Annotated Samples Size: 65\n",
      "To be used for parameters estimation: 45\n",
      "\n",
      "|   iter    |  target   | learni... | n_esti... |\n",
      "-------------------------------------------------\n",
      "| \u001b[0m 1       \u001b[0m | \u001b[0m-1.444   \u001b[0m | \u001b[0m 3.192   \u001b[0m | \u001b[0m 244.6   \u001b[0m |\n",
      "| \u001b[0m 2       \u001b[0m | \u001b[0m-2.867   \u001b[0m | \u001b[0m 8.913   \u001b[0m | \u001b[0m 278.5   \u001b[0m |\n",
      "| \u001b[0m 3       \u001b[0m | \u001b[0m-2.867   \u001b[0m | \u001b[0m 9.166   \u001b[0m | \u001b[0m 273.4   \u001b[0m |\n",
      "| \u001b[0m 4       \u001b[0m | \u001b[0m-2.333   \u001b[0m | \u001b[0m 8.254   \u001b[0m | \u001b[0m 251.2   \u001b[0m |\n",
      "| \u001b[95m 5       \u001b[0m | \u001b[95m-0.9507  \u001b[0m | \u001b[95m 1.456   \u001b[0m | \u001b[95m 375.1   \u001b[0m |\n",
      "| \u001b[0m 6       \u001b[0m | \u001b[0m-2.422   \u001b[0m | \u001b[0m 4.016   \u001b[0m | \u001b[0m 281.8   \u001b[0m |\n",
      "| \u001b[95m 7       \u001b[0m | \u001b[95m-0.887   \u001b[0m | \u001b[95m 0.5896  \u001b[0m | \u001b[95m 389.9   \u001b[0m |\n",
      "| \u001b[0m 8       \u001b[0m | \u001b[0m-2.333   \u001b[0m | \u001b[0m 8.073   \u001b[0m | \u001b[0m 233.8   \u001b[0m |\n",
      "| \u001b[0m 9       \u001b[0m | \u001b[0m-1.028   \u001b[0m | \u001b[0m 2.702   \u001b[0m | \u001b[0m 394.7   \u001b[0m |\n",
      "| \u001b[0m 10      \u001b[0m | \u001b[0m-0.9073  \u001b[0m | \u001b[0m 0.9862  \u001b[0m | \u001b[0m 438.4   \u001b[0m |\n",
      "| \u001b[95m 11      \u001b[0m | \u001b[95m-0.85    \u001b[0m | \u001b[95m 0.1     \u001b[0m | \u001b[95m 420.8   \u001b[0m |\n",
      "| \u001b[0m 12      \u001b[0m | \u001b[0m-1.444   \u001b[0m | \u001b[0m 10.0    \u001b[0m | \u001b[0m 459.5   \u001b[0m |\n",
      "| \u001b[0m 13      \u001b[0m | \u001b[0m-1.444   \u001b[0m | \u001b[0m 10.0    \u001b[0m | \u001b[0m 428.4   \u001b[0m |\n",
      "| \u001b[0m 14      \u001b[0m | \u001b[0m-2.422   \u001b[0m | \u001b[0m 9.789   \u001b[0m | \u001b[0m 353.8   \u001b[0m |\n",
      "| \u001b[0m 15      \u001b[0m | \u001b[0m-1.444   \u001b[0m | \u001b[0m 10.0    \u001b[0m | \u001b[0m 383.6   \u001b[0m |\n",
      "| \u001b[95m 16      \u001b[0m | \u001b[95m-0.8277  \u001b[0m | \u001b[95m 0.3296  \u001b[0m | \u001b[95m 409.3   \u001b[0m |\n",
      "| \u001b[0m 17      \u001b[0m | \u001b[0m-0.851   \u001b[0m | \u001b[0m 0.1     \u001b[0m | \u001b[0m 495.9   \u001b[0m |\n",
      "| \u001b[0m 18      \u001b[0m | \u001b[0m-0.8575  \u001b[0m | \u001b[0m 0.1     \u001b[0m | \u001b[0m 479.8   \u001b[0m |\n",
      "| \u001b[0m 19      \u001b[0m | \u001b[0m-2.422   \u001b[0m | \u001b[0m 9.876   \u001b[0m | \u001b[0m 487.1   \u001b[0m |\n",
      "| \u001b[0m 20      \u001b[0m | \u001b[0m-0.8567  \u001b[0m | \u001b[0m 0.1     \u001b[0m | \u001b[0m 468.5   \u001b[0m |\n",
      "=================================================\n",
      "\n",
      "\n",
      "**Risk: Energy supply issues**\n",
      "\n",
      "Annotated Samples Size: 59\n",
      "To be used for parameters estimation: 41\n",
      "\n",
      "|   iter    |  target   | learni... | n_esti... |\n",
      "-------------------------------------------------\n",
      "| \u001b[0m 1       \u001b[0m | \u001b[0m-0.8187  \u001b[0m | \u001b[0m 1.329   \u001b[0m | \u001b[0m 335.1   \u001b[0m |\n",
      "| \u001b[0m 2       \u001b[0m | \u001b[0m-6.557   \u001b[0m | \u001b[0m 5.026   \u001b[0m | \u001b[0m 346.0   \u001b[0m |\n",
      "| \u001b[0m 3       \u001b[0m | \u001b[0m-3.319   \u001b[0m | \u001b[0m 4.79    \u001b[0m | \u001b[0m 280.4   \u001b[0m |\n",
      "| \u001b[95m 4       \u001b[0m | \u001b[95m-0.7692  \u001b[0m | \u001b[95m 1.569   \u001b[0m | \u001b[95m 313.3   \u001b[0m |\n",
      "| \u001b[0m 5       \u001b[0m | \u001b[0m-3.985   \u001b[0m | \u001b[0m 6.47    \u001b[0m | \u001b[0m 314.0   \u001b[0m |\n",
      "| \u001b[0m 6       \u001b[0m | \u001b[0m-3.198   \u001b[0m | \u001b[0m 9.982   \u001b[0m | \u001b[0m 321.0   \u001b[0m |\n",
      "| \u001b[0m 7       \u001b[0m | \u001b[0m-5.89    \u001b[0m | \u001b[0m 7.906   \u001b[0m | \u001b[0m 260.5   \u001b[0m |\n",
      "| \u001b[0m 8       \u001b[0m | \u001b[0m-0.7881  \u001b[0m | \u001b[0m 1.506   \u001b[0m | \u001b[0m 262.5   \u001b[0m |\n",
      "| \u001b[0m 9       \u001b[0m | \u001b[0m-1.755   \u001b[0m | \u001b[0m 5.953   \u001b[0m | \u001b[0m 364.0   \u001b[0m |\n",
      "| \u001b[0m 10      \u001b[0m | \u001b[0m-1.293   \u001b[0m | \u001b[0m 2.671   \u001b[0m | \u001b[0m 468.0   \u001b[0m |\n",
      "| \u001b[0m 11      \u001b[0m | \u001b[0m-1.293   \u001b[0m | \u001b[0m 2.62    \u001b[0m | \u001b[0m 467.9   \u001b[0m |\n",
      "| \u001b[95m 12      \u001b[0m | \u001b[95m-0.7387  \u001b[0m | \u001b[95m 0.1     \u001b[0m | \u001b[95m 309.9   \u001b[0m |\n",
      "| \u001b[0m 13      \u001b[0m | \u001b[0m-0.7387  \u001b[0m | \u001b[0m 0.1     \u001b[0m | \u001b[0m 266.9   \u001b[0m |\n",
      "| \u001b[95m 14      \u001b[0m | \u001b[95m-0.6044  \u001b[0m | \u001b[95m 0.3689  \u001b[0m | \u001b[95m 329.5   \u001b[0m |\n",
      "| \u001b[0m 15      \u001b[0m | \u001b[0m-3.864   \u001b[0m | \u001b[0m 6.728   \u001b[0m | \u001b[0m 331.2   \u001b[0m |\n",
      "| \u001b[0m 16      \u001b[0m | \u001b[0m-0.7387  \u001b[0m | \u001b[0m 0.1     \u001b[0m | \u001b[0m 323.5   \u001b[0m |\n",
      "| \u001b[0m 17      \u001b[0m | \u001b[0m-5.89    \u001b[0m | \u001b[0m 7.801   \u001b[0m | \u001b[0m 462.3   \u001b[0m |\n",
      "| \u001b[0m 18      \u001b[0m | \u001b[0m-0.7711  \u001b[0m | \u001b[0m 0.1502  \u001b[0m | \u001b[0m 317.7   \u001b[0m |\n",
      "| \u001b[0m 19      \u001b[0m | \u001b[0m-0.7387  \u001b[0m | \u001b[0m 0.1     \u001b[0m | \u001b[0m 474.6   \u001b[0m |\n",
      "| \u001b[0m 20      \u001b[0m | \u001b[0m-2.421   \u001b[0m | \u001b[0m 5.991   \u001b[0m | \u001b[0m 479.6   \u001b[0m |\n",
      "=================================================\n"
     ]
    }
   ],
   "source": [
    "from sklearn.model_selection import cross_val_score\n",
    "from data.labeled.preprocessed import RISKS_MAPPING\n",
    "from classification import RANDOM_SEED\n",
    "optimal_params = {}\n",
    "CONSTANTS = {\"random_state\": RANDOM_SEED}\n",
    "for (risk, total_set, [train_set, valid_set]) in handler.get_total_train_val_set_per_risk():\n",
    "    print(f\"\\n\\n**Risk: {RISKS_MAPPING[risk]}**\\n\")\n",
    "    print(f\"Annotated Samples Size: {total_set.shape[0]}\")\n",
    "    print(f\"To be used for parameters estimation: {train_set.shape[0]}\\n\")\n",
    "    def evaluate(n_estimators, learning_rate):\n",
    "        params = {'n_estimators': int(n_estimators),\n",
    "                 'learning_rate':learning_rate}\n",
    "        params.update(CONSTANTS)\n",
    "\n",
    "        model = init_model(**params)\n",
    "        train_tuple = (train_set[handler.feat_names], train_set[risk])\n",
    "        reg_cv = model.fit(*train_tuple)\n",
    "        cv_result = np.mean(cross_val_score(model, *train_tuple, cv=3,scoring='neg_mean_squared_error'))\n",
    "        return cv_result\n",
    "    xgb_bo = BayesianOptimization(evaluate, {\n",
    "                                                 \"n_estimators\":[200,500],\n",
    "                                                 \"learning_rate\":[0.1,10]\n",
    "                                                }\n",
    "                                  \n",
    "                                 )\n",
    "    \n",
    "    # Use the expected improvement acquisition function to handle negative numbers\n",
    "    # Optimally needs quite a few more initiation points and number of iterations\n",
    "    xgb_bo.maximize(init_points=10, n_iter=10)\n",
    "    params = xgb_bo.max['params']\n",
    "    params['n_estimators'] = int(params['n_estimators'])\n",
    "    params.update(CONSTANTS)\n",
    "    optimal_params[risk] = params"
   ]
  },
  {
   "cell_type": "code",
   "execution_count": 6,
   "metadata": {},
   "outputs": [],
   "source": [
    "# from data.model import MODEL_BEST_PARAMS_PATH\n",
    "# pd.DataFrame(optimal_params).to_csv(MODEL_BEST_PARAMS_PATH)"
   ]
  }
 ],
 "metadata": {
  "kernelspec": {
   "display_name": "ModernDataAnalytics",
   "language": "python",
   "name": "moderndataanalytics"
  },
  "language_info": {
   "codemirror_mode": {
    "name": "ipython",
    "version": 3
   },
   "file_extension": ".py",
   "mimetype": "text/x-python",
   "name": "python",
   "nbconvert_exporter": "python",
   "pygments_lexer": "ipython3",
   "version": "3.8.5"
  },
  "toc": {
   "base_numbering": 1,
   "nav_menu": {},
   "number_sections": true,
   "sideBar": true,
   "skip_h1_title": false,
   "title_cell": "Table of Contents",
   "title_sidebar": "Contents",
   "toc_cell": false,
   "toc_position": {},
   "toc_section_display": true,
   "toc_window_display": false
  },
  "varInspector": {
   "cols": {
    "lenName": 16,
    "lenType": 16,
    "lenVar": 40
   },
   "kernels_config": {
    "python": {
     "delete_cmd_postfix": "",
     "delete_cmd_prefix": "del ",
     "library": "var_list.py",
     "varRefreshCmd": "print(var_dic_list())"
    },
    "r": {
     "delete_cmd_postfix": ") ",
     "delete_cmd_prefix": "rm(",
     "library": "var_list.r",
     "varRefreshCmd": "cat(var_dic_list()) "
    }
   },
   "types_to_exclude": [
    "module",
    "function",
    "builtin_function_or_method",
    "instance",
    "_Feature"
   ],
   "window_display": false
  }
 },
 "nbformat": 4,
 "nbformat_minor": 4
}
