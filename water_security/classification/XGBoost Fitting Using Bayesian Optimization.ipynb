{
 "cells": [
  {
   "cell_type": "code",
   "execution_count": 1,
   "metadata": {
    "scrolled": true
   },
   "outputs": [],
   "source": [
    "import pandas as pd\n",
    "import sklearn as sfs\n",
    "import matplotlib.pyplot as plt\n",
    "import numpy as np\n",
    "import sys\n",
    "sys.path.append('..')\n",
    "from model_handler import ModelHandler\n",
    "from feature_selection import FeatureSelectionAndGeneration\n",
    "handler = ModelHandler()\n",
    "dataset = handler.dataset\n",
    "train_set = dataset[handler.train_mask]"
   ]
  },
  {
   "cell_type": "markdown",
   "metadata": {},
   "source": [
    "The dataset includes different risks that need a prediction. Every risk is considered as a different target of labels, namely a response variable.\n",
    "\n",
    "The aim is to build a model able to predict each risk in the most accurate way possible. However, the learning process is different for each of them, meaning that the minimum set of variables that best explain the largest amount of variance in the dataset is unique for every risk. As a consequence, the following pipeline will be executed as much time as the number of risks in order to return as more precise predictions as possible. "
   ]
  },
  {
   "cell_type": "markdown",
   "metadata": {},
   "source": [
    "# Dataset splitting"
   ]
  },
  {
   "cell_type": "markdown",
   "metadata": {},
   "source": [
    "The first step consists in splitting the dataset into training and test sets. The first will be used during the feature selection part, which is implemented using a boosted logistic regression model. This is a supervised learning approach, thus labels are needed for the regression to be carried out. In this dataset risks are assigned to only some of the cities, therefore it's wise to select as training set all the entries containing values for the given risk. All the rest will be referred to as test set, used for the classification task, since those cities will be the ones needing a prediction."
   ]
  },
  {
   "cell_type": "markdown",
   "metadata": {},
   "source": [
    "# Feature selection"
   ]
  },
  {
   "cell_type": "markdown",
   "metadata": {},
   "source": [
    "When there is a highly non-linear and complex relationship between the predictors and the labels decision trees are preferable. The dataset has many different predictors and we don't know whether this relationship is linear or not.\n",
    "\n",
    "The most robust approach among the ensemble method is `Boosting`. It allows to aggregate many decision trees, differently from `Random Forest`, and grow them sequentially, instead of using boostrap sampling like in `Bagging`. \n",
    "\n",
    "The procedure consists in fitting small trees to the residuals in order to slowly improve the prediction error. Generally, model that learn slowly tend to perform better. A pitfall of Boosting, however, is that it relies very much on its tuning parameters. Hence, it's important to undergo `Cross Validation` in order to select the combination returning the highest accuracy, for every target. \n",
    "For this purpose we decided to use 10-fold cross validation in such a way to speed up the tuning process, which is already slow given the amount of parameters that need to be optimized."
   ]
  },
  {
   "cell_type": "code",
   "execution_count": 2,
   "metadata": {},
   "outputs": [],
   "source": [
    "import xgboost as xgb\n",
    "from sklearn.metrics import accuracy_score, make_scorer\n",
    "from sklearn.model_selection import GridSearchCV, KFold\n",
    "from sklearn.pipeline import Pipeline\n",
    "import shutil\n",
    "import os\n",
    "memory_dir = '.pipeline_cache.tmp'"
   ]
  },
  {
   "cell_type": "markdown",
   "metadata": {},
   "source": [
    "XgBoost has as default objective function `reg:squarederror`, which corresponds to a linear regression with mean-squared error as loss function."
   ]
  },
  {
   "cell_type": "code",
   "execution_count": 3,
   "metadata": {},
   "outputs": [],
   "source": [
    "from bayes_opt import BayesianOptimization\n",
    "if os.path.isdir(memory_dir):\n",
    "    shutil.rmtree(memory_dir)\n",
    "\n",
    "def init_model(**model_params):\n",
    "    return Pipeline([('generation_and_selection', FeatureSelectionAndGeneration(feats_num=200)), ('regressor', xgb.XGBRegressor(**model_params))],memory=memory_dir)\n",
    "    "
   ]
  },
  {
   "cell_type": "code",
   "execution_count": 4,
   "metadata": {
    "scrolled": false
   },
   "outputs": [
    {
     "name": "stdout",
     "output_type": "stream",
     "text": [
      "\n",
      "\n",
      "**Risk: Higher water prices**\n",
      "\n",
      "Annotated Samples Size: 87\n",
      "To be used for parameters estimation: 60\n",
      "\n",
      "|   iter    |  target   |   alpha   | colsam... |   gamma   | learni... | max_depth | n_esti... |\n",
      "-------------------------------------------------------------------------------------------------\n",
      "| \u001b[0m 1       \u001b[0m | \u001b[0m-0.8822  \u001b[0m | \u001b[0m 9.765   \u001b[0m | \u001b[0m 0.8739  \u001b[0m | \u001b[0m 0.8002  \u001b[0m | \u001b[0m 0.4647  \u001b[0m | \u001b[0m 3.724   \u001b[0m | \u001b[0m 404.7   \u001b[0m |\n",
      "| \u001b[95m 2       \u001b[0m | \u001b[95m-0.8573  \u001b[0m | \u001b[95m 14.01   \u001b[0m | \u001b[95m 0.4157  \u001b[0m | \u001b[95m 0.3896  \u001b[0m | \u001b[95m 0.439   \u001b[0m | \u001b[95m 3.458   \u001b[0m | \u001b[95m 841.8   \u001b[0m |\n",
      "| \u001b[95m 3       \u001b[0m | \u001b[95m-0.85    \u001b[0m | \u001b[95m 18.6    \u001b[0m | \u001b[95m 0.8356  \u001b[0m | \u001b[95m 0.8061  \u001b[0m | \u001b[95m 0.2754  \u001b[0m | \u001b[95m 6.371   \u001b[0m | \u001b[95m 639.0   \u001b[0m |\n",
      "| \u001b[0m 4       \u001b[0m | \u001b[0m-1.025   \u001b[0m | \u001b[0m 1.612   \u001b[0m | \u001b[0m 0.4721  \u001b[0m | \u001b[0m 0.7719  \u001b[0m | \u001b[0m 0.3364  \u001b[0m | \u001b[0m 1.057   \u001b[0m | \u001b[0m 295.0   \u001b[0m |\n",
      "| \u001b[0m 5       \u001b[0m | \u001b[0m-1.35    \u001b[0m | \u001b[0m 0.009164\u001b[0m | \u001b[0m 0.6718  \u001b[0m | \u001b[0m 0.3831  \u001b[0m | \u001b[0m 0.1214  \u001b[0m | \u001b[0m 4.294   \u001b[0m | \u001b[0m 477.8   \u001b[0m |\n",
      "| \u001b[0m 6       \u001b[0m | \u001b[0m-0.8745  \u001b[0m | \u001b[0m 10.79   \u001b[0m | \u001b[0m 0.3788  \u001b[0m | \u001b[0m 0.3671  \u001b[0m | \u001b[0m 0.301   \u001b[0m | \u001b[0m 4.162   \u001b[0m | \u001b[0m 361.8   \u001b[0m |\n",
      "| \u001b[0m 7       \u001b[0m | \u001b[0m-0.9235  \u001b[0m | \u001b[0m 4.812   \u001b[0m | \u001b[0m 0.367   \u001b[0m | \u001b[0m 0.8025  \u001b[0m | \u001b[0m 0.4357  \u001b[0m | \u001b[0m 2.485   \u001b[0m | \u001b[0m 498.1   \u001b[0m |\n",
      "| \u001b[0m 8       \u001b[0m | \u001b[0m-0.858   \u001b[0m | \u001b[0m 12.99   \u001b[0m | \u001b[0m 0.5704  \u001b[0m | \u001b[0m 0.4628  \u001b[0m | \u001b[0m 0.1749  \u001b[0m | \u001b[0m 4.216   \u001b[0m | \u001b[0m 779.0   \u001b[0m |\n",
      "| \u001b[0m 9       \u001b[0m | \u001b[0m-0.85    \u001b[0m | \u001b[0m 18.99   \u001b[0m | \u001b[0m 0.3953  \u001b[0m | \u001b[0m 0.008915\u001b[0m | \u001b[0m 0.3154  \u001b[0m | \u001b[0m 3.86    \u001b[0m | \u001b[0m 381.7   \u001b[0m |\n",
      "| \u001b[0m 10      \u001b[0m | \u001b[0m-1.059   \u001b[0m | \u001b[0m 3.675   \u001b[0m | \u001b[0m 0.57    \u001b[0m | \u001b[0m 0.3507  \u001b[0m | \u001b[0m 0.3479  \u001b[0m | \u001b[0m 6.763   \u001b[0m | \u001b[0m 736.2   \u001b[0m |\n",
      "| \u001b[0m 11      \u001b[0m | \u001b[0m-0.85    \u001b[0m | \u001b[0m 19.68   \u001b[0m | \u001b[0m 0.5503  \u001b[0m | \u001b[0m 0.1047  \u001b[0m | \u001b[0m 0.2587  \u001b[0m | \u001b[0m 4.974   \u001b[0m | \u001b[0m 380.4   \u001b[0m |\n",
      "| \u001b[0m 12      \u001b[0m | \u001b[0m-1.24    \u001b[0m | \u001b[0m 0.0     \u001b[0m | \u001b[0m 0.9     \u001b[0m | \u001b[0m 1.0     \u001b[0m | \u001b[0m 0.1     \u001b[0m | \u001b[0m 7.0     \u001b[0m | \u001b[0m 381.6   \u001b[0m |\n",
      "| \u001b[0m 13      \u001b[0m | \u001b[0m-0.85    \u001b[0m | \u001b[0m 18.47   \u001b[0m | \u001b[0m 0.7219  \u001b[0m | \u001b[0m 0.5106  \u001b[0m | \u001b[0m 0.305   \u001b[0m | \u001b[0m 4.998   \u001b[0m | \u001b[0m 625.6   \u001b[0m |\n",
      "| \u001b[0m 14      \u001b[0m | \u001b[0m-0.9867  \u001b[0m | \u001b[0m 4.532   \u001b[0m | \u001b[0m 0.9     \u001b[0m | \u001b[0m 0.9488  \u001b[0m | \u001b[0m 0.4567  \u001b[0m | \u001b[0m 4.827   \u001b[0m | \u001b[0m 632.6   \u001b[0m |\n",
      "| \u001b[0m 15      \u001b[0m | \u001b[0m-0.85    \u001b[0m | \u001b[0m 15.82   \u001b[0m | \u001b[0m 0.7236  \u001b[0m | \u001b[0m 0.2239  \u001b[0m | \u001b[0m 0.4666  \u001b[0m | \u001b[0m 2.0     \u001b[0m | \u001b[0m 827.2   \u001b[0m |\n",
      "| \u001b[0m 16      \u001b[0m | \u001b[0m-1.195   \u001b[0m | \u001b[0m 1.219   \u001b[0m | \u001b[0m 0.5237  \u001b[0m | \u001b[0m 0.361   \u001b[0m | \u001b[0m 0.4743  \u001b[0m | \u001b[0m 6.678   \u001b[0m | \u001b[0m 831.8   \u001b[0m |\n",
      "| \u001b[0m 17      \u001b[0m | \u001b[0m-0.85    \u001b[0m | \u001b[0m 19.58   \u001b[0m | \u001b[0m 0.473   \u001b[0m | \u001b[0m 0.8688  \u001b[0m | \u001b[0m 0.2039  \u001b[0m | \u001b[0m 1.203   \u001b[0m | \u001b[0m 835.1   \u001b[0m |\n",
      "| \u001b[0m 18      \u001b[0m | \u001b[0m-0.85    \u001b[0m | \u001b[0m 20.0    \u001b[0m | \u001b[0m 0.9     \u001b[0m | \u001b[0m 0.5097  \u001b[0m | \u001b[0m 0.2798  \u001b[0m | \u001b[0m 1.0     \u001b[0m | \u001b[0m 853.8   \u001b[0m |\n",
      "| \u001b[0m 19      \u001b[0m | \u001b[0m-0.85    \u001b[0m | \u001b[0m 19.86   \u001b[0m | \u001b[0m 0.3755  \u001b[0m | \u001b[0m 0.06439 \u001b[0m | \u001b[0m 0.1042  \u001b[0m | \u001b[0m 3.451   \u001b[0m | \u001b[0m 812.0   \u001b[0m |\n",
      "| \u001b[0m 20      \u001b[0m | \u001b[0m-0.85    \u001b[0m | \u001b[0m 19.0    \u001b[0m | \u001b[0m 0.5711  \u001b[0m | \u001b[0m 0.3768  \u001b[0m | \u001b[0m 0.3394  \u001b[0m | \u001b[0m 3.654   \u001b[0m | \u001b[0m 794.5   \u001b[0m |\n",
      "=================================================================================================\n",
      "\n",
      "\n",
      "**Risk: Inadequate or aging infrastructure**\n",
      "\n",
      "Annotated Samples Size: 148\n",
      "To be used for parameters estimation: 103\n",
      "\n",
      "|   iter    |  target   |   alpha   | colsam... |   gamma   | learni... | max_depth | n_esti... |\n",
      "-------------------------------------------------------------------------------------------------\n",
      "| \u001b[0m 1       \u001b[0m | \u001b[0m-1.155   \u001b[0m | \u001b[0m 0.4552  \u001b[0m | \u001b[0m 0.3468  \u001b[0m | \u001b[0m 0.2112  \u001b[0m | \u001b[0m 0.2378  \u001b[0m | \u001b[0m 4.084   \u001b[0m | \u001b[0m 212.4   \u001b[0m |\n",
      "| \u001b[95m 2       \u001b[0m | \u001b[95m-1.048   \u001b[0m | \u001b[95m 3.057   \u001b[0m | \u001b[95m 0.6581  \u001b[0m | \u001b[95m 0.5886  \u001b[0m | \u001b[95m 0.4901  \u001b[0m | \u001b[95m 2.395   \u001b[0m | \u001b[95m 693.9   \u001b[0m |\n",
      "| \u001b[95m 3       \u001b[0m | \u001b[95m-1.009   \u001b[0m | \u001b[95m 10.9    \u001b[0m | \u001b[95m 0.8982  \u001b[0m | \u001b[95m 0.3459  \u001b[0m | \u001b[95m 0.1789  \u001b[0m | \u001b[95m 4.121   \u001b[0m | \u001b[95m 624.7   \u001b[0m |\n",
      "| \u001b[0m 4       \u001b[0m | \u001b[0m-1.082   \u001b[0m | \u001b[0m 3.032   \u001b[0m | \u001b[0m 0.5446  \u001b[0m | \u001b[0m 0.1146  \u001b[0m | \u001b[0m 0.439   \u001b[0m | \u001b[0m 4.74    \u001b[0m | \u001b[0m 694.1   \u001b[0m |\n",
      "| \u001b[95m 5       \u001b[0m | \u001b[95m-0.9496  \u001b[0m | \u001b[95m 9.913   \u001b[0m | \u001b[95m 0.489   \u001b[0m | \u001b[95m 0.6949  \u001b[0m | \u001b[95m 0.4319  \u001b[0m | \u001b[95m 2.514   \u001b[0m | \u001b[95m 231.1   \u001b[0m |\n",
      "| \u001b[0m 6       \u001b[0m | \u001b[0m-0.9825  \u001b[0m | \u001b[0m 12.89   \u001b[0m | \u001b[0m 0.6409  \u001b[0m | \u001b[0m 0.582   \u001b[0m | \u001b[0m 0.4803  \u001b[0m | \u001b[0m 3.43    \u001b[0m | \u001b[0m 607.4   \u001b[0m |\n",
      "| \u001b[95m 7       \u001b[0m | \u001b[95m-0.9399  \u001b[0m | \u001b[95m 12.25   \u001b[0m | \u001b[95m 0.8043  \u001b[0m | \u001b[95m 0.402   \u001b[0m | \u001b[95m 0.1356  \u001b[0m | \u001b[95m 1.167   \u001b[0m | \u001b[95m 626.6   \u001b[0m |\n",
      "| \u001b[0m 8       \u001b[0m | \u001b[0m-1.07    \u001b[0m | \u001b[0m 1.644   \u001b[0m | \u001b[0m 0.6042  \u001b[0m | \u001b[0m 0.1109  \u001b[0m | \u001b[0m 0.4772  \u001b[0m | \u001b[0m 3.49    \u001b[0m | \u001b[0m 777.4   \u001b[0m |\n",
      "| \u001b[0m 9       \u001b[0m | \u001b[0m-1.055   \u001b[0m | \u001b[0m 2.977   \u001b[0m | \u001b[0m 0.6053  \u001b[0m | \u001b[0m 0.1218  \u001b[0m | \u001b[0m 0.3977  \u001b[0m | \u001b[0m 2.15    \u001b[0m | \u001b[0m 424.3   \u001b[0m |\n",
      "| \u001b[0m 10      \u001b[0m | \u001b[0m-1.029   \u001b[0m | \u001b[0m 7.822   \u001b[0m | \u001b[0m 0.3097  \u001b[0m | \u001b[0m 0.974   \u001b[0m | \u001b[0m 0.4811  \u001b[0m | \u001b[0m 6.617   \u001b[0m | \u001b[0m 617.7   \u001b[0m |\n",
      "| \u001b[0m 11      \u001b[0m | \u001b[0m-0.9479  \u001b[0m | \u001b[0m 14.65   \u001b[0m | \u001b[0m 0.6328  \u001b[0m | \u001b[0m 0.506   \u001b[0m | \u001b[0m 0.1     \u001b[0m | \u001b[0m 1.0     \u001b[0m | \u001b[0m 630.0   \u001b[0m |\n",
      "| \u001b[95m 12      \u001b[0m | \u001b[95m-0.9267  \u001b[0m | \u001b[95m 7.742   \u001b[0m | \u001b[95m 0.5267  \u001b[0m | \u001b[95m 0.8388  \u001b[0m | \u001b[95m 0.2446  \u001b[0m | \u001b[95m 1.814   \u001b[0m | \u001b[95m 631.9   \u001b[0m |\n",
      "| \u001b[95m 13      \u001b[0m | \u001b[95m-0.9256  \u001b[0m | \u001b[95m 10.35   \u001b[0m | \u001b[95m 0.6675  \u001b[0m | \u001b[95m 0.8656  \u001b[0m | \u001b[95m 0.4615  \u001b[0m | \u001b[95m 1.057   \u001b[0m | \u001b[95m 638.7   \u001b[0m |\n",
      "| \u001b[0m 14      \u001b[0m | \u001b[0m-1.032   \u001b[0m | \u001b[0m 1.901   \u001b[0m | \u001b[0m 0.9     \u001b[0m | \u001b[0m 0.0     \u001b[0m | \u001b[0m 0.1     \u001b[0m | \u001b[0m 1.0     \u001b[0m | \u001b[0m 639.1   \u001b[0m |\n",
      "| \u001b[0m 15      \u001b[0m | \u001b[0m-1.019   \u001b[0m | \u001b[0m 11.54   \u001b[0m | \u001b[0m 0.3063  \u001b[0m | \u001b[0m 0.07757 \u001b[0m | \u001b[0m 0.3551  \u001b[0m | \u001b[0m 6.421   \u001b[0m | \u001b[0m 637.9   \u001b[0m |\n",
      "| \u001b[0m 16      \u001b[0m | \u001b[0m-0.9749  \u001b[0m | \u001b[0m 10.74   \u001b[0m | \u001b[0m 0.3783  \u001b[0m | \u001b[0m 0.1844  \u001b[0m | \u001b[0m 0.4204  \u001b[0m | \u001b[0m 1.795   \u001b[0m | \u001b[0m 238.2   \u001b[0m |\n",
      "| \u001b[0m 17      \u001b[0m | \u001b[0m-0.9358  \u001b[0m | \u001b[0m 13.95   \u001b[0m | \u001b[0m 0.9     \u001b[0m | \u001b[0m 1.0     \u001b[0m | \u001b[0m 0.5     \u001b[0m | \u001b[0m 1.0     \u001b[0m | \u001b[0m 644.5   \u001b[0m |\n",
      "| \u001b[0m 18      \u001b[0m | \u001b[0m-0.9919  \u001b[0m | \u001b[0m 18.09   \u001b[0m | \u001b[0m 0.9     \u001b[0m | \u001b[0m 1.0     \u001b[0m | \u001b[0m 0.5     \u001b[0m | \u001b[0m 4.05    \u001b[0m | \u001b[0m 230.9   \u001b[0m |\n",
      "| \u001b[0m 19      \u001b[0m | \u001b[0m-0.9906  \u001b[0m | \u001b[0m 19.36   \u001b[0m | \u001b[0m 0.8492  \u001b[0m | \u001b[0m 0.3456  \u001b[0m | \u001b[0m 0.4029  \u001b[0m | \u001b[0m 1.473   \u001b[0m | \u001b[0m 640.7   \u001b[0m |\n",
      "| \u001b[0m 20      \u001b[0m | \u001b[0m-0.9285  \u001b[0m | \u001b[0m 10.17   \u001b[0m | \u001b[0m 0.9     \u001b[0m | \u001b[0m 1.0     \u001b[0m | \u001b[0m 0.5     \u001b[0m | \u001b[0m 1.0     \u001b[0m | \u001b[0m 650.9   \u001b[0m |\n",
      "=================================================================================================\n",
      "\n",
      "\n",
      "**Risk: Increased water stress or scarcity**\n",
      "\n",
      "Annotated Samples Size: 261\n",
      "To be used for parameters estimation: 182\n",
      "\n",
      "|   iter    |  target   |   alpha   | colsam... |   gamma   | learni... | max_depth | n_esti... |\n",
      "-------------------------------------------------------------------------------------------------\n",
      "| \u001b[0m 1       \u001b[0m | \u001b[0m-0.4051  \u001b[0m | \u001b[0m 11.66   \u001b[0m | \u001b[0m 0.8111  \u001b[0m | \u001b[0m 0.5496  \u001b[0m | \u001b[0m 0.4327  \u001b[0m | \u001b[0m 5.789   \u001b[0m | \u001b[0m 585.4   \u001b[0m |\n",
      "| \u001b[95m 2       \u001b[0m | \u001b[95m-0.39    \u001b[0m | \u001b[95m 16.77   \u001b[0m | \u001b[95m 0.7807  \u001b[0m | \u001b[95m 0.648   \u001b[0m | \u001b[95m 0.1578  \u001b[0m | \u001b[95m 1.379   \u001b[0m | \u001b[95m 565.1   \u001b[0m |\n",
      "| \u001b[0m 3       \u001b[0m | \u001b[0m-0.3999  \u001b[0m | \u001b[0m 19.91   \u001b[0m | \u001b[0m 0.5679  \u001b[0m | \u001b[0m 0.6431  \u001b[0m | \u001b[0m 0.2783  \u001b[0m | \u001b[0m 4.159   \u001b[0m | \u001b[0m 280.8   \u001b[0m |\n",
      "| \u001b[0m 4       \u001b[0m | \u001b[0m-0.3956  \u001b[0m | \u001b[0m 2.341   \u001b[0m | \u001b[0m 0.8648  \u001b[0m | \u001b[0m 0.1977  \u001b[0m | \u001b[0m 0.1072  \u001b[0m | \u001b[0m 2.506   \u001b[0m | \u001b[0m 558.8   \u001b[0m |\n"
     ]
    },
    {
     "name": "stdout",
     "output_type": "stream",
     "text": [
      "| \u001b[0m 5       \u001b[0m | \u001b[0m-0.3917  \u001b[0m | \u001b[0m 8.059   \u001b[0m | \u001b[0m 0.6758  \u001b[0m | \u001b[0m 0.496   \u001b[0m | \u001b[0m 0.3194  \u001b[0m | \u001b[0m 4.238   \u001b[0m | \u001b[0m 906.0   \u001b[0m |\n",
      "| \u001b[0m 6       \u001b[0m | \u001b[0m-0.3958  \u001b[0m | \u001b[0m 12.2    \u001b[0m | \u001b[0m 0.7957  \u001b[0m | \u001b[0m 0.7235  \u001b[0m | \u001b[0m 0.3622  \u001b[0m | \u001b[0m 6.863   \u001b[0m | \u001b[0m 285.0   \u001b[0m |\n",
      "| \u001b[95m 7       \u001b[0m | \u001b[95m-0.3805  \u001b[0m | \u001b[95m 6.472   \u001b[0m | \u001b[95m 0.6031  \u001b[0m | \u001b[95m 0.7971  \u001b[0m | \u001b[95m 0.4675  \u001b[0m | \u001b[95m 4.928   \u001b[0m | \u001b[95m 755.6   \u001b[0m |\n",
      "| \u001b[0m 8       \u001b[0m | \u001b[0m-0.3831  \u001b[0m | \u001b[0m 0.9752  \u001b[0m | \u001b[0m 0.6736  \u001b[0m | \u001b[0m 0.6508  \u001b[0m | \u001b[0m 0.1252  \u001b[0m | \u001b[0m 5.412   \u001b[0m | \u001b[0m 768.5   \u001b[0m |\n",
      "| \u001b[95m 9       \u001b[0m | \u001b[95m-0.379   \u001b[0m | \u001b[95m 12.26   \u001b[0m | \u001b[95m 0.3881  \u001b[0m | \u001b[95m 0.7877  \u001b[0m | \u001b[95m 0.1248  \u001b[0m | \u001b[95m 6.233   \u001b[0m | \u001b[95m 955.3   \u001b[0m |\n",
      "| \u001b[0m 10      \u001b[0m | \u001b[0m-0.4726  \u001b[0m | \u001b[0m 1.209   \u001b[0m | \u001b[0m 0.8003  \u001b[0m | \u001b[0m 0.05304 \u001b[0m | \u001b[0m 0.1982  \u001b[0m | \u001b[0m 6.629   \u001b[0m | \u001b[0m 443.3   \u001b[0m |\n",
      "| \u001b[0m 11      \u001b[0m | \u001b[0m-0.3826  \u001b[0m | \u001b[0m 13.86   \u001b[0m | \u001b[0m 0.5845  \u001b[0m | \u001b[0m 0.7992  \u001b[0m | \u001b[0m 0.4093  \u001b[0m | \u001b[0m 2.946   \u001b[0m | \u001b[0m 253.5   \u001b[0m |\n",
      "| \u001b[0m 12      \u001b[0m | \u001b[0m-0.5498  \u001b[0m | \u001b[0m 0.0     \u001b[0m | \u001b[0m 0.3     \u001b[0m | \u001b[0m 0.0     \u001b[0m | \u001b[0m 0.5     \u001b[0m | \u001b[0m 7.0     \u001b[0m | \u001b[0m 200.0   \u001b[0m |\n",
      "| \u001b[0m 13      \u001b[0m | \u001b[0m-0.4559  \u001b[0m | \u001b[0m 0.0     \u001b[0m | \u001b[0m 0.3     \u001b[0m | \u001b[0m 0.0     \u001b[0m | \u001b[0m 0.1     \u001b[0m | \u001b[0m 1.0     \u001b[0m | \u001b[0m 691.4   \u001b[0m |\n",
      "| \u001b[0m 14      \u001b[0m | \u001b[0m-0.3792  \u001b[0m | \u001b[0m 12.0    \u001b[0m | \u001b[0m 0.487   \u001b[0m | \u001b[0m 0.7245  \u001b[0m | \u001b[0m 0.1724  \u001b[0m | \u001b[0m 4.741   \u001b[0m | \u001b[0m 955.7   \u001b[0m |\n",
      "| \u001b[0m 15      \u001b[0m | \u001b[0m-0.4039  \u001b[0m | \u001b[0m 20.0    \u001b[0m | \u001b[0m 0.9     \u001b[0m | \u001b[0m 0.898   \u001b[0m | \u001b[0m 0.5     \u001b[0m | \u001b[0m 1.0     \u001b[0m | \u001b[0m 834.9   \u001b[0m |\n",
      "| \u001b[0m 16      \u001b[0m | \u001b[0m-0.4001  \u001b[0m | \u001b[0m 18.07   \u001b[0m | \u001b[0m 0.6337  \u001b[0m | \u001b[0m 0.3314  \u001b[0m | \u001b[0m 0.3589  \u001b[0m | \u001b[0m 6.832   \u001b[0m | \u001b[0m 999.8   \u001b[0m |\n",
      "| \u001b[0m 17      \u001b[0m | \u001b[0m-0.509   \u001b[0m | \u001b[0m 0.0     \u001b[0m | \u001b[0m 0.3     \u001b[0m | \u001b[0m 0.0     \u001b[0m | \u001b[0m 0.5     \u001b[0m | \u001b[0m 1.0     \u001b[0m | \u001b[0m 347.4   \u001b[0m |\n",
      "| \u001b[0m 18      \u001b[0m | \u001b[0m-0.3933  \u001b[0m | \u001b[0m 20.0    \u001b[0m | \u001b[0m 0.9     \u001b[0m | \u001b[0m 1.0     \u001b[0m | \u001b[0m 0.1021  \u001b[0m | \u001b[0m 1.0     \u001b[0m | \u001b[0m 514.6   \u001b[0m |\n",
      "| \u001b[0m 19      \u001b[0m | \u001b[0m-0.3902  \u001b[0m | \u001b[0m 19.95   \u001b[0m | \u001b[0m 0.4461  \u001b[0m | \u001b[0m 0.1634  \u001b[0m | \u001b[0m 0.2343  \u001b[0m | \u001b[0m 1.11    \u001b[0m | \u001b[0m 786.6   \u001b[0m |\n",
      "| \u001b[0m 20      \u001b[0m | \u001b[0m-0.4262  \u001b[0m | \u001b[0m 0.0     \u001b[0m | \u001b[0m 0.8918  \u001b[0m | \u001b[0m 1.0     \u001b[0m | \u001b[0m 0.5     \u001b[0m | \u001b[0m 7.0     \u001b[0m | \u001b[0m 867.7   \u001b[0m |\n",
      "=================================================================================================\n",
      "\n",
      "\n",
      "**Risk: Declining water quality**\n",
      "\n",
      "Annotated Samples Size: 183\n",
      "To be used for parameters estimation: 128\n",
      "\n",
      "|   iter    |  target   |   alpha   | colsam... |   gamma   | learni... | max_depth | n_esti... |\n",
      "-------------------------------------------------------------------------------------------------\n",
      "| \u001b[0m 1       \u001b[0m | \u001b[0m-0.8975  \u001b[0m | \u001b[0m 19.45   \u001b[0m | \u001b[0m 0.4596  \u001b[0m | \u001b[0m 0.3642  \u001b[0m | \u001b[0m 0.4901  \u001b[0m | \u001b[0m 3.549   \u001b[0m | \u001b[0m 388.7   \u001b[0m |\n",
      "| \u001b[95m 2       \u001b[0m | \u001b[95m-0.8541  \u001b[0m | \u001b[95m 15.77   \u001b[0m | \u001b[95m 0.4123  \u001b[0m | \u001b[95m 0.8209  \u001b[0m | \u001b[95m 0.1696  \u001b[0m | \u001b[95m 5.589   \u001b[0m | \u001b[95m 355.0   \u001b[0m |\n",
      "| \u001b[0m 3       \u001b[0m | \u001b[0m-0.8948  \u001b[0m | \u001b[0m 1.988   \u001b[0m | \u001b[0m 0.5549  \u001b[0m | \u001b[0m 0.6932  \u001b[0m | \u001b[0m 0.4294  \u001b[0m | \u001b[0m 3.643   \u001b[0m | \u001b[0m 921.3   \u001b[0m |\n",
      "| \u001b[0m 4       \u001b[0m | \u001b[0m-0.8625  \u001b[0m | \u001b[0m 12.6    \u001b[0m | \u001b[0m 0.3285  \u001b[0m | \u001b[0m 0.7569  \u001b[0m | \u001b[0m 0.1594  \u001b[0m | \u001b[0m 4.453   \u001b[0m | \u001b[0m 434.3   \u001b[0m |\n",
      "| \u001b[0m 5       \u001b[0m | \u001b[0m-0.8828  \u001b[0m | \u001b[0m 6.848   \u001b[0m | \u001b[0m 0.4967  \u001b[0m | \u001b[0m 0.05359 \u001b[0m | \u001b[0m 0.3619  \u001b[0m | \u001b[0m 5.701   \u001b[0m | \u001b[0m 776.4   \u001b[0m |\n",
      "| \u001b[0m 6       \u001b[0m | \u001b[0m-0.9057  \u001b[0m | \u001b[0m 0.04648 \u001b[0m | \u001b[0m 0.632   \u001b[0m | \u001b[0m 0.7799  \u001b[0m | \u001b[0m 0.1316  \u001b[0m | \u001b[0m 2.307   \u001b[0m | \u001b[0m 462.5   \u001b[0m |\n",
      "| \u001b[0m 7       \u001b[0m | \u001b[0m-0.8592  \u001b[0m | \u001b[0m 13.92   \u001b[0m | \u001b[0m 0.3872  \u001b[0m | \u001b[0m 0.101   \u001b[0m | \u001b[0m 0.1488  \u001b[0m | \u001b[0m 3.654   \u001b[0m | \u001b[0m 295.5   \u001b[0m |\n",
      "| \u001b[0m 8       \u001b[0m | \u001b[0m-0.8875  \u001b[0m | \u001b[0m 16.93   \u001b[0m | \u001b[0m 0.5801  \u001b[0m | \u001b[0m 0.1255  \u001b[0m | \u001b[0m 0.4153  \u001b[0m | \u001b[0m 4.097   \u001b[0m | \u001b[0m 918.7   \u001b[0m |\n",
      "| \u001b[95m 9       \u001b[0m | \u001b[95m-0.8388  \u001b[0m | \u001b[95m 5.388   \u001b[0m | \u001b[95m 0.6802  \u001b[0m | \u001b[95m 0.839   \u001b[0m | \u001b[95m 0.1694  \u001b[0m | \u001b[95m 3.225   \u001b[0m | \u001b[95m 589.7   \u001b[0m |\n",
      "| \u001b[0m 10      \u001b[0m | \u001b[0m-0.9319  \u001b[0m | \u001b[0m 1.843   \u001b[0m | \u001b[0m 0.3059  \u001b[0m | \u001b[0m 0.5561  \u001b[0m | \u001b[0m 0.4831  \u001b[0m | \u001b[0m 2.22    \u001b[0m | \u001b[0m 939.7   \u001b[0m |\n",
      "| \u001b[0m 11      \u001b[0m | \u001b[0m-0.8493  \u001b[0m | \u001b[0m 4.786   \u001b[0m | \u001b[0m 0.3141  \u001b[0m | \u001b[0m 0.6885  \u001b[0m | \u001b[0m 0.1746  \u001b[0m | \u001b[0m 3.544   \u001b[0m | \u001b[0m 590.4   \u001b[0m |\n",
      "| \u001b[0m 12      \u001b[0m | \u001b[0m-0.8491  \u001b[0m | \u001b[0m 8.694   \u001b[0m | \u001b[0m 0.5708  \u001b[0m | \u001b[0m 0.8673  \u001b[0m | \u001b[0m 0.4361  \u001b[0m | \u001b[0m 2.029   \u001b[0m | \u001b[0m 588.6   \u001b[0m |\n",
      "| \u001b[95m 13      \u001b[0m | \u001b[95m-0.8354  \u001b[0m | \u001b[95m 4.948   \u001b[0m | \u001b[95m 0.5946  \u001b[0m | \u001b[95m 0.5354  \u001b[0m | \u001b[95m 0.4325  \u001b[0m | \u001b[95m 1.406   \u001b[0m | \u001b[95m 585.8   \u001b[0m |\n",
      "| \u001b[0m 14      \u001b[0m | \u001b[0m-0.9547  \u001b[0m | \u001b[0m 3.68    \u001b[0m | \u001b[0m 0.6701  \u001b[0m | \u001b[0m 0.6438  \u001b[0m | \u001b[0m 0.3754  \u001b[0m | \u001b[0m 6.812   \u001b[0m | \u001b[0m 585.3   \u001b[0m |\n",
      "| \u001b[0m 15      \u001b[0m | \u001b[0m-0.8757  \u001b[0m | \u001b[0m 5.244   \u001b[0m | \u001b[0m 0.3     \u001b[0m | \u001b[0m 0.0     \u001b[0m | \u001b[0m 0.5     \u001b[0m | \u001b[0m 1.0     \u001b[0m | \u001b[0m 588.7   \u001b[0m |\n",
      "| \u001b[95m 16      \u001b[0m | \u001b[95m-0.8212  \u001b[0m | \u001b[95m 6.857   \u001b[0m | \u001b[95m 0.4952  \u001b[0m | \u001b[95m 0.9403  \u001b[0m | \u001b[95m 0.2801  \u001b[0m | \u001b[95m 1.662   \u001b[0m | \u001b[95m 585.0   \u001b[0m |\n",
      "| \u001b[0m 17      \u001b[0m | \u001b[0m-0.8238  \u001b[0m | \u001b[0m 6.813   \u001b[0m | \u001b[0m 0.3136  \u001b[0m | \u001b[0m 0.5254  \u001b[0m | \u001b[0m 0.1238  \u001b[0m | \u001b[0m 1.823   \u001b[0m | \u001b[0m 582.4   \u001b[0m |\n",
      "| \u001b[0m 18      \u001b[0m | \u001b[0m-0.8644  \u001b[0m | \u001b[0m 10.15   \u001b[0m | \u001b[0m 0.3947  \u001b[0m | \u001b[0m 0.7889  \u001b[0m | \u001b[0m 0.3863  \u001b[0m | \u001b[0m 2.599   \u001b[0m | \u001b[0m 582.1   \u001b[0m |\n",
      "| \u001b[95m 19      \u001b[0m | \u001b[95m-0.789   \u001b[0m | \u001b[95m 4.724   \u001b[0m | \u001b[95m 0.9     \u001b[0m | \u001b[95m 1.0     \u001b[0m | \u001b[95m 0.5     \u001b[0m | \u001b[95m 1.0     \u001b[0m | \u001b[95m 583.0   \u001b[0m |\n",
      "| \u001b[0m 20      \u001b[0m | \u001b[0m-0.8087  \u001b[0m | \u001b[0m 5.734   \u001b[0m | \u001b[0m 0.8846  \u001b[0m | \u001b[0m 0.4651  \u001b[0m | \u001b[0m 0.1685  \u001b[0m | \u001b[0m 1.169   \u001b[0m | \u001b[0m 579.9   \u001b[0m |\n",
      "=================================================================================================\n",
      "\n",
      "\n",
      "**Risk: Increased water demand**\n",
      "\n",
      "Annotated Samples Size: 98\n",
      "To be used for parameters estimation: 68\n",
      "\n",
      "|   iter    |  target   |   alpha   | colsam... |   gamma   | learni... | max_depth | n_esti... |\n",
      "-------------------------------------------------------------------------------------------------\n",
      "| \u001b[0m 1       \u001b[0m | \u001b[0m-1.251   \u001b[0m | \u001b[0m 13.11   \u001b[0m | \u001b[0m 0.8169  \u001b[0m | \u001b[0m 0.9723  \u001b[0m | \u001b[0m 0.1098  \u001b[0m | \u001b[0m 2.958   \u001b[0m | \u001b[0m 280.5   \u001b[0m |\n",
      "| \u001b[95m 2       \u001b[0m | \u001b[95m-1.231   \u001b[0m | \u001b[95m 10.51   \u001b[0m | \u001b[95m 0.3018  \u001b[0m | \u001b[95m 0.832   \u001b[0m | \u001b[95m 0.4303  \u001b[0m | \u001b[95m 5.202   \u001b[0m | \u001b[95m 584.4   \u001b[0m |\n",
      "| \u001b[0m 3       \u001b[0m | \u001b[0m-1.272   \u001b[0m | \u001b[0m 6.323   \u001b[0m | \u001b[0m 0.7929  \u001b[0m | \u001b[0m 0.6473  \u001b[0m | \u001b[0m 0.1035  \u001b[0m | \u001b[0m 4.359   \u001b[0m | \u001b[0m 213.5   \u001b[0m |\n",
      "| \u001b[0m 4       \u001b[0m | \u001b[0m-1.316   \u001b[0m | \u001b[0m 3.004   \u001b[0m | \u001b[0m 0.8196  \u001b[0m | \u001b[0m 0.8564  \u001b[0m | \u001b[0m 0.3136  \u001b[0m | \u001b[0m 5.148   \u001b[0m | \u001b[0m 350.1   \u001b[0m |\n",
      "| \u001b[0m 5       \u001b[0m | \u001b[0m-1.25    \u001b[0m | \u001b[0m 8.379   \u001b[0m | \u001b[0m 0.7433  \u001b[0m | \u001b[0m 0.5636  \u001b[0m | \u001b[0m 0.2503  \u001b[0m | \u001b[0m 3.605   \u001b[0m | \u001b[0m 987.6   \u001b[0m |\n",
      "| \u001b[0m 6       \u001b[0m | \u001b[0m-1.393   \u001b[0m | \u001b[0m 0.197   \u001b[0m | \u001b[0m 0.8327  \u001b[0m | \u001b[0m 0.9347  \u001b[0m | \u001b[0m 0.1541  \u001b[0m | \u001b[0m 6.483   \u001b[0m | \u001b[0m 695.5   \u001b[0m |\n",
      "| \u001b[0m 7       \u001b[0m | \u001b[0m-1.322   \u001b[0m | \u001b[0m 2.972   \u001b[0m | \u001b[0m 0.7732  \u001b[0m | \u001b[0m 0.9463  \u001b[0m | \u001b[0m 0.4028  \u001b[0m | \u001b[0m 3.039   \u001b[0m | \u001b[0m 578.8   \u001b[0m |\n",
      "| \u001b[0m 8       \u001b[0m | \u001b[0m-1.238   \u001b[0m | \u001b[0m 11.35   \u001b[0m | \u001b[0m 0.3856  \u001b[0m | \u001b[0m 0.6758  \u001b[0m | \u001b[0m 0.2651  \u001b[0m | \u001b[0m 2.121   \u001b[0m | \u001b[0m 470.2   \u001b[0m |\n",
      "| \u001b[95m 9       \u001b[0m | \u001b[95m-1.221   \u001b[0m | \u001b[95m 14.91   \u001b[0m | \u001b[95m 0.7183  \u001b[0m | \u001b[95m 0.123   \u001b[0m | \u001b[95m 0.225   \u001b[0m | \u001b[95m 3.407   \u001b[0m | \u001b[95m 987.8   \u001b[0m |\n",
      "| \u001b[0m 10      \u001b[0m | \u001b[0m-1.305   \u001b[0m | \u001b[0m 2.701   \u001b[0m | \u001b[0m 0.7941  \u001b[0m | \u001b[0m 0.8205  \u001b[0m | \u001b[0m 0.427   \u001b[0m | \u001b[0m 3.478   \u001b[0m | \u001b[0m 943.4   \u001b[0m |\n"
     ]
    },
    {
     "name": "stdout",
     "output_type": "stream",
     "text": [
      "| \u001b[0m 11      \u001b[0m | \u001b[0m-1.261   \u001b[0m | \u001b[0m 13.76   \u001b[0m | \u001b[0m 0.3578  \u001b[0m | \u001b[0m 0.1798  \u001b[0m | \u001b[0m 0.4457  \u001b[0m | \u001b[0m 3.626   \u001b[0m | \u001b[0m 993.4   \u001b[0m |\n",
      "| \u001b[0m 12      \u001b[0m | \u001b[0m-1.244   \u001b[0m | \u001b[0m 15.95   \u001b[0m | \u001b[0m 0.4207  \u001b[0m | \u001b[0m 0.4039  \u001b[0m | \u001b[0m 0.4174  \u001b[0m | \u001b[0m 5.11    \u001b[0m | \u001b[0m 981.2   \u001b[0m |\n",
      "| \u001b[0m 13      \u001b[0m | \u001b[0m-1.222   \u001b[0m | \u001b[0m 16.33   \u001b[0m | \u001b[0m 0.5447  \u001b[0m | \u001b[0m 0.7159  \u001b[0m | \u001b[0m 0.4246  \u001b[0m | \u001b[0m 6.845   \u001b[0m | \u001b[0m 589.0   \u001b[0m |\n",
      "| \u001b[0m 14      \u001b[0m | \u001b[0m-1.353   \u001b[0m | \u001b[0m 19.94   \u001b[0m | \u001b[0m 0.551   \u001b[0m | \u001b[0m 0.9992  \u001b[0m | \u001b[0m 0.3305  \u001b[0m | \u001b[0m 2.007   \u001b[0m | \u001b[0m 581.5   \u001b[0m |\n",
      "| \u001b[95m 15      \u001b[0m | \u001b[95m-1.209   \u001b[0m | \u001b[95m 11.74   \u001b[0m | \u001b[95m 0.8434  \u001b[0m | \u001b[95m 0.3206  \u001b[0m | \u001b[95m 0.2305  \u001b[0m | \u001b[95m 5.962   \u001b[0m | \u001b[95m 590.8   \u001b[0m |\n",
      "| \u001b[0m 16      \u001b[0m | \u001b[0m-1.26    \u001b[0m | \u001b[0m 17.23   \u001b[0m | \u001b[0m 0.4266  \u001b[0m | \u001b[0m 0.3869  \u001b[0m | \u001b[0m 0.2747  \u001b[0m | \u001b[0m 4.042   \u001b[0m | \u001b[0m 598.8   \u001b[0m |\n",
      "| \u001b[0m 17      \u001b[0m | \u001b[0m-1.279   \u001b[0m | \u001b[0m 4.26    \u001b[0m | \u001b[0m 0.6554  \u001b[0m | \u001b[0m 0.6014  \u001b[0m | \u001b[0m 0.3875  \u001b[0m | \u001b[0m 6.456   \u001b[0m | \u001b[0m 592.9   \u001b[0m |\n",
      "| \u001b[0m 18      \u001b[0m | \u001b[0m-1.217   \u001b[0m | \u001b[0m 9.776   \u001b[0m | \u001b[0m 0.9     \u001b[0m | \u001b[0m 1.0     \u001b[0m | \u001b[0m 0.5     \u001b[0m | \u001b[0m 1.0     \u001b[0m | \u001b[0m 460.7   \u001b[0m |\n",
      "| \u001b[0m 19      \u001b[0m | \u001b[0m-1.419   \u001b[0m | \u001b[0m 3.613   \u001b[0m | \u001b[0m 0.3868  \u001b[0m | \u001b[0m 0.2436  \u001b[0m | \u001b[0m 0.1393  \u001b[0m | \u001b[0m 5.808   \u001b[0m | \u001b[0m 463.5   \u001b[0m |\n",
      "| \u001b[0m 20      \u001b[0m | \u001b[0m-1.261   \u001b[0m | \u001b[0m 13.12   \u001b[0m | \u001b[0m 0.3     \u001b[0m | \u001b[0m 1.0     \u001b[0m | \u001b[0m 0.5     \u001b[0m | \u001b[0m 2.016   \u001b[0m | \u001b[0m 589.3   \u001b[0m |\n",
      "=================================================================================================\n",
      "\n",
      "\n",
      "**Risk: Regulatory**\n",
      "\n",
      "Annotated Samples Size: 65\n",
      "To be used for parameters estimation: 45\n",
      "\n",
      "|   iter    |  target   |   alpha   | colsam... |   gamma   | learni... | max_depth | n_esti... |\n",
      "-------------------------------------------------------------------------------------------------\n",
      "| \u001b[0m 1       \u001b[0m | \u001b[0m-0.65    \u001b[0m | \u001b[0m 15.56   \u001b[0m | \u001b[0m 0.3826  \u001b[0m | \u001b[0m 0.1725  \u001b[0m | \u001b[0m 0.2677  \u001b[0m | \u001b[0m 6.486   \u001b[0m | \u001b[0m 306.4   \u001b[0m |\n",
      "| \u001b[0m 2       \u001b[0m | \u001b[0m-0.65    \u001b[0m | \u001b[0m 11.8    \u001b[0m | \u001b[0m 0.7841  \u001b[0m | \u001b[0m 0.2116  \u001b[0m | \u001b[0m 0.219   \u001b[0m | \u001b[0m 3.179   \u001b[0m | \u001b[0m 518.9   \u001b[0m |\n",
      "| \u001b[0m 3       \u001b[0m | \u001b[0m-0.6821  \u001b[0m | \u001b[0m 1.556   \u001b[0m | \u001b[0m 0.6161  \u001b[0m | \u001b[0m 0.5982  \u001b[0m | \u001b[0m 0.2367  \u001b[0m | \u001b[0m 3.419   \u001b[0m | \u001b[0m 629.9   \u001b[0m |\n",
      "| \u001b[0m 4       \u001b[0m | \u001b[0m-0.67    \u001b[0m | \u001b[0m 5.537   \u001b[0m | \u001b[0m 0.6524  \u001b[0m | \u001b[0m 0.4011  \u001b[0m | \u001b[0m 0.2123  \u001b[0m | \u001b[0m 5.244   \u001b[0m | \u001b[0m 756.5   \u001b[0m |\n",
      "| \u001b[0m 5       \u001b[0m | \u001b[0m-0.6925  \u001b[0m | \u001b[0m 0.8172  \u001b[0m | \u001b[0m 0.5535  \u001b[0m | \u001b[0m 0.7584  \u001b[0m | \u001b[0m 0.4525  \u001b[0m | \u001b[0m 4.32    \u001b[0m | \u001b[0m 918.0   \u001b[0m |\n",
      "| \u001b[0m 6       \u001b[0m | \u001b[0m-0.65    \u001b[0m | \u001b[0m 15.57   \u001b[0m | \u001b[0m 0.459   \u001b[0m | \u001b[0m 0.04747 \u001b[0m | \u001b[0m 0.4194  \u001b[0m | \u001b[0m 1.699   \u001b[0m | \u001b[0m 973.5   \u001b[0m |\n",
      "| \u001b[0m 7       \u001b[0m | \u001b[0m-0.65    \u001b[0m | \u001b[0m 17.18   \u001b[0m | \u001b[0m 0.7149  \u001b[0m | \u001b[0m 0.1977  \u001b[0m | \u001b[0m 0.1905  \u001b[0m | \u001b[0m 2.631   \u001b[0m | \u001b[0m 399.1   \u001b[0m |\n",
      "| \u001b[0m 8       \u001b[0m | \u001b[0m-0.6618  \u001b[0m | \u001b[0m 7.868   \u001b[0m | \u001b[0m 0.5308  \u001b[0m | \u001b[0m 0.2708  \u001b[0m | \u001b[0m 0.3638  \u001b[0m | \u001b[0m 5.117   \u001b[0m | \u001b[0m 710.3   \u001b[0m |\n",
      "| \u001b[0m 9       \u001b[0m | \u001b[0m-0.65    \u001b[0m | \u001b[0m 14.18   \u001b[0m | \u001b[0m 0.4746  \u001b[0m | \u001b[0m 0.2194  \u001b[0m | \u001b[0m 0.2515  \u001b[0m | \u001b[0m 2.507   \u001b[0m | \u001b[0m 621.7   \u001b[0m |\n",
      "| \u001b[0m 10      \u001b[0m | \u001b[0m-0.65    \u001b[0m | \u001b[0m 17.3    \u001b[0m | \u001b[0m 0.4691  \u001b[0m | \u001b[0m 0.9135  \u001b[0m | \u001b[0m 0.2336  \u001b[0m | \u001b[0m 5.376   \u001b[0m | \u001b[0m 896.5   \u001b[0m |\n",
      "| \u001b[0m 11      \u001b[0m | \u001b[0m-0.65    \u001b[0m | \u001b[0m 13.89   \u001b[0m | \u001b[0m 0.5015  \u001b[0m | \u001b[0m 0.1859  \u001b[0m | \u001b[0m 0.1065  \u001b[0m | \u001b[0m 6.381   \u001b[0m | \u001b[0m 239.0   \u001b[0m |\n",
      "| \u001b[0m 12      \u001b[0m | \u001b[0m-0.65    \u001b[0m | \u001b[0m 13.76   \u001b[0m | \u001b[0m 0.8884  \u001b[0m | \u001b[0m 0.6764  \u001b[0m | \u001b[0m 0.3196  \u001b[0m | \u001b[0m 3.158   \u001b[0m | \u001b[0m 621.4   \u001b[0m |\n",
      "| \u001b[0m 13      \u001b[0m | \u001b[0m-0.65    \u001b[0m | \u001b[0m 19.52   \u001b[0m | \u001b[0m 0.6442  \u001b[0m | \u001b[0m 0.4494  \u001b[0m | \u001b[0m 0.1563  \u001b[0m | \u001b[0m 4.73    \u001b[0m | \u001b[0m 611.5   \u001b[0m |\n",
      "| \u001b[0m 14      \u001b[0m | \u001b[0m-0.65    \u001b[0m | \u001b[0m 20.0    \u001b[0m | \u001b[0m 0.3986  \u001b[0m | \u001b[0m 0.9524  \u001b[0m | \u001b[0m 0.1061  \u001b[0m | \u001b[0m 4.74    \u001b[0m | \u001b[0m 880.9   \u001b[0m |\n",
      "| \u001b[0m 15      \u001b[0m | \u001b[0m-0.6537  \u001b[0m | \u001b[0m 3.416   \u001b[0m | \u001b[0m 0.3831  \u001b[0m | \u001b[0m 0.0     \u001b[0m | \u001b[0m 0.1     \u001b[0m | \u001b[0m 6.734   \u001b[0m | \u001b[0m 882.2   \u001b[0m |\n",
      "| \u001b[0m 16      \u001b[0m | \u001b[0m-0.65    \u001b[0m | \u001b[0m 13.71   \u001b[0m | \u001b[0m 0.6676  \u001b[0m | \u001b[0m 0.7382  \u001b[0m | \u001b[0m 0.4799  \u001b[0m | \u001b[0m 3.553   \u001b[0m | \u001b[0m 288.6   \u001b[0m |\n",
      "| \u001b[0m 17      \u001b[0m | \u001b[0m-0.752   \u001b[0m | \u001b[0m 0.4088  \u001b[0m | \u001b[0m 0.3748  \u001b[0m | \u001b[0m 0.813   \u001b[0m | \u001b[0m 0.3461  \u001b[0m | \u001b[0m 2.469   \u001b[0m | \u001b[0m 299.6   \u001b[0m |\n",
      "| \u001b[0m 18      \u001b[0m | \u001b[0m-0.65    \u001b[0m | \u001b[0m 20.0    \u001b[0m | \u001b[0m 0.3     \u001b[0m | \u001b[0m 0.8457  \u001b[0m | \u001b[0m 0.1     \u001b[0m | \u001b[0m 3.756   \u001b[0m | \u001b[0m 279.1   \u001b[0m |\n",
      "| \u001b[0m 19      \u001b[0m | \u001b[0m-0.65    \u001b[0m | \u001b[0m 20.0    \u001b[0m | \u001b[0m 0.4472  \u001b[0m | \u001b[0m 0.0     \u001b[0m | \u001b[0m 0.1324  \u001b[0m | \u001b[0m 7.0     \u001b[0m | \u001b[0m 317.8   \u001b[0m |\n",
      "| \u001b[0m 20      \u001b[0m | \u001b[0m-0.65    \u001b[0m | \u001b[0m 17.2    \u001b[0m | \u001b[0m 0.7277  \u001b[0m | \u001b[0m 0.6665  \u001b[0m | \u001b[0m 0.2214  \u001b[0m | \u001b[0m 5.376   \u001b[0m | \u001b[0m 254.2   \u001b[0m |\n",
      "=================================================================================================\n",
      "\n",
      "\n",
      "**Risk: Energy supply issues**\n",
      "\n",
      "Annotated Samples Size: 59\n",
      "To be used for parameters estimation: 41\n",
      "\n",
      "|   iter    |  target   |   alpha   | colsam... |   gamma   | learni... | max_depth | n_esti... |\n",
      "-------------------------------------------------------------------------------------------------\n",
      "| \u001b[0m 1       \u001b[0m | \u001b[0m-0.541   \u001b[0m | \u001b[0m 6.427   \u001b[0m | \u001b[0m 0.6124  \u001b[0m | \u001b[0m 0.05238 \u001b[0m | \u001b[0m 0.4017  \u001b[0m | \u001b[0m 2.579   \u001b[0m | \u001b[0m 887.5   \u001b[0m |\n",
      "| \u001b[0m 2       \u001b[0m | \u001b[0m-0.587   \u001b[0m | \u001b[0m 14.25   \u001b[0m | \u001b[0m 0.4406  \u001b[0m | \u001b[0m 0.4306  \u001b[0m | \u001b[0m 0.3975  \u001b[0m | \u001b[0m 2.432   \u001b[0m | \u001b[0m 526.9   \u001b[0m |\n",
      "| \u001b[0m 3       \u001b[0m | \u001b[0m-0.587   \u001b[0m | \u001b[0m 13.84   \u001b[0m | \u001b[0m 0.5682  \u001b[0m | \u001b[0m 0.5757  \u001b[0m | \u001b[0m 0.1934  \u001b[0m | \u001b[0m 1.821   \u001b[0m | \u001b[0m 479.3   \u001b[0m |\n",
      "| \u001b[0m 4       \u001b[0m | \u001b[0m-0.587   \u001b[0m | \u001b[0m 10.71   \u001b[0m | \u001b[0m 0.4703  \u001b[0m | \u001b[0m 0.7718  \u001b[0m | \u001b[0m 0.3598  \u001b[0m | \u001b[0m 3.527   \u001b[0m | \u001b[0m 982.2   \u001b[0m |\n",
      "| \u001b[0m 5       \u001b[0m | \u001b[0m-0.587   \u001b[0m | \u001b[0m 17.77   \u001b[0m | \u001b[0m 0.65    \u001b[0m | \u001b[0m 0.4553  \u001b[0m | \u001b[0m 0.3275  \u001b[0m | \u001b[0m 2.027   \u001b[0m | \u001b[0m 656.4   \u001b[0m |\n",
      "| \u001b[0m 6       \u001b[0m | \u001b[0m-0.587   \u001b[0m | \u001b[0m 13.54   \u001b[0m | \u001b[0m 0.52    \u001b[0m | \u001b[0m 0.4095  \u001b[0m | \u001b[0m 0.1616  \u001b[0m | \u001b[0m 2.844   \u001b[0m | \u001b[0m 871.5   \u001b[0m |\n",
      "| \u001b[0m 7       \u001b[0m | \u001b[0m-0.587   \u001b[0m | \u001b[0m 18.25   \u001b[0m | \u001b[0m 0.7378  \u001b[0m | \u001b[0m 0.5464  \u001b[0m | \u001b[0m 0.3647  \u001b[0m | \u001b[0m 1.701   \u001b[0m | \u001b[0m 237.2   \u001b[0m |\n",
      "| \u001b[0m 8       \u001b[0m | \u001b[0m-0.587   \u001b[0m | \u001b[0m 15.08   \u001b[0m | \u001b[0m 0.8905  \u001b[0m | \u001b[0m 0.8727  \u001b[0m | \u001b[0m 0.3262  \u001b[0m | \u001b[0m 3.061   \u001b[0m | \u001b[0m 721.3   \u001b[0m |\n",
      "| \u001b[95m 9       \u001b[0m | \u001b[95m-0.5238  \u001b[0m | \u001b[95m 2.092   \u001b[0m | \u001b[95m 0.346   \u001b[0m | \u001b[95m 0.2353  \u001b[0m | \u001b[95m 0.4602  \u001b[0m | \u001b[95m 4.512   \u001b[0m | \u001b[95m 390.1   \u001b[0m |\n",
      "| \u001b[0m 10      \u001b[0m | \u001b[0m-0.587   \u001b[0m | \u001b[0m 17.82   \u001b[0m | \u001b[0m 0.3071  \u001b[0m | \u001b[0m 0.939   \u001b[0m | \u001b[0m 0.2262  \u001b[0m | \u001b[0m 6.063   \u001b[0m | \u001b[0m 378.6   \u001b[0m |\n",
      "| \u001b[0m 11      \u001b[0m | \u001b[0m-0.587   \u001b[0m | \u001b[0m 14.77   \u001b[0m | \u001b[0m 0.3944  \u001b[0m | \u001b[0m 0.4289  \u001b[0m | \u001b[0m 0.3973  \u001b[0m | \u001b[0m 1.511   \u001b[0m | \u001b[0m 234.0   \u001b[0m |\n",
      "| \u001b[0m 12      \u001b[0m | \u001b[0m-0.5877  \u001b[0m | \u001b[0m 0.0     \u001b[0m | \u001b[0m 0.408   \u001b[0m | \u001b[0m 0.09343 \u001b[0m | \u001b[0m 0.4534  \u001b[0m | \u001b[0m 4.286   \u001b[0m | \u001b[0m 395.3   \u001b[0m |\n",
      "| \u001b[0m 13      \u001b[0m | \u001b[0m-0.5376  \u001b[0m | \u001b[0m 2.394   \u001b[0m | \u001b[0m 0.5884  \u001b[0m | \u001b[0m 0.3764  \u001b[0m | \u001b[0m 0.2753  \u001b[0m | \u001b[0m 4.957   \u001b[0m | \u001b[0m 389.9   \u001b[0m |\n",
      "| \u001b[0m 14      \u001b[0m | \u001b[0m-0.5691  \u001b[0m | \u001b[0m 2.455   \u001b[0m | \u001b[0m 0.8094  \u001b[0m | \u001b[0m 0.3073  \u001b[0m | \u001b[0m 0.2901  \u001b[0m | \u001b[0m 3.03    \u001b[0m | \u001b[0m 390.5   \u001b[0m |\n",
      "| \u001b[0m 15      \u001b[0m | \u001b[0m-0.524   \u001b[0m | \u001b[0m 1.702   \u001b[0m | \u001b[0m 0.4891  \u001b[0m | \u001b[0m 0.2356  \u001b[0m | \u001b[0m 0.3199  \u001b[0m | \u001b[0m 4.546   \u001b[0m | \u001b[0m 390.3   \u001b[0m |\n",
      "| \u001b[0m 16      \u001b[0m | \u001b[0m-0.6345  \u001b[0m | \u001b[0m 0.9344  \u001b[0m | \u001b[0m 0.8452  \u001b[0m | \u001b[0m 0.1656  \u001b[0m | \u001b[0m 0.3614  \u001b[0m | \u001b[0m 6.349   \u001b[0m | \u001b[0m 390.3   \u001b[0m |\n"
     ]
    },
    {
     "name": "stdout",
     "output_type": "stream",
     "text": [
      "| \u001b[0m 17      \u001b[0m | \u001b[0m-0.5309  \u001b[0m | \u001b[0m 0.783   \u001b[0m | \u001b[0m 0.463   \u001b[0m | \u001b[0m 0.6296  \u001b[0m | \u001b[0m 0.3681  \u001b[0m | \u001b[0m 4.155   \u001b[0m | \u001b[0m 389.3   \u001b[0m |\n",
      "| \u001b[0m 18      \u001b[0m | \u001b[0m-0.5579  \u001b[0m | \u001b[0m 0.7492  \u001b[0m | \u001b[0m 0.556   \u001b[0m | \u001b[0m 0.9379  \u001b[0m | \u001b[0m 0.1519  \u001b[0m | \u001b[0m 2.707   \u001b[0m | \u001b[0m 390.5   \u001b[0m |\n",
      "| \u001b[95m 19      \u001b[0m | \u001b[95m-0.5184  \u001b[0m | \u001b[95m 1.476   \u001b[0m | \u001b[95m 0.6585  \u001b[0m | \u001b[95m 0.5587  \u001b[0m | \u001b[95m 0.48    \u001b[0m | \u001b[95m 4.013   \u001b[0m | \u001b[95m 391.6   \u001b[0m |\n",
      "| \u001b[0m 20      \u001b[0m | \u001b[0m-0.5343  \u001b[0m | \u001b[0m 1.425   \u001b[0m | \u001b[0m 0.3264  \u001b[0m | \u001b[0m 0.9839  \u001b[0m | \u001b[0m 0.3542  \u001b[0m | \u001b[0m 4.404   \u001b[0m | \u001b[0m 389.1   \u001b[0m |\n",
      "=================================================================================================\n"
     ]
    }
   ],
   "source": [
    "from sklearn.model_selection import cross_val_score\n",
    "from data.labeled.preprocessed import RISKS_MAPPING\n",
    "from classification import RANDOM_SEED\n",
    "optimal_params = {}\n",
    "CONSTANTS = {'subsample': 0.8, 'objective':\"reg:squarederror\", \"random_state\": RANDOM_SEED,'subsample':1}\n",
    "for (risk, total_set, [train_set, valid_set]) in handler.get_total_train_val_set_per_risk():\n",
    "    print(f\"\\n\\n**Risk: {RISKS_MAPPING[risk]}**\\n\")\n",
    "    print(f\"Annotated Samples Size: {total_set.shape[0]}\")\n",
    "    print(f\"To be used for parameters estimation: {train_set.shape[0]}\\n\")\n",
    "    def xgb_evaluate(max_depth, \n",
    "                     gamma, \n",
    "                     alpha,\n",
    "                     colsample_bytree, n_estimators, learning_rate):\n",
    "        params = {'max_depth': int(max_depth),\n",
    "                  'subsample': 0.8,\n",
    "                  'alpha': alpha,\n",
    "                  'gamma': gamma,\n",
    "                  'colsample_bytree': colsample_bytree,\n",
    "                   'n_estimators': int(n_estimators),\n",
    "                 'learning_rate':learning_rate}\n",
    "        params.update(CONSTANTS)\n",
    "\n",
    "        model = init_model(**params)\n",
    "        train_tuple = (train_set[handler.feat_names], train_set[risk])\n",
    "        reg_cv = model.fit(*train_tuple)\n",
    "        cv_result = np.mean(cross_val_score(model, *train_tuple, cv=3,scoring='neg_mean_squared_error'))\n",
    "        return cv_result\n",
    "    xgb_bo = BayesianOptimization(xgb_evaluate, {'max_depth': (1, 7), \n",
    "                                                 'alpha': (0,20),\n",
    "                                                 'gamma': (0, 1),\n",
    "                                                 'colsample_bytree': (0.3, 0.9),\n",
    "                                                 \"n_estimators\":[200,1000],\n",
    "                                                 \"learning_rate\":[0.1,0.5]\n",
    "                                                }\n",
    "                                  \n",
    "                                 )\n",
    "    \n",
    "    # Use the expected improvement acquisition function to handle negative numbers\n",
    "    # Optimally needs quite a few more initiation points and number of iterations\n",
    "    xgb_bo.maximize(init_points=10, n_iter=10)\n",
    "    params = xgb_bo.max['params']\n",
    "    params['max_depth'] = int(params['max_depth'])\n",
    "    params['n_estimators'] = int(params['n_estimators'])\n",
    "    params.update(CONSTANTS)\n",
    "    optimal_params[risk] = params"
   ]
  },
  {
   "cell_type": "code",
   "execution_count": 5,
   "metadata": {},
   "outputs": [],
   "source": [
    "from data.model import MODEL_BEST_PARAMS_PATH\n",
    "pd.DataFrame(optimal_params).to_csv(MODEL_BEST_PARAMS_PATH)"
   ]
  }
 ],
 "metadata": {
  "kernelspec": {
   "display_name": "ModernDataAnalytics",
   "language": "python",
   "name": "moderndataanalytics"
  },
  "language_info": {
   "codemirror_mode": {
    "name": "ipython",
    "version": 3
   },
   "file_extension": ".py",
   "mimetype": "text/x-python",
   "name": "python",
   "nbconvert_exporter": "python",
   "pygments_lexer": "ipython3",
   "version": "3.8.5"
  },
  "toc": {
   "base_numbering": 1,
   "nav_menu": {},
   "number_sections": true,
   "sideBar": true,
   "skip_h1_title": false,
   "title_cell": "Table of Contents",
   "title_sidebar": "Contents",
   "toc_cell": false,
   "toc_position": {},
   "toc_section_display": true,
   "toc_window_display": false
  },
  "varInspector": {
   "cols": {
    "lenName": 16,
    "lenType": 16,
    "lenVar": 40
   },
   "kernels_config": {
    "python": {
     "delete_cmd_postfix": "",
     "delete_cmd_prefix": "del ",
     "library": "var_list.py",
     "varRefreshCmd": "print(var_dic_list())"
    },
    "r": {
     "delete_cmd_postfix": ") ",
     "delete_cmd_prefix": "rm(",
     "library": "var_list.r",
     "varRefreshCmd": "cat(var_dic_list()) "
    }
   },
   "types_to_exclude": [
    "module",
    "function",
    "builtin_function_or_method",
    "instance",
    "_Feature"
   ],
   "window_display": false
  }
 },
 "nbformat": 4,
 "nbformat_minor": 4
}
