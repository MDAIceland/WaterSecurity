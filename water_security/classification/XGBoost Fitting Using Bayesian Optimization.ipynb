{
 "cells": [
  {
   "cell_type": "code",
   "execution_count": 1,
   "metadata": {
    "scrolled": true
   },
   "outputs": [],
   "source": [
    "import pandas as pd\n",
    "import sklearn as sfs\n",
    "import matplotlib.pyplot as plt\n",
    "import numpy as np\n",
    "import sys\n",
    "sys.path.append('..')\n",
    "from model_handler import ModelHandler\n",
    "from feature_selection import FeatureSelectionAndGeneration\n",
    "handler = ModelHandler()\n",
    "dataset = handler.dataset\n",
    "train_set = dataset[handler.train_mask]"
   ]
  },
  {
   "cell_type": "markdown",
   "metadata": {},
   "source": [
    "The dataset includes different risks that need a prediction. Every risk is considered as a different target of labels, namely a response variable.\n",
    "\n",
    "The aim is to build a model able to predict each risk in the most accurate way possible. However, the learning process is different for each of them, meaning that the minimum set of variables that best explain the largest amount of variance in the dataset is unique for every risk. As a consequence, the following pipeline will be executed as much time as the number of risks in order to return as more precise predictions as possible. "
   ]
  },
  {
   "cell_type": "markdown",
   "metadata": {},
   "source": [
    "# Dataset splitting"
   ]
  },
  {
   "cell_type": "markdown",
   "metadata": {},
   "source": [
    "The first step consists in splitting the dataset into training and test sets. The first will be used during the feature selection part, which is implemented using a boosted logistic regression model. This is a supervised learning approach, thus labels are needed for the regression to be carried out. In this dataset risks are assigned to only some of the cities, therefore it's wise to select as training set all the entries containing values for the given risk. All the rest will be referred to as test set, used for the classification task, since those cities will be the ones needing a prediction."
   ]
  },
  {
   "cell_type": "markdown",
   "metadata": {},
   "source": [
    "# Feature selection"
   ]
  },
  {
   "cell_type": "markdown",
   "metadata": {},
   "source": [
    "When there is a highly non-linear and complex relationship between the predictors and the labels decision trees are preferable. The dataset has many different predictors and we don't know whether this relationship is linear or not.\n",
    "\n",
    "The most robust approach among the ensemble method is `Boosting`. It allows to aggregate many decision trees, differently from `Random Forest`, and grow them sequentially, instead of using boostrap sampling like in `Bagging`. \n",
    "\n",
    "The procedure consists in fitting small trees to the residuals in order to slowly improve the prediction error. Generally, model that learn slowly tend to perform better. A pitfall of Boosting, however, is that it relies very much on its tuning parameters. Hence, it's important to undergo `Cross Validation` in order to select the combination returning the highest accuracy, for every target. \n",
    "For this purpose we decided to use 10-fold cross validation in such a way to speed up the tuning process, which is already slow given the amount of parameters that need to be optimized."
   ]
  },
  {
   "cell_type": "code",
   "execution_count": 3,
   "metadata": {},
   "outputs": [],
   "source": [
    "import xgboost as xgb\n",
    "from sklearn.metrics import accuracy_score, make_scorer\n",
    "from sklearn.model_selection import GridSearchCV, KFold\n",
    "from sklearn.pipeline import Pipeline\n",
    "import shutil\n",
    "import os\n",
    "memory_dir = '.pipeline_cache.tmp'"
   ]
  },
  {
   "cell_type": "markdown",
   "metadata": {},
   "source": [
    "XgBoost has as default objective function `reg:squarederror`, which corresponds to a linear regression with mean-squared error as loss function."
   ]
  },
  {
   "cell_type": "code",
   "execution_count": 4,
   "metadata": {},
   "outputs": [
    {
     "name": "stdout",
     "output_type": "stream",
     "text": [
      "Requirement already satisfied: bayesian-optimization in /home/vaslem/code/.venv/lib/python3.9/site-packages (1.2.0)\n",
      "Requirement already satisfied: scikit-learn>=0.18.0 in /home/vaslem/code/.venv/lib/python3.9/site-packages (from bayesian-optimization) (0.24.2)\n",
      "Requirement already satisfied: numpy>=1.9.0 in /home/vaslem/code/.venv/lib/python3.9/site-packages (from bayesian-optimization) (1.20.1)\n",
      "Requirement already satisfied: scipy>=0.14.0 in /home/vaslem/code/.venv/lib/python3.9/site-packages (from bayesian-optimization) (1.6.3)\n",
      "Requirement already satisfied: threadpoolctl>=2.0.0 in /home/vaslem/code/.venv/lib/python3.9/site-packages (from scikit-learn>=0.18.0->bayesian-optimization) (2.1.0)\n",
      "Requirement already satisfied: joblib>=0.11 in /home/vaslem/code/.venv/lib/python3.9/site-packages (from scikit-learn>=0.18.0->bayesian-optimization) (1.0.1)\n",
      "\u001b[33mWARNING: You are using pip version 21.0.1; however, version 21.1.2 is available.\n",
      "You should consider upgrading via the '/home/vaslem/code/.venv/bin/python3.9 -m pip install --upgrade pip' command.\u001b[0m\n"
     ]
    }
   ],
   "source": [
    "!pip install bayesian-optimization"
   ]
  },
  {
   "cell_type": "code",
   "execution_count": 51,
   "metadata": {},
   "outputs": [],
   "source": [
    "from bayes_opt import BayesianOptimization\n",
    "if os.path.isdir(memory_dir):\n",
    "    shutil.rmtree(memory_dir)\n",
    "\n",
    "def init_model(**model_params):\n",
    "    return Pipeline([('generation_and_selection', FeatureSelectionAndGeneration(feats_num=200)), ('regressor', xgb.XGBRegressor(**model_params))],memory=memory_dir)\n",
    "    \n",
    "\n",
    "\n",
    "\n",
    "# def boosting_reg(train, y_train, risk, best_parameters):\n",
    "    \n",
    "#     '''Cross Validation'''"
   ]
  },
  {
   "cell_type": "code",
   "execution_count": 57,
   "metadata": {
    "scrolled": false
   },
   "outputs": [
    {
     "name": "stdout",
     "output_type": "stream",
     "text": [
      "\n",
      "\n",
      "**Risk: Higher water prices**\n",
      "Samples Size: 87\n",
      "|   iter    |  target   |   alpha   | colsam... |   gamma   | max_depth | n_esti... |\n",
      "-------------------------------------------------------------------------------------\n",
      "| \u001b[0m 1       \u001b[0m | \u001b[0m-1.029   \u001b[0m | \u001b[0m 10.69   \u001b[0m | \u001b[0m 0.6609  \u001b[0m | \u001b[0m 0.8468  \u001b[0m | \u001b[0m 6.822   \u001b[0m | \u001b[0m 474.6   \u001b[0m |\n",
      "| \u001b[0m 2       \u001b[0m | \u001b[0m-1.057   \u001b[0m | \u001b[0m 8.866   \u001b[0m | \u001b[0m 0.4458  \u001b[0m | \u001b[0m 0.9086  \u001b[0m | \u001b[0m 1.264   \u001b[0m | \u001b[0m 577.8   \u001b[0m |\n",
      "| \u001b[95m 3       \u001b[0m | \u001b[95m-1.02    \u001b[0m | \u001b[95m 12.46   \u001b[0m | \u001b[95m 0.3204  \u001b[0m | \u001b[95m 0.4169  \u001b[0m | \u001b[95m 3.166   \u001b[0m | \u001b[95m 934.4   \u001b[0m |\n",
      "| \u001b[0m 4       \u001b[0m | \u001b[0m-1.062   \u001b[0m | \u001b[0m 11.14   \u001b[0m | \u001b[0m 0.7036  \u001b[0m | \u001b[0m 0.2152  \u001b[0m | \u001b[0m 2.133   \u001b[0m | \u001b[0m 483.0   \u001b[0m |\n",
      "| \u001b[0m 5       \u001b[0m | \u001b[0m-1.099   \u001b[0m | \u001b[0m 3.302   \u001b[0m | \u001b[0m 0.7593  \u001b[0m | \u001b[0m 0.5758  \u001b[0m | \u001b[0m 4.68    \u001b[0m | \u001b[0m 407.2   \u001b[0m |\n",
      "| \u001b[0m 6       \u001b[0m | \u001b[0m-1.261   \u001b[0m | \u001b[0m 4.197   \u001b[0m | \u001b[0m 0.3899  \u001b[0m | \u001b[0m 0.6167  \u001b[0m | \u001b[0m 3.708   \u001b[0m | \u001b[0m 355.4   \u001b[0m |\n",
      "| \u001b[0m 7       \u001b[0m | \u001b[0m-1.543   \u001b[0m | \u001b[0m 0.7062  \u001b[0m | \u001b[0m 0.4681  \u001b[0m | \u001b[0m 0.9942  \u001b[0m | \u001b[0m 1.768   \u001b[0m | \u001b[0m 420.4   \u001b[0m |\n",
      "| \u001b[0m 8       \u001b[0m | \u001b[0m-1.065   \u001b[0m | \u001b[0m 16.42   \u001b[0m | \u001b[0m 0.544   \u001b[0m | \u001b[0m 0.1535  \u001b[0m | \u001b[0m 5.441   \u001b[0m | \u001b[0m 481.7   \u001b[0m |\n",
      "| \u001b[0m 9       \u001b[0m | \u001b[0m-1.306   \u001b[0m | \u001b[0m 4.866   \u001b[0m | \u001b[0m 0.5051  \u001b[0m | \u001b[0m 0.2079  \u001b[0m | \u001b[0m 5.595   \u001b[0m | \u001b[0m 869.3   \u001b[0m |\n",
      "| \u001b[0m 10      \u001b[0m | \u001b[0m-1.317   \u001b[0m | \u001b[0m 0.3069  \u001b[0m | \u001b[0m 0.7189  \u001b[0m | \u001b[0m 0.6719  \u001b[0m | \u001b[0m 4.606   \u001b[0m | \u001b[0m 952.0   \u001b[0m |\n",
      "| \u001b[0m 11      \u001b[0m | \u001b[0m-1.085   \u001b[0m | \u001b[0m 18.14   \u001b[0m | \u001b[0m 0.3     \u001b[0m | \u001b[0m 0.2972  \u001b[0m | \u001b[0m 2.536   \u001b[0m | \u001b[0m 926.1   \u001b[0m |\n",
      "| \u001b[0m 12      \u001b[0m | \u001b[0m-1.204   \u001b[0m | \u001b[0m 4.226   \u001b[0m | \u001b[0m 0.3     \u001b[0m | \u001b[0m 0.8667  \u001b[0m | \u001b[0m 1.504   \u001b[0m | \u001b[0m 926.5   \u001b[0m |\n",
      "| \u001b[0m 13      \u001b[0m | \u001b[0m-1.079   \u001b[0m | \u001b[0m 19.73   \u001b[0m | \u001b[0m 0.3395  \u001b[0m | \u001b[0m 0.4359  \u001b[0m | \u001b[0m 6.486   \u001b[0m | \u001b[0m 938.3   \u001b[0m |\n",
      "| \u001b[0m 14      \u001b[0m | \u001b[0m-1.073   \u001b[0m | \u001b[0m 18.56   \u001b[0m | \u001b[0m 0.9     \u001b[0m | \u001b[0m 0.0     \u001b[0m | \u001b[0m 1.0     \u001b[0m | \u001b[0m 468.6   \u001b[0m |\n",
      "| \u001b[0m 15      \u001b[0m | \u001b[0m-1.329   \u001b[0m | \u001b[0m 4.181   \u001b[0m | \u001b[0m 0.4546  \u001b[0m | \u001b[0m 0.6282  \u001b[0m | \u001b[0m 6.974   \u001b[0m | \u001b[0m 394.8   \u001b[0m |\n",
      "| \u001b[0m 16      \u001b[0m | \u001b[0m-1.091   \u001b[0m | \u001b[0m 6.004   \u001b[0m | \u001b[0m 0.3008  \u001b[0m | \u001b[0m 0.8962  \u001b[0m | \u001b[0m 2.36    \u001b[0m | \u001b[0m 466.8   \u001b[0m |\n",
      "| \u001b[0m 17      \u001b[0m | \u001b[0m-1.432   \u001b[0m | \u001b[0m 0.2857  \u001b[0m | \u001b[0m 0.9     \u001b[0m | \u001b[0m 0.0     \u001b[0m | \u001b[0m 7.0     \u001b[0m | \u001b[0m 478.9   \u001b[0m |\n",
      "| \u001b[0m 18      \u001b[0m | \u001b[0m-1.098   \u001b[0m | \u001b[0m 15.43   \u001b[0m | \u001b[0m 0.5263  \u001b[0m | \u001b[0m 0.7172  \u001b[0m | \u001b[0m 1.138   \u001b[0m | \u001b[0m 475.5   \u001b[0m |\n",
      "| \u001b[0m 19      \u001b[0m | \u001b[0m-1.084   \u001b[0m | \u001b[0m 15.68   \u001b[0m | \u001b[0m 0.3786  \u001b[0m | \u001b[0m 0.7065  \u001b[0m | \u001b[0m 6.862   \u001b[0m | \u001b[0m 462.9   \u001b[0m |\n",
      "| \u001b[0m 20      \u001b[0m | \u001b[0m-1.041   \u001b[0m | \u001b[0m 13.68   \u001b[0m | \u001b[0m 0.3     \u001b[0m | \u001b[0m 0.0     \u001b[0m | \u001b[0m 1.0     \u001b[0m | \u001b[0m 942.2   \u001b[0m |\n",
      "=====================================================================================\n",
      "\n",
      "\n",
      "**Risk: Inadequate or aging infrastructure**\n",
      "Samples Size: 148\n",
      "|   iter    |  target   |   alpha   | colsam... |   gamma   | max_depth | n_esti... |\n",
      "-------------------------------------------------------------------------------------\n",
      "| \u001b[0m 1       \u001b[0m | \u001b[0m-0.9487  \u001b[0m | \u001b[0m 3.223   \u001b[0m | \u001b[0m 0.4324  \u001b[0m | \u001b[0m 0.2213  \u001b[0m | \u001b[0m 6.649   \u001b[0m | \u001b[0m 901.8   \u001b[0m |\n",
      "| \u001b[95m 2       \u001b[0m | \u001b[95m-0.7952  \u001b[0m | \u001b[95m 7.654   \u001b[0m | \u001b[95m 0.6042  \u001b[0m | \u001b[95m 0.8987  \u001b[0m | \u001b[95m 2.619   \u001b[0m | \u001b[95m 887.6   \u001b[0m |\n",
      "| \u001b[0m 3       \u001b[0m | \u001b[0m-0.7991  \u001b[0m | \u001b[0m 13.49   \u001b[0m | \u001b[0m 0.7745  \u001b[0m | \u001b[0m 0.3991  \u001b[0m | \u001b[0m 1.687   \u001b[0m | \u001b[0m 890.5   \u001b[0m |\n",
      "| \u001b[0m 4       \u001b[0m | \u001b[0m-0.8813  \u001b[0m | \u001b[0m 6.473   \u001b[0m | \u001b[0m 0.4275  \u001b[0m | \u001b[0m 0.03099 \u001b[0m | \u001b[0m 4.635   \u001b[0m | \u001b[0m 856.4   \u001b[0m |\n",
      "| \u001b[0m 5       \u001b[0m | \u001b[0m-0.8075  \u001b[0m | \u001b[0m 16.57   \u001b[0m | \u001b[0m 0.7656  \u001b[0m | \u001b[0m 0.5099  \u001b[0m | \u001b[0m 2.545   \u001b[0m | \u001b[0m 412.5   \u001b[0m |\n",
      "| \u001b[0m 6       \u001b[0m | \u001b[0m-0.8715  \u001b[0m | \u001b[0m 5.347   \u001b[0m | \u001b[0m 0.6474  \u001b[0m | \u001b[0m 0.2598  \u001b[0m | \u001b[0m 4.645   \u001b[0m | \u001b[0m 650.2   \u001b[0m |\n",
      "| \u001b[0m 7       \u001b[0m | \u001b[0m-0.8213  \u001b[0m | \u001b[0m 17.52   \u001b[0m | \u001b[0m 0.4126  \u001b[0m | \u001b[0m 0.8959  \u001b[0m | \u001b[0m 1.846   \u001b[0m | \u001b[0m 286.9   \u001b[0m |\n",
      "| \u001b[0m 8       \u001b[0m | \u001b[0m-0.9036  \u001b[0m | \u001b[0m 2.187   \u001b[0m | \u001b[0m 0.3741  \u001b[0m | \u001b[0m 0.373   \u001b[0m | \u001b[0m 5.926   \u001b[0m | \u001b[0m 932.2   \u001b[0m |\n",
      "| \u001b[0m 9       \u001b[0m | \u001b[0m-0.9287  \u001b[0m | \u001b[0m 3.209   \u001b[0m | \u001b[0m 0.8861  \u001b[0m | \u001b[0m 0.2588  \u001b[0m | \u001b[0m 5.442   \u001b[0m | \u001b[0m 311.7   \u001b[0m |\n",
      "| \u001b[0m 10      \u001b[0m | \u001b[0m-0.8093  \u001b[0m | \u001b[0m 19.03   \u001b[0m | \u001b[0m 0.4964  \u001b[0m | \u001b[0m 0.03291 \u001b[0m | \u001b[0m 5.319   \u001b[0m | \u001b[0m 661.6   \u001b[0m |\n",
      "| \u001b[95m 11      \u001b[0m | \u001b[95m-0.7864  \u001b[0m | \u001b[95m 13.08   \u001b[0m | \u001b[95m 0.7076  \u001b[0m | \u001b[95m 1.0     \u001b[0m | \u001b[95m 1.0     \u001b[0m | \u001b[95m 882.6   \u001b[0m |\n",
      "| \u001b[0m 12      \u001b[0m | \u001b[0m-0.942   \u001b[0m | \u001b[0m 2.054   \u001b[0m | \u001b[0m 0.6671  \u001b[0m | \u001b[0m 0.5189  \u001b[0m | \u001b[0m 2.895   \u001b[0m | \u001b[0m 877.2   \u001b[0m |\n",
      "| \u001b[0m 13      \u001b[0m | \u001b[0m-0.8149  \u001b[0m | \u001b[0m 13.78   \u001b[0m | \u001b[0m 0.3     \u001b[0m | \u001b[0m 1.0     \u001b[0m | \u001b[0m 7.0     \u001b[0m | \u001b[0m 885.6   \u001b[0m |\n",
      "| \u001b[0m 14      \u001b[0m | \u001b[0m-0.806   \u001b[0m | \u001b[0m 18.86   \u001b[0m | \u001b[0m 0.7604  \u001b[0m | \u001b[0m 0.9814  \u001b[0m | \u001b[0m 2.055   \u001b[0m | \u001b[0m 884.3   \u001b[0m |\n",
      "| \u001b[0m 15      \u001b[0m | \u001b[0m-0.8846  \u001b[0m | \u001b[0m 5.936   \u001b[0m | \u001b[0m 0.5739  \u001b[0m | \u001b[0m 0.3046  \u001b[0m | \u001b[0m 4.683   \u001b[0m | \u001b[0m 410.1   \u001b[0m |\n",
      "| \u001b[0m 16      \u001b[0m | \u001b[0m-0.8096  \u001b[0m | \u001b[0m 18.49   \u001b[0m | \u001b[0m 0.615   \u001b[0m | \u001b[0m 0.27    \u001b[0m | \u001b[0m 3.388   \u001b[0m | \u001b[0m 421.8   \u001b[0m |\n",
      "| \u001b[0m 17      \u001b[0m | \u001b[0m-0.839   \u001b[0m | \u001b[0m 19.85   \u001b[0m | \u001b[0m 0.7831  \u001b[0m | \u001b[0m 0.1993  \u001b[0m | \u001b[0m 6.613   \u001b[0m | \u001b[0m 671.8   \u001b[0m |\n",
      "| \u001b[0m 18      \u001b[0m | \u001b[0m-0.8302  \u001b[0m | \u001b[0m 20.0    \u001b[0m | \u001b[0m 0.3     \u001b[0m | \u001b[0m 1.0     \u001b[0m | \u001b[0m 1.0     \u001b[0m | \u001b[0m 402.2   \u001b[0m |\n",
      "| \u001b[0m 19      \u001b[0m | \u001b[0m-0.8294  \u001b[0m | \u001b[0m 18.93   \u001b[0m | \u001b[0m 0.8319  \u001b[0m | \u001b[0m 0.1886  \u001b[0m | \u001b[0m 4.519   \u001b[0m | \u001b[0m 433.6   \u001b[0m |\n",
      "| \u001b[0m 20      \u001b[0m | \u001b[0m-0.8084  \u001b[0m | \u001b[0m 20.0    \u001b[0m | \u001b[0m 0.3129  \u001b[0m | \u001b[0m 0.1215  \u001b[0m | \u001b[0m 4.873   \u001b[0m | \u001b[0m 274.6   \u001b[0m |\n",
      "=====================================================================================\n",
      "\n",
      "\n",
      "**Risk: Increased water stress or scarcity**\n",
      "Samples Size: 261\n",
      "|   iter    |  target   |   alpha   | colsam... |   gamma   | max_depth | n_esti... |\n",
      "-------------------------------------------------------------------------------------\n",
      "| \u001b[0m 1       \u001b[0m | \u001b[0m-0.3626  \u001b[0m | \u001b[0m 2.766   \u001b[0m | \u001b[0m 0.4401  \u001b[0m | \u001b[0m 0.3459  \u001b[0m | \u001b[0m 5.671   \u001b[0m | \u001b[0m 613.4   \u001b[0m |\n",
      "| \u001b[95m 2       \u001b[0m | \u001b[95m-0.3388  \u001b[0m | \u001b[95m 7.764   \u001b[0m | \u001b[95m 0.3748  \u001b[0m | \u001b[95m 0.2113  \u001b[0m | \u001b[95m 4.651   \u001b[0m | \u001b[95m 944.9   \u001b[0m |\n",
      "| \u001b[0m 3       \u001b[0m | \u001b[0m-0.3506  \u001b[0m | \u001b[0m 2.365   \u001b[0m | \u001b[0m 0.3556  \u001b[0m | \u001b[0m 0.6195  \u001b[0m | \u001b[0m 6.547   \u001b[0m | \u001b[0m 955.9   \u001b[0m |\n",
      "| \u001b[95m 4       \u001b[0m | \u001b[95m-0.3364  \u001b[0m | \u001b[95m 6.016   \u001b[0m | \u001b[95m 0.8841  \u001b[0m | \u001b[95m 0.9525  \u001b[0m | \u001b[95m 2.226   \u001b[0m | \u001b[95m 460.3   \u001b[0m |\n",
      "| \u001b[0m 5       \u001b[0m | \u001b[0m-0.3388  \u001b[0m | \u001b[0m 17.84   \u001b[0m | \u001b[0m 0.3491  \u001b[0m | \u001b[0m 0.07574 \u001b[0m | \u001b[0m 5.649   \u001b[0m | \u001b[0m 953.1   \u001b[0m |\n",
      "| \u001b[0m 6       \u001b[0m | \u001b[0m-0.3588  \u001b[0m | \u001b[0m 18.97   \u001b[0m | \u001b[0m 0.877   \u001b[0m | \u001b[0m 0.3896  \u001b[0m | \u001b[0m 5.064   \u001b[0m | \u001b[0m 772.2   \u001b[0m |\n",
      "| \u001b[95m 7       \u001b[0m | \u001b[95m-0.3311  \u001b[0m | \u001b[95m 11.32   \u001b[0m | \u001b[95m 0.8818  \u001b[0m | \u001b[95m 0.6683  \u001b[0m | \u001b[95m 5.476   \u001b[0m | \u001b[95m 802.1   \u001b[0m |\n",
      "| \u001b[0m 8       \u001b[0m | \u001b[0m-0.3343  \u001b[0m | \u001b[0m 12.86   \u001b[0m | \u001b[0m 0.3972  \u001b[0m | \u001b[0m 0.07618 \u001b[0m | \u001b[0m 2.339   \u001b[0m | \u001b[0m 850.1   \u001b[0m |\n",
      "| \u001b[0m 9       \u001b[0m | \u001b[0m-0.3335  \u001b[0m | \u001b[0m 5.983   \u001b[0m | \u001b[0m 0.8199  \u001b[0m | \u001b[0m 0.8885  \u001b[0m | \u001b[0m 4.27    \u001b[0m | \u001b[0m 630.0   \u001b[0m |\n",
      "| \u001b[95m 10      \u001b[0m | \u001b[95m-0.3256  \u001b[0m | \u001b[95m 5.92    \u001b[0m | \u001b[95m 0.3834  \u001b[0m | \u001b[95m 0.8878  \u001b[0m | \u001b[95m 3.168   \u001b[0m | \u001b[95m 526.8   \u001b[0m |\n",
      "| \u001b[0m 11      \u001b[0m | \u001b[0m-0.3315  \u001b[0m | \u001b[0m 2.648   \u001b[0m | \u001b[0m 0.4765  \u001b[0m | \u001b[0m 0.7296  \u001b[0m | \u001b[0m 4.392   \u001b[0m | \u001b[0m 895.3   \u001b[0m |\n",
      "| \u001b[0m 12      \u001b[0m | \u001b[0m-0.3338  \u001b[0m | \u001b[0m 18.77   \u001b[0m | \u001b[0m 0.481   \u001b[0m | \u001b[0m 0.5995  \u001b[0m | \u001b[0m 1.645   \u001b[0m | \u001b[0m 803.7   \u001b[0m |\n"
     ]
    },
    {
     "name": "stdout",
     "output_type": "stream",
     "text": [
      "| \u001b[0m 13      \u001b[0m | \u001b[0m-0.3317  \u001b[0m | \u001b[0m 13.77   \u001b[0m | \u001b[0m 0.3929  \u001b[0m | \u001b[0m 0.2846  \u001b[0m | \u001b[0m 3.817   \u001b[0m | \u001b[0m 525.9   \u001b[0m |\n",
      "| \u001b[0m 14      \u001b[0m | \u001b[0m-0.3744  \u001b[0m | \u001b[0m 1.682   \u001b[0m | \u001b[0m 0.6329  \u001b[0m | \u001b[0m 0.02555 \u001b[0m | \u001b[0m 6.661   \u001b[0m | \u001b[0m 517.7   \u001b[0m |\n",
      "| \u001b[0m 15      \u001b[0m | \u001b[0m-0.3286  \u001b[0m | \u001b[0m 9.322   \u001b[0m | \u001b[0m 0.4649  \u001b[0m | \u001b[0m 0.3631  \u001b[0m | \u001b[0m 3.073   \u001b[0m | \u001b[0m 530.0   \u001b[0m |\n",
      "| \u001b[0m 16      \u001b[0m | \u001b[0m-0.3459  \u001b[0m | \u001b[0m 2.841   \u001b[0m | \u001b[0m 0.5927  \u001b[0m | \u001b[0m 0.5091  \u001b[0m | \u001b[0m 1.658   \u001b[0m | \u001b[0m 532.3   \u001b[0m |\n",
      "| \u001b[0m 17      \u001b[0m | \u001b[0m-0.3276  \u001b[0m | \u001b[0m 9.349   \u001b[0m | \u001b[0m 0.4026  \u001b[0m | \u001b[0m 0.2734  \u001b[0m | \u001b[0m 6.366   \u001b[0m | \u001b[0m 528.0   \u001b[0m |\n",
      "| \u001b[0m 18      \u001b[0m | \u001b[0m-0.3298  \u001b[0m | \u001b[0m 12.92   \u001b[0m | \u001b[0m 0.8218  \u001b[0m | \u001b[0m 0.9314  \u001b[0m | \u001b[0m 4.781   \u001b[0m | \u001b[0m 809.7   \u001b[0m |\n",
      "| \u001b[0m 19      \u001b[0m | \u001b[0m-0.3396  \u001b[0m | \u001b[0m 5.678   \u001b[0m | \u001b[0m 0.6093  \u001b[0m | \u001b[0m 0.3203  \u001b[0m | \u001b[0m 1.765   \u001b[0m | \u001b[0m 807.0   \u001b[0m |\n",
      "| \u001b[0m 20      \u001b[0m | \u001b[0m-0.3583  \u001b[0m | \u001b[0m 19.56   \u001b[0m | \u001b[0m 0.8028  \u001b[0m | \u001b[0m 0.4251  \u001b[0m | \u001b[0m 6.82    \u001b[0m | \u001b[0m 813.8   \u001b[0m |\n",
      "=====================================================================================\n",
      "\n",
      "\n",
      "**Risk: Declining water quality**\n",
      "Samples Size: 183\n",
      "|   iter    |  target   |   alpha   | colsam... |   gamma   | max_depth | n_esti... |\n",
      "-------------------------------------------------------------------------------------\n",
      "| \u001b[0m 1       \u001b[0m | \u001b[0m-1.017   \u001b[0m | \u001b[0m 15.24   \u001b[0m | \u001b[0m 0.5021  \u001b[0m | \u001b[0m 0.4765  \u001b[0m | \u001b[0m 4.03    \u001b[0m | \u001b[0m 955.4   \u001b[0m |\n",
      "| \u001b[0m 2       \u001b[0m | \u001b[0m-1.146   \u001b[0m | \u001b[0m 3.951   \u001b[0m | \u001b[0m 0.3069  \u001b[0m | \u001b[0m 0.2203  \u001b[0m | \u001b[0m 3.108   \u001b[0m | \u001b[0m 673.4   \u001b[0m |\n",
      "| \u001b[0m 3       \u001b[0m | \u001b[0m-1.026   \u001b[0m | \u001b[0m 4.0     \u001b[0m | \u001b[0m 0.7201  \u001b[0m | \u001b[0m 0.9597  \u001b[0m | \u001b[0m 4.941   \u001b[0m | \u001b[0m 961.3   \u001b[0m |\n",
      "| \u001b[0m 4       \u001b[0m | \u001b[0m-1.141   \u001b[0m | \u001b[0m 9.27    \u001b[0m | \u001b[0m 0.7984  \u001b[0m | \u001b[0m 0.171   \u001b[0m | \u001b[0m 5.715   \u001b[0m | \u001b[0m 468.6   \u001b[0m |\n",
      "| \u001b[95m 5       \u001b[0m | \u001b[95m-0.9946  \u001b[0m | \u001b[95m 7.37    \u001b[0m | \u001b[95m 0.6244  \u001b[0m | \u001b[95m 0.01921 \u001b[0m | \u001b[95m 2.888   \u001b[0m | \u001b[95m 307.8   \u001b[0m |\n",
      "| \u001b[0m 6       \u001b[0m | \u001b[0m-1.134   \u001b[0m | \u001b[0m 6.55    \u001b[0m | \u001b[0m 0.5938  \u001b[0m | \u001b[0m 0.01857 \u001b[0m | \u001b[0m 6.075   \u001b[0m | \u001b[0m 554.2   \u001b[0m |\n",
      "| \u001b[0m 7       \u001b[0m | \u001b[0m-1.025   \u001b[0m | \u001b[0m 17.2    \u001b[0m | \u001b[0m 0.7216  \u001b[0m | \u001b[0m 0.841   \u001b[0m | \u001b[0m 5.813   \u001b[0m | \u001b[0m 325.2   \u001b[0m |\n",
      "| \u001b[0m 8       \u001b[0m | \u001b[0m-1.075   \u001b[0m | \u001b[0m 19.34   \u001b[0m | \u001b[0m 0.7808  \u001b[0m | \u001b[0m 0.1896  \u001b[0m | \u001b[0m 6.464   \u001b[0m | \u001b[0m 395.2   \u001b[0m |\n",
      "| \u001b[95m 9       \u001b[0m | \u001b[95m-0.9351  \u001b[0m | \u001b[95m 7.142   \u001b[0m | \u001b[95m 0.54    \u001b[0m | \u001b[95m 0.1324  \u001b[0m | \u001b[95m 1.457   \u001b[0m | \u001b[95m 764.5   \u001b[0m |\n",
      "| \u001b[0m 10      \u001b[0m | \u001b[0m-1.018   \u001b[0m | \u001b[0m 16.05   \u001b[0m | \u001b[0m 0.6447  \u001b[0m | \u001b[0m 0.4008  \u001b[0m | \u001b[0m 4.759   \u001b[0m | \u001b[0m 461.8   \u001b[0m |\n",
      "| \u001b[0m 11      \u001b[0m | \u001b[0m-0.9565  \u001b[0m | \u001b[0m 7.743   \u001b[0m | \u001b[0m 0.5571  \u001b[0m | \u001b[0m 0.3126  \u001b[0m | \u001b[0m 2.624   \u001b[0m | \u001b[0m 307.9   \u001b[0m |\n",
      "| \u001b[95m 12      \u001b[0m | \u001b[95m-0.8607  \u001b[0m | \u001b[95m 6.901   \u001b[0m | \u001b[95m 0.5264  \u001b[0m | \u001b[95m 0.9323  \u001b[0m | \u001b[95m 1.247   \u001b[0m | \u001b[95m 763.3   \u001b[0m |\n",
      "| \u001b[0m 13      \u001b[0m | \u001b[0m-0.8679  \u001b[0m | \u001b[0m 7.995   \u001b[0m | \u001b[0m 0.8548  \u001b[0m | \u001b[0m 0.9833  \u001b[0m | \u001b[0m 1.993   \u001b[0m | \u001b[0m 763.2   \u001b[0m |\n",
      "| \u001b[0m 14      \u001b[0m | \u001b[0m-0.9363  \u001b[0m | \u001b[0m 7.28    \u001b[0m | \u001b[0m 0.8611  \u001b[0m | \u001b[0m 0.5022  \u001b[0m | \u001b[0m 2.088   \u001b[0m | \u001b[0m 761.0   \u001b[0m |\n",
      "| \u001b[0m 15      \u001b[0m | \u001b[0m-1.057   \u001b[0m | \u001b[0m 5.228   \u001b[0m | \u001b[0m 0.6352  \u001b[0m | \u001b[0m 0.4284  \u001b[0m | \u001b[0m 3.399   \u001b[0m | \u001b[0m 763.0   \u001b[0m |\n",
      "| \u001b[0m 16      \u001b[0m | \u001b[0m-1.059   \u001b[0m | \u001b[0m 9.406   \u001b[0m | \u001b[0m 0.4173  \u001b[0m | \u001b[0m 0.1764  \u001b[0m | \u001b[0m 3.534   \u001b[0m | \u001b[0m 762.6   \u001b[0m |\n",
      "| \u001b[0m 17      \u001b[0m | \u001b[0m-0.9167  \u001b[0m | \u001b[0m 8.846   \u001b[0m | \u001b[0m 0.542   \u001b[0m | \u001b[0m 0.05328 \u001b[0m | \u001b[0m 1.301   \u001b[0m | \u001b[0m 309.6   \u001b[0m |\n",
      "| \u001b[0m 18      \u001b[0m | \u001b[0m-0.8616  \u001b[0m | \u001b[0m 9.363   \u001b[0m | \u001b[0m 0.6971  \u001b[0m | \u001b[0m 0.9884  \u001b[0m | \u001b[0m 1.129   \u001b[0m | \u001b[0m 763.9   \u001b[0m |\n",
      "| \u001b[0m 19      \u001b[0m | \u001b[0m-0.9114  \u001b[0m | \u001b[0m 11.23   \u001b[0m | \u001b[0m 0.8064  \u001b[0m | \u001b[0m 0.8312  \u001b[0m | \u001b[0m 2.234   \u001b[0m | \u001b[0m 308.9   \u001b[0m |\n",
      "| \u001b[95m 20      \u001b[0m | \u001b[95m-0.8564  \u001b[0m | \u001b[95m 7.754   \u001b[0m | \u001b[95m 0.4608  \u001b[0m | \u001b[95m 0.7676  \u001b[0m | \u001b[95m 1.014   \u001b[0m | \u001b[95m 762.1   \u001b[0m |\n",
      "=====================================================================================\n",
      "\n",
      "\n",
      "**Risk: Increased water demand**\n",
      "Samples Size: 98\n",
      "|   iter    |  target   |   alpha   | colsam... |   gamma   | max_depth | n_esti... |\n",
      "-------------------------------------------------------------------------------------\n",
      "| \u001b[0m 1       \u001b[0m | \u001b[0m-1.217   \u001b[0m | \u001b[0m 18.02   \u001b[0m | \u001b[0m 0.6812  \u001b[0m | \u001b[0m 0.5451  \u001b[0m | \u001b[0m 6.896   \u001b[0m | \u001b[0m 643.6   \u001b[0m |\n",
      "| \u001b[0m 2       \u001b[0m | \u001b[0m-1.229   \u001b[0m | \u001b[0m 19.69   \u001b[0m | \u001b[0m 0.4645  \u001b[0m | \u001b[0m 0.7135  \u001b[0m | \u001b[0m 5.75    \u001b[0m | \u001b[0m 721.9   \u001b[0m |\n",
      "| \u001b[0m 3       \u001b[0m | \u001b[0m-1.222   \u001b[0m | \u001b[0m 16.56   \u001b[0m | \u001b[0m 0.8659  \u001b[0m | \u001b[0m 0.4097  \u001b[0m | \u001b[0m 5.167   \u001b[0m | \u001b[0m 530.5   \u001b[0m |\n",
      "| \u001b[95m 4       \u001b[0m | \u001b[95m-1.209   \u001b[0m | \u001b[95m 19.16   \u001b[0m | \u001b[95m 0.6947  \u001b[0m | \u001b[95m 0.9955  \u001b[0m | \u001b[95m 5.455   \u001b[0m | \u001b[95m 651.1   \u001b[0m |\n",
      "| \u001b[95m 5       \u001b[0m | \u001b[95m-1.154   \u001b[0m | \u001b[95m 12.16   \u001b[0m | \u001b[95m 0.3491  \u001b[0m | \u001b[95m 0.1814  \u001b[0m | \u001b[95m 4.748   \u001b[0m | \u001b[95m 410.0   \u001b[0m |\n",
      "| \u001b[0m 6       \u001b[0m | \u001b[0m-1.193   \u001b[0m | \u001b[0m 19.48   \u001b[0m | \u001b[0m 0.8924  \u001b[0m | \u001b[0m 0.8026  \u001b[0m | \u001b[0m 1.26    \u001b[0m | \u001b[0m 248.8   \u001b[0m |\n",
      "| \u001b[0m 7       \u001b[0m | \u001b[0m-1.186   \u001b[0m | \u001b[0m 8.315   \u001b[0m | \u001b[0m 0.3632  \u001b[0m | \u001b[0m 0.9371  \u001b[0m | \u001b[0m 1.101   \u001b[0m | \u001b[0m 847.2   \u001b[0m |\n",
      "| \u001b[0m 8       \u001b[0m | \u001b[0m-1.222   \u001b[0m | \u001b[0m 11.47   \u001b[0m | \u001b[0m 0.671   \u001b[0m | \u001b[0m 0.6548  \u001b[0m | \u001b[0m 4.981   \u001b[0m | \u001b[0m 650.4   \u001b[0m |\n",
      "| \u001b[0m 9       \u001b[0m | \u001b[0m-1.175   \u001b[0m | \u001b[0m 15.08   \u001b[0m | \u001b[0m 0.5308  \u001b[0m | \u001b[0m 0.3679  \u001b[0m | \u001b[0m 6.299   \u001b[0m | \u001b[0m 555.1   \u001b[0m |\n",
      "| \u001b[0m 10      \u001b[0m | \u001b[0m-1.236   \u001b[0m | \u001b[0m 17.97   \u001b[0m | \u001b[0m 0.6862  \u001b[0m | \u001b[0m 0.1582  \u001b[0m | \u001b[0m 3.3     \u001b[0m | \u001b[0m 737.8   \u001b[0m |\n",
      "| \u001b[0m 11      \u001b[0m | \u001b[0m-1.183   \u001b[0m | \u001b[0m 11.06   \u001b[0m | \u001b[0m 0.5585  \u001b[0m | \u001b[0m 0.6782  \u001b[0m | \u001b[0m 5.373   \u001b[0m | \u001b[0m 409.1   \u001b[0m |\n",
      "| \u001b[0m 12      \u001b[0m | \u001b[0m-1.183   \u001b[0m | \u001b[0m 12.51   \u001b[0m | \u001b[0m 0.4233  \u001b[0m | \u001b[0m 0.1829  \u001b[0m | \u001b[0m 3.819   \u001b[0m | \u001b[0m 410.7   \u001b[0m |\n",
      "| \u001b[0m 13      \u001b[0m | \u001b[0m-1.183   \u001b[0m | \u001b[0m 11.49   \u001b[0m | \u001b[0m 0.5731  \u001b[0m | \u001b[0m 0.2041  \u001b[0m | \u001b[0m 5.964   \u001b[0m | \u001b[0m 410.1   \u001b[0m |\n",
      "| \u001b[0m 14      \u001b[0m | \u001b[0m-1.192   \u001b[0m | \u001b[0m 12.78   \u001b[0m | \u001b[0m 0.7163  \u001b[0m | \u001b[0m 0.9359  \u001b[0m | \u001b[0m 5.117   \u001b[0m | \u001b[0m 410.6   \u001b[0m |\n",
      "| \u001b[0m 15      \u001b[0m | \u001b[0m-1.172   \u001b[0m | \u001b[0m 10.66   \u001b[0m | \u001b[0m 0.3185  \u001b[0m | \u001b[0m 0.1697  \u001b[0m | \u001b[0m 3.579   \u001b[0m | \u001b[0m 409.3   \u001b[0m |\n",
      "| \u001b[0m 16      \u001b[0m | \u001b[0m-1.226   \u001b[0m | \u001b[0m 13.66   \u001b[0m | \u001b[0m 0.8328  \u001b[0m | \u001b[0m 0.2321  \u001b[0m | \u001b[0m 5.406   \u001b[0m | \u001b[0m 408.6   \u001b[0m |\n",
      "| \u001b[0m 17      \u001b[0m | \u001b[0m-1.203   \u001b[0m | \u001b[0m 11.45   \u001b[0m | \u001b[0m 0.5863  \u001b[0m | \u001b[0m 0.5618  \u001b[0m | \u001b[0m 4.004   \u001b[0m | \u001b[0m 410.6   \u001b[0m |\n",
      "| \u001b[0m 18      \u001b[0m | \u001b[0m-1.222   \u001b[0m | \u001b[0m 9.69    \u001b[0m | \u001b[0m 0.5864  \u001b[0m | \u001b[0m 0.08564 \u001b[0m | \u001b[0m 4.079   \u001b[0m | \u001b[0m 408.6   \u001b[0m |\n",
      "| \u001b[0m 19      \u001b[0m | \u001b[0m-1.178   \u001b[0m | \u001b[0m 8.321   \u001b[0m | \u001b[0m 0.3652  \u001b[0m | \u001b[0m 0.7539  \u001b[0m | \u001b[0m 1.638   \u001b[0m | \u001b[0m 847.6   \u001b[0m |\n",
      "| \u001b[95m 20      \u001b[0m | \u001b[95m-1.152   \u001b[0m | \u001b[95m 12.15   \u001b[0m | \u001b[95m 0.857   \u001b[0m | \u001b[95m 0.2001  \u001b[0m | \u001b[95m 3.915   \u001b[0m | \u001b[95m 410.0   \u001b[0m |\n",
      "=====================================================================================\n",
      "\n",
      "\n",
      "**Risk: Regulatory**\n",
      "Samples Size: 65\n",
      "|   iter    |  target   |   alpha   | colsam... |   gamma   | max_depth | n_esti... |\n",
      "-------------------------------------------------------------------------------------\n",
      "| \u001b[0m 1       \u001b[0m | \u001b[0m-0.6468  \u001b[0m | \u001b[0m 15.19   \u001b[0m | \u001b[0m 0.8833  \u001b[0m | \u001b[0m 0.1425  \u001b[0m | \u001b[0m 1.581   \u001b[0m | \u001b[0m 478.6   \u001b[0m |\n",
      "| \u001b[0m 2       \u001b[0m | \u001b[0m-0.6468  \u001b[0m | \u001b[0m 14.5    \u001b[0m | \u001b[0m 0.6182  \u001b[0m | \u001b[0m 0.6762  \u001b[0m | \u001b[0m 4.132   \u001b[0m | \u001b[0m 506.6   \u001b[0m |\n",
      "| \u001b[0m 3       \u001b[0m | \u001b[0m-0.7314  \u001b[0m | \u001b[0m 7.599   \u001b[0m | \u001b[0m 0.5093  \u001b[0m | \u001b[0m 0.5005  \u001b[0m | \u001b[0m 5.549   \u001b[0m | \u001b[0m 449.4   \u001b[0m |\n"
     ]
    },
    {
     "name": "stdout",
     "output_type": "stream",
     "text": [
      "| \u001b[0m 4       \u001b[0m | \u001b[0m-0.6495  \u001b[0m | \u001b[0m 12.97   \u001b[0m | \u001b[0m 0.7692  \u001b[0m | \u001b[0m 0.7693  \u001b[0m | \u001b[0m 6.901   \u001b[0m | \u001b[0m 950.7   \u001b[0m |\n",
      "| \u001b[0m 5       \u001b[0m | \u001b[0m-0.6468  \u001b[0m | \u001b[0m 15.29   \u001b[0m | \u001b[0m 0.3974  \u001b[0m | \u001b[0m 0.7186  \u001b[0m | \u001b[0m 4.209   \u001b[0m | \u001b[0m 551.4   \u001b[0m |\n",
      "| \u001b[0m 6       \u001b[0m | \u001b[0m-0.7587  \u001b[0m | \u001b[0m 5.216   \u001b[0m | \u001b[0m 0.8815  \u001b[0m | \u001b[0m 0.8894  \u001b[0m | \u001b[0m 4.746   \u001b[0m | \u001b[0m 758.1   \u001b[0m |\n",
      "| \u001b[0m 7       \u001b[0m | \u001b[0m-0.6468  \u001b[0m | \u001b[0m 18.41   \u001b[0m | \u001b[0m 0.3315  \u001b[0m | \u001b[0m 0.4609  \u001b[0m | \u001b[0m 5.848   \u001b[0m | \u001b[0m 485.1   \u001b[0m |\n",
      "| \u001b[0m 8       \u001b[0m | \u001b[0m-0.6468  \u001b[0m | \u001b[0m 13.9    \u001b[0m | \u001b[0m 0.5407  \u001b[0m | \u001b[0m 0.595   \u001b[0m | \u001b[0m 3.143   \u001b[0m | \u001b[0m 348.1   \u001b[0m |\n",
      "| \u001b[0m 9       \u001b[0m | \u001b[0m-0.6468  \u001b[0m | \u001b[0m 16.1    \u001b[0m | \u001b[0m 0.4538  \u001b[0m | \u001b[0m 0.407   \u001b[0m | \u001b[0m 1.782   \u001b[0m | \u001b[0m 290.3   \u001b[0m |\n",
      "| \u001b[0m 10      \u001b[0m | \u001b[0m-0.8251  \u001b[0m | \u001b[0m 4.691   \u001b[0m | \u001b[0m 0.6606  \u001b[0m | \u001b[0m 0.373   \u001b[0m | \u001b[0m 5.543   \u001b[0m | \u001b[0m 788.6   \u001b[0m |\n",
      "| \u001b[0m 11      \u001b[0m | \u001b[0m-0.9881  \u001b[0m | \u001b[0m 0.0     \u001b[0m | \u001b[0m 0.9     \u001b[0m | \u001b[0m 0.9517  \u001b[0m | \u001b[0m 1.0     \u001b[0m | \u001b[0m 618.7   \u001b[0m |\n",
      "| \u001b[0m 12      \u001b[0m | \u001b[0m-0.8716  \u001b[0m | \u001b[0m 0.3495  \u001b[0m | \u001b[0m 0.4567  \u001b[0m | \u001b[0m 0.1852  \u001b[0m | \u001b[0m 4.343   \u001b[0m | \u001b[0m 213.2   \u001b[0m |\n",
      "| \u001b[0m 13      \u001b[0m | \u001b[0m-0.9698  \u001b[0m | \u001b[0m 2.446   \u001b[0m | \u001b[0m 0.8587  \u001b[0m | \u001b[0m 0.3136  \u001b[0m | \u001b[0m 3.82    \u001b[0m | \u001b[0m 999.7   \u001b[0m |\n",
      "| \u001b[0m 14      \u001b[0m | \u001b[0m-0.6468  \u001b[0m | \u001b[0m 12.5    \u001b[0m | \u001b[0m 0.664   \u001b[0m | \u001b[0m 0.9763  \u001b[0m | \u001b[0m 2.782   \u001b[0m | \u001b[0m 348.4   \u001b[0m |\n",
      "| \u001b[0m 15      \u001b[0m | \u001b[0m-0.6468  \u001b[0m | \u001b[0m 20.0    \u001b[0m | \u001b[0m 0.4687  \u001b[0m | \u001b[0m 1.0     \u001b[0m | \u001b[0m 7.0     \u001b[0m | \u001b[0m 904.0   \u001b[0m |\n",
      "| \u001b[0m 16      \u001b[0m | \u001b[0m-0.938   \u001b[0m | \u001b[0m 0.0     \u001b[0m | \u001b[0m 0.9     \u001b[0m | \u001b[0m 0.0     \u001b[0m | \u001b[0m 7.0     \u001b[0m | \u001b[0m 317.0   \u001b[0m |\n",
      "| \u001b[0m 17      \u001b[0m | \u001b[0m-0.6468  \u001b[0m | \u001b[0m 17.74   \u001b[0m | \u001b[0m 0.9     \u001b[0m | \u001b[0m 1.0     \u001b[0m | \u001b[0m 1.0     \u001b[0m | \u001b[0m 375.6   \u001b[0m |\n",
      "| \u001b[0m 18      \u001b[0m | \u001b[0m-1.197   \u001b[0m | \u001b[0m 0.0     \u001b[0m | \u001b[0m 0.9     \u001b[0m | \u001b[0m 0.0     \u001b[0m | \u001b[0m 1.0     \u001b[0m | \u001b[0m 924.7   \u001b[0m |\n",
      "| \u001b[0m 19      \u001b[0m | \u001b[0m-0.9668  \u001b[0m | \u001b[0m 0.0     \u001b[0m | \u001b[0m 0.3     \u001b[0m | \u001b[0m 1.0     \u001b[0m | \u001b[0m 1.0     \u001b[0m | \u001b[0m 492.3   \u001b[0m |\n",
      "| \u001b[0m 20      \u001b[0m | \u001b[0m-0.6739  \u001b[0m | \u001b[0m 13.74   \u001b[0m | \u001b[0m 0.3     \u001b[0m | \u001b[0m 0.0     \u001b[0m | \u001b[0m 7.0     \u001b[0m | \u001b[0m 362.6   \u001b[0m |\n",
      "=====================================================================================\n",
      "\n",
      "\n",
      "**Risk: Energy supply issues**\n",
      "Samples Size: 59\n",
      "|   iter    |  target   |   alpha   | colsam... |   gamma   | max_depth | n_esti... |\n",
      "-------------------------------------------------------------------------------------\n",
      "| \u001b[0m 1       \u001b[0m | \u001b[0m-0.6747  \u001b[0m | \u001b[0m 1.412   \u001b[0m | \u001b[0m 0.7192  \u001b[0m | \u001b[0m 0.7479  \u001b[0m | \u001b[0m 2.893   \u001b[0m | \u001b[0m 656.5   \u001b[0m |\n",
      "| \u001b[0m 2       \u001b[0m | \u001b[0m-0.6753  \u001b[0m | \u001b[0m 6.899   \u001b[0m | \u001b[0m 0.3909  \u001b[0m | \u001b[0m 0.7769  \u001b[0m | \u001b[0m 3.047   \u001b[0m | \u001b[0m 501.6   \u001b[0m |\n",
      "| \u001b[0m 3       \u001b[0m | \u001b[0m-0.7638  \u001b[0m | \u001b[0m 0.4693  \u001b[0m | \u001b[0m 0.4836  \u001b[0m | \u001b[0m 0.5069  \u001b[0m | \u001b[0m 5.302   \u001b[0m | \u001b[0m 690.3   \u001b[0m |\n",
      "| \u001b[0m 4       \u001b[0m | \u001b[0m-0.7093  \u001b[0m | \u001b[0m 1.515   \u001b[0m | \u001b[0m 0.7129  \u001b[0m | \u001b[0m 0.205   \u001b[0m | \u001b[0m 4.67    \u001b[0m | \u001b[0m 657.3   \u001b[0m |\n",
      "| \u001b[95m 5       \u001b[0m | \u001b[95m-0.6518  \u001b[0m | \u001b[95m 18.39   \u001b[0m | \u001b[95m 0.8179  \u001b[0m | \u001b[95m 0.3172  \u001b[0m | \u001b[95m 6.033   \u001b[0m | \u001b[95m 759.0   \u001b[0m |\n",
      "| \u001b[95m 6       \u001b[0m | \u001b[95m-0.6515  \u001b[0m | \u001b[95m 13.71   \u001b[0m | \u001b[95m 0.7813  \u001b[0m | \u001b[95m 0.5914  \u001b[0m | \u001b[95m 5.963   \u001b[0m | \u001b[95m 740.3   \u001b[0m |\n",
      "| \u001b[0m 7       \u001b[0m | \u001b[0m-0.6518  \u001b[0m | \u001b[0m 16.69   \u001b[0m | \u001b[0m 0.7496  \u001b[0m | \u001b[0m 0.4808  \u001b[0m | \u001b[0m 2.56    \u001b[0m | \u001b[0m 485.7   \u001b[0m |\n",
      "| \u001b[0m 8       \u001b[0m | \u001b[0m-0.6518  \u001b[0m | \u001b[0m 19.3    \u001b[0m | \u001b[0m 0.6752  \u001b[0m | \u001b[0m 0.9545  \u001b[0m | \u001b[0m 1.855   \u001b[0m | \u001b[0m 787.9   \u001b[0m |\n",
      "| \u001b[0m 9       \u001b[0m | \u001b[0m-0.6516  \u001b[0m | \u001b[0m 13.54   \u001b[0m | \u001b[0m 0.7421  \u001b[0m | \u001b[0m 0.4082  \u001b[0m | \u001b[0m 3.906   \u001b[0m | \u001b[0m 304.4   \u001b[0m |\n",
      "| \u001b[95m 10      \u001b[0m | \u001b[95m-0.6509  \u001b[0m | \u001b[95m 13.06   \u001b[0m | \u001b[95m 0.6228  \u001b[0m | \u001b[95m 0.8618  \u001b[0m | \u001b[95m 4.04    \u001b[0m | \u001b[95m 909.1   \u001b[0m |\n",
      "| \u001b[0m 11      \u001b[0m | \u001b[0m-0.6518  \u001b[0m | \u001b[0m 15.0    \u001b[0m | \u001b[0m 0.8898  \u001b[0m | \u001b[0m 0.3295  \u001b[0m | \u001b[0m 2.928   \u001b[0m | \u001b[0m 908.8   \u001b[0m |\n",
      "| \u001b[0m 12      \u001b[0m | \u001b[0m-0.6518  \u001b[0m | \u001b[0m 15.03   \u001b[0m | \u001b[0m 0.4379  \u001b[0m | \u001b[0m 0.7111  \u001b[0m | \u001b[0m 4.273   \u001b[0m | \u001b[0m 913.7   \u001b[0m |\n",
      "| \u001b[95m 13      \u001b[0m | \u001b[95m-0.6288  \u001b[0m | \u001b[95m 9.693   \u001b[0m | \u001b[95m 0.4822  \u001b[0m | \u001b[95m 0.1611  \u001b[0m | \u001b[95m 1.029   \u001b[0m | \u001b[95m 913.5   \u001b[0m |\n",
      "| \u001b[0m 14      \u001b[0m | \u001b[0m-0.6448  \u001b[0m | \u001b[0m 8.011   \u001b[0m | \u001b[0m 0.699   \u001b[0m | \u001b[0m 0.7634  \u001b[0m | \u001b[0m 4.769   \u001b[0m | \u001b[0m 915.0   \u001b[0m |\n",
      "| \u001b[0m 15      \u001b[0m | \u001b[0m-0.676   \u001b[0m | \u001b[0m 5.709   \u001b[0m | \u001b[0m 0.3277  \u001b[0m | \u001b[0m 0.8865  \u001b[0m | \u001b[0m 1.858   \u001b[0m | \u001b[0m 911.2   \u001b[0m |\n",
      "| \u001b[0m 16      \u001b[0m | \u001b[0m-0.6493  \u001b[0m | \u001b[0m 11.84   \u001b[0m | \u001b[0m 0.6053  \u001b[0m | \u001b[0m 0.4917  \u001b[0m | \u001b[0m 1.769   \u001b[0m | \u001b[0m 917.5   \u001b[0m |\n",
      "| \u001b[0m 17      \u001b[0m | \u001b[0m-0.6545  \u001b[0m | \u001b[0m 6.212   \u001b[0m | \u001b[0m 0.3351  \u001b[0m | \u001b[0m 0.541   \u001b[0m | \u001b[0m 1.303   \u001b[0m | \u001b[0m 918.5   \u001b[0m |\n",
      "| \u001b[0m 18      \u001b[0m | \u001b[0m-0.6515  \u001b[0m | \u001b[0m 13.68   \u001b[0m | \u001b[0m 0.5229  \u001b[0m | \u001b[0m 0.237   \u001b[0m | \u001b[0m 6.617   \u001b[0m | \u001b[0m 746.9   \u001b[0m |\n",
      "| \u001b[0m 19      \u001b[0m | \u001b[0m-0.6518  \u001b[0m | \u001b[0m 18.24   \u001b[0m | \u001b[0m 0.3344  \u001b[0m | \u001b[0m 0.6481  \u001b[0m | \u001b[0m 5.667   \u001b[0m | \u001b[0m 752.2   \u001b[0m |\n",
      "| \u001b[0m 20      \u001b[0m | \u001b[0m-0.6518  \u001b[0m | \u001b[0m 18.07   \u001b[0m | \u001b[0m 0.7913  \u001b[0m | \u001b[0m 0.7944  \u001b[0m | \u001b[0m 2.729   \u001b[0m | \u001b[0m 744.6   \u001b[0m |\n",
      "=====================================================================================\n"
     ]
    }
   ],
   "source": [
    "from sklearn.model_selection import cross_val_score\n",
    "from data.labeled.preprocessed import RISKS_MAPPING\n",
    "optimal_params = {}\n",
    "CONSTANTS = {'subsample': 0.8, 'objective':\"reg:squarederror\"}\n",
    "for (risk, total_set, [train_set, valid_set]) in handler.get_total_train_val_set_per_risk():\n",
    "    print(f\"\\n\\n**Risk: {RISKS_MAPPING[risk]}**\")\n",
    "    print(f\"Annotated Samples Size: {total_set.shape[0]}\\n\")\n",
    "    def xgb_evaluate(max_depth, \n",
    "                     gamma, \n",
    "                     alpha,\n",
    "                     colsample_bytree, n_estimators):\n",
    "        params = {'max_depth': int(max_depth),\n",
    "                  'subsample': 0.8,\n",
    "                  'alpha': alpha,\n",
    "                  'gamma': gamma,\n",
    "                  'colsample_bytree': colsample_bytree,\n",
    "                   'n_estimators': int(n_estimators)}\n",
    "        params.update(CONSTANTS)\n",
    "\n",
    "        model = init_model(**params)\n",
    "        train_tuple = (total_set[handler.feat_names], total_set[risk])\n",
    "        reg_cv = model.fit(*train_tuple)\n",
    "        cv_result = np.mean(cross_val_score(model, *train_tuple, cv=3,scoring='neg_mean_squared_error'))\n",
    "        return cv_result\n",
    "    xgb_bo = BayesianOptimization(xgb_evaluate, {'max_depth': (1, 7), \n",
    "                                                 'alpha': (0,20),\n",
    "                                                 'gamma': (0, 1),\n",
    "                                                 'colsample_bytree': (0.3, 0.9),\n",
    "                                                 \"n_estimators\":[200,1000],\n",
    "                                                }\n",
    "                                  \n",
    "                                 )\n",
    "    \n",
    "    # Use the expected improvement acquisition function to handle negative numbers\n",
    "    # Optimally needs quite a few more initiation points and number of iterations\n",
    "    xgb_bo.maximize(init_points=10, n_iter=10)\n",
    "    params = xgb_bo.max['params']\n",
    "    params['max_depth'] = int(params['max_depth'])\n",
    "    params['n_estimators'] = int(params['n_estimators'])\n",
    "    params.update(CONSTANTS)\n",
    "    optimal_params[risk] = params"
   ]
  },
  {
   "cell_type": "code",
   "execution_count": 66,
   "metadata": {},
   "outputs": [],
   "source": [
    "from data.model import MODEL_BEST_PARAMS_PATH\n",
    "pd.DataFrame(optimal_params).to_csv(MODEL_BEST_PARAMS_PATH)"
   ]
  }
 ],
 "metadata": {
  "kernelspec": {
   "display_name": "ModernDataAnalytics",
   "language": "python",
   "name": "moderndataanalytics"
  },
  "language_info": {
   "codemirror_mode": {
    "name": "ipython",
    "version": 3
   },
   "file_extension": ".py",
   "mimetype": "text/x-python",
   "name": "python",
   "nbconvert_exporter": "python",
   "pygments_lexer": "ipython3",
   "version": "3.8.5"
  },
  "toc": {
   "base_numbering": 1,
   "nav_menu": {},
   "number_sections": true,
   "sideBar": true,
   "skip_h1_title": false,
   "title_cell": "Table of Contents",
   "title_sidebar": "Contents",
   "toc_cell": false,
   "toc_position": {},
   "toc_section_display": true,
   "toc_window_display": false
  },
  "varInspector": {
   "cols": {
    "lenName": 16,
    "lenType": 16,
    "lenVar": 40
   },
   "kernels_config": {
    "python": {
     "delete_cmd_postfix": "",
     "delete_cmd_prefix": "del ",
     "library": "var_list.py",
     "varRefreshCmd": "print(var_dic_list())"
    },
    "r": {
     "delete_cmd_postfix": ") ",
     "delete_cmd_prefix": "rm(",
     "library": "var_list.r",
     "varRefreshCmd": "cat(var_dic_list()) "
    }
   },
   "types_to_exclude": [
    "module",
    "function",
    "builtin_function_or_method",
    "instance",
    "_Feature"
   ],
   "window_display": false
  }
 },
 "nbformat": 4,
 "nbformat_minor": 4
}
