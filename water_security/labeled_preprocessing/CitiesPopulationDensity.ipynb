{
 "cells": [
  {
   "cell_type": "code",
   "execution_count": 1,
   "id": "28ab13f1",
   "metadata": {},
   "outputs": [],
   "source": [
    "import sys\n",
    "sys.path.append('..')\n",
    "from data.dataset import DATASET, DATASET_PATH\n",
    "from utils.geo import get_average_1k_population_density,get_place"
   ]
  },
  {
   "cell_type": "code",
   "execution_count": 2,
   "id": "a8d44ac0",
   "metadata": {},
   "outputs": [
    {
     "name": "stderr",
     "output_type": "stream",
     "text": [
      "/home/vaslem/code/bioinformatics_ms/modern_data_analytics/.venv/lib/python3.8/site-packages/numpy/core/fromnumeric.py:3419: RuntimeWarning: Mean of empty slice.\n",
      "  return _methods._mean(a, axis=axis, dtype=dtype,\n",
      "/home/vaslem/code/bioinformatics_ms/modern_data_analytics/.venv/lib/python3.8/site-packages/numpy/core/_methods.py:188: RuntimeWarning: invalid value encountered in true_divide\n",
      "  ret = ret.dtype.type(ret / rcount)\n"
     ]
    }
   ],
   "source": [
    "DATASET['population_1k_density'] = DATASET.apply(lambda city: get_average_1k_population_density(city['latitude'],city['longitude']),axis=1)"
   ]
  },
  {
   "cell_type": "code",
   "execution_count": 3,
   "id": "2da51251",
   "metadata": {},
   "outputs": [
    {
     "data": {
      "text/html": [
       "<div>\n",
       "<style scoped>\n",
       "    .dataframe tbody tr th:only-of-type {\n",
       "        vertical-align: middle;\n",
       "    }\n",
       "\n",
       "    .dataframe tbody tr th {\n",
       "        vertical-align: top;\n",
       "    }\n",
       "\n",
       "    .dataframe thead th {\n",
       "        text-align: right;\n",
       "    }\n",
       "</style>\n",
       "<table border=\"1\" class=\"dataframe\">\n",
       "  <thead>\n",
       "    <tr style=\"text-align: right;\">\n",
       "      <th></th>\n",
       "      <th>city</th>\n",
       "      <th>country</th>\n",
       "      <th>latitude</th>\n",
       "      <th>longitude</th>\n",
       "      <th>population_1k_density</th>\n",
       "    </tr>\n",
       "  </thead>\n",
       "  <tbody>\n",
       "    <tr>\n",
       "      <th>181</th>\n",
       "      <td>Kano</td>\n",
       "      <td>Nigeria</td>\n",
       "      <td>12.0000</td>\n",
       "      <td>8.5167</td>\n",
       "      <td>32776.671875</td>\n",
       "    </tr>\n",
       "    <tr>\n",
       "      <th>680</th>\n",
       "      <td>Shenzhen</td>\n",
       "      <td>China</td>\n",
       "      <td>22.5350</td>\n",
       "      <td>114.0540</td>\n",
       "      <td>32942.902344</td>\n",
       "    </tr>\n",
       "    <tr>\n",
       "      <th>1081</th>\n",
       "      <td>Hanoi</td>\n",
       "      <td>Viet Nam</td>\n",
       "      <td>21.0245</td>\n",
       "      <td>105.8412</td>\n",
       "      <td>33384.570312</td>\n",
       "    </tr>\n",
       "    <tr>\n",
       "      <th>936</th>\n",
       "      <td>Dhaka</td>\n",
       "      <td>Bangladesh</td>\n",
       "      <td>23.7161</td>\n",
       "      <td>90.3961</td>\n",
       "      <td>34085.695312</td>\n",
       "    </tr>\n",
       "    <tr>\n",
       "      <th>677</th>\n",
       "      <td>Guangzhou</td>\n",
       "      <td>China</td>\n",
       "      <td>23.1288</td>\n",
       "      <td>113.2590</td>\n",
       "      <td>38069.554688</td>\n",
       "    </tr>\n",
       "    <tr>\n",
       "      <th>1105</th>\n",
       "      <td>Mbuji-Mayi</td>\n",
       "      <td>Democratic Republic of the Congo</td>\n",
       "      <td>-6.1209</td>\n",
       "      <td>23.5967</td>\n",
       "      <td>38148.828125</td>\n",
       "    </tr>\n",
       "    <tr>\n",
       "      <th>742</th>\n",
       "      <td>Kathmandu</td>\n",
       "      <td>Nepal</td>\n",
       "      <td>27.7167</td>\n",
       "      <td>85.3667</td>\n",
       "      <td>38521.742188</td>\n",
       "    </tr>\n",
       "    <tr>\n",
       "      <th>587</th>\n",
       "      <td>Bangalore</td>\n",
       "      <td>India</td>\n",
       "      <td>12.9699</td>\n",
       "      <td>77.5980</td>\n",
       "      <td>40835.621094</td>\n",
       "    </tr>\n",
       "    <tr>\n",
       "      <th>716</th>\n",
       "      <td>Luanda</td>\n",
       "      <td>Angola</td>\n",
       "      <td>-8.8383</td>\n",
       "      <td>13.2344</td>\n",
       "      <td>42064.023438</td>\n",
       "    </tr>\n",
       "    <tr>\n",
       "      <th>793</th>\n",
       "      <td>Roma</td>\n",
       "      <td>Italy</td>\n",
       "      <td>41.5300</td>\n",
       "      <td>12.2858</td>\n",
       "      <td>NaN</td>\n",
       "    </tr>\n",
       "  </tbody>\n",
       "</table>\n",
       "</div>"
      ],
      "text/plain": [
       "            city                           country  latitude  longitude  \\\n",
       "181         Kano                           Nigeria   12.0000     8.5167   \n",
       "680     Shenzhen                             China   22.5350   114.0540   \n",
       "1081       Hanoi                          Viet Nam   21.0245   105.8412   \n",
       "936        Dhaka                        Bangladesh   23.7161    90.3961   \n",
       "677    Guangzhou                             China   23.1288   113.2590   \n",
       "1105  Mbuji-Mayi  Democratic Republic of the Congo   -6.1209    23.5967   \n",
       "742    Kathmandu                             Nepal   27.7167    85.3667   \n",
       "587    Bangalore                             India   12.9699    77.5980   \n",
       "716       Luanda                            Angola   -8.8383    13.2344   \n",
       "793         Roma                             Italy   41.5300    12.2858   \n",
       "\n",
       "      population_1k_density  \n",
       "181            32776.671875  \n",
       "680            32942.902344  \n",
       "1081           33384.570312  \n",
       "936            34085.695312  \n",
       "677            38069.554688  \n",
       "1105           38148.828125  \n",
       "742            38521.742188  \n",
       "587            40835.621094  \n",
       "716            42064.023438  \n",
       "793                     NaN  "
      ]
     },
     "execution_count": 3,
     "metadata": {},
     "output_type": "execute_result"
    }
   ],
   "source": [
    "DATASET.sort_values(by='population_1k_density').iloc[-10:][['city','country','latitude','longitude','population_1k_density']]"
   ]
  },
  {
   "cell_type": "code",
   "execution_count": 4,
   "id": "bef5a7ff",
   "metadata": {},
   "outputs": [
    {
     "data": {
      "text/html": [
       "<div>\n",
       "<style scoped>\n",
       "    .dataframe tbody tr th:only-of-type {\n",
       "        vertical-align: middle;\n",
       "    }\n",
       "\n",
       "    .dataframe tbody tr th {\n",
       "        vertical-align: top;\n",
       "    }\n",
       "\n",
       "    .dataframe thead th {\n",
       "        text-align: right;\n",
       "    }\n",
       "</style>\n",
       "<table border=\"1\" class=\"dataframe\">\n",
       "  <thead>\n",
       "    <tr style=\"text-align: right;\">\n",
       "      <th></th>\n",
       "      <th>city</th>\n",
       "      <th>country</th>\n",
       "      <th>latitude</th>\n",
       "      <th>longitude</th>\n",
       "      <th>population_1k_density</th>\n",
       "    </tr>\n",
       "  </thead>\n",
       "  <tbody>\n",
       "    <tr>\n",
       "      <th>401</th>\n",
       "      <td>Natal</td>\n",
       "      <td>Brazil</td>\n",
       "      <td>-6.9838</td>\n",
       "      <td>-60.2699</td>\n",
       "      <td>0.003718</td>\n",
       "    </tr>\n",
       "    <tr>\n",
       "      <th>725</th>\n",
       "      <td>Vhembe</td>\n",
       "      <td>South Africa</td>\n",
       "      <td>-22.7695</td>\n",
       "      <td>29.9740</td>\n",
       "      <td>0.004092</td>\n",
       "    </tr>\n",
       "    <tr>\n",
       "      <th>16</th>\n",
       "      <td>Anchorage</td>\n",
       "      <td>United States of America</td>\n",
       "      <td>61.1508</td>\n",
       "      <td>-149.1091</td>\n",
       "      <td>0.020515</td>\n",
       "    </tr>\n",
       "    <tr>\n",
       "      <th>230</th>\n",
       "      <td>Douglas</td>\n",
       "      <td>Canada</td>\n",
       "      <td>46.2819</td>\n",
       "      <td>-66.9420</td>\n",
       "      <td>0.076147</td>\n",
       "    </tr>\n",
       "    <tr>\n",
       "      <th>792</th>\n",
       "      <td>Oristano</td>\n",
       "      <td>Italy</td>\n",
       "      <td>39.7207</td>\n",
       "      <td>8.8980</td>\n",
       "      <td>0.193612</td>\n",
       "    </tr>\n",
       "    <tr>\n",
       "      <th>199</th>\n",
       "      <td>Georgetown</td>\n",
       "      <td>Australia</td>\n",
       "      <td>-18.3000</td>\n",
       "      <td>143.5500</td>\n",
       "      <td>0.341027</td>\n",
       "    </tr>\n",
       "    <tr>\n",
       "      <th>515</th>\n",
       "      <td>JICOSUR</td>\n",
       "      <td>Mexico</td>\n",
       "      <td>19.3400</td>\n",
       "      <td>-104.3800</td>\n",
       "      <td>0.483595</td>\n",
       "    </tr>\n",
       "    <tr>\n",
       "      <th>724</th>\n",
       "      <td>Sekhukhune District Municipality</td>\n",
       "      <td>South Africa</td>\n",
       "      <td>-24.8335</td>\n",
       "      <td>29.9740</td>\n",
       "      <td>0.825482</td>\n",
       "    </tr>\n",
       "    <tr>\n",
       "      <th>271</th>\n",
       "      <td>Victoria</td>\n",
       "      <td>Romania</td>\n",
       "      <td>45.6466</td>\n",
       "      <td>24.7059</td>\n",
       "      <td>1.035097</td>\n",
       "    </tr>\n",
       "    <tr>\n",
       "      <th>975</th>\n",
       "      <td>Santa Cruz</td>\n",
       "      <td>Ecuador</td>\n",
       "      <td>-0.5333</td>\n",
       "      <td>-90.3500</td>\n",
       "      <td>1.056872</td>\n",
       "    </tr>\n",
       "  </tbody>\n",
       "</table>\n",
       "</div>"
      ],
      "text/plain": [
       "                                 city                   country  latitude  \\\n",
       "401                             Natal                    Brazil   -6.9838   \n",
       "725                            Vhembe              South Africa  -22.7695   \n",
       "16                          Anchorage  United States of America   61.1508   \n",
       "230                           Douglas                    Canada   46.2819   \n",
       "792                          Oristano                     Italy   39.7207   \n",
       "199                        Georgetown                 Australia  -18.3000   \n",
       "515                           JICOSUR                    Mexico   19.3400   \n",
       "724  Sekhukhune District Municipality              South Africa  -24.8335   \n",
       "271                          Victoria                   Romania   45.6466   \n",
       "975                        Santa Cruz                   Ecuador   -0.5333   \n",
       "\n",
       "     longitude  population_1k_density  \n",
       "401   -60.2699               0.003718  \n",
       "725    29.9740               0.004092  \n",
       "16   -149.1091               0.020515  \n",
       "230   -66.9420               0.076147  \n",
       "792     8.8980               0.193612  \n",
       "199   143.5500               0.341027  \n",
       "515  -104.3800               0.483595  \n",
       "724    29.9740               0.825482  \n",
       "271    24.7059               1.035097  \n",
       "975   -90.3500               1.056872  "
      ]
     },
     "execution_count": 4,
     "metadata": {},
     "output_type": "execute_result"
    }
   ],
   "source": [
    "DATASET.sort_values(by='population_1k_density').iloc[:10][['city','country','latitude','longitude','population_1k_density']]"
   ]
  },
  {
   "cell_type": "markdown",
   "id": "437732fb",
   "metadata": {},
   "source": [
    "### The population density results can be used to manually curate the rather big dataset\n",
    "as density nan or lower than 2 people/sqkm is probably bad measurement"
   ]
  },
  {
   "cell_type": "code",
   "execution_count": 5,
   "id": "bade02b0",
   "metadata": {},
   "outputs": [
    {
     "data": {
      "text/plain": [
       "793    4297.904297\n",
       "Name: population_1k_density, dtype: float64"
      ]
     },
     "execution_count": 5,
     "metadata": {},
     "output_type": "execute_result"
    }
   ],
   "source": [
    "#Incorrect lat,long for Roma, Italy: 41.5300, 12.2858\n",
    "#Manual Curation\n",
    "flag = (DATASET.city=='Roma')&(DATASET.country=='Italy')\n",
    "DATASET.loc[flag,'latitude'] = 41.9028\n",
    "DATASET.loc[flag,'longitude'] = 12.4964\n",
    "DATASET.loc[flag,'population_1k_density'] = DATASET.loc[flag].apply(lambda city: get_average_1k_population_density(city['latitude'],city['longitude']),axis=1)\n",
    "DATASET.loc[flag,'population_1k_density']"
   ]
  },
  {
   "cell_type": "code",
   "execution_count": 6,
   "id": "9756fb20",
   "metadata": {},
   "outputs": [
    {
     "data": {
      "text/plain": [
       "401    1053.169678\n",
       "Name: population_1k_density, dtype: float64"
      ]
     },
     "execution_count": 6,
     "metadata": {},
     "output_type": "execute_result"
    }
   ],
   "source": [
    "#Incorrect lat,long for Natal, Brazil: -6.9838, -60.2699\n",
    "#Manual Curation\n",
    "DATASET.loc[(DATASET.city=='Natal')&(DATASET.country=='Brazil'),'latitude'] = -5.7793\n",
    "DATASET.loc[(DATASET.city=='Natal')&(DATASET.country=='Brazil'),'longitude'] = -35.2009\n",
    "DATASET.loc[(DATASET.city=='Natal')&(DATASET.country=='Brazil'),'population_1k_density'] = DATASET.loc[(DATASET.city=='Natal')&(DATASET.country=='Brazil')].apply(lambda city: get_average_1k_population_density(city['latitude'],city['longitude']),axis=1)\n",
    "DATASET.loc[(DATASET.city=='Natal')&(DATASET.country=='Brazil'),'population_1k_density']"
   ]
  },
  {
   "cell_type": "code",
   "execution_count": 7,
   "id": "46c60b87",
   "metadata": {},
   "outputs": [
    {
     "data": {
      "text/plain": [
       "{'city': 'Natal', 'country': 'Brazil', 'code': 'BRA'}"
      ]
     },
     "execution_count": 7,
     "metadata": {},
     "output_type": "execute_result"
    }
   ],
   "source": [
    "get_place( -5.7793,-35.2009)"
   ]
  },
  {
   "cell_type": "code",
   "execution_count": 8,
   "id": "14fffe62",
   "metadata": {},
   "outputs": [
    {
     "data": {
      "text/plain": [
       "16    319.156555\n",
       "Name: population_1k_density, dtype: float64"
      ]
     },
     "execution_count": 8,
     "metadata": {},
     "output_type": "execute_result"
    }
   ],
   "source": [
    "#Incorrect lat,long for Anchorage, US: 61.1508 -149.1091\n",
    "#Manual Curation\n",
    "flag = (DATASET.city=='Anchorage')&(DATASET.country=='United States of America')\n",
    "DATASET.loc[flag,'latitude'] = 61.2181\n",
    "DATASET.loc[flag,'longitude'] = -149.9003\n",
    "DATASET.loc[flag,'population_1k_density'] = DATASET.loc[flag].apply(lambda city: get_average_1k_population_density(city['latitude'],city['longitude']),axis=1)\n",
    "DATASET.loc[flag,'population_1k_density']"
   ]
  },
  {
   "cell_type": "code",
   "execution_count": 9,
   "id": "7dbfdc26",
   "metadata": {},
   "outputs": [
    {
     "data": {
      "text/plain": [
       "230    63.305809\n",
       "Name: population_1k_density, dtype: float64"
      ]
     },
     "execution_count": 9,
     "metadata": {},
     "output_type": "execute_result"
    }
   ],
   "source": [
    "#Incorrect lat,long for Douglas, Canada: 46.2819 -66.9420\n",
    "#Manual Curation\n",
    "flag = (DATASET.city=='Douglas')&(DATASET.country=='Canada')\n",
    "DATASET.loc[flag,'latitude'] = 49.0056\n",
    "DATASET.loc[flag,'longitude'] = -122.7452\n",
    "DATASET.loc[flag,'population_1k_density'] = DATASET.loc[flag].apply(lambda city: get_average_1k_population_density(city['latitude'],city['longitude']),axis=1)\n",
    "DATASET.loc[flag,'population_1k_density']"
   ]
  },
  {
   "cell_type": "code",
   "execution_count": 10,
   "id": "f4b79c36",
   "metadata": {},
   "outputs": [
    {
     "data": {
      "text/plain": [
       "975    1.603762\n",
       "Name: population_1k_density, dtype: float64"
      ]
     },
     "execution_count": 10,
     "metadata": {},
     "output_type": "execute_result"
    }
   ],
   "source": [
    "#Incorrect lat,long for Santa Cruz, Ecuador: -0.5333 -90.3500\n",
    "#Manual Curation\n",
    "flag = (DATASET.city=='Santa Cruz')&(DATASET.country=='Ecuador')\n",
    "DATASET.loc[flag,'latitude'] = -0.6394\n",
    "DATASET.loc[flag,'longitude'] = -90.3372\n",
    "DATASET.loc[flag,'population_1k_density'] = DATASET.loc[flag].apply(lambda city: get_average_1k_population_density(city['latitude'],city['longitude']),axis=1)\n",
    "DATASET.loc[flag,'population_1k_density']"
   ]
  },
  {
   "cell_type": "code",
   "execution_count": 11,
   "id": "4bf03764",
   "metadata": {},
   "outputs": [],
   "source": [
    "#Dropping Vhembe, South Africa, as it is a municipality of  25597 sqkm!\n",
    "#Manual Curation\n",
    "flag = ~((DATASET.city=='Vhembe')&(DATASET.country=='South Africa'))\n",
    "DATASET = DATASET[flag].copy()"
   ]
  },
  {
   "cell_type": "code",
   "execution_count": 12,
   "id": "c6a98412",
   "metadata": {},
   "outputs": [],
   "source": [
    "#Unknown location JICOSUR, Mexico: 19.3400 -104.3800\n",
    "#Manual Curation\n",
    "flag = (DATASET.city=='JICOSUR')&(DATASET.country=='Mexico')\n",
    "DATASET.loc[flag,'city'] = 'Cihuatlán'"
   ]
  },
  {
   "cell_type": "code",
   "execution_count": 13,
   "id": "f2b7056e",
   "metadata": {},
   "outputs": [
    {
     "data": {
      "text/plain": [
       "792    25.601376\n",
       "Name: population_1k_density, dtype: float64"
      ]
     },
     "execution_count": 13,
     "metadata": {},
     "output_type": "execute_result"
    }
   ],
   "source": [
    "#Incorrect lat,long for Oristano, Italy: 39.7207, 8.8980\n",
    "#Manual Curation\n",
    "flag = (DATASET.city=='Oristano')&(DATASET.country=='Italy')\n",
    "DATASET.loc[flag,'latitude'] = 39.9062\n",
    "DATASET.loc[flag,'longitude'] = 8.5884\n",
    "DATASET.loc[flag,'population_1k_density'] = DATASET.loc[flag].apply(lambda city: get_average_1k_population_density(city['latitude'],city['longitude']),axis=1)\n",
    "DATASET.loc[flag,'population_1k_density']"
   ]
  },
  {
   "cell_type": "code",
   "execution_count": 14,
   "id": "554170ee",
   "metadata": {},
   "outputs": [
    {
     "data": {
      "text/html": [
       "<div>\n",
       "<style scoped>\n",
       "    .dataframe tbody tr th:only-of-type {\n",
       "        vertical-align: middle;\n",
       "    }\n",
       "\n",
       "    .dataframe tbody tr th {\n",
       "        vertical-align: top;\n",
       "    }\n",
       "\n",
       "    .dataframe thead th {\n",
       "        text-align: right;\n",
       "    }\n",
       "</style>\n",
       "<table border=\"1\" class=\"dataframe\">\n",
       "  <thead>\n",
       "    <tr style=\"text-align: right;\">\n",
       "      <th></th>\n",
       "      <th>city</th>\n",
       "      <th>country</th>\n",
       "      <th>latitude</th>\n",
       "      <th>longitude</th>\n",
       "      <th>population_1k_density</th>\n",
       "      <th>c40</th>\n",
       "    </tr>\n",
       "  </thead>\n",
       "  <tbody>\n",
       "    <tr>\n",
       "      <th>199</th>\n",
       "      <td>Georgetown</td>\n",
       "      <td>Australia</td>\n",
       "      <td>-18.3000</td>\n",
       "      <td>143.5500</td>\n",
       "      <td>0.341027</td>\n",
       "      <td>False</td>\n",
       "    </tr>\n",
       "    <tr>\n",
       "      <th>515</th>\n",
       "      <td>Cihuatlán</td>\n",
       "      <td>Mexico</td>\n",
       "      <td>19.3400</td>\n",
       "      <td>-104.3800</td>\n",
       "      <td>0.483595</td>\n",
       "      <td>False</td>\n",
       "    </tr>\n",
       "    <tr>\n",
       "      <th>724</th>\n",
       "      <td>Sekhukhune District Municipality</td>\n",
       "      <td>South Africa</td>\n",
       "      <td>-24.8335</td>\n",
       "      <td>29.9740</td>\n",
       "      <td>0.825482</td>\n",
       "      <td>False</td>\n",
       "    </tr>\n",
       "    <tr>\n",
       "      <th>271</th>\n",
       "      <td>Victoria</td>\n",
       "      <td>Romania</td>\n",
       "      <td>45.6466</td>\n",
       "      <td>24.7059</td>\n",
       "      <td>1.035097</td>\n",
       "      <td>False</td>\n",
       "    </tr>\n",
       "    <tr>\n",
       "      <th>838</th>\n",
       "      <td>Cottica</td>\n",
       "      <td>Suriname</td>\n",
       "      <td>3.8547</td>\n",
       "      <td>-54.2289</td>\n",
       "      <td>1.318348</td>\n",
       "      <td>False</td>\n",
       "    </tr>\n",
       "    <tr>\n",
       "      <th>975</th>\n",
       "      <td>Santa Cruz</td>\n",
       "      <td>Ecuador</td>\n",
       "      <td>-0.6394</td>\n",
       "      <td>-90.3372</td>\n",
       "      <td>1.603762</td>\n",
       "      <td>False</td>\n",
       "    </tr>\n",
       "    <tr>\n",
       "      <th>488</th>\n",
       "      <td>New Plymouth District</td>\n",
       "      <td>New Zealand</td>\n",
       "      <td>-39.1011</td>\n",
       "      <td>174.3540</td>\n",
       "      <td>1.658758</td>\n",
       "      <td>False</td>\n",
       "    </tr>\n",
       "    <tr>\n",
       "      <th>806</th>\n",
       "      <td>Parma</td>\n",
       "      <td>Russian Federation</td>\n",
       "      <td>65.9230</td>\n",
       "      <td>57.4030</td>\n",
       "      <td>1.797995</td>\n",
       "      <td>False</td>\n",
       "    </tr>\n",
       "    <tr>\n",
       "      <th>1069</th>\n",
       "      <td>Lata</td>\n",
       "      <td>Solomon Islands</td>\n",
       "      <td>-10.7380</td>\n",
       "      <td>165.8567</td>\n",
       "      <td>2.206394</td>\n",
       "      <td>False</td>\n",
       "    </tr>\n",
       "    <tr>\n",
       "      <th>837</th>\n",
       "      <td>Brokopondo</td>\n",
       "      <td>Suriname</td>\n",
       "      <td>5.0404</td>\n",
       "      <td>-55.0200</td>\n",
       "      <td>2.214054</td>\n",
       "      <td>False</td>\n",
       "    </tr>\n",
       "  </tbody>\n",
       "</table>\n",
       "</div>"
      ],
      "text/plain": [
       "                                  city             country  latitude  \\\n",
       "199                         Georgetown           Australia  -18.3000   \n",
       "515                          Cihuatlán              Mexico   19.3400   \n",
       "724   Sekhukhune District Municipality        South Africa  -24.8335   \n",
       "271                           Victoria             Romania   45.6466   \n",
       "838                            Cottica            Suriname    3.8547   \n",
       "975                         Santa Cruz             Ecuador   -0.6394   \n",
       "488              New Plymouth District         New Zealand  -39.1011   \n",
       "806                              Parma  Russian Federation   65.9230   \n",
       "1069                              Lata     Solomon Islands  -10.7380   \n",
       "837                         Brokopondo            Suriname    5.0404   \n",
       "\n",
       "      longitude  population_1k_density    c40  \n",
       "199    143.5500               0.341027  False  \n",
       "515   -104.3800               0.483595  False  \n",
       "724     29.9740               0.825482  False  \n",
       "271     24.7059               1.035097  False  \n",
       "838    -54.2289               1.318348  False  \n",
       "975    -90.3372               1.603762  False  \n",
       "488    174.3540               1.658758  False  \n",
       "806     57.4030               1.797995  False  \n",
       "1069   165.8567               2.206394  False  \n",
       "837    -55.0200               2.214054  False  "
      ]
     },
     "execution_count": 14,
     "metadata": {},
     "output_type": "execute_result"
    }
   ],
   "source": [
    "DATASET.sort_values(by='population_1k_density').iloc[:10][['city','country','latitude','longitude','population_1k_density','c40']]"
   ]
  },
  {
   "cell_type": "code",
   "execution_count": 15,
   "id": "6820d280",
   "metadata": {},
   "outputs": [
    {
     "name": "stderr",
     "output_type": "stream",
     "text": [
      "/home/vaslem/code/bioinformatics_ms/modern_data_analytics/.venv/lib/python3.8/site-packages/numpy/core/fromnumeric.py:3419: RuntimeWarning: Mean of empty slice.\n",
      "  return _methods._mean(a, axis=axis, dtype=dtype,\n",
      "/home/vaslem/code/bioinformatics_ms/modern_data_analytics/.venv/lib/python3.8/site-packages/numpy/core/_methods.py:188: RuntimeWarning: invalid value encountered in true_divide\n",
      "  ret = ret.dtype.type(ret / rcount)\n"
     ]
    },
    {
     "data": {
      "text/plain": [
       "199    0.011311\n",
       "Name: population_1k_density, dtype: float64"
      ]
     },
     "execution_count": 15,
     "metadata": {},
     "output_type": "execute_result"
    }
   ],
   "source": [
    "#Incorrect lat,long for Georgetown, Australia: -18.3000 143.5500\n",
    "#Manual Curation\n",
    "flag = (DATASET.city=='Georgetown')&(DATASET.country=='Australia')\n",
    "DATASET.loc[flag,'latitude'] = -18.2470\n",
    "DATASET.loc[flag,'longitude'] = 143.0360\n",
    "DATASET.loc[flag,'population_1k_density'] = DATASET.loc[flag].apply(lambda city: get_average_1k_population_density(city['latitude'],city['longitude']),axis=1)\n",
    "DATASET.loc[flag,'population_1k_density']"
   ]
  },
  {
   "cell_type": "code",
   "execution_count": 16,
   "id": "de79c891",
   "metadata": {},
   "outputs": [],
   "source": [
    "DATASET.to_csv(DATASET_PATH)"
   ]
  }
 ],
 "metadata": {
  "kernelspec": {
   "display_name": "ModernDataAnalytics",
   "language": "python",
   "name": "moderndataanalytics"
  },
  "language_info": {
   "codemirror_mode": {
    "name": "ipython",
    "version": 3
   },
   "file_extension": ".py",
   "mimetype": "text/x-python",
   "name": "python",
   "nbconvert_exporter": "python",
   "pygments_lexer": "ipython3",
   "version": "3.8.5"
  }
 },
 "nbformat": 4,
 "nbformat_minor": 5
}
