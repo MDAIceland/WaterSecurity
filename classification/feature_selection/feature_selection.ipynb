{
 "metadata": {
  "language_info": {
   "codemirror_mode": {
    "name": "ipython",
    "version": 3
   },
   "file_extension": ".py",
   "mimetype": "text/x-python",
   "name": "python",
   "nbconvert_exporter": "python",
   "pygments_lexer": "ipython3",
   "version": "3.7.4"
  },
  "orig_nbformat": 2,
  "kernelspec": {
   "name": "python374jvsc74a57bd0dca0ade3e726a953b501b15e8e990130d2b7799f14cfd9f4271676035ebe5511",
   "display_name": "Python 3.7.4 64-bit ('base': conda)"
  }
 },
 "nbformat": 4,
 "nbformat_minor": 2,
 "cells": [
  {
   "cell_type": "code",
   "execution_count": 273,
   "metadata": {},
   "outputs": [],
   "source": [
    "import pandas as pd\n",
    "import numpy as np\n",
    "import sys\n",
    "sys.path.append(\"../..\")\n",
    "from data.dataset import DATASET as mainDf\n",
    "from sklearn.feature_selection import SelectKBest, chi2, f_classif\n",
    "from sklearn.decomposition import PCA\n",
    "from sklearn.preprocessing import StandardScaler, PolynomialFeatures, RobustScaler"
   ]
  },
  {
   "cell_type": "code",
   "execution_count": 309,
   "metadata": {},
   "outputs": [],
   "source": [
    "# write the necessary functions\n",
    "# df = mainDf.loc[mainDf['risk1'].notnull()]\n",
    "# t = np.where(np.isnan(x))\n",
    "\n",
    "def getRowsForRisks(df, columns):\n",
    "    partialDf = []\n",
    "    for column in columns:\n",
    "        data = df.loc[df[column].notnull()]\n",
    "        partialDf.append(data)\n",
    "\n",
    "    return partialDf\n",
    "\n",
    "def preprocess(data, risks):\n",
    "    data = data.drop(columns=['country','city','country_code','c40'])\n",
    "    data = data.drop(columns=risks)\n",
    "\n",
    "    return data\n",
    "\n",
    "def getImportantFeatures(df, label, risks):\n",
    "    y = df.loc[:, label]\n",
    "    x = df.loc[:, df.columns != label]\n",
    "\n",
    "    #risks.remove(label)\n",
    "    #print(risks)\n",
    "    \n",
    "    x = x.drop(columns=['country','city','country_code','c40'])\n",
    "    cols = [col for col in x.columns if col.lower()[:4] != 'risk']\n",
    "    x = x[cols]\n",
    "\n",
    "    #l = x.columns[x.isna().any()].tolist()\n",
    "    #print(l)\n",
    "\n",
    "    var_num = x.shape[1]\n",
    "    var_num = int((var_num*15)/100)\n",
    "    print(\"Picked variable number:\",var_num)\n",
    "\n",
    "    # Applying select K-best\n",
    "    bestFeatures = SelectKBest(score_func=f_classif, k=var_num)\n",
    "    fit = bestFeatures.fit(x,y)\n",
    "    dfscores = pd.DataFrame(fit.scores_)\n",
    "    dfcolumns = pd.DataFrame(x.columns)\n",
    "\n",
    "    #Concat two dataframes for better visualization\n",
    "    featureScores = pd.concat([dfcolumns,dfscores],axis=1)\n",
    "    featureScores.columns = ['Specs','Score']\n",
    "    print(featureScores.nlargest(var_num,'Score'))  #print 15% of the total features according to the score features\n",
    "\n",
    "def getArrayOfFeatures(data, name):\n",
    "    arr = data.columns.values\n",
    "    return [s for s in arr if (name in s)]\n",
    "\n",
    "def generateCrossFeat(data, arr):\n",
    "    poly = PolynomialFeatures()\n",
    "    crossed_feats = poly.fit_transform(data[arr].values)\n",
    "\n",
    "    #Convert to Pandas DataFrame and merge to original dataset\n",
    "    crossed_df = pd.DataFrame(crossed_feats)\n",
    "    #print(crossed_df.shape)\n",
    "    return crossed_df\n",
    "    "
   ]
  },
  {
   "cell_type": "code",
   "execution_count": null,
   "metadata": {},
   "outputs": [],
   "source": [
    "#mainDf['Density'] = mainDf['']"
   ]
  },
  {
   "cell_type": "code",
   "execution_count": 258,
   "metadata": {},
   "outputs": [
    {
     "output_type": "display_data",
     "data": {
      "text/plain": "                  city  latitude  longitude  population country_code    c40  \\\n0              Aalborg   57.0337     9.9166    122219.0          DNK  False   \n1               Aarhus   56.1572    10.2107    237551.0          DNK  False   \n2           Copenhagen   55.6786    12.5635   1085000.0          DNK  False   \n3              Esbjerg   55.4670     8.4500     72205.0          DNK  False   \n4        Frederikshavn   57.4337    10.5333     24103.0          DNK  False   \n...                ...       ...        ...         ...          ...    ...   \n1206       Teaoraereke    1.3333   173.0000      5105.0          KIR  False   \n1207          Trindade    0.3000     6.6667      6636.0          STP  False   \n1208          Victoria   -4.6236    55.4544     26450.0          SYC  False   \n1209            Warsaw   52.2167    21.0333   1790658.0          POL   True   \n1210  Abasan Al-Kabira   31.3231    34.3440     32000.0          PSE  False   \n\n      risk0  risk1  risk2  risk3  ...  \\\n0       NaN    NaN    NaN    NaN  ...   \n1       NaN    NaN    NaN    NaN  ...   \n2       NaN    2.0    NaN    2.0  ...   \n3       NaN    NaN    NaN    NaN  ...   \n4       NaN    2.0    NaN    NaN  ...   \n...     ...    ...    ...    ...  ...   \n1206    NaN    NaN    NaN    NaN  ...   \n1207    NaN    NaN    NaN    NaN  ...   \n1208    NaN    NaN    NaN    NaN  ...   \n1209    0.0    0.0    2.0    0.0  ...   \n1210    NaN    2.0    2.0    2.0  ...   \n\n      SDG 6.4.1. Services Water Use Efficiency  \\\n0                                   558.335628   \n1                                   558.335628   \n2                                   558.335628   \n3                                   558.335628   \n4                                   558.335628   \n...                                        ...   \n1206                                110.288104   \n1207                                 17.162254   \n1208                                120.471023   \n1209                                153.691550   \n1210                                 51.887163   \n\n      SDG 6.4.1. Water Use Efficiency  SDG 6.4.2. Water Stress  \\\n0                          368.612902                20.040562   \n1                          368.612902                20.040562   \n2                          368.612902                20.040562   \n3                          368.612902                20.040562   \n4                          368.612902                20.040562   \n...                               ...                      ...   \n1206                        80.302831                68.505925   \n1207                         7.489641                 1.876147   \n1208                        89.323035                69.243227   \n1209                        43.570222                34.890966   \n1210                        34.748970                41.078306   \n\n      Seasonal variability (WRI)  \\\n0                       1.300000   \n1                       1.300000   \n2                       1.300000   \n3                       1.300000   \n4                       1.300000   \n...                          ...   \n1206                    2.532741   \n1207                    2.502891   \n1208                    1.601611   \n1209                    0.600000   \n1210                    3.100000   \n\n      Total internal renewable water resources per capita  \\\n0                                           1046.705025     \n1                                           1046.705025     \n2                                           1046.705025     \n3                                           1046.705025     \n4                                           1046.705025     \n...                                                 ...     \n1206                                       -1779.609434     \n1207                                       10526.874919     \n1208                                       -2157.596566     \n1209                                        1412.266377     \n1210                                         171.047224     \n\n      Total population with access to safe drinking-water (JMP)  \\\n0                                                 100.0           \n1                                                 100.0           \n2                                                 100.0           \n3                                                 100.0           \n4                                                 100.0           \n...                                                 ...           \n1206                                               66.9           \n1207                                               97.1           \n1208                                               95.7           \n1209                                               98.3           \n1210                                               58.4           \n\n      Total renewable water resources per capita  \\\n0                                    1046.705025   \n1                                    1046.705025   \n2                                    1046.705025   \n3                                    1046.705025   \n4                                    1046.705025   \n...                                          ...   \n1206                                    0.000000   \n1207                                10526.874919   \n1208                                    0.000000   \n1209                                 1594.069324   \n1210                                  176.313456   \n\n      Total water withdrawal per capita  \\\n0                            129.285516   \n1                            129.285516   \n2                            129.285516   \n3                            129.285516   \n4                            129.285516   \n...                                 ...   \n1206                         414.127038   \n1207                         197.499626   \n1208                         142.089651   \n1209                         265.616741   \n1210                          79.035614   \n\n      Urban population with access to safe drinking-water (JMP)  \\\n0                                                 100.0           \n1                                                 100.0           \n2                                                 100.0           \n3                                                 100.0           \n4                                                 100.0           \n...                                                 ...           \n1206                                               87.3           \n1207                                               98.9           \n1208                                               95.7           \n1209                                               99.3           \n1210                                               50.7           \n\n                    country  \n0                   Denmark  \n1                   Denmark  \n2                   Denmark  \n3                   Denmark  \n4                   Denmark  \n...                     ...  \n1206               Kiribati  \n1207  Sao Tome and Principe  \n1208             Seychelles  \n1209                 Poland  \n1210              Palestine  \n\n[1211 rows x 157 columns]",
      "text/html": "<div>\n<style scoped>\n    .dataframe tbody tr th:only-of-type {\n        vertical-align: middle;\n    }\n\n    .dataframe tbody tr th {\n        vertical-align: top;\n    }\n\n    .dataframe thead th {\n        text-align: right;\n    }\n</style>\n<table border=\"1\" class=\"dataframe\">\n  <thead>\n    <tr style=\"text-align: right;\">\n      <th></th>\n      <th>city</th>\n      <th>latitude</th>\n      <th>longitude</th>\n      <th>population</th>\n      <th>country_code</th>\n      <th>c40</th>\n      <th>risk0</th>\n      <th>risk1</th>\n      <th>risk2</th>\n      <th>risk3</th>\n      <th>...</th>\n      <th>SDG 6.4.1. Services Water Use Efficiency</th>\n      <th>SDG 6.4.1. Water Use Efficiency</th>\n      <th>SDG 6.4.2. Water Stress</th>\n      <th>Seasonal variability (WRI)</th>\n      <th>Total internal renewable water resources per capita</th>\n      <th>Total population with access to safe drinking-water (JMP)</th>\n      <th>Total renewable water resources per capita</th>\n      <th>Total water withdrawal per capita</th>\n      <th>Urban population with access to safe drinking-water (JMP)</th>\n      <th>country</th>\n    </tr>\n  </thead>\n  <tbody>\n    <tr>\n      <td>0</td>\n      <td>Aalborg</td>\n      <td>57.0337</td>\n      <td>9.9166</td>\n      <td>122219.0</td>\n      <td>DNK</td>\n      <td>False</td>\n      <td>NaN</td>\n      <td>NaN</td>\n      <td>NaN</td>\n      <td>NaN</td>\n      <td>...</td>\n      <td>558.335628</td>\n      <td>368.612902</td>\n      <td>20.040562</td>\n      <td>1.300000</td>\n      <td>1046.705025</td>\n      <td>100.0</td>\n      <td>1046.705025</td>\n      <td>129.285516</td>\n      <td>100.0</td>\n      <td>Denmark</td>\n    </tr>\n    <tr>\n      <td>1</td>\n      <td>Aarhus</td>\n      <td>56.1572</td>\n      <td>10.2107</td>\n      <td>237551.0</td>\n      <td>DNK</td>\n      <td>False</td>\n      <td>NaN</td>\n      <td>NaN</td>\n      <td>NaN</td>\n      <td>NaN</td>\n      <td>...</td>\n      <td>558.335628</td>\n      <td>368.612902</td>\n      <td>20.040562</td>\n      <td>1.300000</td>\n      <td>1046.705025</td>\n      <td>100.0</td>\n      <td>1046.705025</td>\n      <td>129.285516</td>\n      <td>100.0</td>\n      <td>Denmark</td>\n    </tr>\n    <tr>\n      <td>2</td>\n      <td>Copenhagen</td>\n      <td>55.6786</td>\n      <td>12.5635</td>\n      <td>1085000.0</td>\n      <td>DNK</td>\n      <td>False</td>\n      <td>NaN</td>\n      <td>2.0</td>\n      <td>NaN</td>\n      <td>2.0</td>\n      <td>...</td>\n      <td>558.335628</td>\n      <td>368.612902</td>\n      <td>20.040562</td>\n      <td>1.300000</td>\n      <td>1046.705025</td>\n      <td>100.0</td>\n      <td>1046.705025</td>\n      <td>129.285516</td>\n      <td>100.0</td>\n      <td>Denmark</td>\n    </tr>\n    <tr>\n      <td>3</td>\n      <td>Esbjerg</td>\n      <td>55.4670</td>\n      <td>8.4500</td>\n      <td>72205.0</td>\n      <td>DNK</td>\n      <td>False</td>\n      <td>NaN</td>\n      <td>NaN</td>\n      <td>NaN</td>\n      <td>NaN</td>\n      <td>...</td>\n      <td>558.335628</td>\n      <td>368.612902</td>\n      <td>20.040562</td>\n      <td>1.300000</td>\n      <td>1046.705025</td>\n      <td>100.0</td>\n      <td>1046.705025</td>\n      <td>129.285516</td>\n      <td>100.0</td>\n      <td>Denmark</td>\n    </tr>\n    <tr>\n      <td>4</td>\n      <td>Frederikshavn</td>\n      <td>57.4337</td>\n      <td>10.5333</td>\n      <td>24103.0</td>\n      <td>DNK</td>\n      <td>False</td>\n      <td>NaN</td>\n      <td>2.0</td>\n      <td>NaN</td>\n      <td>NaN</td>\n      <td>...</td>\n      <td>558.335628</td>\n      <td>368.612902</td>\n      <td>20.040562</td>\n      <td>1.300000</td>\n      <td>1046.705025</td>\n      <td>100.0</td>\n      <td>1046.705025</td>\n      <td>129.285516</td>\n      <td>100.0</td>\n      <td>Denmark</td>\n    </tr>\n    <tr>\n      <td>...</td>\n      <td>...</td>\n      <td>...</td>\n      <td>...</td>\n      <td>...</td>\n      <td>...</td>\n      <td>...</td>\n      <td>...</td>\n      <td>...</td>\n      <td>...</td>\n      <td>...</td>\n      <td>...</td>\n      <td>...</td>\n      <td>...</td>\n      <td>...</td>\n      <td>...</td>\n      <td>...</td>\n      <td>...</td>\n      <td>...</td>\n      <td>...</td>\n      <td>...</td>\n      <td>...</td>\n    </tr>\n    <tr>\n      <td>1206</td>\n      <td>Teaoraereke</td>\n      <td>1.3333</td>\n      <td>173.0000</td>\n      <td>5105.0</td>\n      <td>KIR</td>\n      <td>False</td>\n      <td>NaN</td>\n      <td>NaN</td>\n      <td>NaN</td>\n      <td>NaN</td>\n      <td>...</td>\n      <td>110.288104</td>\n      <td>80.302831</td>\n      <td>68.505925</td>\n      <td>2.532741</td>\n      <td>-1779.609434</td>\n      <td>66.9</td>\n      <td>0.000000</td>\n      <td>414.127038</td>\n      <td>87.3</td>\n      <td>Kiribati</td>\n    </tr>\n    <tr>\n      <td>1207</td>\n      <td>Trindade</td>\n      <td>0.3000</td>\n      <td>6.6667</td>\n      <td>6636.0</td>\n      <td>STP</td>\n      <td>False</td>\n      <td>NaN</td>\n      <td>NaN</td>\n      <td>NaN</td>\n      <td>NaN</td>\n      <td>...</td>\n      <td>17.162254</td>\n      <td>7.489641</td>\n      <td>1.876147</td>\n      <td>2.502891</td>\n      <td>10526.874919</td>\n      <td>97.1</td>\n      <td>10526.874919</td>\n      <td>197.499626</td>\n      <td>98.9</td>\n      <td>Sao Tome and Principe</td>\n    </tr>\n    <tr>\n      <td>1208</td>\n      <td>Victoria</td>\n      <td>-4.6236</td>\n      <td>55.4544</td>\n      <td>26450.0</td>\n      <td>SYC</td>\n      <td>False</td>\n      <td>NaN</td>\n      <td>NaN</td>\n      <td>NaN</td>\n      <td>NaN</td>\n      <td>...</td>\n      <td>120.471023</td>\n      <td>89.323035</td>\n      <td>69.243227</td>\n      <td>1.601611</td>\n      <td>-2157.596566</td>\n      <td>95.7</td>\n      <td>0.000000</td>\n      <td>142.089651</td>\n      <td>95.7</td>\n      <td>Seychelles</td>\n    </tr>\n    <tr>\n      <td>1209</td>\n      <td>Warsaw</td>\n      <td>52.2167</td>\n      <td>21.0333</td>\n      <td>1790658.0</td>\n      <td>POL</td>\n      <td>True</td>\n      <td>0.0</td>\n      <td>0.0</td>\n      <td>2.0</td>\n      <td>0.0</td>\n      <td>...</td>\n      <td>153.691550</td>\n      <td>43.570222</td>\n      <td>34.890966</td>\n      <td>0.600000</td>\n      <td>1412.266377</td>\n      <td>98.3</td>\n      <td>1594.069324</td>\n      <td>265.616741</td>\n      <td>99.3</td>\n      <td>Poland</td>\n    </tr>\n    <tr>\n      <td>1210</td>\n      <td>Abasan Al-Kabira</td>\n      <td>31.3231</td>\n      <td>34.3440</td>\n      <td>32000.0</td>\n      <td>PSE</td>\n      <td>False</td>\n      <td>NaN</td>\n      <td>2.0</td>\n      <td>2.0</td>\n      <td>2.0</td>\n      <td>...</td>\n      <td>51.887163</td>\n      <td>34.748970</td>\n      <td>41.078306</td>\n      <td>3.100000</td>\n      <td>171.047224</td>\n      <td>58.4</td>\n      <td>176.313456</td>\n      <td>79.035614</td>\n      <td>50.7</td>\n      <td>Palestine</td>\n    </tr>\n  </tbody>\n</table>\n<p>1211 rows × 157 columns</p>\n</div>"
     },
     "metadata": {}
    }
   ],
   "source": [
    "display(mainDf)\n",
    "#print(mainDf.info)"
   ]
  },
  {
   "cell_type": "code",
   "execution_count": 281,
   "metadata": {},
   "outputs": [],
   "source": [
    "#mainDf.columns.values"
   ]
  },
  {
   "cell_type": "code",
   "execution_count": 228,
   "metadata": {},
   "outputs": [
    {
     "output_type": "stream",
     "name": "stdout",
     "text": [
      "['risk0', 'risk1', 'risk2', 'risk3', 'risk4', 'risk5', 'risk6']\n[6, 7, 8, 9, 10, 11, 12, 13]\n"
     ]
    }
   ],
   "source": [
    "a = mainDf.columns.values.tolist()\n",
    "#print(a)\n",
    "risks = a[6:13]\n",
    "risks_index = [i for i in range(6,14)]\n",
    "print(risks)\n",
    "print(risks_index)"
   ]
  },
  {
   "cell_type": "code",
   "execution_count": 259,
   "metadata": {
    "tags": []
   },
   "outputs": [
    {
     "output_type": "stream",
     "name": "stdout",
     "text": [
      "7\nOnly 87 rows are available for risk 0\nOnly 148 rows are available for risk 1\nOnly 262 rows are available for risk 2\nOnly 184 rows are available for risk 3\nOnly 98 rows are available for risk 4\nOnly 65 rows are available for risk 5\nOnly 59 rows are available for risk 6\n"
     ]
    }
   ],
   "source": [
    "mylist = getRowsForRisks(mainDf, risks)\n",
    "print(len(mylist))\n",
    "for i in range(len(mylist)):\n",
    "    print(\"Only\",mylist[i].shape[0],\"rows are available for risk\",i)"
   ]
  },
  {
   "cell_type": "code",
   "execution_count": 209,
   "metadata": {},
   "outputs": [],
   "source": [
    "#display(mylist[0])"
   ]
  },
  {
   "cell_type": "code",
   "execution_count": 230,
   "metadata": {},
   "outputs": [
    {
     "output_type": "stream",
     "name": "stdout",
     "text": [
      "For the risk0\nPicked variable number: 21\n                                                 Specs     Score\n57   Gross domestic product (GDP), total (2017 PPP ...  4.032056\n41             Population ages 65 and older (millions)  3.234697\n52   Working poor at PPP$3.20 a day (% of total emp...  2.961307\n27                         Inequality in education (%)  2.900850\n4    Population with at least some secondary educat...  2.875645\n3    Population with at least some secondary educat...  2.794997\n17   Foreign direct investment, net inflows (% of GDP)  2.734514\n5    Population with at least some secondary educat...  2.687594\n8       Share of seats in parliament (% held by women)  2.518464\n43                      Exports and imports (% of GDP)  2.435197\n97     Mortality rate, under-5 (per 1,000 live births)  2.434818\n54      Youth unemployment rate (female to male ratio)  2.378745\n6              Mean years of schooling, female (years)  2.320540\n29                     Mean years of schooling (years)  2.288210\n140                         Seasonal variability (WRI)  2.281711\n25                 Inequality-adjusted education index  2.278543\n20   Infants lacking immunization, DTP (% of one-ye...  2.241470\n7                Mean years of schooling, male (years)  2.202431\n113                 Population ages 15-64 (% of total)  2.131375\n129  Industrial water withdrawal as % of total wate...  2.076123\n55   Share of employment in nonagriculture, female ...  2.029959\nFor the risk1\nPicked variable number: 21\n                                                 Specs     Score\n139                            SDG 6.4.2. Water Stress  2.384240\n131  MDG 7.5. Freshwater withdrawal as % of total r...  2.284233\n15          Sex ratio at birth (male to female births)  2.013427\n124  Agricultural water withdrawal as % of total re...  1.905545\n113                 Population ages 15-64 (% of total)  1.880945\n73   Theoretical duration of primary education (years)  1.684554\n83      Gross enrolment ratio, primary, both sexes (%)  1.541050\n86            Gross enrolment ratio, primary, male (%)  1.532738\n127                                   Dependency ratio  1.425988\n57   Gross domestic product (GDP), total (2017 PPP ...  1.424238\n8       Share of seats in parliament (% held by women)  1.382509\n84          Gross enrolment ratio, primary, female (%)  1.359256\n17   Foreign direct investment, net inflows (% of GDP)  1.339769\n79    Gross enrolment ratio, lower secondary, male (%)  1.304760\n120                  Primary completion rate, male (%)  1.281982\n108  Percentage of students in pre-primary educatio...  1.274030\n71   Official entrance age to lower secondary educa...  1.269978\n77   Gross enrolment ratio, lower secondary, both s...  1.191542\n105  Percentage of repeaters in primary education, ...  1.133958\n56                  Gross capital formation (% of GDP)  1.117967\n82        Gross enrolment ratio, pre-primary, male (%)  1.097822\nFor the risk2\nPicked variable number: 21\n                                                 Specs     Score\n15          Sex ratio at birth (male to female births)  9.603556\n42                   Population under age 5 (millions)  8.946279\n12                                Urban population (%)  6.994506\n1                                            longitude  5.041633\n51      Employment in services (% of total employment)  4.992443\n43                      Exports and imports (% of GDP)  4.888268\n85   Gross enrolment ratio, primary, gender parity ...  4.549239\n2                                           population  4.512192\n18                    Population ages 15?64 (millions)  4.295458\n11                         Total population (millions)  4.247240\n47    Youth not in school or employment (% ages 15-24)  4.063776\n124  Agricultural water withdrawal as % of total re...  4.020394\n55   Share of employment in nonagriculture, female ...  3.736031\n33                  Unemployment, youth (% ages 15?24)  3.716163\n140                         Seasonal variability (WRI)  3.520999\n143         Total renewable water resources per capita  3.466147\n46                                            HDI rank  3.446833\n117  Prevalence of HIV, total (% of population ages...  3.433586\n125  Agricultural water withdrawal as % of total wa...  3.375907\n108  Percentage of students in pre-primary educatio...  3.279478\n141  Total internal renewable water resources per c...  3.275523\nFor the risk3\nPicked variable number: 21\n                                                 Specs     Score\n20   Infants lacking immunization, DTP (% of one-ye...  6.317368\n139                            SDG 6.4.2. Water Stress  5.932886\n61   Estimated gross national income per capita, fe...  5.745365\n103  Percentage of male students enrolled in primar...  5.560096\n58                         GDP per capita (2017 PPP $)  5.517526\n86            Gross enrolment ratio, primary, male (%)  5.476403\n59   Gross national income (GNI) per capita (consta...  5.476136\n17   Foreign direct investment, net inflows (% of GDP)  5.408560\n107  Percentage of students enrolled in primary edu...  5.297553\n62   Estimated gross national income per capita, ma...  5.261685\n65                    Inequality-adjusted income index  5.161004\n47    Youth not in school or employment (% ages 15-24)  5.074771\n66           Overall loss in HDI due to inequality (%)  5.014906\n68                     Coefficient of human inequality  4.964745\n102  Percentage of female students enrolled in prim...  4.867687\n7                Mean years of schooling, male (years)  4.769835\n83      Gross enrolment ratio, primary, both sexes (%)  4.684686\n25                 Inequality-adjusted education index  4.660731\n69                      Inequality-adjusted HDI (IHDI)  4.598973\n131  MDG 7.5. Freshwater withdrawal as % of total r...  4.588831\n137           SDG 6.4.1. Services Water Use Efficiency  4.540159\nFor the risk4\nPicked variable number: 21\n                                                 Specs     Score\n2                                           population  4.238141\n17   Foreign direct investment, net inflows (% of GDP)  4.047825\n72   Official entrance age to primary education (ye...  2.799918\n139                            SDG 6.4.2. Water Stress  2.659589\n124  Agricultural water withdrawal as % of total re...  2.407488\n55   Share of employment in nonagriculture, female ...  2.382328\n131  MDG 7.5. Freshwater withdrawal as % of total r...  2.317424\n71   Official entrance age to lower secondary educa...  2.089519\n106  Percentage of repeaters in primary education, ...  2.084780\n130                      Interannual variability (WRI)  2.037742\n104  Percentage of repeaters in primary education, ...  2.017553\n105  Percentage of repeaters in primary education, ...  1.903794\n75   Theoretical duration of upper secondary educat...  1.899938\n96        Labor force, female (% of total labor force)  1.803010\n73   Theoretical duration of primary education (years)  1.741427\n125  Agricultural water withdrawal as % of total wa...  1.535765\n118            Primary completion rate, both sexes (%)  1.510997\n120                  Primary completion rate, male (%)  1.508865\n119                Primary completion rate, female (%)  1.466181\n53      Total unemployment rate (female to male ratio)  1.462469\n143         Total renewable water resources per capita  1.425699\nFor the risk5\nPicked variable number: 21\n                                                 Specs     Score\n118            Primary completion rate, both sexes (%)  3.563256\n120                  Primary completion rate, male (%)  3.544382\n96        Labor force, female (% of total labor force)  3.532329\n119                Primary completion rate, female (%)  3.422088\n93   Gross intake ratio to Grade 1 of primary educa...  3.358630\n139                            SDG 6.4.2. Water Stress  3.299769\n105  Percentage of repeaters in primary education, ...  3.184275\n104  Percentage of repeaters in primary education, ...  3.037696\n126                            Dam capacity per capita  2.995629\n106  Percentage of repeaters in primary education, ...  2.827590\n138                    SDG 6.4.1. Water Use Efficiency  2.825583\n92   Gross intake ratio to Grade 1 of primary educa...  2.759364\n125  Agricultural water withdrawal as % of total wa...  2.551538\n72   Official entrance age to primary education (ye...  2.523001\n124  Agricultural water withdrawal as % of total re...  2.451325\n131  MDG 7.5. Freshwater withdrawal as % of total r...  2.404436\n94   Gross intake ratio to Grade 1 of primary educa...  2.254044\n75   Theoretical duration of upper secondary educat...  2.217189\n13   Labour force participation rate (% ages 15 and...  2.083317\n1                                            longitude  2.080374\n56                  Gross capital formation (% of GDP)  2.053453\nFor the risk6\nPicked variable number: 21\n                                                 Specs     Score\n126                            Dam capacity per capita  7.859680\n141  Total internal renewable water resources per c...  3.812833\n143         Total renewable water resources per capita  3.380294\n97     Mortality rate, under-5 (per 1,000 live births)  2.240188\n129  Industrial water withdrawal as % of total wate...  2.220216\n17   Foreign direct investment, net inflows (% of GDP)  2.108698\n116                      Population, male (% of total)  1.971691\n115                    Population, female (% of total)  1.971691\n14   Labour force participation rate (% ages 15 and...  1.802461\n127                                   Dependency ratio  1.717670\n36              Life expectancy at birth, male (years)  1.694206\n93   Gross intake ratio to Grade 1 of primary educa...  1.631741\n35            Life expectancy at birth, female (years)  1.621792\n23                    Life expectancy at birth (years)  1.616291\n30                               Life expectancy index  1.604256\n139                            SDG 6.4.2. Water Stress  1.574999\n20   Infants lacking immunization, DTP (% of one-ye...  1.567967\n108  Percentage of students in pre-primary educatio...  1.496970\n125  Agricultural water withdrawal as % of total wa...  1.470392\n28                   Inequality in life expectancy (%)  1.447237\n113                 Population ages 15-64 (% of total)  1.434985\n"
     ]
    }
   ],
   "source": [
    "for i in range(len(risks)):\n",
    "    print(\"For the\", risks[i])\n",
    "    getImportantFeatures(mylist[i], risks[i], risks)"
   ]
  },
  {
   "cell_type": "code",
   "execution_count": null,
   "metadata": {},
   "outputs": [],
   "source": [
    "# Density features\n",
    "# Try to get other algorithms"
   ]
  },
  {
   "source": [
    "# PCA Part - using standard scaler"
   ],
   "cell_type": "markdown",
   "metadata": {}
  },
  {
   "cell_type": "code",
   "execution_count": 236,
   "metadata": {},
   "outputs": [
    {
     "output_type": "stream",
     "name": "stdout",
     "text": [
      "[[ 5.70337000e+01  9.91660000e+00  1.22219000e+05 ...  1.04670502e+03\n   1.29285516e+02  1.00000000e+02]\n [ 5.61572000e+01  1.02107000e+01  2.37551000e+05 ...  1.04670502e+03\n   1.29285516e+02  1.00000000e+02]\n [ 5.56786000e+01  1.25635000e+01  1.08500000e+06 ...  1.04670502e+03\n   1.29285516e+02  1.00000000e+02]\n ...\n [-4.62360000e+00  5.54544000e+01  2.64500000e+04 ...  0.00000000e+00\n   1.42089651e+02  9.57000000e+01]\n [ 5.22167000e+01  2.10333000e+01  1.79065800e+06 ...  1.59406932e+03\n   2.65616741e+02  9.93000000e+01]\n [ 3.13231000e+01  3.43440000e+01  3.20000000e+04 ...  1.76313456e+02\n   7.90356138e+01  5.07000000e+01]]\n(1211, 146)\n"
     ]
    }
   ],
   "source": [
    "pca_df = preprocess(mainDf, risks)\n",
    "\n",
    "val = pca_df.loc[:, pca_df.columns].values\n",
    "print(val)\n",
    "\n",
    "val = StandardScaler().fit_transform(val)\n",
    "print(val.shape)"
   ]
  },
  {
   "cell_type": "code",
   "execution_count": 237,
   "metadata": {},
   "outputs": [
    {
     "output_type": "execute_result",
     "data": {
      "text/plain": [
       "(-1.5753580332000003e-17, 0.9999999999999999)"
      ]
     },
     "metadata": {},
     "execution_count": 237
    }
   ],
   "source": [
    "np.mean(val), np.std(val)"
   ]
  },
  {
   "cell_type": "code",
   "execution_count": 244,
   "metadata": {},
   "outputs": [
    {
     "output_type": "execute_result",
     "data": {
      "text/plain": [
       "   latitude  longitude  population  \\\n",
       "0  1.467421   0.151965   -0.311815   \n",
       "1  1.433283   0.156056   -0.275791   \n",
       "2  1.414643   0.188786   -0.011093   \n",
       "3  1.406401   0.131563   -0.327436   \n",
       "4  1.483000   0.160544   -0.342461   \n",
       "\n",
       "   Population with at least some secondary education (% ages 25 and older)  \\\n",
       "0                                           0.874158                         \n",
       "1                                           0.874158                         \n",
       "2                                           0.874158                         \n",
       "3                                           0.874158                         \n",
       "4                                           0.874158                         \n",
       "\n",
       "   Population with at least some secondary education, female (% ages 25 and older)  \\\n",
       "0                                           0.892489                                 \n",
       "1                                           0.892489                                 \n",
       "2                                           0.892489                                 \n",
       "3                                           0.892489                                 \n",
       "4                                           0.892489                                 \n",
       "\n",
       "   Population with at least some secondary education, male (% ages 25 and older)  \\\n",
       "0                                           0.843159                               \n",
       "1                                           0.843159                               \n",
       "2                                           0.843159                               \n",
       "3                                           0.843159                               \n",
       "4                                           0.843159                               \n",
       "\n",
       "   Mean years of schooling, female (years)  \\\n",
       "0                                 1.028015   \n",
       "1                                 1.028015   \n",
       "2                                 1.028015   \n",
       "3                                 1.028015   \n",
       "4                                 1.028015   \n",
       "\n",
       "   Mean years of schooling, male (years)  \\\n",
       "0                                0.90614   \n",
       "1                                0.90614   \n",
       "2                                0.90614   \n",
       "3                                0.90614   \n",
       "4                                0.90614   \n",
       "\n",
       "   Share of seats in parliament (% held by women)  \\\n",
       "0                                        1.265226   \n",
       "1                                        1.265226   \n",
       "2                                        1.265226   \n",
       "3                                        1.265226   \n",
       "4                                        1.265226   \n",
       "\n",
       "   Adolescent birth rate (births per 1,000 women ages 15-19)  ...  \\\n",
       "0                                           -1.06401          ...   \n",
       "1                                           -1.06401          ...   \n",
       "2                                           -1.06401          ...   \n",
       "3                                           -1.06401          ...   \n",
       "4                                           -1.06401          ...   \n",
       "\n",
       "   SDG 6.4.1. Irrigated Agriculture Water Use Efficiency  \\\n",
       "0                                           0.197712       \n",
       "1                                           0.197712       \n",
       "2                                           0.197712       \n",
       "3                                           0.197712       \n",
       "4                                           0.197712       \n",
       "\n",
       "   SDG 6.4.1. Services Water Use Efficiency  SDG 6.4.1. Water Use Efficiency  \\\n",
       "0                                  2.825792                         2.028162   \n",
       "1                                  2.825792                         2.028162   \n",
       "2                                  2.825792                         2.028162   \n",
       "3                                  2.825792                         2.028162   \n",
       "4                                  2.825792                         2.028162   \n",
       "\n",
       "   SDG 6.4.2. Water Stress  Seasonal variability (WRI)  \\\n",
       "0                -0.104547                   -1.089573   \n",
       "1                -0.104547                   -1.089573   \n",
       "2                -0.104547                   -1.089573   \n",
       "3                -0.104547                   -1.089573   \n",
       "4                -0.104547                   -1.089573   \n",
       "\n",
       "   Total internal renewable water resources per capita  \\\n",
       "0                                          -0.400115     \n",
       "1                                          -0.400115     \n",
       "2                                          -0.400115     \n",
       "3                                          -0.400115     \n",
       "4                                          -0.400115     \n",
       "\n",
       "   Total population with access to safe drinking-water (JMP)  \\\n",
       "0                                           0.675537           \n",
       "1                                           0.675537           \n",
       "2                                           0.675537           \n",
       "3                                           0.675537           \n",
       "4                                           0.675537           \n",
       "\n",
       "   Total renewable water resources per capita  \\\n",
       "0                                   -0.453103   \n",
       "1                                   -0.453103   \n",
       "2                                   -0.453103   \n",
       "3                                   -0.453103   \n",
       "4                                   -0.453103   \n",
       "\n",
       "   Total water withdrawal per capita  \\\n",
       "0                          -0.860845   \n",
       "1                          -0.860845   \n",
       "2                          -0.860845   \n",
       "3                          -0.860845   \n",
       "4                          -0.860845   \n",
       "\n",
       "   Urban population with access to safe drinking-water (JMP)  \n",
       "0                                           0.575867          \n",
       "1                                           0.575867          \n",
       "2                                           0.575867          \n",
       "3                                           0.575867          \n",
       "4                                           0.575867          \n",
       "\n",
       "[5 rows x 146 columns]"
      ],
      "text/html": "<div>\n<style scoped>\n    .dataframe tbody tr th:only-of-type {\n        vertical-align: middle;\n    }\n\n    .dataframe tbody tr th {\n        vertical-align: top;\n    }\n\n    .dataframe thead th {\n        text-align: right;\n    }\n</style>\n<table border=\"1\" class=\"dataframe\">\n  <thead>\n    <tr style=\"text-align: right;\">\n      <th></th>\n      <th>latitude</th>\n      <th>longitude</th>\n      <th>population</th>\n      <th>Population with at least some secondary education (% ages 25 and older)</th>\n      <th>Population with at least some secondary education, female (% ages 25 and older)</th>\n      <th>Population with at least some secondary education, male (% ages 25 and older)</th>\n      <th>Mean years of schooling, female (years)</th>\n      <th>Mean years of schooling, male (years)</th>\n      <th>Share of seats in parliament (% held by women)</th>\n      <th>Adolescent birth rate (births per 1,000 women ages 15-19)</th>\n      <th>...</th>\n      <th>SDG 6.4.1. Irrigated Agriculture Water Use Efficiency</th>\n      <th>SDG 6.4.1. Services Water Use Efficiency</th>\n      <th>SDG 6.4.1. Water Use Efficiency</th>\n      <th>SDG 6.4.2. Water Stress</th>\n      <th>Seasonal variability (WRI)</th>\n      <th>Total internal renewable water resources per capita</th>\n      <th>Total population with access to safe drinking-water (JMP)</th>\n      <th>Total renewable water resources per capita</th>\n      <th>Total water withdrawal per capita</th>\n      <th>Urban population with access to safe drinking-water (JMP)</th>\n    </tr>\n  </thead>\n  <tbody>\n    <tr>\n      <td>0</td>\n      <td>1.467421</td>\n      <td>0.151965</td>\n      <td>-0.311815</td>\n      <td>0.874158</td>\n      <td>0.892489</td>\n      <td>0.843159</td>\n      <td>1.028015</td>\n      <td>0.90614</td>\n      <td>1.265226</td>\n      <td>-1.06401</td>\n      <td>...</td>\n      <td>0.197712</td>\n      <td>2.825792</td>\n      <td>2.028162</td>\n      <td>-0.104547</td>\n      <td>-1.089573</td>\n      <td>-0.400115</td>\n      <td>0.675537</td>\n      <td>-0.453103</td>\n      <td>-0.860845</td>\n      <td>0.575867</td>\n    </tr>\n    <tr>\n      <td>1</td>\n      <td>1.433283</td>\n      <td>0.156056</td>\n      <td>-0.275791</td>\n      <td>0.874158</td>\n      <td>0.892489</td>\n      <td>0.843159</td>\n      <td>1.028015</td>\n      <td>0.90614</td>\n      <td>1.265226</td>\n      <td>-1.06401</td>\n      <td>...</td>\n      <td>0.197712</td>\n      <td>2.825792</td>\n      <td>2.028162</td>\n      <td>-0.104547</td>\n      <td>-1.089573</td>\n      <td>-0.400115</td>\n      <td>0.675537</td>\n      <td>-0.453103</td>\n      <td>-0.860845</td>\n      <td>0.575867</td>\n    </tr>\n    <tr>\n      <td>2</td>\n      <td>1.414643</td>\n      <td>0.188786</td>\n      <td>-0.011093</td>\n      <td>0.874158</td>\n      <td>0.892489</td>\n      <td>0.843159</td>\n      <td>1.028015</td>\n      <td>0.90614</td>\n      <td>1.265226</td>\n      <td>-1.06401</td>\n      <td>...</td>\n      <td>0.197712</td>\n      <td>2.825792</td>\n      <td>2.028162</td>\n      <td>-0.104547</td>\n      <td>-1.089573</td>\n      <td>-0.400115</td>\n      <td>0.675537</td>\n      <td>-0.453103</td>\n      <td>-0.860845</td>\n      <td>0.575867</td>\n    </tr>\n    <tr>\n      <td>3</td>\n      <td>1.406401</td>\n      <td>0.131563</td>\n      <td>-0.327436</td>\n      <td>0.874158</td>\n      <td>0.892489</td>\n      <td>0.843159</td>\n      <td>1.028015</td>\n      <td>0.90614</td>\n      <td>1.265226</td>\n      <td>-1.06401</td>\n      <td>...</td>\n      <td>0.197712</td>\n      <td>2.825792</td>\n      <td>2.028162</td>\n      <td>-0.104547</td>\n      <td>-1.089573</td>\n      <td>-0.400115</td>\n      <td>0.675537</td>\n      <td>-0.453103</td>\n      <td>-0.860845</td>\n      <td>0.575867</td>\n    </tr>\n    <tr>\n      <td>4</td>\n      <td>1.483000</td>\n      <td>0.160544</td>\n      <td>-0.342461</td>\n      <td>0.874158</td>\n      <td>0.892489</td>\n      <td>0.843159</td>\n      <td>1.028015</td>\n      <td>0.90614</td>\n      <td>1.265226</td>\n      <td>-1.06401</td>\n      <td>...</td>\n      <td>0.197712</td>\n      <td>2.825792</td>\n      <td>2.028162</td>\n      <td>-0.104547</td>\n      <td>-1.089573</td>\n      <td>-0.400115</td>\n      <td>0.675537</td>\n      <td>-0.453103</td>\n      <td>-0.860845</td>\n      <td>0.575867</td>\n    </tr>\n  </tbody>\n</table>\n<p>5 rows × 146 columns</p>\n</div>"
     },
     "metadata": {},
     "execution_count": 244
    }
   ],
   "source": [
    "feat_cols = pca_df.columns.values.tolist()\n",
    "\n",
    "normalized_val = pd.DataFrame(val, columns=feat_cols)\n",
    "normalized_val.head()"
   ]
  },
  {
   "cell_type": "code",
   "execution_count": 252,
   "metadata": {},
   "outputs": [
    {
     "output_type": "stream",
     "name": "stdout",
     "text": [
      "['PC1', 'PC2', 'PC3', 'PC4', 'PC5', 'PC6', 'PC7', 'PC8', 'PC9', 'PC10']\n['34.82', '6.52', '5.80', '4.47', '3.82', '3.72', '3.20', '2.74', '2.37', '2.04']\n"
     ]
    }
   ],
   "source": [
    "num_components = 10\n",
    "pca_final = PCA(n_components=num_components)\n",
    "pComponents_final = pca_final.fit_transform(val)\n",
    "component_col = ['PC'+str(i+1) for i in range(num_components)]\n",
    "print(component_col)\n",
    "\n",
    "percentage_list = [element * 100 for element in pca_final.explained_variance_ratio_]\n",
    "percentage_list = ['%.2f' % elem for elem in percentage_list]\n",
    "print(percentage_list)"
   ]
  },
  {
   "cell_type": "code",
   "execution_count": 253,
   "metadata": {},
   "outputs": [
    {
     "output_type": "stream",
     "name": "stdout",
     "text": [
      "(1211, 10)\n"
     ]
    },
    {
     "output_type": "execute_result",
     "data": {
      "text/plain": [
       "        PC1       PC2       PC3       PC4       PC5       PC6       PC7  \\\n",
       "0 -9.540110  0.019157  0.477666 -2.337302  3.658370 -0.632142 -0.183594   \n",
       "1 -9.537514  0.016874  0.479962 -2.332278  3.654878 -0.633276 -0.177372   \n",
       "2 -9.535176  0.016018  0.474026 -2.299660  3.626128 -0.656317 -0.178641   \n",
       "3 -9.536335  0.016155  0.484889 -2.337650  3.659678 -0.624048 -0.168553   \n",
       "4 -9.540960  0.019347  0.476505 -2.341621  3.662356 -0.632251 -0.187811   \n",
       "\n",
       "        PC8       PC9      PC10  \n",
       "0  3.254421 -1.015154 -1.577583  \n",
       "1  3.256280 -1.015655 -1.578514  \n",
       "2  3.264781 -1.028709 -1.579314  \n",
       "3  3.254929 -1.012147 -1.578845  \n",
       "4  3.253393 -1.013999 -1.577352  "
      ],
      "text/html": "<div>\n<style scoped>\n    .dataframe tbody tr th:only-of-type {\n        vertical-align: middle;\n    }\n\n    .dataframe tbody tr th {\n        vertical-align: top;\n    }\n\n    .dataframe thead th {\n        text-align: right;\n    }\n</style>\n<table border=\"1\" class=\"dataframe\">\n  <thead>\n    <tr style=\"text-align: right;\">\n      <th></th>\n      <th>PC1</th>\n      <th>PC2</th>\n      <th>PC3</th>\n      <th>PC4</th>\n      <th>PC5</th>\n      <th>PC6</th>\n      <th>PC7</th>\n      <th>PC8</th>\n      <th>PC9</th>\n      <th>PC10</th>\n    </tr>\n  </thead>\n  <tbody>\n    <tr>\n      <td>0</td>\n      <td>-9.540110</td>\n      <td>0.019157</td>\n      <td>0.477666</td>\n      <td>-2.337302</td>\n      <td>3.658370</td>\n      <td>-0.632142</td>\n      <td>-0.183594</td>\n      <td>3.254421</td>\n      <td>-1.015154</td>\n      <td>-1.577583</td>\n    </tr>\n    <tr>\n      <td>1</td>\n      <td>-9.537514</td>\n      <td>0.016874</td>\n      <td>0.479962</td>\n      <td>-2.332278</td>\n      <td>3.654878</td>\n      <td>-0.633276</td>\n      <td>-0.177372</td>\n      <td>3.256280</td>\n      <td>-1.015655</td>\n      <td>-1.578514</td>\n    </tr>\n    <tr>\n      <td>2</td>\n      <td>-9.535176</td>\n      <td>0.016018</td>\n      <td>0.474026</td>\n      <td>-2.299660</td>\n      <td>3.626128</td>\n      <td>-0.656317</td>\n      <td>-0.178641</td>\n      <td>3.264781</td>\n      <td>-1.028709</td>\n      <td>-1.579314</td>\n    </tr>\n    <tr>\n      <td>3</td>\n      <td>-9.536335</td>\n      <td>0.016155</td>\n      <td>0.484889</td>\n      <td>-2.337650</td>\n      <td>3.659678</td>\n      <td>-0.624048</td>\n      <td>-0.168553</td>\n      <td>3.254929</td>\n      <td>-1.012147</td>\n      <td>-1.578845</td>\n    </tr>\n    <tr>\n      <td>4</td>\n      <td>-9.540960</td>\n      <td>0.019347</td>\n      <td>0.476505</td>\n      <td>-2.341621</td>\n      <td>3.662356</td>\n      <td>-0.632251</td>\n      <td>-0.187811</td>\n      <td>3.253393</td>\n      <td>-1.013999</td>\n      <td>-1.577352</td>\n    </tr>\n  </tbody>\n</table>\n</div>"
     },
     "metadata": {},
     "execution_count": 253
    }
   ],
   "source": [
    "pc_final_df = pd.DataFrame(data = pComponents_final, columns = component_col)\n",
    "print(pc_final_df.shape)\n",
    "pc_final_df.head()"
   ]
  },
  {
   "cell_type": "code",
   "execution_count": 254,
   "metadata": {},
   "outputs": [
    {
     "output_type": "stream",
     "name": "stdout",
     "text": [
      "Explained variation percentage per principal component: ['34.82', '6.52', '5.80', '4.47', '3.82', '3.72', '3.20', '2.74', '2.37', '2.04']\nTotal percentage of the explained data by 10 components is: 69.51\nPercentage of the information that is lost for using 10 components is: 30.49\n"
     ]
    }
   ],
   "source": [
    "print('Explained variation percentage per principal component: {}'.format(percentage_list))\n",
    "total_explained_percentage = (sum(pca_final.explained_variance_ratio_)*100)\n",
    "print('Total percentage of the explained data by',pca_final.n_components,'components is: %.2f' %total_explained_percentage)\n",
    "print('Percentage of the information that is lost for using',pca_final.n_components,'components is: %.2f' %(100-total_explained_percentage))"
   ]
  },
  {
   "cell_type": "code",
   "execution_count": 255,
   "metadata": {},
   "outputs": [
    {
     "output_type": "stream",
     "name": "stdout",
     "text": [
      "(1211, 157)\n(1211, 167)\n"
     ]
    }
   ],
   "source": [
    "mainDf_v2 = mainDf.merge(pc_final_df, left_index=True, right_index=True)\n",
    "print(mainDf.shape)\n",
    "print(mainDf_v2.shape)"
   ]
  },
  {
   "source": [
    "## Doing the feature selection again after the addition of the Principal Components"
   ],
   "cell_type": "markdown",
   "metadata": {}
  },
  {
   "cell_type": "code",
   "execution_count": 256,
   "metadata": {},
   "outputs": [
    {
     "output_type": "stream",
     "name": "stdout",
     "text": [
      "7\nOnly 87 rows are available for risk 0\nOnly 148 rows are available for risk 1\nOnly 262 rows are available for risk 2\nOnly 184 rows are available for risk 3\nOnly 98 rows are available for risk 4\nOnly 65 rows are available for risk 5\nOnly 59 rows are available for risk 6\n"
     ]
    }
   ],
   "source": [
    "mylist2 = getRowsForRisks(mainDf_v2, risks)\n",
    "print(len(mylist2))\n",
    "for i in range(len(mylist2)):\n",
    "    print(\"Only\",mylist2[i].shape[0],\"rows are available for risk\",i)"
   ]
  },
  {
   "cell_type": "code",
   "execution_count": 261,
   "metadata": {},
   "outputs": [
    {
     "output_type": "stream",
     "name": "stdout",
     "text": [
      "-- For the risk0 --\n",
      "Picked variable number: 23\n",
      "                                                 Specs     Score\n",
      "57   Gross domestic product (GDP), total (2017 PPP ...  4.032056\n",
      "41             Population ages 65 and older (millions)  3.234697\n",
      "52   Working poor at PPP$3.20 a day (% of total emp...  2.961307\n",
      "27                         Inequality in education (%)  2.900850\n",
      "4    Population with at least some secondary educat...  2.875645\n",
      "3    Population with at least some secondary educat...  2.794997\n",
      "17   Foreign direct investment, net inflows (% of GDP)  2.734514\n",
      "5    Population with at least some secondary educat...  2.687594\n",
      "8       Share of seats in parliament (% held by women)  2.518464\n",
      "43                      Exports and imports (% of GDP)  2.435197\n",
      "97     Mortality rate, under-5 (per 1,000 live births)  2.434818\n",
      "54      Youth unemployment rate (female to male ratio)  2.378745\n",
      "155                                               PC10  2.372770\n",
      "6              Mean years of schooling, female (years)  2.320540\n",
      "29                     Mean years of schooling (years)  2.288210\n",
      "140                         Seasonal variability (WRI)  2.281711\n",
      "25                 Inequality-adjusted education index  2.278543\n",
      "20   Infants lacking immunization, DTP (% of one-ye...  2.241470\n",
      "7                Mean years of schooling, male (years)  2.202431\n",
      "147                                                PC2  2.132533\n",
      "113                 Population ages 15-64 (% of total)  2.131375\n",
      "129  Industrial water withdrawal as % of total wate...  2.076123\n",
      "55   Share of employment in nonagriculture, female ...  2.029959\n",
      "-- For the risk1 --\n",
      "Picked variable number: 23\n",
      "                                                 Specs     Score\n",
      "139                            SDG 6.4.2. Water Stress  2.384240\n",
      "131  MDG 7.5. Freshwater withdrawal as % of total r...  2.284233\n",
      "15          Sex ratio at birth (male to female births)  2.013427\n",
      "124  Agricultural water withdrawal as % of total re...  1.905545\n",
      "113                 Population ages 15-64 (% of total)  1.880945\n",
      "73   Theoretical duration of primary education (years)  1.684554\n",
      "83      Gross enrolment ratio, primary, both sexes (%)  1.541050\n",
      "86            Gross enrolment ratio, primary, male (%)  1.532738\n",
      "127                                   Dependency ratio  1.425988\n",
      "57   Gross domestic product (GDP), total (2017 PPP ...  1.424238\n",
      "8       Share of seats in parliament (% held by women)  1.382509\n",
      "84          Gross enrolment ratio, primary, female (%)  1.359256\n",
      "17   Foreign direct investment, net inflows (% of GDP)  1.339769\n",
      "79    Gross enrolment ratio, lower secondary, male (%)  1.304760\n",
      "120                  Primary completion rate, male (%)  1.281982\n",
      "108  Percentage of students in pre-primary educatio...  1.274030\n",
      "71   Official entrance age to lower secondary educa...  1.269978\n",
      "77   Gross enrolment ratio, lower secondary, both s...  1.191542\n",
      "148                                                PC3  1.136871\n",
      "105  Percentage of repeaters in primary education, ...  1.133958\n",
      "56                  Gross capital formation (% of GDP)  1.117967\n",
      "82        Gross enrolment ratio, pre-primary, male (%)  1.097822\n",
      "133                      National Rainfall Index (NRI)  1.095314\n",
      "-- For the risk2 --\n",
      "Picked variable number: 23\n",
      "                                                 Specs     Score\n",
      "15          Sex ratio at birth (male to female births)  9.603556\n",
      "42                   Population under age 5 (millions)  8.946279\n",
      "12                                Urban population (%)  6.994506\n",
      "150                                                PC5  5.227608\n",
      "1                                            longitude  5.041633\n",
      "51      Employment in services (% of total employment)  4.992443\n",
      "43                      Exports and imports (% of GDP)  4.888268\n",
      "85   Gross enrolment ratio, primary, gender parity ...  4.549239\n",
      "2                                           population  4.512192\n",
      "18                    Population ages 15?64 (millions)  4.295458\n",
      "11                         Total population (millions)  4.247240\n",
      "47    Youth not in school or employment (% ages 15-24)  4.063776\n",
      "124  Agricultural water withdrawal as % of total re...  4.020394\n",
      "55   Share of employment in nonagriculture, female ...  3.736031\n",
      "33                  Unemployment, youth (% ages 15?24)  3.716163\n",
      "140                         Seasonal variability (WRI)  3.520999\n",
      "143         Total renewable water resources per capita  3.466147\n",
      "46                                            HDI rank  3.446833\n",
      "117  Prevalence of HIV, total (% of population ages...  3.433586\n",
      "125  Agricultural water withdrawal as % of total wa...  3.375907\n",
      "108  Percentage of students in pre-primary educatio...  3.279478\n",
      "141  Total internal renewable water resources per c...  3.275523\n",
      "45             Unemployment, total (% of labour force)  3.244764\n",
      "-- For the risk3 --\n",
      "Picked variable number: 23\n",
      "                                                 Specs     Score\n",
      "20   Infants lacking immunization, DTP (% of one-ye...  6.317368\n",
      "139                            SDG 6.4.2. Water Stress  5.932886\n",
      "61   Estimated gross national income per capita, fe...  5.745365\n",
      "103  Percentage of male students enrolled in primar...  5.560096\n",
      "58                         GDP per capita (2017 PPP $)  5.517526\n",
      "86            Gross enrolment ratio, primary, male (%)  5.476403\n",
      "59   Gross national income (GNI) per capita (consta...  5.476136\n",
      "17   Foreign direct investment, net inflows (% of GDP)  5.408560\n",
      "107  Percentage of students enrolled in primary edu...  5.297553\n",
      "62   Estimated gross national income per capita, ma...  5.261685\n",
      "65                    Inequality-adjusted income index  5.161004\n",
      "47    Youth not in school or employment (% ages 15-24)  5.074771\n",
      "66           Overall loss in HDI due to inequality (%)  5.014906\n",
      "68                     Coefficient of human inequality  4.964745\n",
      "102  Percentage of female students enrolled in prim...  4.867687\n",
      "152                                                PC7  4.781305\n",
      "7                Mean years of schooling, male (years)  4.769835\n",
      "83      Gross enrolment ratio, primary, both sexes (%)  4.684686\n",
      "25                 Inequality-adjusted education index  4.660731\n",
      "69                      Inequality-adjusted HDI (IHDI)  4.598973\n",
      "131  MDG 7.5. Freshwater withdrawal as % of total r...  4.588831\n",
      "137           SDG 6.4.1. Services Water Use Efficiency  4.540159\n",
      "27                         Inequality in education (%)  4.413954\n",
      "-- For the risk4 --\n",
      "Picked variable number: 23\n",
      "                                                 Specs     Score\n",
      "2                                           population  4.238141\n",
      "17   Foreign direct investment, net inflows (% of GDP)  4.047825\n",
      "72   Official entrance age to primary education (ye...  2.799918\n",
      "139                            SDG 6.4.2. Water Stress  2.659589\n",
      "124  Agricultural water withdrawal as % of total re...  2.407488\n",
      "55   Share of employment in nonagriculture, female ...  2.382328\n",
      "131  MDG 7.5. Freshwater withdrawal as % of total r...  2.317424\n",
      "71   Official entrance age to lower secondary educa...  2.089519\n",
      "106  Percentage of repeaters in primary education, ...  2.084780\n",
      "147                                                PC2  2.069746\n",
      "130                      Interannual variability (WRI)  2.037742\n",
      "104  Percentage of repeaters in primary education, ...  2.017553\n",
      "105  Percentage of repeaters in primary education, ...  1.903794\n",
      "75   Theoretical duration of upper secondary educat...  1.899938\n",
      "96        Labor force, female (% of total labor force)  1.803010\n",
      "73   Theoretical duration of primary education (years)  1.741427\n",
      "148                                                PC3  1.668032\n",
      "153                                                PC8  1.632071\n",
      "125  Agricultural water withdrawal as % of total wa...  1.535765\n",
      "118            Primary completion rate, both sexes (%)  1.510997\n",
      "120                  Primary completion rate, male (%)  1.508865\n",
      "119                Primary completion rate, female (%)  1.466181\n",
      "53      Total unemployment rate (female to male ratio)  1.462469\n",
      "-- For the risk5 --\n",
      "Picked variable number: 23\n",
      "                                                 Specs     Score\n",
      "118            Primary completion rate, both sexes (%)  3.563256\n",
      "120                  Primary completion rate, male (%)  3.544382\n",
      "96        Labor force, female (% of total labor force)  3.532329\n",
      "119                Primary completion rate, female (%)  3.422088\n",
      "93   Gross intake ratio to Grade 1 of primary educa...  3.358630\n",
      "139                            SDG 6.4.2. Water Stress  3.299769\n",
      "105  Percentage of repeaters in primary education, ...  3.184275\n",
      "104  Percentage of repeaters in primary education, ...  3.037696\n",
      "126                            Dam capacity per capita  2.995629\n",
      "106  Percentage of repeaters in primary education, ...  2.827590\n",
      "138                    SDG 6.4.1. Water Use Efficiency  2.825583\n",
      "92   Gross intake ratio to Grade 1 of primary educa...  2.759364\n",
      "147                                                PC2  2.647648\n",
      "125  Agricultural water withdrawal as % of total wa...  2.551538\n",
      "72   Official entrance age to primary education (ye...  2.523001\n",
      "124  Agricultural water withdrawal as % of total re...  2.451325\n",
      "131  MDG 7.5. Freshwater withdrawal as % of total r...  2.404436\n",
      "94   Gross intake ratio to Grade 1 of primary educa...  2.254044\n",
      "75   Theoretical duration of upper secondary educat...  2.217189\n",
      "148                                                PC3  2.192510\n",
      "13   Labour force participation rate (% ages 15 and...  2.083317\n",
      "1                                            longitude  2.080374\n",
      "56                  Gross capital formation (% of GDP)  2.053453\n",
      "-- For the risk6 --\n",
      "Picked variable number: 23\n",
      "                                                 Specs     Score\n",
      "126                            Dam capacity per capita  7.859680\n",
      "141  Total internal renewable water resources per c...  3.812833\n",
      "143         Total renewable water resources per capita  3.380294\n",
      "97     Mortality rate, under-5 (per 1,000 live births)  2.240188\n",
      "129  Industrial water withdrawal as % of total wate...  2.220216\n",
      "17   Foreign direct investment, net inflows (% of GDP)  2.108698\n",
      "116                      Population, male (% of total)  1.971691\n",
      "115                    Population, female (% of total)  1.971691\n",
      "14   Labour force participation rate (% ages 15 and...  1.802461\n",
      "127                                   Dependency ratio  1.717670\n",
      "36              Life expectancy at birth, male (years)  1.694206\n",
      "93   Gross intake ratio to Grade 1 of primary educa...  1.631741\n",
      "35            Life expectancy at birth, female (years)  1.621792\n",
      "23                    Life expectancy at birth (years)  1.616291\n",
      "30                               Life expectancy index  1.604256\n",
      "139                            SDG 6.4.2. Water Stress  1.574999\n",
      "20   Infants lacking immunization, DTP (% of one-ye...  1.567967\n",
      "108  Percentage of students in pre-primary educatio...  1.496970\n",
      "125  Agricultural water withdrawal as % of total wa...  1.470392\n",
      "28                   Inequality in life expectancy (%)  1.447237\n",
      "113                 Population ages 15-64 (% of total)  1.434985\n",
      "140                         Seasonal variability (WRI)  1.397421\n",
      "145  Urban population with access to safe drinking-...  1.352566\n"
     ]
    }
   ],
   "source": [
    "for i in range(len(risks)):\n",
    "    print(\"-- For the\", risks[i],\"--\")\n",
    "    getImportantFeatures(mylist2[i], risks[i], risks)"
   ]
  },
  {
   "source": [
    "# PCA Part - using robust scaler"
   ],
   "cell_type": "markdown",
   "metadata": {}
  },
  {
   "cell_type": "code",
   "execution_count": 263,
   "metadata": {},
   "outputs": [
    {
     "output_type": "stream",
     "name": "stdout",
     "text": [
      "[[ 5.70337000e+01  9.91660000e+00  1.22219000e+05 ...  1.04670502e+03\n   1.29285516e+02  1.00000000e+02]\n [ 5.61572000e+01  1.02107000e+01  2.37551000e+05 ...  1.04670502e+03\n   1.29285516e+02  1.00000000e+02]\n [ 5.56786000e+01  1.25635000e+01  1.08500000e+06 ...  1.04670502e+03\n   1.29285516e+02  1.00000000e+02]\n ...\n [-4.62360000e+00  5.54544000e+01  2.64500000e+04 ...  0.00000000e+00\n   1.42089651e+02  9.57000000e+01]\n [ 5.22167000e+01  2.10333000e+01  1.79065800e+06 ...  1.59406932e+03\n   2.65616741e+02  9.93000000e+01]\n [ 3.13231000e+01  3.43440000e+01  3.20000000e+04 ...  1.76313456e+02\n   7.90356138e+01  5.07000000e+01]]\n(1211, 146)\n"
     ]
    }
   ],
   "source": [
    "pca_df = preprocess(mainDf, risks)\n",
    "\n",
    "val = pca_df.loc[:, pca_df.columns].values\n",
    "print(val)\n",
    "\n",
    "val = RobustScaler().fit_transform(val)\n",
    "print(val.shape)"
   ]
  },
  {
   "cell_type": "code",
   "execution_count": 264,
   "metadata": {},
   "outputs": [
    {
     "output_type": "execute_result",
     "data": {
      "text/plain": [
       "(0.14649351544290884, 2.799144105372385)"
      ]
     },
     "metadata": {},
     "execution_count": 264
    }
   ],
   "source": [
    "np.mean(val), np.std(val)"
   ]
  },
  {
   "cell_type": "code",
   "execution_count": 265,
   "metadata": {},
   "outputs": [
    {
     "output_type": "execute_result",
     "data": {
      "text/plain": [
       "   latitude  longitude  population  \\\n",
       "0  0.963685   0.013189   -0.071419   \n",
       "1  0.940453   0.015960    0.080529   \n",
       "2  0.927767   0.038127    1.197029   \n",
       "3  0.922158  -0.000628   -0.137312   \n",
       "4  0.974288   0.018999   -0.200686   \n",
       "\n",
       "   Population with at least some secondary education (% ages 25 and older)  \\\n",
       "0                                           0.435377                         \n",
       "1                                           0.435377                         \n",
       "2                                           0.435377                         \n",
       "3                                           0.435377                         \n",
       "4                                           0.435377                         \n",
       "\n",
       "   Population with at least some secondary education, female (% ages 25 and older)  \\\n",
       "0                                           0.359522                                 \n",
       "1                                           0.359522                                 \n",
       "2                                           0.359522                                 \n",
       "3                                           0.359522                                 \n",
       "4                                           0.359522                                 \n",
       "\n",
       "   Population with at least some secondary education, male (% ages 25 and older)  \\\n",
       "0                                           0.424529                               \n",
       "1                                           0.424529                               \n",
       "2                                           0.424529                               \n",
       "3                                           0.424529                               \n",
       "4                                           0.424529                               \n",
       "\n",
       "   Mean years of schooling, female (years)  \\\n",
       "0                                 0.546993   \n",
       "1                                 0.546993   \n",
       "2                                 0.546993   \n",
       "3                                 0.546993   \n",
       "4                                 0.546993   \n",
       "\n",
       "   Mean years of schooling, male (years)  \\\n",
       "0                               0.495611   \n",
       "1                               0.495611   \n",
       "2                               0.495611   \n",
       "3                               0.495611   \n",
       "4                               0.495611   \n",
       "\n",
       "   Share of seats in parliament (% held by women)  \\\n",
       "0                                        0.973721   \n",
       "1                                        0.973721   \n",
       "2                                        0.973721   \n",
       "3                                        0.973721   \n",
       "4                                        0.973721   \n",
       "\n",
       "   Adolescent birth rate (births per 1,000 women ages 15-19)  ...  \\\n",
       "0                                           -0.54967          ...   \n",
       "1                                           -0.54967          ...   \n",
       "2                                           -0.54967          ...   \n",
       "3                                           -0.54967          ...   \n",
       "4                                           -0.54967          ...   \n",
       "\n",
       "   SDG 6.4.1. Irrigated Agriculture Water Use Efficiency  \\\n",
       "0                                           4.632917       \n",
       "1                                           4.632917       \n",
       "2                                           4.632917       \n",
       "3                                           4.632917       \n",
       "4                                           4.632917       \n",
       "\n",
       "   SDG 6.4.1. Services Water Use Efficiency  SDG 6.4.1. Water Use Efficiency  \\\n",
       "0                                  2.537586                        10.047493   \n",
       "1                                  2.537586                        10.047493   \n",
       "2                                  2.537586                        10.047493   \n",
       "3                                  2.537586                        10.047493   \n",
       "4                                  2.537586                        10.047493   \n",
       "\n",
       "   SDG 6.4.2. Water Stress  Seasonal variability (WRI)  \\\n",
       "0                 0.233602                   -0.666667   \n",
       "1                 0.233602                   -0.666667   \n",
       "2                 0.233602                   -0.666667   \n",
       "3                 0.233602                   -0.666667   \n",
       "4                 0.233602                   -0.666667   \n",
       "\n",
       "   Total internal renewable water resources per capita  \\\n",
       "0                                          -0.290289     \n",
       "1                                          -0.290289     \n",
       "2                                          -0.290289     \n",
       "3                                          -0.290289     \n",
       "4                                          -0.290289     \n",
       "\n",
       "   Total population with access to safe drinking-water (JMP)  \\\n",
       "0                                           0.190083           \n",
       "1                                           0.190083           \n",
       "2                                           0.190083           \n",
       "3                                           0.190083           \n",
       "4                                           0.190083           \n",
       "\n",
       "   Total renewable water resources per capita  \\\n",
       "0                                   -0.373743   \n",
       "1                                   -0.373743   \n",
       "2                                   -0.373743   \n",
       "3                                   -0.373743   \n",
       "4                                   -0.373743   \n",
       "\n",
       "   Total water withdrawal per capita  \\\n",
       "0                          -0.384964   \n",
       "1                          -0.384964   \n",
       "2                          -0.384964   \n",
       "3                          -0.384964   \n",
       "4                          -0.384964   \n",
       "\n",
       "   Urban population with access to safe drinking-water (JMP)  \n",
       "0                                               0.14          \n",
       "1                                               0.14          \n",
       "2                                               0.14          \n",
       "3                                               0.14          \n",
       "4                                               0.14          \n",
       "\n",
       "[5 rows x 146 columns]"
      ],
      "text/html": "<div>\n<style scoped>\n    .dataframe tbody tr th:only-of-type {\n        vertical-align: middle;\n    }\n\n    .dataframe tbody tr th {\n        vertical-align: top;\n    }\n\n    .dataframe thead th {\n        text-align: right;\n    }\n</style>\n<table border=\"1\" class=\"dataframe\">\n  <thead>\n    <tr style=\"text-align: right;\">\n      <th></th>\n      <th>latitude</th>\n      <th>longitude</th>\n      <th>population</th>\n      <th>Population with at least some secondary education (% ages 25 and older)</th>\n      <th>Population with at least some secondary education, female (% ages 25 and older)</th>\n      <th>Population with at least some secondary education, male (% ages 25 and older)</th>\n      <th>Mean years of schooling, female (years)</th>\n      <th>Mean years of schooling, male (years)</th>\n      <th>Share of seats in parliament (% held by women)</th>\n      <th>Adolescent birth rate (births per 1,000 women ages 15-19)</th>\n      <th>...</th>\n      <th>SDG 6.4.1. Irrigated Agriculture Water Use Efficiency</th>\n      <th>SDG 6.4.1. Services Water Use Efficiency</th>\n      <th>SDG 6.4.1. Water Use Efficiency</th>\n      <th>SDG 6.4.2. Water Stress</th>\n      <th>Seasonal variability (WRI)</th>\n      <th>Total internal renewable water resources per capita</th>\n      <th>Total population with access to safe drinking-water (JMP)</th>\n      <th>Total renewable water resources per capita</th>\n      <th>Total water withdrawal per capita</th>\n      <th>Urban population with access to safe drinking-water (JMP)</th>\n    </tr>\n  </thead>\n  <tbody>\n    <tr>\n      <td>0</td>\n      <td>0.963685</td>\n      <td>0.013189</td>\n      <td>-0.071419</td>\n      <td>0.435377</td>\n      <td>0.359522</td>\n      <td>0.424529</td>\n      <td>0.546993</td>\n      <td>0.495611</td>\n      <td>0.973721</td>\n      <td>-0.54967</td>\n      <td>...</td>\n      <td>4.632917</td>\n      <td>2.537586</td>\n      <td>10.047493</td>\n      <td>0.233602</td>\n      <td>-0.666667</td>\n      <td>-0.290289</td>\n      <td>0.190083</td>\n      <td>-0.373743</td>\n      <td>-0.384964</td>\n      <td>0.14</td>\n    </tr>\n    <tr>\n      <td>1</td>\n      <td>0.940453</td>\n      <td>0.015960</td>\n      <td>0.080529</td>\n      <td>0.435377</td>\n      <td>0.359522</td>\n      <td>0.424529</td>\n      <td>0.546993</td>\n      <td>0.495611</td>\n      <td>0.973721</td>\n      <td>-0.54967</td>\n      <td>...</td>\n      <td>4.632917</td>\n      <td>2.537586</td>\n      <td>10.047493</td>\n      <td>0.233602</td>\n      <td>-0.666667</td>\n      <td>-0.290289</td>\n      <td>0.190083</td>\n      <td>-0.373743</td>\n      <td>-0.384964</td>\n      <td>0.14</td>\n    </tr>\n    <tr>\n      <td>2</td>\n      <td>0.927767</td>\n      <td>0.038127</td>\n      <td>1.197029</td>\n      <td>0.435377</td>\n      <td>0.359522</td>\n      <td>0.424529</td>\n      <td>0.546993</td>\n      <td>0.495611</td>\n      <td>0.973721</td>\n      <td>-0.54967</td>\n      <td>...</td>\n      <td>4.632917</td>\n      <td>2.537586</td>\n      <td>10.047493</td>\n      <td>0.233602</td>\n      <td>-0.666667</td>\n      <td>-0.290289</td>\n      <td>0.190083</td>\n      <td>-0.373743</td>\n      <td>-0.384964</td>\n      <td>0.14</td>\n    </tr>\n    <tr>\n      <td>3</td>\n      <td>0.922158</td>\n      <td>-0.000628</td>\n      <td>-0.137312</td>\n      <td>0.435377</td>\n      <td>0.359522</td>\n      <td>0.424529</td>\n      <td>0.546993</td>\n      <td>0.495611</td>\n      <td>0.973721</td>\n      <td>-0.54967</td>\n      <td>...</td>\n      <td>4.632917</td>\n      <td>2.537586</td>\n      <td>10.047493</td>\n      <td>0.233602</td>\n      <td>-0.666667</td>\n      <td>-0.290289</td>\n      <td>0.190083</td>\n      <td>-0.373743</td>\n      <td>-0.384964</td>\n      <td>0.14</td>\n    </tr>\n    <tr>\n      <td>4</td>\n      <td>0.974288</td>\n      <td>0.018999</td>\n      <td>-0.200686</td>\n      <td>0.435377</td>\n      <td>0.359522</td>\n      <td>0.424529</td>\n      <td>0.546993</td>\n      <td>0.495611</td>\n      <td>0.973721</td>\n      <td>-0.54967</td>\n      <td>...</td>\n      <td>4.632917</td>\n      <td>2.537586</td>\n      <td>10.047493</td>\n      <td>0.233602</td>\n      <td>-0.666667</td>\n      <td>-0.290289</td>\n      <td>0.190083</td>\n      <td>-0.373743</td>\n      <td>-0.384964</td>\n      <td>0.14</td>\n    </tr>\n  </tbody>\n</table>\n<p>5 rows × 146 columns</p>\n</div>"
     },
     "metadata": {},
     "execution_count": 265
    }
   ],
   "source": [
    "feat_cols = pca_df.columns.values.tolist()\n",
    "\n",
    "normalized_val = pd.DataFrame(val, columns=feat_cols)\n",
    "normalized_val.head()"
   ]
  },
  {
   "cell_type": "code",
   "execution_count": 266,
   "metadata": {},
   "outputs": [
    {
     "output_type": "stream",
     "name": "stdout",
     "text": [
      "['PC1', 'PC2', 'PC3', 'PC4', 'PC5', 'PC6', 'PC7', 'PC8', 'PC9', 'PC10']\n['34.06', '23.60', '14.98', '5.67', '3.73', '2.54', '1.68', '1.43', '1.28', '1.09']\n"
     ]
    }
   ],
   "source": [
    "num_components = 10\n",
    "pca_final = PCA(n_components=num_components)\n",
    "pComponents_final = pca_final.fit_transform(val)\n",
    "component_col = ['PC'+str(i+1) for i in range(num_components)]\n",
    "print(component_col)\n",
    "\n",
    "percentage_list = [element * 100 for element in pca_final.explained_variance_ratio_]\n",
    "percentage_list = ['%.2f' % elem for elem in percentage_list]\n",
    "print(percentage_list)"
   ]
  },
  {
   "cell_type": "code",
   "execution_count": 267,
   "metadata": {},
   "outputs": [
    {
     "output_type": "stream",
     "name": "stdout",
     "text": [
      "(1211, 10)\n"
     ]
    },
    {
     "output_type": "execute_result",
     "data": {
      "text/plain": [
       "        PC1        PC2       PC3        PC4       PC5       PC6       PC7  \\\n",
       "0  2.044488  19.692679  5.910619 -10.398243 -0.712492 -3.640289 -1.501856   \n",
       "1  2.045330  19.691086  5.909081 -10.405563 -0.709562 -3.565497 -1.416759   \n",
       "2  2.051763  19.679396  5.899206 -10.465570 -0.686543 -3.013283 -0.795530   \n",
       "3  2.044010  19.693377  5.910792 -10.393203 -0.714254 -3.673386 -1.538120   \n",
       "4  2.043780  19.694025  5.911864 -10.391542 -0.715067 -3.704210 -1.573543   \n",
       "\n",
       "        PC8       PC9      PC10  \n",
       "0  0.319966  2.110156 -0.742582  \n",
       "1  0.378697  2.122803 -0.715175  \n",
       "2  0.806163  2.223784 -0.514564  \n",
       "3  0.295580  2.101528 -0.754176  \n",
       "4  0.270412  2.099284 -0.765879  "
      ],
      "text/html": "<div>\n<style scoped>\n    .dataframe tbody tr th:only-of-type {\n        vertical-align: middle;\n    }\n\n    .dataframe tbody tr th {\n        vertical-align: top;\n    }\n\n    .dataframe thead th {\n        text-align: right;\n    }\n</style>\n<table border=\"1\" class=\"dataframe\">\n  <thead>\n    <tr style=\"text-align: right;\">\n      <th></th>\n      <th>PC1</th>\n      <th>PC2</th>\n      <th>PC3</th>\n      <th>PC4</th>\n      <th>PC5</th>\n      <th>PC6</th>\n      <th>PC7</th>\n      <th>PC8</th>\n      <th>PC9</th>\n      <th>PC10</th>\n    </tr>\n  </thead>\n  <tbody>\n    <tr>\n      <td>0</td>\n      <td>2.044488</td>\n      <td>19.692679</td>\n      <td>5.910619</td>\n      <td>-10.398243</td>\n      <td>-0.712492</td>\n      <td>-3.640289</td>\n      <td>-1.501856</td>\n      <td>0.319966</td>\n      <td>2.110156</td>\n      <td>-0.742582</td>\n    </tr>\n    <tr>\n      <td>1</td>\n      <td>2.045330</td>\n      <td>19.691086</td>\n      <td>5.909081</td>\n      <td>-10.405563</td>\n      <td>-0.709562</td>\n      <td>-3.565497</td>\n      <td>-1.416759</td>\n      <td>0.378697</td>\n      <td>2.122803</td>\n      <td>-0.715175</td>\n    </tr>\n    <tr>\n      <td>2</td>\n      <td>2.051763</td>\n      <td>19.679396</td>\n      <td>5.899206</td>\n      <td>-10.465570</td>\n      <td>-0.686543</td>\n      <td>-3.013283</td>\n      <td>-0.795530</td>\n      <td>0.806163</td>\n      <td>2.223784</td>\n      <td>-0.514564</td>\n    </tr>\n    <tr>\n      <td>3</td>\n      <td>2.044010</td>\n      <td>19.693377</td>\n      <td>5.910792</td>\n      <td>-10.393203</td>\n      <td>-0.714254</td>\n      <td>-3.673386</td>\n      <td>-1.538120</td>\n      <td>0.295580</td>\n      <td>2.101528</td>\n      <td>-0.754176</td>\n    </tr>\n    <tr>\n      <td>4</td>\n      <td>2.043780</td>\n      <td>19.694025</td>\n      <td>5.911864</td>\n      <td>-10.391542</td>\n      <td>-0.715067</td>\n      <td>-3.704210</td>\n      <td>-1.573543</td>\n      <td>0.270412</td>\n      <td>2.099284</td>\n      <td>-0.765879</td>\n    </tr>\n  </tbody>\n</table>\n</div>"
     },
     "metadata": {},
     "execution_count": 267
    }
   ],
   "source": [
    "pc_final_df = pd.DataFrame(data = pComponents_final, columns = component_col)\n",
    "print(pc_final_df.shape)\n",
    "pc_final_df.head()"
   ]
  },
  {
   "cell_type": "code",
   "execution_count": 268,
   "metadata": {},
   "outputs": [
    {
     "output_type": "stream",
     "name": "stdout",
     "text": [
      "Explained variation percentage per principal component: ['34.06', '23.60', '14.98', '5.67', '3.73', '2.54', '1.68', '1.43', '1.28', '1.09']\nTotal percentage of the explained data by 10 components is: 90.05\nPercentage of the information that is lost for using 10 components is: 9.95\n"
     ]
    }
   ],
   "source": [
    "print('Explained variation percentage per principal component: {}'.format(percentage_list))\n",
    "total_explained_percentage = (sum(pca_final.explained_variance_ratio_)*100)\n",
    "print('Total percentage of the explained data by',pca_final.n_components,'components is: %.2f' %total_explained_percentage)\n",
    "print('Percentage of the information that is lost for using',pca_final.n_components,'components is: %.2f' %(100-total_explained_percentage))"
   ]
  },
  {
   "cell_type": "code",
   "execution_count": 269,
   "metadata": {},
   "outputs": [
    {
     "output_type": "stream",
     "name": "stdout",
     "text": [
      "(1211, 157)\n(1211, 167)\n"
     ]
    }
   ],
   "source": [
    "mainDf_v3 = mainDf.merge(pc_final_df, left_index=True, right_index=True)\n",
    "print(mainDf.shape)\n",
    "print(mainDf_v3.shape)"
   ]
  },
  {
   "source": [
    "## Doing the feature selection again after the addition of the Principal Components"
   ],
   "cell_type": "markdown",
   "metadata": {}
  },
  {
   "cell_type": "code",
   "execution_count": 270,
   "metadata": {},
   "outputs": [
    {
     "output_type": "stream",
     "name": "stdout",
     "text": [
      "7\nOnly 87 rows are available for risk 0\nOnly 148 rows are available for risk 1\nOnly 262 rows are available for risk 2\nOnly 184 rows are available for risk 3\nOnly 98 rows are available for risk 4\nOnly 65 rows are available for risk 5\nOnly 59 rows are available for risk 6\n"
     ]
    }
   ],
   "source": [
    "mylist3 = getRowsForRisks(mainDf_v3, risks)\n",
    "print(len(mylist3))\n",
    "for i in range(len(mylist3)):\n",
    "    print(\"Only\",mylist3[i].shape[0],\"rows are available for risk\",i)"
   ]
  },
  {
   "cell_type": "code",
   "execution_count": 271,
   "metadata": {},
   "outputs": [
    {
     "output_type": "stream",
     "name": "stdout",
     "text": [
      "-- For the risk0 --\nPicked variable number: 23\n                                                 Specs     Score\n57   Gross domestic product (GDP), total (2017 PPP ...  4.032056\n41             Population ages 65 and older (millions)  3.234697\n52   Working poor at PPP$3.20 a day (% of total emp...  2.961307\n27                         Inequality in education (%)  2.900850\n4    Population with at least some secondary educat...  2.875645\n3    Population with at least some secondary educat...  2.794997\n17   Foreign direct investment, net inflows (% of GDP)  2.734514\n5    Population with at least some secondary educat...  2.687594\n152                                                PC7  2.591428\n8       Share of seats in parliament (% held by women)  2.518464\n43                      Exports and imports (% of GDP)  2.435197\n97     Mortality rate, under-5 (per 1,000 live births)  2.434818\n54      Youth unemployment rate (female to male ratio)  2.378745\n6              Mean years of schooling, female (years)  2.320540\n29                     Mean years of schooling (years)  2.288210\n140                         Seasonal variability (WRI)  2.281711\n25                 Inequality-adjusted education index  2.278543\n20   Infants lacking immunization, DTP (% of one-ye...  2.241470\n7                Mean years of schooling, male (years)  2.202431\n113                 Population ages 15-64 (% of total)  2.131375\n129  Industrial water withdrawal as % of total wate...  2.076123\n55   Share of employment in nonagriculture, female ...  2.029959\n127                                   Dependency ratio  2.003165\n-- For the risk1 --\nPicked variable number: 23\n                                                 Specs     Score\n139                            SDG 6.4.2. Water Stress  2.384240\n131  MDG 7.5. Freshwater withdrawal as % of total r...  2.284233\n146                                                PC1  2.031268\n15          Sex ratio at birth (male to female births)  2.013427\n124  Agricultural water withdrawal as % of total re...  1.905545\n113                 Population ages 15-64 (% of total)  1.880945\n73   Theoretical duration of primary education (years)  1.684554\n83      Gross enrolment ratio, primary, both sexes (%)  1.541050\n86            Gross enrolment ratio, primary, male (%)  1.532738\n127                                   Dependency ratio  1.425988\n57   Gross domestic product (GDP), total (2017 PPP ...  1.424238\n8       Share of seats in parliament (% held by women)  1.382509\n84          Gross enrolment ratio, primary, female (%)  1.359256\n17   Foreign direct investment, net inflows (% of GDP)  1.339769\n79    Gross enrolment ratio, lower secondary, male (%)  1.304760\n120                  Primary completion rate, male (%)  1.281982\n108  Percentage of students in pre-primary educatio...  1.274030\n71   Official entrance age to lower secondary educa...  1.269978\n77   Gross enrolment ratio, lower secondary, both s...  1.191542\n105  Percentage of repeaters in primary education, ...  1.133958\n56                  Gross capital formation (% of GDP)  1.117967\n82        Gross enrolment ratio, pre-primary, male (%)  1.097822\n133                      National Rainfall Index (NRI)  1.095314\n-- For the risk2 --\nPicked variable number: 23\n                                                 Specs     Score\n152                                                PC7  9.736205\n15          Sex ratio at birth (male to female births)  9.603556\n42                   Population under age 5 (millions)  8.946279\n12                                Urban population (%)  6.994506\n1                                            longitude  5.041633\n51      Employment in services (% of total employment)  4.992443\n43                      Exports and imports (% of GDP)  4.888268\n85   Gross enrolment ratio, primary, gender parity ...  4.549239\n2                                           population  4.512192\n18                    Population ages 15?64 (millions)  4.295458\n11                         Total population (millions)  4.247240\n47    Youth not in school or employment (% ages 15-24)  4.063776\n124  Agricultural water withdrawal as % of total re...  4.020394\n55   Share of employment in nonagriculture, female ...  3.736031\n33                  Unemployment, youth (% ages 15?24)  3.716163\n140                         Seasonal variability (WRI)  3.520999\n143         Total renewable water resources per capita  3.466147\n46                                            HDI rank  3.446833\n117  Prevalence of HIV, total (% of population ages...  3.433586\n125  Agricultural water withdrawal as % of total wa...  3.375907\n146                                                PC1  3.337544\n108  Percentage of students in pre-primary educatio...  3.279478\n141  Total internal renewable water resources per c...  3.275523\n-- For the risk3 --\nPicked variable number: 23\n                                                 Specs     Score\n20   Infants lacking immunization, DTP (% of one-ye...  6.317368\n152                                                PC7  6.016423\n139                            SDG 6.4.2. Water Stress  5.932886\n61   Estimated gross national income per capita, fe...  5.745365\n103  Percentage of male students enrolled in primar...  5.560096\n58                         GDP per capita (2017 PPP $)  5.517526\n86            Gross enrolment ratio, primary, male (%)  5.476403\n59   Gross national income (GNI) per capita (consta...  5.476136\n17   Foreign direct investment, net inflows (% of GDP)  5.408560\n107  Percentage of students enrolled in primary edu...  5.297553\n62   Estimated gross national income per capita, ma...  5.261685\n65                    Inequality-adjusted income index  5.161004\n47    Youth not in school or employment (% ages 15-24)  5.074771\n66           Overall loss in HDI due to inequality (%)  5.014906\n68                     Coefficient of human inequality  4.964745\n146                                                PC1  4.887637\n102  Percentage of female students enrolled in prim...  4.867687\n7                Mean years of schooling, male (years)  4.769835\n83      Gross enrolment ratio, primary, both sexes (%)  4.684686\n25                 Inequality-adjusted education index  4.660731\n69                      Inequality-adjusted HDI (IHDI)  4.598973\n131  MDG 7.5. Freshwater withdrawal as % of total r...  4.588831\n137           SDG 6.4.1. Services Water Use Efficiency  4.540159\n-- For the risk4 --\nPicked variable number: 23\n                                                 Specs     Score\n152                                                PC7  5.658305\n2                                           population  4.238141\n17   Foreign direct investment, net inflows (% of GDP)  4.047825\n72   Official entrance age to primary education (ye...  2.799918\n139                            SDG 6.4.2. Water Stress  2.659589\n146                                                PC1  2.533353\n124  Agricultural water withdrawal as % of total re...  2.407488\n55   Share of employment in nonagriculture, female ...  2.382328\n131  MDG 7.5. Freshwater withdrawal as % of total r...  2.317424\n71   Official entrance age to lower secondary educa...  2.089519\n106  Percentage of repeaters in primary education, ...  2.084780\n130                      Interannual variability (WRI)  2.037742\n104  Percentage of repeaters in primary education, ...  2.017553\n105  Percentage of repeaters in primary education, ...  1.903794\n75   Theoretical duration of upper secondary educat...  1.899938\n151                                                PC6  1.851401\n96        Labor force, female (% of total labor force)  1.803010\n73   Theoretical duration of primary education (years)  1.741427\n125  Agricultural water withdrawal as % of total wa...  1.535765\n118            Primary completion rate, both sexes (%)  1.510997\n120                  Primary completion rate, male (%)  1.508865\n153                                                PC8  1.484311\n119                Primary completion rate, female (%)  1.466181\n-- For the risk5 --\nPicked variable number: 23\n                                                 Specs     Score\n118            Primary completion rate, both sexes (%)  3.563256\n120                  Primary completion rate, male (%)  3.544382\n96        Labor force, female (% of total labor force)  3.532329\n119                Primary completion rate, female (%)  3.422088\n93   Gross intake ratio to Grade 1 of primary educa...  3.358630\n152                                                PC7  3.315250\n139                            SDG 6.4.2. Water Stress  3.299769\n105  Percentage of repeaters in primary education, ...  3.184275\n146                                                PC1  3.062341\n104  Percentage of repeaters in primary education, ...  3.037696\n126                            Dam capacity per capita  2.995629\n106  Percentage of repeaters in primary education, ...  2.827590\n138                    SDG 6.4.1. Water Use Efficiency  2.825583\n92   Gross intake ratio to Grade 1 of primary educa...  2.759364\n125  Agricultural water withdrawal as % of total wa...  2.551538\n72   Official entrance age to primary education (ye...  2.523001\n124  Agricultural water withdrawal as % of total re...  2.451325\n131  MDG 7.5. Freshwater withdrawal as % of total r...  2.404436\n94   Gross intake ratio to Grade 1 of primary educa...  2.254044\n75   Theoretical duration of upper secondary educat...  2.217189\n13   Labour force participation rate (% ages 15 and...  2.083317\n1                                            longitude  2.080374\n56                  Gross capital formation (% of GDP)  2.053453\n-- For the risk6 --\nPicked variable number: 23\n                                                 Specs     Score\n126                            Dam capacity per capita  7.859680\n141  Total internal renewable water resources per c...  3.812833\n143         Total renewable water resources per capita  3.380294\n97     Mortality rate, under-5 (per 1,000 live births)  2.240188\n129  Industrial water withdrawal as % of total wate...  2.220216\n17   Foreign direct investment, net inflows (% of GDP)  2.108698\n116                      Population, male (% of total)  1.971691\n115                    Population, female (% of total)  1.971691\n14   Labour force participation rate (% ages 15 and...  1.802461\n127                                   Dependency ratio  1.717670\n36              Life expectancy at birth, male (years)  1.694206\n93   Gross intake ratio to Grade 1 of primary educa...  1.631741\n35            Life expectancy at birth, female (years)  1.621792\n23                    Life expectancy at birth (years)  1.616291\n30                               Life expectancy index  1.604256\n139                            SDG 6.4.2. Water Stress  1.574999\n20   Infants lacking immunization, DTP (% of one-ye...  1.567967\n108  Percentage of students in pre-primary educatio...  1.496970\n146                                                PC1  1.471268\n125  Agricultural water withdrawal as % of total wa...  1.470392\n28                   Inequality in life expectancy (%)  1.447237\n113                 Population ages 15-64 (% of total)  1.434985\n150                                                PC5  1.410240\n"
     ]
    }
   ],
   "source": [
    "for i in range(len(risks)):\n",
    "    print(\"-- For the\", risks[i],\"--\")\n",
    "    getImportantFeatures(mylist3[i], risks[i], risks)"
   ]
  },
  {
   "source": [
    "# Try generating Polynomial Cross Features"
   ],
   "cell_type": "markdown",
   "metadata": {}
  },
  {
   "cell_type": "code",
   "execution_count": 280,
   "metadata": {},
   "outputs": [
    {
     "output_type": "stream",
     "name": "stdout",
     "text": [
      "['population', 'Total population (millions)', 'Urban population (%)', 'Employment to population ratio (% ages 15 and older)', 'Prevalence of HIV, total (% of population ages 15-49)', 'Rural population with access to safe drinking-water (JMP)', 'Total population with access to safe drinking-water (JMP)', 'Urban population with access to safe drinking-water (JMP)']\n"
     ]
    }
   ],
   "source": [
    "pop_arr = getArrayOfFeatures(mainDf_v3, \"population\")\n",
    "print(pop_arr)"
   ]
  },
  {
   "cell_type": "code",
   "execution_count": 306,
   "metadata": {},
   "outputs": [
    {
     "output_type": "stream",
     "name": "stdout",
     "text": [
      "(1211, 157)\n(1211, 202)\n"
     ]
    }
   ],
   "source": [
    "cross_df = generateCrossFeat(mainDf, pop_arr)\n",
    "mainDf_v4 = mainDf.merge(cross_df, left_index=True, right_index=True)\n",
    "print(mainDf.shape)\n",
    "print(mainDf_v4.shape)"
   ]
  },
  {
   "cell_type": "code",
   "execution_count": 312,
   "metadata": {},
   "outputs": [],
   "source": [
    "mainDf_v4.columns = mainDf_v4.columns.astype(str)"
   ]
  },
  {
   "cell_type": "code",
   "execution_count": 313,
   "metadata": {},
   "outputs": [
    {
     "output_type": "stream",
     "name": "stdout",
     "text": [
      "7\nOnly 87 rows are available for risk 0\nOnly 148 rows are available for risk 1\nOnly 262 rows are available for risk 2\nOnly 184 rows are available for risk 3\nOnly 98 rows are available for risk 4\nOnly 65 rows are available for risk 5\nOnly 59 rows are available for risk 6\n"
     ]
    }
   ],
   "source": [
    "mylist4 = getRowsForRisks(mainDf_v4, risks)\n",
    "print(len(mylist4))\n",
    "for i in range(len(mylist4)):\n",
    "    print(\"Only\",mylist4[i].shape[0],\"rows are available for risk\",i)"
   ]
  },
  {
   "cell_type": "code",
   "execution_count": 315,
   "metadata": {},
   "outputs": [
    {
     "output_type": "stream",
     "name": "stdout",
     "text": [
      "-- For the risk0 --\n",
      "Picked variable number: 28\n",
      "                                                 Specs     Score\n",
      "57   Gross domestic product (GDP), total (2017 PPP ...  4.032056\n",
      "164                                                 18  3.624336\n",
      "179                                                 33  3.601730\n",
      "41             Population ages 65 and older (millions)  3.234697\n",
      "178                                                 32  3.039628\n",
      "52   Working poor at PPP$3.20 a day (% of total emp...  2.961307\n",
      "27                         Inequality in education (%)  2.900850\n",
      "4    Population with at least some secondary educat...  2.875645\n",
      "3    Population with at least some secondary educat...  2.794997\n",
      "17   Foreign direct investment, net inflows (% of GDP)  2.734514\n",
      "5    Population with at least some secondary educat...  2.687594\n",
      "180                                                 34  2.531487\n",
      "8       Share of seats in parliament (% held by women)  2.518464\n",
      "43                      Exports and imports (% of GDP)  2.435197\n",
      "97     Mortality rate, under-5 (per 1,000 live births)  2.434818\n",
      "54      Youth unemployment rate (female to male ratio)  2.378745\n",
      "6              Mean years of schooling, female (years)  2.320540\n",
      "29                     Mean years of schooling (years)  2.288210\n",
      "140                         Seasonal variability (WRI)  2.281711\n",
      "25                 Inequality-adjusted education index  2.278543\n",
      "165                                                 19  2.273905\n",
      "20   Infants lacking immunization, DTP (% of one-ye...  2.241470\n",
      "7                Mean years of schooling, male (years)  2.202431\n",
      "171                                                 25  2.168086\n",
      "113                 Population ages 15-64 (% of total)  2.131375\n",
      "166                                                 20  2.092806\n",
      "129  Industrial water withdrawal as % of total wate...  2.076123\n",
      "55   Share of employment in nonagriculture, female ...  2.029959\n",
      "-- For the risk1 --\n",
      "Picked variable number: 28\n",
      "                                                 Specs     Score\n",
      "139                            SDG 6.4.2. Water Stress  2.384240\n",
      "131  MDG 7.5. Freshwater withdrawal as % of total r...  2.284233\n",
      "15          Sex ratio at birth (male to female births)  2.013427\n",
      "124  Agricultural water withdrawal as % of total re...  1.905545\n",
      "113                 Population ages 15-64 (% of total)  1.880945\n",
      "73   Theoretical duration of primary education (years)  1.684554\n",
      "83      Gross enrolment ratio, primary, both sexes (%)  1.541050\n",
      "86            Gross enrolment ratio, primary, male (%)  1.532738\n",
      "127                                   Dependency ratio  1.425988\n",
      "57   Gross domestic product (GDP), total (2017 PPP ...  1.424238\n",
      "8       Share of seats in parliament (% held by women)  1.382509\n",
      "84          Gross enrolment ratio, primary, female (%)  1.359256\n",
      "17   Foreign direct investment, net inflows (% of GDP)  1.339769\n",
      "79    Gross enrolment ratio, lower secondary, male (%)  1.304760\n",
      "120                  Primary completion rate, male (%)  1.281982\n",
      "108  Percentage of students in pre-primary educatio...  1.274030\n",
      "71   Official entrance age to lower secondary educa...  1.269978\n",
      "164                                                 18  1.237454\n",
      "77   Gross enrolment ratio, lower secondary, both s...  1.191542\n",
      "105  Percentage of repeaters in primary education, ...  1.133958\n",
      "56                  Gross capital formation (% of GDP)  1.117967\n",
      "82        Gross enrolment ratio, pre-primary, male (%)  1.097822\n",
      "133                      National Rainfall Index (NRI)  1.095314\n",
      "166                                                 20  1.083579\n",
      "109  Percentage of students in primary education wh...  1.082162\n",
      "16                     Remittances, inflows (% of GDP)  1.068731\n",
      "78   Gross enrolment ratio, lower secondary, female...  1.063095\n",
      "74   Theoretical duration of secondary education (y...  1.063002\n",
      "-- For the risk2 --\n",
      "Picked variable number: 28\n",
      "                                                 Specs      Score\n",
      "156                                                 10  30.627472\n",
      "163                                                 17  12.310565\n",
      "15          Sex ratio at birth (male to female births)   9.603556\n",
      "42                   Population under age 5 (millions)   8.946279\n",
      "171                                                 25   7.458009\n",
      "12                                Urban population (%)   6.994506\n",
      "149                                                  3   6.994506\n",
      "170                                                 24   6.635469\n",
      "175                                                 29   5.877667\n",
      "174                                                 28   5.325831\n",
      "160                                                 14   5.047679\n",
      "1                                            longitude   5.041633\n",
      "51      Employment in services (% of total employment)   4.992443\n",
      "43                      Exports and imports (% of GDP)   4.888268\n",
      "161                                                 15   4.782348\n",
      "173                                                 27   4.762805\n",
      "162                                                 16   4.720133\n",
      "85   Gross enrolment ratio, primary, gender parity ...   4.549239\n",
      "2                                           population   4.512192\n",
      "147                                                  1   4.512192\n",
      "181                                                 35   4.330681\n",
      "18                    Population ages 15?64 (millions)   4.295458\n",
      "11                         Total population (millions)   4.247240\n",
      "148                                                  2   4.247240\n",
      "172                                                 26   4.226719\n",
      "158                                                 12   4.162059\n",
      "183                                                 37   4.113054\n",
      "169                                                 23   4.075245\n",
      "-- For the risk3 --\n",
      "Picked variable number: 28\n",
      "                                                 Specs     Score\n",
      "20   Infants lacking immunization, DTP (% of one-ye...  6.317368\n",
      "139                            SDG 6.4.2. Water Stress  5.932886\n",
      "61   Estimated gross national income per capita, fe...  5.745365\n",
      "103  Percentage of male students enrolled in primar...  5.560096\n",
      "58                         GDP per capita (2017 PPP $)  5.517526\n",
      "86            Gross enrolment ratio, primary, male (%)  5.476403\n",
      "59   Gross national income (GNI) per capita (consta...  5.476136\n",
      "17   Foreign direct investment, net inflows (% of GDP)  5.408560\n",
      "107  Percentage of students enrolled in primary edu...  5.297553\n",
      "62   Estimated gross national income per capita, ma...  5.261685\n",
      "65                    Inequality-adjusted income index  5.161004\n",
      "47    Youth not in school or employment (% ages 15-24)  5.074771\n",
      "66           Overall loss in HDI due to inequality (%)  5.014906\n",
      "68                     Coefficient of human inequality  4.964745\n",
      "102  Percentage of female students enrolled in prim...  4.867687\n",
      "7                Mean years of schooling, male (years)  4.769835\n",
      "83      Gross enrolment ratio, primary, both sexes (%)  4.684686\n",
      "25                 Inequality-adjusted education index  4.660731\n",
      "69                      Inequality-adjusted HDI (IHDI)  4.598973\n",
      "131  MDG 7.5. Freshwater withdrawal as % of total r...  4.588831\n",
      "137           SDG 6.4.1. Services Water Use Efficiency  4.540159\n",
      "27                         Inequality in education (%)  4.413954\n",
      "29                     Mean years of schooling (years)  4.324805\n",
      "0                                             latitude  4.278426\n",
      "124  Agricultural water withdrawal as % of total re...  4.267801\n",
      "162                                                 16  4.066852\n",
      "46                                            HDI rank  4.045096\n",
      "161                                                 15  4.020769\n",
      "-- For the risk4 --\n",
      "Picked variable number: 28\n",
      "                                                 Specs     Score\n",
      "161                                                 15  4.261045\n",
      "2                                           population  4.238141\n",
      "147                                                  1  4.238141\n",
      "162                                                 16  4.236313\n",
      "160                                                 14  4.217032\n",
      "17   Foreign direct investment, net inflows (% of GDP)  4.047825\n",
      "158                                                 12  4.031099\n",
      "157                                                 11  3.461254\n",
      "72   Official entrance age to primary education (ye...  2.799918\n",
      "139                            SDG 6.4.2. Water Stress  2.659589\n",
      "124  Agricultural water withdrawal as % of total re...  2.407488\n",
      "55   Share of employment in nonagriculture, female ...  2.382328\n",
      "131  MDG 7.5. Freshwater withdrawal as % of total r...  2.317424\n",
      "156                                                 10  2.264369\n",
      "155                                                  9  2.249903\n",
      "71   Official entrance age to lower secondary educa...  2.089519\n",
      "106  Percentage of repeaters in primary education, ...  2.084780\n",
      "130                      Interannual variability (WRI)  2.037742\n",
      "104  Percentage of repeaters in primary education, ...  2.017553\n",
      "105  Percentage of repeaters in primary education, ...  1.903794\n",
      "75   Theoretical duration of upper secondary educat...  1.899938\n",
      "96        Labor force, female (% of total labor force)  1.803010\n",
      "73   Theoretical duration of primary education (years)  1.741427\n",
      "180                                                 34  1.621484\n",
      "125  Agricultural water withdrawal as % of total wa...  1.535765\n",
      "118            Primary completion rate, both sexes (%)  1.510997\n",
      "120                  Primary completion rate, male (%)  1.508865\n",
      "119                Primary completion rate, female (%)  1.466181\n",
      "-- For the risk5 --\n",
      "Picked variable number: 28\n",
      "                                                 Specs     Score\n",
      "118            Primary completion rate, both sexes (%)  3.563256\n",
      "120                  Primary completion rate, male (%)  3.544382\n",
      "96        Labor force, female (% of total labor force)  3.532329\n",
      "119                Primary completion rate, female (%)  3.422088\n",
      "93   Gross intake ratio to Grade 1 of primary educa...  3.358630\n",
      "139                            SDG 6.4.2. Water Stress  3.299769\n",
      "105  Percentage of repeaters in primary education, ...  3.184275\n",
      "104  Percentage of repeaters in primary education, ...  3.037696\n",
      "126                            Dam capacity per capita  2.995629\n",
      "106  Percentage of repeaters in primary education, ...  2.827590\n",
      "138                    SDG 6.4.1. Water Use Efficiency  2.825583\n",
      "92   Gross intake ratio to Grade 1 of primary educa...  2.759364\n",
      "125  Agricultural water withdrawal as % of total wa...  2.551538\n",
      "72   Official entrance age to primary education (ye...  2.523001\n",
      "124  Agricultural water withdrawal as % of total re...  2.451325\n",
      "131  MDG 7.5. Freshwater withdrawal as % of total r...  2.404436\n",
      "94   Gross intake ratio to Grade 1 of primary educa...  2.254044\n",
      "75   Theoretical duration of upper secondary educat...  2.217189\n",
      "13   Labour force participation rate (% ages 15 and...  2.083317\n",
      "1                                            longitude  2.080374\n",
      "56                  Gross capital formation (% of GDP)  2.053453\n",
      "108  Percentage of students in pre-primary educatio...  1.954242\n",
      "54      Youth unemployment rate (female to male ratio)  1.870082\n",
      "132  Municipal water withdrawal as % of total withd...  1.824696\n",
      "160                                                 14  1.806392\n",
      "161                                                 15  1.788369\n",
      "137           SDG 6.4.1. Services Water Use Efficiency  1.783453\n",
      "162                                                 16  1.761995\n",
      "-- For the risk6 --\n",
      "Picked variable number: 28\n",
      "                                                 Specs     Score\n",
      "126                            Dam capacity per capita  7.859680\n",
      "141  Total internal renewable water resources per c...  3.812833\n",
      "143         Total renewable water resources per capita  3.380294\n",
      "97     Mortality rate, under-5 (per 1,000 live births)  2.240188\n",
      "129  Industrial water withdrawal as % of total wate...  2.220216\n",
      "17   Foreign direct investment, net inflows (% of GDP)  2.108698\n",
      "116                      Population, male (% of total)  1.971691\n",
      "115                    Population, female (% of total)  1.971691\n",
      "14   Labour force participation rate (% ages 15 and...  1.802461\n",
      "127                                   Dependency ratio  1.717670\n",
      "36              Life expectancy at birth, male (years)  1.694206\n",
      "93   Gross intake ratio to Grade 1 of primary educa...  1.631741\n",
      "35            Life expectancy at birth, female (years)  1.621792\n",
      "23                    Life expectancy at birth (years)  1.616291\n",
      "30                               Life expectancy index  1.604256\n",
      "139                            SDG 6.4.2. Water Stress  1.574999\n",
      "20   Infants lacking immunization, DTP (% of one-ye...  1.567967\n",
      "108  Percentage of students in pre-primary educatio...  1.496970\n",
      "125  Agricultural water withdrawal as % of total wa...  1.470392\n",
      "28                   Inequality in life expectancy (%)  1.447237\n",
      "113                 Population ages 15-64 (% of total)  1.434985\n",
      "140                         Seasonal variability (WRI)  1.397421\n",
      "145  Urban population with access to safe drinking-...  1.352566\n",
      "154                                                  8  1.352566\n",
      "92   Gross intake ratio to Grade 1 of primary educa...  1.331853\n",
      "27                         Inequality in education (%)  1.321128\n",
      "190                                                 44  1.307218\n",
      "19   Infants lacking immunization, measles (% of on...  1.264616\n",
      "/opt/anaconda3/lib/python3.7/site-packages/sklearn/feature_selection/univariate_selection.py:114: UserWarning: Features [146] are constant.\n",
      "  UserWarning)\n",
      "/opt/anaconda3/lib/python3.7/site-packages/sklearn/feature_selection/univariate_selection.py:115: RuntimeWarning: invalid value encountered in true_divide\n",
      "  f = msb / msw\n",
      "/opt/anaconda3/lib/python3.7/site-packages/sklearn/feature_selection/univariate_selection.py:114: UserWarning: Features [146] are constant.\n",
      "  UserWarning)\n",
      "/opt/anaconda3/lib/python3.7/site-packages/sklearn/feature_selection/univariate_selection.py:115: RuntimeWarning: invalid value encountered in true_divide\n",
      "  f = msb / msw\n",
      "/opt/anaconda3/lib/python3.7/site-packages/sklearn/feature_selection/univariate_selection.py:114: UserWarning: Features [146] are constant.\n",
      "  UserWarning)\n",
      "/opt/anaconda3/lib/python3.7/site-packages/sklearn/feature_selection/univariate_selection.py:115: RuntimeWarning: invalid value encountered in true_divide\n",
      "  f = msb / msw\n",
      "/opt/anaconda3/lib/python3.7/site-packages/sklearn/feature_selection/univariate_selection.py:114: UserWarning: Features [146] are constant.\n",
      "  UserWarning)\n",
      "/opt/anaconda3/lib/python3.7/site-packages/sklearn/feature_selection/univariate_selection.py:115: RuntimeWarning: invalid value encountered in true_divide\n",
      "  f = msb / msw\n",
      "/opt/anaconda3/lib/python3.7/site-packages/sklearn/feature_selection/univariate_selection.py:114: UserWarning: Features [146] are constant.\n",
      "  UserWarning)\n",
      "/opt/anaconda3/lib/python3.7/site-packages/sklearn/feature_selection/univariate_selection.py:115: RuntimeWarning: invalid value encountered in true_divide\n",
      "  f = msb / msw\n",
      "/opt/anaconda3/lib/python3.7/site-packages/sklearn/feature_selection/univariate_selection.py:114: UserWarning: Features [146] are constant.\n",
      "  UserWarning)\n",
      "/opt/anaconda3/lib/python3.7/site-packages/sklearn/feature_selection/univariate_selection.py:115: RuntimeWarning: invalid value encountered in true_divide\n",
      "  f = msb / msw\n",
      "/opt/anaconda3/lib/python3.7/site-packages/sklearn/feature_selection/univariate_selection.py:114: UserWarning: Features [146] are constant.\n",
      "  UserWarning)\n",
      "/opt/anaconda3/lib/python3.7/site-packages/sklearn/feature_selection/univariate_selection.py:115: RuntimeWarning: invalid value encountered in true_divide\n",
      "  f = msb / msw\n"
     ]
    }
   ],
   "source": [
    "for i in range(len(risks)):\n",
    "    print(\"-- For the\", risks[i],\"--\")\n",
    "    getImportantFeatures(mylist4[i], risks[i], risks)"
   ]
  },
  {
   "cell_type": "code",
   "execution_count": null,
   "metadata": {},
   "outputs": [],
   "source": []
  }
 ]
}