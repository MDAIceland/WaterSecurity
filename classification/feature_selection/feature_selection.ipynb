{
 "metadata": {
  "language_info": {
   "codemirror_mode": {
    "name": "ipython",
    "version": 3
   },
   "file_extension": ".py",
   "mimetype": "text/x-python",
   "name": "python",
   "nbconvert_exporter": "python",
   "pygments_lexer": "ipython3",
   "version": "3.7.4"
  },
  "orig_nbformat": 2,
  "kernelspec": {
   "name": "python374jvsc74a57bd0dca0ade3e726a953b501b15e8e990130d2b7799f14cfd9f4271676035ebe5511",
   "display_name": "Python 3.7.4 64-bit ('base': conda)"
  }
 },
 "nbformat": 4,
 "nbformat_minor": 2,
 "cells": [
  {
   "cell_type": "code",
   "execution_count": 97,
   "metadata": {},
   "outputs": [],
   "source": [
    "import pandas as pd\n",
    "import numpy as np\n",
    "import sys\n",
    "sys.path.append(\"../..\")\n",
    "from data.dataset import DATASET as mainDf\n",
    "from sklearn.feature_selection import SelectKBest\n",
    "from sklearn.feature_selection import chi2"
   ]
  },
  {
   "cell_type": "code",
   "execution_count": 129,
   "metadata": {},
   "outputs": [],
   "source": [
    "# write the necessary functions\n",
    "# df = mainDf.loc[mainDf['risk1'].notnull()]\n",
    "# t = np.where(np.isnan(x))\n",
    "\n",
    "def getRowsForRisks(df, columns):\n",
    "    partialDf = []\n",
    "    for column in columns:\n",
    "        data = df.loc[df[column].notnull()]\n",
    "        partialDf.append(data)\n",
    "\n",
    "    return partialDf\n",
    "\n",
    "def cleanDataframe(df):\n",
    "    df = np.nan_to_num(df)\n",
    "    #df = df.loc[:, df.dtypes == np.float64]\n",
    "    df = df.select_dtypes(include=['float'])\n",
    "\n",
    "    return df\n",
    "\n",
    "def getImportantFeatures(df, label):\n",
    "    y = df.loc[:, label]\n",
    "    x = df.loc[:, df.columns != label]\n",
    "    \n",
    "    x = cleanDataframe(x)\n",
    "\n",
    "    # Applying select K-best\n",
    "    bestFeatures = SelectKBest(score_func=chi2, k=10)\n",
    "    fit = bestFeatures.fit(x,y)\n",
    "    dfscores = pd.DataFrame(fit.scores_)\n",
    "    dfcolumns = pd.DataFrame(x.columns)\n",
    "\n",
    "    #Concat two dataframes for better visualization\n",
    "    featureScores = pd.concat([dfcolumns,dfscores],axis=1)\n",
    "    featureScores.columns = ['Specs','Score']\n",
    "    print(featureScores.nlargest(10,'Score'))  #print 10 best features"
   ]
  },
  {
   "cell_type": "code",
   "execution_count": 118,
   "metadata": {},
   "outputs": [
    {
     "output_type": "display_data",
     "data": {
      "text/plain": "                  city  latitude  longitude  population country_code    c40  \\\n0              Aalborg   57.0337     9.9166    122219.0          DNK  False   \n1               Aarhus   56.1572    10.2107    237551.0          DNK  False   \n2           Copenhagen   55.6786    12.5635   1085000.0          DNK  False   \n3              Esbjerg   55.4670     8.4500     72205.0          DNK  False   \n4        Frederikshavn   57.4337    10.5333     24103.0          DNK  False   \n...                ...       ...        ...         ...          ...    ...   \n1206       Teaoraereke    1.3333   173.0000      5105.0          KIR  False   \n1207          Trindade    0.3000     6.6667      6636.0          STP  False   \n1208          Victoria   -4.6236    55.4544     26450.0          SYC  False   \n1209            Warsaw   52.2167    21.0333   1790658.0          POL   True   \n1210  Abasan Al-Kabira   31.3231    34.3440     32000.0          PSE  False   \n\n      risk0  risk1  risk2  risk3  ...  \\\n0       NaN    NaN    NaN    NaN  ...   \n1       NaN    NaN    NaN    NaN  ...   \n2       NaN    2.0    NaN    2.0  ...   \n3       NaN    NaN    NaN    NaN  ...   \n4       NaN    2.0    NaN    NaN  ...   \n...     ...    ...    ...    ...  ...   \n1206    NaN    NaN    NaN    NaN  ...   \n1207    NaN    NaN    NaN    NaN  ...   \n1208    NaN    NaN    NaN    NaN  ...   \n1209    0.0    0.0    2.0    0.0  ...   \n1210    NaN    2.0    2.0    2.0  ...   \n\n      SDG 6.4.1. Services Water Use Efficiency  \\\n0                                   558.335628   \n1                                   558.335628   \n2                                   558.335628   \n3                                   558.335628   \n4                                   558.335628   \n...                                        ...   \n1206                                110.288104   \n1207                                 17.162254   \n1208                                120.471023   \n1209                                153.691550   \n1210                                 51.887163   \n\n      SDG 6.4.1. Water Use Efficiency  SDG 6.4.2. Water Stress  \\\n0                          368.612902                20.040562   \n1                          368.612902                20.040562   \n2                          368.612902                20.040562   \n3                          368.612902                20.040562   \n4                          368.612902                20.040562   \n...                               ...                      ...   \n1206                        80.302831                68.505925   \n1207                         7.489641                 1.876147   \n1208                        89.323035                69.243227   \n1209                        43.570222                34.890966   \n1210                        34.748970                41.078306   \n\n      Seasonal variability (WRI)  \\\n0                       1.300000   \n1                       1.300000   \n2                       1.300000   \n3                       1.300000   \n4                       1.300000   \n...                          ...   \n1206                    2.532741   \n1207                    2.502891   \n1208                    1.601611   \n1209                    0.600000   \n1210                    3.100000   \n\n      Total internal renewable water resources per capita  \\\n0                                           1046.705025     \n1                                           1046.705025     \n2                                           1046.705025     \n3                                           1046.705025     \n4                                           1046.705025     \n...                                                 ...     \n1206                                       -1779.609434     \n1207                                       10526.874919     \n1208                                       -2157.596566     \n1209                                        1412.266377     \n1210                                         171.047224     \n\n      Total population with access to safe drinking-water (JMP)  \\\n0                                                 100.0           \n1                                                 100.0           \n2                                                 100.0           \n3                                                 100.0           \n4                                                 100.0           \n...                                                 ...           \n1206                                               66.9           \n1207                                               97.1           \n1208                                               95.7           \n1209                                               98.3           \n1210                                               58.4           \n\n      Total renewable water resources per capita  \\\n0                                    1046.705025   \n1                                    1046.705025   \n2                                    1046.705025   \n3                                    1046.705025   \n4                                    1046.705025   \n...                                          ...   \n1206                                    0.000000   \n1207                                10526.874919   \n1208                                    0.000000   \n1209                                 1594.069324   \n1210                                  176.313456   \n\n      Total water withdrawal per capita  \\\n0                            129.285516   \n1                            129.285516   \n2                            129.285516   \n3                            129.285516   \n4                            129.285516   \n...                                 ...   \n1206                         414.127038   \n1207                         197.499626   \n1208                         142.089651   \n1209                         265.616741   \n1210                          79.035614   \n\n      Urban population with access to safe drinking-water (JMP)  \\\n0                                                 100.0           \n1                                                 100.0           \n2                                                 100.0           \n3                                                 100.0           \n4                                                 100.0           \n...                                                 ...           \n1206                                               87.3           \n1207                                               98.9           \n1208                                               95.7           \n1209                                               99.3           \n1210                                               50.7           \n\n                    country  \n0                   Denmark  \n1                   Denmark  \n2                   Denmark  \n3                   Denmark  \n4                   Denmark  \n...                     ...  \n1206               Kiribati  \n1207  Sao Tome and Principe  \n1208             Seychelles  \n1209                 Poland  \n1210              Palestine  \n\n[1211 rows x 157 columns]",
      "text/html": "<div>\n<style scoped>\n    .dataframe tbody tr th:only-of-type {\n        vertical-align: middle;\n    }\n\n    .dataframe tbody tr th {\n        vertical-align: top;\n    }\n\n    .dataframe thead th {\n        text-align: right;\n    }\n</style>\n<table border=\"1\" class=\"dataframe\">\n  <thead>\n    <tr style=\"text-align: right;\">\n      <th></th>\n      <th>city</th>\n      <th>latitude</th>\n      <th>longitude</th>\n      <th>population</th>\n      <th>country_code</th>\n      <th>c40</th>\n      <th>risk0</th>\n      <th>risk1</th>\n      <th>risk2</th>\n      <th>risk3</th>\n      <th>...</th>\n      <th>SDG 6.4.1. Services Water Use Efficiency</th>\n      <th>SDG 6.4.1. Water Use Efficiency</th>\n      <th>SDG 6.4.2. Water Stress</th>\n      <th>Seasonal variability (WRI)</th>\n      <th>Total internal renewable water resources per capita</th>\n      <th>Total population with access to safe drinking-water (JMP)</th>\n      <th>Total renewable water resources per capita</th>\n      <th>Total water withdrawal per capita</th>\n      <th>Urban population with access to safe drinking-water (JMP)</th>\n      <th>country</th>\n    </tr>\n  </thead>\n  <tbody>\n    <tr>\n      <td>0</td>\n      <td>Aalborg</td>\n      <td>57.0337</td>\n      <td>9.9166</td>\n      <td>122219.0</td>\n      <td>DNK</td>\n      <td>False</td>\n      <td>NaN</td>\n      <td>NaN</td>\n      <td>NaN</td>\n      <td>NaN</td>\n      <td>...</td>\n      <td>558.335628</td>\n      <td>368.612902</td>\n      <td>20.040562</td>\n      <td>1.300000</td>\n      <td>1046.705025</td>\n      <td>100.0</td>\n      <td>1046.705025</td>\n      <td>129.285516</td>\n      <td>100.0</td>\n      <td>Denmark</td>\n    </tr>\n    <tr>\n      <td>1</td>\n      <td>Aarhus</td>\n      <td>56.1572</td>\n      <td>10.2107</td>\n      <td>237551.0</td>\n      <td>DNK</td>\n      <td>False</td>\n      <td>NaN</td>\n      <td>NaN</td>\n      <td>NaN</td>\n      <td>NaN</td>\n      <td>...</td>\n      <td>558.335628</td>\n      <td>368.612902</td>\n      <td>20.040562</td>\n      <td>1.300000</td>\n      <td>1046.705025</td>\n      <td>100.0</td>\n      <td>1046.705025</td>\n      <td>129.285516</td>\n      <td>100.0</td>\n      <td>Denmark</td>\n    </tr>\n    <tr>\n      <td>2</td>\n      <td>Copenhagen</td>\n      <td>55.6786</td>\n      <td>12.5635</td>\n      <td>1085000.0</td>\n      <td>DNK</td>\n      <td>False</td>\n      <td>NaN</td>\n      <td>2.0</td>\n      <td>NaN</td>\n      <td>2.0</td>\n      <td>...</td>\n      <td>558.335628</td>\n      <td>368.612902</td>\n      <td>20.040562</td>\n      <td>1.300000</td>\n      <td>1046.705025</td>\n      <td>100.0</td>\n      <td>1046.705025</td>\n      <td>129.285516</td>\n      <td>100.0</td>\n      <td>Denmark</td>\n    </tr>\n    <tr>\n      <td>3</td>\n      <td>Esbjerg</td>\n      <td>55.4670</td>\n      <td>8.4500</td>\n      <td>72205.0</td>\n      <td>DNK</td>\n      <td>False</td>\n      <td>NaN</td>\n      <td>NaN</td>\n      <td>NaN</td>\n      <td>NaN</td>\n      <td>...</td>\n      <td>558.335628</td>\n      <td>368.612902</td>\n      <td>20.040562</td>\n      <td>1.300000</td>\n      <td>1046.705025</td>\n      <td>100.0</td>\n      <td>1046.705025</td>\n      <td>129.285516</td>\n      <td>100.0</td>\n      <td>Denmark</td>\n    </tr>\n    <tr>\n      <td>4</td>\n      <td>Frederikshavn</td>\n      <td>57.4337</td>\n      <td>10.5333</td>\n      <td>24103.0</td>\n      <td>DNK</td>\n      <td>False</td>\n      <td>NaN</td>\n      <td>2.0</td>\n      <td>NaN</td>\n      <td>NaN</td>\n      <td>...</td>\n      <td>558.335628</td>\n      <td>368.612902</td>\n      <td>20.040562</td>\n      <td>1.300000</td>\n      <td>1046.705025</td>\n      <td>100.0</td>\n      <td>1046.705025</td>\n      <td>129.285516</td>\n      <td>100.0</td>\n      <td>Denmark</td>\n    </tr>\n    <tr>\n      <td>...</td>\n      <td>...</td>\n      <td>...</td>\n      <td>...</td>\n      <td>...</td>\n      <td>...</td>\n      <td>...</td>\n      <td>...</td>\n      <td>...</td>\n      <td>...</td>\n      <td>...</td>\n      <td>...</td>\n      <td>...</td>\n      <td>...</td>\n      <td>...</td>\n      <td>...</td>\n      <td>...</td>\n      <td>...</td>\n      <td>...</td>\n      <td>...</td>\n      <td>...</td>\n      <td>...</td>\n    </tr>\n    <tr>\n      <td>1206</td>\n      <td>Teaoraereke</td>\n      <td>1.3333</td>\n      <td>173.0000</td>\n      <td>5105.0</td>\n      <td>KIR</td>\n      <td>False</td>\n      <td>NaN</td>\n      <td>NaN</td>\n      <td>NaN</td>\n      <td>NaN</td>\n      <td>...</td>\n      <td>110.288104</td>\n      <td>80.302831</td>\n      <td>68.505925</td>\n      <td>2.532741</td>\n      <td>-1779.609434</td>\n      <td>66.9</td>\n      <td>0.000000</td>\n      <td>414.127038</td>\n      <td>87.3</td>\n      <td>Kiribati</td>\n    </tr>\n    <tr>\n      <td>1207</td>\n      <td>Trindade</td>\n      <td>0.3000</td>\n      <td>6.6667</td>\n      <td>6636.0</td>\n      <td>STP</td>\n      <td>False</td>\n      <td>NaN</td>\n      <td>NaN</td>\n      <td>NaN</td>\n      <td>NaN</td>\n      <td>...</td>\n      <td>17.162254</td>\n      <td>7.489641</td>\n      <td>1.876147</td>\n      <td>2.502891</td>\n      <td>10526.874919</td>\n      <td>97.1</td>\n      <td>10526.874919</td>\n      <td>197.499626</td>\n      <td>98.9</td>\n      <td>Sao Tome and Principe</td>\n    </tr>\n    <tr>\n      <td>1208</td>\n      <td>Victoria</td>\n      <td>-4.6236</td>\n      <td>55.4544</td>\n      <td>26450.0</td>\n      <td>SYC</td>\n      <td>False</td>\n      <td>NaN</td>\n      <td>NaN</td>\n      <td>NaN</td>\n      <td>NaN</td>\n      <td>...</td>\n      <td>120.471023</td>\n      <td>89.323035</td>\n      <td>69.243227</td>\n      <td>1.601611</td>\n      <td>-2157.596566</td>\n      <td>95.7</td>\n      <td>0.000000</td>\n      <td>142.089651</td>\n      <td>95.7</td>\n      <td>Seychelles</td>\n    </tr>\n    <tr>\n      <td>1209</td>\n      <td>Warsaw</td>\n      <td>52.2167</td>\n      <td>21.0333</td>\n      <td>1790658.0</td>\n      <td>POL</td>\n      <td>True</td>\n      <td>0.0</td>\n      <td>0.0</td>\n      <td>2.0</td>\n      <td>0.0</td>\n      <td>...</td>\n      <td>153.691550</td>\n      <td>43.570222</td>\n      <td>34.890966</td>\n      <td>0.600000</td>\n      <td>1412.266377</td>\n      <td>98.3</td>\n      <td>1594.069324</td>\n      <td>265.616741</td>\n      <td>99.3</td>\n      <td>Poland</td>\n    </tr>\n    <tr>\n      <td>1210</td>\n      <td>Abasan Al-Kabira</td>\n      <td>31.3231</td>\n      <td>34.3440</td>\n      <td>32000.0</td>\n      <td>PSE</td>\n      <td>False</td>\n      <td>NaN</td>\n      <td>2.0</td>\n      <td>2.0</td>\n      <td>2.0</td>\n      <td>...</td>\n      <td>51.887163</td>\n      <td>34.748970</td>\n      <td>41.078306</td>\n      <td>3.100000</td>\n      <td>171.047224</td>\n      <td>58.4</td>\n      <td>176.313456</td>\n      <td>79.035614</td>\n      <td>50.7</td>\n      <td>Palestine</td>\n    </tr>\n  </tbody>\n</table>\n<p>1211 rows × 157 columns</p>\n</div>"
     },
     "metadata": {}
    },
    {
     "output_type": "stream",
     "name": "stdout",
     "text": [
      "<bound method DataFrame.info of                   city  latitude  longitude  population country_code    c40  \\\n0              Aalborg   57.0337     9.9166    122219.0          DNK  False   \n1               Aarhus   56.1572    10.2107    237551.0          DNK  False   \n2           Copenhagen   55.6786    12.5635   1085000.0          DNK  False   \n3              Esbjerg   55.4670     8.4500     72205.0          DNK  False   \n4        Frederikshavn   57.4337    10.5333     24103.0          DNK  False   \n...                ...       ...        ...         ...          ...    ...   \n1206       Teaoraereke    1.3333   173.0000      5105.0          KIR  False   \n1207          Trindade    0.3000     6.6667      6636.0          STP  False   \n1208          Victoria   -4.6236    55.4544     26450.0          SYC  False   \n1209            Warsaw   52.2167    21.0333   1790658.0          POL   True   \n1210  Abasan Al-Kabira   31.3231    34.3440     32000.0          PSE  False   \n\n      risk0  risk1  risk2  risk3  ...  \\\n0       NaN    NaN    NaN    NaN  ...   \n1       NaN    NaN    NaN    NaN  ...   \n2       NaN    2.0    NaN    2.0  ...   \n3       NaN    NaN    NaN    NaN  ...   \n4       NaN    2.0    NaN    NaN  ...   \n...     ...    ...    ...    ...  ...   \n1206    NaN    NaN    NaN    NaN  ...   \n1207    NaN    NaN    NaN    NaN  ...   \n1208    NaN    NaN    NaN    NaN  ...   \n1209    0.0    0.0    2.0    0.0  ...   \n1210    NaN    2.0    2.0    2.0  ...   \n\n      SDG 6.4.1. Services Water Use Efficiency  \\\n0                                   558.335628   \n1                                   558.335628   \n2                                   558.335628   \n3                                   558.335628   \n4                                   558.335628   \n...                                        ...   \n1206                                110.288104   \n1207                                 17.162254   \n1208                                120.471023   \n1209                                153.691550   \n1210                                 51.887163   \n\n      SDG 6.4.1. Water Use Efficiency  SDG 6.4.2. Water Stress  \\\n0                          368.612902                20.040562   \n1                          368.612902                20.040562   \n2                          368.612902                20.040562   \n3                          368.612902                20.040562   \n4                          368.612902                20.040562   \n...                               ...                      ...   \n1206                        80.302831                68.505925   \n1207                         7.489641                 1.876147   \n1208                        89.323035                69.243227   \n1209                        43.570222                34.890966   \n1210                        34.748970                41.078306   \n\n      Seasonal variability (WRI)  \\\n0                       1.300000   \n1                       1.300000   \n2                       1.300000   \n3                       1.300000   \n4                       1.300000   \n...                          ...   \n1206                    2.532741   \n1207                    2.502891   \n1208                    1.601611   \n1209                    0.600000   \n1210                    3.100000   \n\n      Total internal renewable water resources per capita  \\\n0                                           1046.705025     \n1                                           1046.705025     \n2                                           1046.705025     \n3                                           1046.705025     \n4                                           1046.705025     \n...                                                 ...     \n1206                                       -1779.609434     \n1207                                       10526.874919     \n1208                                       -2157.596566     \n1209                                        1412.266377     \n1210                                         171.047224     \n\n      Total population with access to safe drinking-water (JMP)  \\\n0                                                 100.0           \n1                                                 100.0           \n2                                                 100.0           \n3                                                 100.0           \n4                                                 100.0           \n...                                                 ...           \n1206                                               66.9           \n1207                                               97.1           \n1208                                               95.7           \n1209                                               98.3           \n1210                                               58.4           \n\n      Total renewable water resources per capita  \\\n0                                    1046.705025   \n1                                    1046.705025   \n2                                    1046.705025   \n3                                    1046.705025   \n4                                    1046.705025   \n...                                          ...   \n1206                                    0.000000   \n1207                                10526.874919   \n1208                                    0.000000   \n1209                                 1594.069324   \n1210                                  176.313456   \n\n      Total water withdrawal per capita  \\\n0                            129.285516   \n1                            129.285516   \n2                            129.285516   \n3                            129.285516   \n4                            129.285516   \n...                                 ...   \n1206                         414.127038   \n1207                         197.499626   \n1208                         142.089651   \n1209                         265.616741   \n1210                          79.035614   \n\n      Urban population with access to safe drinking-water (JMP)  \\\n0                                                 100.0           \n1                                                 100.0           \n2                                                 100.0           \n3                                                 100.0           \n4                                                 100.0           \n...                                                 ...           \n1206                                               87.3           \n1207                                               98.9           \n1208                                               95.7           \n1209                                               99.3           \n1210                                               50.7           \n\n                    country  \n0                   Denmark  \n1                   Denmark  \n2                   Denmark  \n3                   Denmark  \n4                   Denmark  \n...                     ...  \n1206               Kiribati  \n1207  Sao Tome and Principe  \n1208             Seychelles  \n1209                 Poland  \n1210              Palestine  \n\n[1211 rows x 157 columns]>\n"
     ]
    }
   ],
   "source": [
    "display(mainDf)\n",
    "\n",
    "print(mainDf.info)"
   ]
  },
  {
   "cell_type": "code",
   "execution_count": 119,
   "metadata": {},
   "outputs": [
    {
     "output_type": "stream",
     "name": "stdout",
     "text": [
      "['risk0', 'risk1', 'risk2', 'risk3', 'risk4', 'risk5', 'risk6']\n[6, 7, 8, 9, 10, 11, 12, 13]\n"
     ]
    }
   ],
   "source": [
    "a = mainDf.columns.values.tolist()\n",
    "#print(a)\n",
    "risks = a[6:13]\n",
    "risks_index = [i for i in range(6,14)]\n",
    "print(risks)\n",
    "print(risks_index)"
   ]
  },
  {
   "cell_type": "code",
   "execution_count": 120,
   "metadata": {
    "tags": []
   },
   "outputs": [
    {
     "output_type": "stream",
     "name": "stdout",
     "text": [
      "7\nOnly 87 rows are available for risk 0\nOnly 148 rows are available for risk 1\nOnly 262 rows are available for risk 2\nOnly 184 rows are available for risk 3\nOnly 98 rows are available for risk 4\nOnly 65 rows are available for risk 5\nOnly 59 rows are available for risk 6\n"
     ]
    }
   ],
   "source": [
    "mylist = getRowsForRisks(mainDf, risks)\n",
    "print(len(mylist))\n",
    "for i in range(len(mylist)):\n",
    "    print(\"Only\",mylist[i].shape[0],\"rows are available for risk\",i)"
   ]
  },
  {
   "cell_type": "code",
   "execution_count": 113,
   "metadata": {},
   "outputs": [],
   "source": [
    "#display(mylist[0])"
   ]
  },
  {
   "cell_type": "code",
   "execution_count": 130,
   "metadata": {},
   "outputs": [
    {
     "output_type": "error",
     "ename": "AttributeError",
     "evalue": "'numpy.ndarray' object has no attribute 'select_dtypes'",
     "traceback": [
      "\u001b[0;31m---------------------------------------------------------------------------\u001b[0m",
      "\u001b[0;31mAttributeError\u001b[0m                            Traceback (most recent call last)",
      "\u001b[0;32m<ipython-input-130-9c58c1f6d782>\u001b[0m in \u001b[0;36m<module>\u001b[0;34m\u001b[0m\n\u001b[1;32m      1\u001b[0m \u001b[0;32mfor\u001b[0m \u001b[0mi\u001b[0m \u001b[0;32min\u001b[0m \u001b[0mrange\u001b[0m\u001b[0;34m(\u001b[0m\u001b[0mlen\u001b[0m\u001b[0;34m(\u001b[0m\u001b[0mrisks\u001b[0m\u001b[0;34m)\u001b[0m\u001b[0;34m)\u001b[0m\u001b[0;34m:\u001b[0m\u001b[0;34m\u001b[0m\u001b[0;34m\u001b[0m\u001b[0m\n\u001b[0;32m----> 2\u001b[0;31m     \u001b[0mgetImportantFeatures\u001b[0m\u001b[0;34m(\u001b[0m\u001b[0mmylist\u001b[0m\u001b[0;34m[\u001b[0m\u001b[0mi\u001b[0m\u001b[0;34m]\u001b[0m\u001b[0;34m,\u001b[0m \u001b[0mrisks\u001b[0m\u001b[0;34m[\u001b[0m\u001b[0mi\u001b[0m\u001b[0;34m]\u001b[0m\u001b[0;34m)\u001b[0m\u001b[0;34m\u001b[0m\u001b[0;34m\u001b[0m\u001b[0m\n\u001b[0m",
      "\u001b[0;32m<ipython-input-129-7394e7e36a02>\u001b[0m in \u001b[0;36mgetImportantFeatures\u001b[0;34m(df, label)\u001b[0m\n\u001b[1;32m     22\u001b[0m     \u001b[0mx\u001b[0m \u001b[0;34m=\u001b[0m \u001b[0mdf\u001b[0m\u001b[0;34m.\u001b[0m\u001b[0mloc\u001b[0m\u001b[0;34m[\u001b[0m\u001b[0;34m:\u001b[0m\u001b[0;34m,\u001b[0m \u001b[0mdf\u001b[0m\u001b[0;34m.\u001b[0m\u001b[0mcolumns\u001b[0m \u001b[0;34m!=\u001b[0m \u001b[0mlabel\u001b[0m\u001b[0;34m]\u001b[0m\u001b[0;34m\u001b[0m\u001b[0;34m\u001b[0m\u001b[0m\n\u001b[1;32m     23\u001b[0m \u001b[0;34m\u001b[0m\u001b[0m\n\u001b[0;32m---> 24\u001b[0;31m     \u001b[0mx\u001b[0m \u001b[0;34m=\u001b[0m \u001b[0mcleanDataframe\u001b[0m\u001b[0;34m(\u001b[0m\u001b[0mx\u001b[0m\u001b[0;34m)\u001b[0m\u001b[0;34m\u001b[0m\u001b[0;34m\u001b[0m\u001b[0m\n\u001b[0m\u001b[1;32m     25\u001b[0m \u001b[0;34m\u001b[0m\u001b[0m\n\u001b[1;32m     26\u001b[0m     \u001b[0;31m# Applying select K-best\u001b[0m\u001b[0;34m\u001b[0m\u001b[0;34m\u001b[0m\u001b[0;34m\u001b[0m\u001b[0m\n",
      "\u001b[0;32m<ipython-input-129-7394e7e36a02>\u001b[0m in \u001b[0;36mcleanDataframe\u001b[0;34m(df)\u001b[0m\n\u001b[1;32m     14\u001b[0m     \u001b[0mdf\u001b[0m \u001b[0;34m=\u001b[0m \u001b[0mnp\u001b[0m\u001b[0;34m.\u001b[0m\u001b[0mnan_to_num\u001b[0m\u001b[0;34m(\u001b[0m\u001b[0mdf\u001b[0m\u001b[0;34m)\u001b[0m\u001b[0;34m\u001b[0m\u001b[0;34m\u001b[0m\u001b[0m\n\u001b[1;32m     15\u001b[0m     \u001b[0;31m#df = df.loc[:, df.dtypes == np.float64]\u001b[0m\u001b[0;34m\u001b[0m\u001b[0;34m\u001b[0m\u001b[0;34m\u001b[0m\u001b[0m\n\u001b[0;32m---> 16\u001b[0;31m     \u001b[0mdf\u001b[0m \u001b[0;34m=\u001b[0m \u001b[0mdf\u001b[0m\u001b[0;34m.\u001b[0m\u001b[0mselect_dtypes\u001b[0m\u001b[0;34m(\u001b[0m\u001b[0minclude\u001b[0m\u001b[0;34m=\u001b[0m\u001b[0;34m[\u001b[0m\u001b[0;34m'float'\u001b[0m\u001b[0;34m]\u001b[0m\u001b[0;34m)\u001b[0m\u001b[0;34m\u001b[0m\u001b[0;34m\u001b[0m\u001b[0m\n\u001b[0m\u001b[1;32m     17\u001b[0m \u001b[0;34m\u001b[0m\u001b[0m\n\u001b[1;32m     18\u001b[0m     \u001b[0;32mreturn\u001b[0m \u001b[0mdf\u001b[0m\u001b[0;34m\u001b[0m\u001b[0;34m\u001b[0m\u001b[0m\n",
      "\u001b[0;31mAttributeError\u001b[0m: 'numpy.ndarray' object has no attribute 'select_dtypes'"
     ]
    }
   ],
   "source": [
    "for i in range(len(risks)):\n",
    "    getImportantFeatures(mylist[i], risks[i])"
   ]
  },
  {
   "cell_type": "code",
   "execution_count": null,
   "metadata": {},
   "outputs": [],
   "source": []
  }
 ]
}