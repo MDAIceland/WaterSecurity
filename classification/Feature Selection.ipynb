{
 "cells": [
  {
   "cell_type": "code",
   "execution_count": 1,
   "metadata": {},
   "outputs": [],
   "source": [
    "import pandas as pd\n",
    "import sklearn as sfs\n",
    "import matplotlib.pyplot as plt\n",
    "import numpy as np\n",
    "import sys\n",
    "sys.path.append('..')\n",
    "from data.dataset import DATASET as dt"
   ]
  },
  {
   "cell_type": "code",
   "execution_count": 2,
   "metadata": {},
   "outputs": [
    {
     "data": {
      "text/html": [
       "<div>\n",
       "<style scoped>\n",
       "    .dataframe tbody tr th:only-of-type {\n",
       "        vertical-align: middle;\n",
       "    }\n",
       "\n",
       "    .dataframe tbody tr th {\n",
       "        vertical-align: top;\n",
       "    }\n",
       "\n",
       "    .dataframe thead th {\n",
       "        text-align: right;\n",
       "    }\n",
       "</style>\n",
       "<table border=\"1\" class=\"dataframe\">\n",
       "  <thead>\n",
       "    <tr style=\"text-align: right;\">\n",
       "      <th></th>\n",
       "      <th>city</th>\n",
       "      <th>latitude</th>\n",
       "      <th>longitude</th>\n",
       "      <th>population</th>\n",
       "      <th>country_code</th>\n",
       "      <th>c40</th>\n",
       "      <th>risk0</th>\n",
       "      <th>risk1</th>\n",
       "      <th>risk2</th>\n",
       "      <th>risk3</th>\n",
       "      <th>...</th>\n",
       "      <th>SDG 6.4.1. Services Water Use Efficiency</th>\n",
       "      <th>SDG 6.4.1. Water Use Efficiency</th>\n",
       "      <th>SDG 6.4.2. Water Stress</th>\n",
       "      <th>Seasonal variability (WRI)</th>\n",
       "      <th>Total internal renewable water resources per capita</th>\n",
       "      <th>Total population with access to safe drinking-water (JMP)</th>\n",
       "      <th>Total renewable water resources per capita</th>\n",
       "      <th>Total water withdrawal per capita</th>\n",
       "      <th>Urban population with access to safe drinking-water (JMP)</th>\n",
       "      <th>country</th>\n",
       "    </tr>\n",
       "  </thead>\n",
       "  <tbody>\n",
       "    <tr>\n",
       "      <th>0</th>\n",
       "      <td>Aalborg</td>\n",
       "      <td>57.0337</td>\n",
       "      <td>9.9166</td>\n",
       "      <td>122219.0</td>\n",
       "      <td>DNK</td>\n",
       "      <td>False</td>\n",
       "      <td>NaN</td>\n",
       "      <td>NaN</td>\n",
       "      <td>NaN</td>\n",
       "      <td>NaN</td>\n",
       "      <td>...</td>\n",
       "      <td>558.335628</td>\n",
       "      <td>368.612902</td>\n",
       "      <td>20.040562</td>\n",
       "      <td>1.3</td>\n",
       "      <td>1046.705025</td>\n",
       "      <td>100.0</td>\n",
       "      <td>1046.705025</td>\n",
       "      <td>129.285516</td>\n",
       "      <td>100.0</td>\n",
       "      <td>Denmark</td>\n",
       "    </tr>\n",
       "    <tr>\n",
       "      <th>1</th>\n",
       "      <td>Aarhus</td>\n",
       "      <td>56.1572</td>\n",
       "      <td>10.2107</td>\n",
       "      <td>237551.0</td>\n",
       "      <td>DNK</td>\n",
       "      <td>False</td>\n",
       "      <td>NaN</td>\n",
       "      <td>NaN</td>\n",
       "      <td>NaN</td>\n",
       "      <td>NaN</td>\n",
       "      <td>...</td>\n",
       "      <td>558.335628</td>\n",
       "      <td>368.612902</td>\n",
       "      <td>20.040562</td>\n",
       "      <td>1.3</td>\n",
       "      <td>1046.705025</td>\n",
       "      <td>100.0</td>\n",
       "      <td>1046.705025</td>\n",
       "      <td>129.285516</td>\n",
       "      <td>100.0</td>\n",
       "      <td>Denmark</td>\n",
       "    </tr>\n",
       "    <tr>\n",
       "      <th>2</th>\n",
       "      <td>Copenhagen</td>\n",
       "      <td>55.6786</td>\n",
       "      <td>12.5635</td>\n",
       "      <td>1085000.0</td>\n",
       "      <td>DNK</td>\n",
       "      <td>False</td>\n",
       "      <td>NaN</td>\n",
       "      <td>2.0</td>\n",
       "      <td>NaN</td>\n",
       "      <td>2.0</td>\n",
       "      <td>...</td>\n",
       "      <td>558.335628</td>\n",
       "      <td>368.612902</td>\n",
       "      <td>20.040562</td>\n",
       "      <td>1.3</td>\n",
       "      <td>1046.705025</td>\n",
       "      <td>100.0</td>\n",
       "      <td>1046.705025</td>\n",
       "      <td>129.285516</td>\n",
       "      <td>100.0</td>\n",
       "      <td>Denmark</td>\n",
       "    </tr>\n",
       "    <tr>\n",
       "      <th>3</th>\n",
       "      <td>Esbjerg</td>\n",
       "      <td>55.4670</td>\n",
       "      <td>8.4500</td>\n",
       "      <td>72205.0</td>\n",
       "      <td>DNK</td>\n",
       "      <td>False</td>\n",
       "      <td>NaN</td>\n",
       "      <td>NaN</td>\n",
       "      <td>NaN</td>\n",
       "      <td>NaN</td>\n",
       "      <td>...</td>\n",
       "      <td>558.335628</td>\n",
       "      <td>368.612902</td>\n",
       "      <td>20.040562</td>\n",
       "      <td>1.3</td>\n",
       "      <td>1046.705025</td>\n",
       "      <td>100.0</td>\n",
       "      <td>1046.705025</td>\n",
       "      <td>129.285516</td>\n",
       "      <td>100.0</td>\n",
       "      <td>Denmark</td>\n",
       "    </tr>\n",
       "    <tr>\n",
       "      <th>4</th>\n",
       "      <td>Frederikshavn</td>\n",
       "      <td>57.4337</td>\n",
       "      <td>10.5333</td>\n",
       "      <td>24103.0</td>\n",
       "      <td>DNK</td>\n",
       "      <td>False</td>\n",
       "      <td>NaN</td>\n",
       "      <td>2.0</td>\n",
       "      <td>NaN</td>\n",
       "      <td>NaN</td>\n",
       "      <td>...</td>\n",
       "      <td>558.335628</td>\n",
       "      <td>368.612902</td>\n",
       "      <td>20.040562</td>\n",
       "      <td>1.3</td>\n",
       "      <td>1046.705025</td>\n",
       "      <td>100.0</td>\n",
       "      <td>1046.705025</td>\n",
       "      <td>129.285516</td>\n",
       "      <td>100.0</td>\n",
       "      <td>Denmark</td>\n",
       "    </tr>\n",
       "  </tbody>\n",
       "</table>\n",
       "<p>5 rows × 157 columns</p>\n",
       "</div>"
      ],
      "text/plain": [
       "            city  latitude  longitude  population country_code    c40  risk0  \\\n",
       "0        Aalborg   57.0337     9.9166    122219.0          DNK  False    NaN   \n",
       "1         Aarhus   56.1572    10.2107    237551.0          DNK  False    NaN   \n",
       "2     Copenhagen   55.6786    12.5635   1085000.0          DNK  False    NaN   \n",
       "3        Esbjerg   55.4670     8.4500     72205.0          DNK  False    NaN   \n",
       "4  Frederikshavn   57.4337    10.5333     24103.0          DNK  False    NaN   \n",
       "\n",
       "   risk1  risk2  risk3  ...  SDG 6.4.1. Services Water Use Efficiency  \\\n",
       "0    NaN    NaN    NaN  ...                                558.335628   \n",
       "1    NaN    NaN    NaN  ...                                558.335628   \n",
       "2    2.0    NaN    2.0  ...                                558.335628   \n",
       "3    NaN    NaN    NaN  ...                                558.335628   \n",
       "4    2.0    NaN    NaN  ...                                558.335628   \n",
       "\n",
       "   SDG 6.4.1. Water Use Efficiency  SDG 6.4.2. Water Stress  \\\n",
       "0                       368.612902                20.040562   \n",
       "1                       368.612902                20.040562   \n",
       "2                       368.612902                20.040562   \n",
       "3                       368.612902                20.040562   \n",
       "4                       368.612902                20.040562   \n",
       "\n",
       "   Seasonal variability (WRI)  \\\n",
       "0                         1.3   \n",
       "1                         1.3   \n",
       "2                         1.3   \n",
       "3                         1.3   \n",
       "4                         1.3   \n",
       "\n",
       "   Total internal renewable water resources per capita  \\\n",
       "0                                        1046.705025     \n",
       "1                                        1046.705025     \n",
       "2                                        1046.705025     \n",
       "3                                        1046.705025     \n",
       "4                                        1046.705025     \n",
       "\n",
       "   Total population with access to safe drinking-water (JMP)  \\\n",
       "0                                              100.0           \n",
       "1                                              100.0           \n",
       "2                                              100.0           \n",
       "3                                              100.0           \n",
       "4                                              100.0           \n",
       "\n",
       "   Total renewable water resources per capita  \\\n",
       "0                                 1046.705025   \n",
       "1                                 1046.705025   \n",
       "2                                 1046.705025   \n",
       "3                                 1046.705025   \n",
       "4                                 1046.705025   \n",
       "\n",
       "   Total water withdrawal per capita  \\\n",
       "0                         129.285516   \n",
       "1                         129.285516   \n",
       "2                         129.285516   \n",
       "3                         129.285516   \n",
       "4                         129.285516   \n",
       "\n",
       "   Urban population with access to safe drinking-water (JMP)  country  \n",
       "0                                              100.0          Denmark  \n",
       "1                                              100.0          Denmark  \n",
       "2                                              100.0          Denmark  \n",
       "3                                              100.0          Denmark  \n",
       "4                                              100.0          Denmark  \n",
       "\n",
       "[5 rows x 157 columns]"
      ]
     },
     "execution_count": 2,
     "metadata": {},
     "output_type": "execute_result"
    }
   ],
   "source": [
    "dt.head()"
   ]
  },
  {
   "cell_type": "markdown",
   "metadata": {},
   "source": [
    "# Dataset splitting"
   ]
  },
  {
   "cell_type": "code",
   "execution_count": 3,
   "metadata": {},
   "outputs": [],
   "source": [
    "import random\n",
    "\n",
    "def data_splitting(dt,risk):\n",
    "    # Select the columns containing labelled risk remove labels from the dataset to define training set\n",
    "    train = dt[dt[risk].notnull()]\n",
    "    y_train = train[risk] # define response variable\n",
    "    # Remove labels from the dataset to define training set\n",
    "    train = train[dt.columns.difference(dt.filter(like = 'risk').columns,sort=False)]\n",
    "    # Remove categorical columns since they are only descriptive\n",
    "    num_cols = train._get_numeric_data().columns\n",
    "    to_drop = list(set(train.columns) - set(num_cols))\n",
    "    to_drop.append(\"c40\")\n",
    "    train = train[train.columns.drop(to_drop)]\n",
    "    # Define test set\n",
    "    test = dt[~dt.index.isin(train.index)]\n",
    "    test = test[test.columns.drop(to_drop)]\n",
    "    test = test[test.columns.difference(test.filter(like = 'risk').columns,sort=False)]\n",
    "    y_test = [random.randrange(4) for x in range(len(test))]\n",
    "    return train, test, y_train, y_test"
   ]
  },
  {
   "cell_type": "markdown",
   "metadata": {},
   "source": [
    "# Feature selection"
   ]
  },
  {
   "cell_type": "markdown",
   "metadata": {},
   "source": [
    "## LASSO"
   ]
  },
  {
   "cell_type": "code",
   "execution_count": 4,
   "metadata": {},
   "outputs": [],
   "source": [
    "from sklearn.linear_model import LassoCV\n",
    "\n",
    "def lasso(X_train, y):\n",
    "    lasso = LassoCV().fit(train, y)\n",
    "    importance = np.abs(lasso.coef_)\n",
    "    feature_names = np.array(train.columns)\n",
    "    coef = pd.Series(lasso.coef_, index = train.columns)\n",
    "    return coef[coef !=0]"
   ]
  },
  {
   "cell_type": "code",
   "execution_count": 5,
   "metadata": {},
   "outputs": [
    {
     "name": "stdout",
     "output_type": "stream",
     "text": [
      "population   -1.616826e-08\n",
      "dtype: float64\n",
      "population   -8.298024e-09\n",
      "dtype: float64\n",
      "Series([], dtype: float64)\n",
      "Series([], dtype: float64)\n",
      "population   -4.960183e-08\n",
      "dtype: float64\n",
      "population   -2.300692e-08\n",
      "dtype: float64\n",
      "Series([], dtype: float64)\n"
     ]
    }
   ],
   "source": [
    "risks = list(dt.filter(like='risk').columns)\n",
    "for risk in risks:\n",
    "    train, test, y_train, y_test = data_splitting(dt,risk)\n",
    "    print(lasso(train,y_train))"
   ]
  },
  {
   "cell_type": "markdown",
   "metadata": {},
   "source": [
    "In order to predict `risk0`, `risk1`, `risk4` and `risk5`, the LASSO method select only `population` as important regressor. The other risks cannot be predicted accurately on the basis of the given features."
   ]
  },
  {
   "cell_type": "markdown",
   "metadata": {},
   "source": [
    "## Boosting"
   ]
  },
  {
   "cell_type": "code",
   "execution_count": 6,
   "metadata": {},
   "outputs": [],
   "source": [
    "import xgboost as xgb\n",
    "from sklearn.model_selection import GridSearchCV\n",
    "model = xgb.XGBRegressor()"
   ]
  },
  {
   "cell_type": "markdown",
   "metadata": {},
   "source": [
    "Feature selection using boosting regression with cross validation in order to tune the hyperparameters."
   ]
  },
  {
   "cell_type": "code",
   "execution_count": 7,
   "metadata": {},
   "outputs": [],
   "source": [
    "def boosting_reg(train, y_train, risk, predictions, accuracy_scores):\n",
    "    reg_cv = GridSearchCV(model, {\"colsample_bytree\":[0.1,0.5,1.0],\"min_child_weight\":[1.0,1.2],\n",
    "                            'max_depth': [7,9], 'n_estimators': [500], \"alpha\": [10,12,15]})\n",
    "    reg_cv.fit(train,y_train)\n",
    "    print(reg_cv.best_params_)\n",
    "    gbm = xgb.XGBRegressor(**reg_cv.best_params_)\n",
    "    gbm.fit(train,y_train)\n",
    "    accuracy_scores[risk]=[gbm.score(train,y_train),0]\n",
    "    sorted_idx = np.argsort(gbm.feature_importances_)[::-1]\n",
    "    best_features = list()\n",
    "    for index in sorted_idx:\n",
    "        if gbm.feature_importances_[index] > 0:\n",
    "            best_features.append(train.columns[index]) \n",
    "    return gbm, best_features[:10], accuracy_scores"
   ]
  },
  {
   "cell_type": "code",
   "execution_count": 8,
   "metadata": {},
   "outputs": [],
   "source": [
    "def boosting_clas(gbm, test, y_test, risk, predictions, accuracy_scores):\n",
    "    accuracy_scores[risk][1] = gbm.score(test,y_test)\n",
    "    predictions[risk] = gbm.predict(test, iteration_range = (0, gbm.best_iteration))\n",
    "    return predictions, accuracy_scores"
   ]
  },
  {
   "cell_type": "code",
   "execution_count": null,
   "metadata": {},
   "outputs": [
    {
     "name": "stdout",
     "output_type": "stream",
     "text": [
      "{'alpha': 10, 'colsample_bytree': 0.5, 'max_depth': 9, 'min_child_weight': 1.0, 'n_estimators': 500}\n"
     ]
    }
   ],
   "source": [
    "risks = list(dt.filter(like='risk').columns)\n",
    "accuracy_scores = dict()\n",
    "best_predictors = set()\n",
    "predictions = dict()\n",
    "for risk in risks:\n",
    "    train, test, y_train, y_test = data_splitting(dt,risk)\n",
    "    gbm, features, accuracy_scores = boosting_reg(train, y_train, risk, predictions, accuracy_scores)\n",
    "    best_predictors.update(features)\n",
    "    predictions, accuracy_scores = boosting_clas(gbm, test, y_test, risk, predictions, accuracy_scores)"
   ]
  },
  {
   "cell_type": "code",
   "execution_count": null,
   "metadata": {},
   "outputs": [],
   "source": [
    "# xgb.plot_importance(xg_reg, max_num_features = 15)\n",
    "# plt.show()"
   ]
  },
  {
   "cell_type": "code",
   "execution_count": null,
   "metadata": {},
   "outputs": [],
   "source": [
    "fname = \"boost_model.json\"\n",
    "# gbm.load_model(fname)"
   ]
  },
  {
   "cell_type": "code",
   "execution_count": null,
   "metadata": {},
   "outputs": [],
   "source": [
    "best_predictors"
   ]
  },
  {
   "cell_type": "code",
   "execution_count": null,
   "metadata": {},
   "outputs": [],
   "source": [
    "accuracy_scores"
   ]
  },
  {
   "cell_type": "code",
   "execution_count": null,
   "metadata": {},
   "outputs": [],
   "source": [
    "get_back = [\"city\", \"country\", \"country_code\", \"c40\"]\n",
    "to_drop = set(dt.columns) - best_predictors - set(get_back)\n",
    "reduced_dataset = dt[dt.columns.drop(to_drop)]"
   ]
  },
  {
   "cell_type": "code",
   "execution_count": null,
   "metadata": {},
   "outputs": [],
   "source": [
    "reduced_dataset.head()"
   ]
  },
  {
   "cell_type": "code",
   "execution_count": null,
   "metadata": {
    "scrolled": true
   },
   "outputs": [],
   "source": [
    "# reduced_dataset.to_csv('reduced_dataset.csv',index=False)"
   ]
  },
  {
   "cell_type": "code",
   "execution_count": null,
   "metadata": {},
   "outputs": [],
   "source": [
    "# gbm.save_model(fname)"
   ]
  }
 ],
 "metadata": {
  "kernelspec": {
   "display_name": "Python 3",
   "language": "python",
   "name": "python3"
  },
  "language_info": {
   "codemirror_mode": {
    "name": "ipython",
    "version": 3
   },
   "file_extension": ".py",
   "mimetype": "text/x-python",
   "name": "python",
   "nbconvert_exporter": "python",
   "pygments_lexer": "ipython3",
   "version": "3.8.5"
  },
  "toc": {
   "base_numbering": 1,
   "nav_menu": {},
   "number_sections": true,
   "sideBar": true,
   "skip_h1_title": false,
   "title_cell": "Table of Contents",
   "title_sidebar": "Contents",
   "toc_cell": false,
   "toc_position": {},
   "toc_section_display": true,
   "toc_window_display": false
  },
  "varInspector": {
   "cols": {
    "lenName": 16,
    "lenType": 16,
    "lenVar": 40
   },
   "kernels_config": {
    "python": {
     "delete_cmd_postfix": "",
     "delete_cmd_prefix": "del ",
     "library": "var_list.py",
     "varRefreshCmd": "print(var_dic_list())"
    },
    "r": {
     "delete_cmd_postfix": ") ",
     "delete_cmd_prefix": "rm(",
     "library": "var_list.r",
     "varRefreshCmd": "cat(var_dic_list()) "
    }
   },
   "types_to_exclude": [
    "module",
    "function",
    "builtin_function_or_method",
    "instance",
    "_Feature"
   ],
   "window_display": false
  }
 },
 "nbformat": 4,
 "nbformat_minor": 4
}
