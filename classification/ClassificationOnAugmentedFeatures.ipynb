{
 "cells": [
  {
   "cell_type": "markdown",
   "id": "7005c751",
   "metadata": {},
   "source": [
    "### Playground Template for Classifiers that can also act as Feature Selectors"
   ]
  },
  {
   "cell_type": "code",
   "execution_count": 1,
   "id": "648adb3e",
   "metadata": {},
   "outputs": [],
   "source": [
    "import sys\n",
    "sys.path.append('..')"
   ]
  },
  {
   "cell_type": "code",
   "execution_count": 2,
   "id": "3d6b07a1",
   "metadata": {},
   "outputs": [
    {
     "name": "stdout",
     "output_type": "stream",
     "text": [
      "Explained variation percentage per principal component: [36.292191200311144, 15.964506305493678, 12.100919668349984, 9.792786763995146, 4.9199711984132595, 3.859919692674855, 2.3352350514438633, 2.073787008883986, 1.571872234184387, 1.4692251506176432]\n",
      "Total percentage of the explained data by 10 components is: 90.38\n",
      "Percentage of the information that is lost for using 10 components is: 9.62\n"
     ]
    }
   ],
   "source": [
    "from classification.model_handler import ModelHandler\n",
    "from classification.feature_selection import FeatureSelectionAndGeneration\n",
    "handler = ModelHandler()\n",
    "dataset = handler.dataset\n",
    "train_set = dataset[handler.train_mask]\n",
    "model = {}\n",
    "label = handler.lab_names[0]\n",
    "model[label] = FeatureSelectionAndGeneration(apply_selection=False)\n",
    "\n",
    "augmented_features = model[label].fit_transform(train_set[handler.feat_names], train_set[label])"
   ]
  },
  {
   "cell_type": "code",
   "execution_count": 3,
   "id": "cb8a7884",
   "metadata": {},
   "outputs": [
    {
     "data": {
      "text/plain": [
       "(1181, 3283)"
      ]
     },
     "execution_count": 3,
     "metadata": {},
     "output_type": "execute_result"
    }
   ],
   "source": [
    "augmented_features.shape"
   ]
  }
 ],
 "metadata": {
  "kernelspec": {
   "display_name": "ModernDataAnalytics",
   "language": "python",
   "name": "moderndataanalytics"
  },
  "language_info": {
   "codemirror_mode": {
    "name": "ipython",
    "version": 3
   },
   "file_extension": ".py",
   "mimetype": "text/x-python",
   "name": "python",
   "nbconvert_exporter": "python",
   "pygments_lexer": "ipython3",
   "version": "3.8.5"
  }
 },
 "nbformat": 4,
 "nbformat_minor": 5
}
